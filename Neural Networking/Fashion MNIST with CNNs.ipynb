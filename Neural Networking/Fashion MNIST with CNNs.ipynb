{
 "cells": [
  {
   "cell_type": "code",
   "execution_count": 20,
   "metadata": {},
   "outputs": [],
   "source": [
    "from __future__ import absolute_import, division, print_function"
   ]
  },
  {
   "cell_type": "code",
   "execution_count": 21,
   "metadata": {},
   "outputs": [],
   "source": [
    "import numpy as np\n",
    "import matplotlib.pyplot as plt\n",
    "import tensorflow as tf"
   ]
  },
  {
   "cell_type": "code",
   "execution_count": 22,
   "metadata": {},
   "outputs": [],
   "source": [
    "import tensorflow_datasets as tfds\n",
    "import math"
   ]
  },
  {
   "cell_type": "code",
   "execution_count": 23,
   "metadata": {},
   "outputs": [],
   "source": [
    "import tqdm\n",
    "import tqdm.auto\n",
    "tqdm.tqdm=tqdm.auto.tqdm"
   ]
  },
  {
   "cell_type": "code",
   "execution_count": 24,
   "metadata": {},
   "outputs": [],
   "source": [
    "# Import Fashion MNIST dataset"
   ]
  },
  {
   "cell_type": "code",
   "execution_count": 25,
   "metadata": {},
   "outputs": [
    {
     "name": "stderr",
     "output_type": "stream",
     "text": [
      "WARNING:absl:Warning: Setting shuffle_files=True because split=TRAIN and shuffle_files=None. This behavior will be deprecated on 2019-08-06, at which point shuffle_files=False will be the default for all splits.\n"
     ]
    }
   ],
   "source": [
    "dataset, metadata=tfds.load('fashion_mnist',as_supervised=True,with_info=True)\n",
    "train_dataset,test_dataset=dataset['train'],dataset['test']"
   ]
  },
  {
   "cell_type": "code",
   "execution_count": 26,
   "metadata": {},
   "outputs": [],
   "source": [
    "class_names=['T-shirt/top','Trouser','Pullover','Dress','Coat',\n",
    "            'Sandal','Shirt','Sneaker','Bag','Ankle boot']"
   ]
  },
  {
   "cell_type": "code",
   "execution_count": 27,
   "metadata": {},
   "outputs": [],
   "source": [
    "# Exploring the data "
   ]
  },
  {
   "cell_type": "code",
   "execution_count": 28,
   "metadata": {},
   "outputs": [
    {
     "name": "stdout",
     "output_type": "stream",
     "text": [
      "Nbr of training examples: 60000\n",
      "Nbr of testing examples: 10000\n"
     ]
    }
   ],
   "source": [
    "num_train_examples=metadata.splits['train'].num_examples\n",
    "num_test_examples=metadata.splits['test'].num_examples\n",
    "print(\"Nbr of training examples: {}\".format(num_train_examples))\n",
    "print(\"Nbr of testing examples: {}\".format(num_test_examples))"
   ]
  },
  {
   "cell_type": "code",
   "execution_count": 29,
   "metadata": {},
   "outputs": [],
   "source": [
    "# Preprocessing the data\n",
    "\n",
    "# Because it is an image containing pixel of integers between 0&255,\n",
    "# so we normalize them between 0 & 1"
   ]
  },
  {
   "cell_type": "code",
   "execution_count": 30,
   "metadata": {},
   "outputs": [],
   "source": [
    "def normalize(images, labels):\n",
    "    images=tf.cast(images,tf.float32)\n",
    "    images/=255\n",
    "    return images, labels\n",
    "\n",
    "# Map function is used to apply the normalization function to each element\n",
    "# in the train and test datasets\n",
    "train_dataset=train_dataset.map(normalize)\n",
    "test_dataset=test_dataset.map(normalize)"
   ]
  },
  {
   "cell_type": "code",
   "execution_count": 31,
   "metadata": {},
   "outputs": [],
   "source": [
    "# Exploring the preprocessed data by plotting a sigle image\n",
    "# Color dimension is removed by reshaping"
   ]
  },
  {
   "cell_type": "code",
   "execution_count": 32,
   "metadata": {},
   "outputs": [
    {
     "data": {
      "image/png": "[encoded data removed]",
      "text/plain": [
       "<Figure size 432x288 with 2 Axes>"
      ]
     },
     "metadata": {
      "needs_background": "light"
     },
     "output_type": "display_data"
    }
   ],
   "source": [
    "for image, label in test_dataset.take(1):\n",
    "    break\n",
    "image=image.numpy().reshape((28,28))\n",
    "\n",
    "plt.figure()\n",
    "plt.imshow(image,cmap=plt.cm.binary)\n",
    "plt.colorbar()\n",
    "plt.show();"
   ]
  },
  {
   "cell_type": "code",
   "execution_count": 33,
   "metadata": {},
   "outputs": [],
   "source": [
    "# For verification let's plot the 25 first images"
   ]
  },
  {
   "cell_type": "code",
   "execution_count": 34,
   "metadata": {},
   "outputs": [
    {
     "name": "stderr",
     "output_type": "stream",
     "text": [
      "/Users/tamerhousseinhag/opt/anaconda3/envs/py3-TF2.0/lib/python3.6/site-packages/ipykernel_launcher.py:5: MatplotlibDeprecationWarning: Adding an axes using the same arguments as a previous axes currently reuses the earlier instance.  In a future version, a new instance will always be created and returned.  Meanwhile, this warning can be suppressed, and the future behavior ensured, by passing a unique label to each axes instance.\n",
      "  \"\"\"\n"
     ]
    },
    {
     "data": {
      "image/png": "[encoded data removed]",
      "text/plain": [
       "<Figure size 720x720 with 2 Axes>"
      ]
     },
     "metadata": {},
     "output_type": "display_data"
    }
   ],
   "source": [
    "plt.figure(figsize=(10,10))\n",
    "i=0\n",
    "for (image,label) in test_dataset.take(25):\n",
    "    image=image.numpy().reshape((28,28))\n",
    "    plt.subplot(5,5,i+1)\n",
    "    plt.xticks([])\n",
    "    plt.yticks([])\n",
    "    plt.imshow(image,cmap=plt.cm.binary)\n",
    "    plt.xlabel(class_names[label])\n",
    "    i=+1\n",
    "plt.show();"
   ]
  },
  {
   "cell_type": "code",
   "execution_count": 35,
   "metadata": {},
   "outputs": [],
   "source": [
    "# Building the model"
   ]
  },
  {
   "cell_type": "code",
   "execution_count": 36,
   "metadata": {},
   "outputs": [],
   "source": [
    "# Setting up the layer\n",
    "model=tf.keras.Sequential([\n",
    "    tf.keras.layers.Conv2D(32,(3,3),padding='same',\n",
    "                           activation=tf.nn.relu,\n",
    "                           input_shape=(28,28,1)),\n",
    "    tf.keras.layers.MaxPooling2D((2,2),strides=2),\n",
    "    tf.keras.layers.Conv2D(64,(3,3),padding='same',\n",
    "                           activation=tf.nn.relu),\n",
    "    tf.keras.layers.MaxPooling2D((2,2),strides=2),\n",
    "    tf.keras.layers.Flatten(),                         # input data\n",
    "    tf.keras.layers.Dense(128,activation=tf.nn.relu),  # Layer of 128 units (neurons or nodes)\n",
    "    tf.keras.layers.Dense(10,activation=tf.nn.softmax) # Ouput data (10 nodes)\n",
    "])"
   ]
  },
  {
   "cell_type": "code",
   "execution_count": 37,
   "metadata": {},
   "outputs": [],
   "source": [
    "# Compiling the model\n",
    "\n",
    "model.compile(optimizer='adam',\n",
    "             loss='sparse_categorical_crossentropy',\n",
    "             metrics=['accuracy'])"
   ]
  },
  {
   "cell_type": "code",
   "execution_count": 38,
   "metadata": {},
   "outputs": [],
   "source": [
    "# Training the Model by:\n",
    " # Repeating forever. \n",
    " # Shuffling the order so our model can't learn anything from the order of the examples.\n",
    " # Using batches of 32 images & labels when updating the model variables\n",
    "    \n",
    "# Testing the Model by:\n",
    " # Using batches of 32 images & labels when updating the model variables"
   ]
  },
  {
   "cell_type": "code",
   "execution_count": 39,
   "metadata": {},
   "outputs": [],
   "source": [
    "BATCH_SIZE=32\n",
    "train_dataset=train_dataset.repeat().shuffle(num_train_examples).batch(BATCH_SIZE)\n",
    "test_dataset=test_dataset.batch(BATCH_SIZE)"
   ]
  },
  {
   "cell_type": "code",
   "execution_count": 40,
   "metadata": {},
   "outputs": [
    {
     "name": "stdout",
     "output_type": "stream",
     "text": [
      "Train for 1875 steps\n",
      "Epoch 1/10\n",
      "1875/1875 [==============================] - 416s 222ms/step - loss: 0.3958 - accuracy: 0.8587\n",
      "Epoch 2/10\n",
      "1875/1875 [==============================] - 382s 203ms/step - loss: 0.2583 - accuracy: 0.9050\n",
      "Epoch 3/10\n",
      "1875/1875 [==============================] - 360s 192ms/step - loss: 0.2136 - accuracy: 0.9215\n",
      "Epoch 4/10\n",
      "1875/1875 [==============================] - 425s 227ms/step - loss: 0.1862 - accuracy: 0.9322\n",
      "Epoch 5/10\n",
      "1875/1875 [==============================] - 443s 237ms/step - loss: 0.1539 - accuracy: 0.9443\n",
      "Epoch 6/10\n",
      "1875/1875 [==============================] - 450s 240ms/step - loss: 0.1344 - accuracy: 0.9506\n",
      "Epoch 7/10\n",
      "1875/1875 [==============================] - 456s 243ms/step - loss: 0.1120 - accuracy: 0.9576\n",
      "Epoch 8/10\n",
      "1875/1875 [==============================] - 377s 201ms/step - loss: 0.0947 - accuracy: 0.9650\n",
      "Epoch 9/10\n",
      "1875/1875 [==============================] - 373s 199ms/step - loss: 0.0803 - accuracy: 0.9708\n",
      "Epoch 10/10\n",
      "1875/1875 [==============================] - 426s 227ms/step - loss: 0.0675 - accuracy: 0.9749\n"
     ]
    },
    {
     "data": {
      "text/plain": [
       "<tensorflow.python.keras.callbacks.History at 0x638164c18>"
      ]
     },
     "execution_count": 40,
     "metadata": {},
     "output_type": "execute_result"
    }
   ],
   "source": [
    "# Training the model\n",
    "model.fit(train_dataset,epochs=10,steps_per_epoch=math.ceil(num_train_examples/BATCH_SIZE))"
   ]
  },
  {
   "cell_type": "code",
   "execution_count": 41,
   "metadata": {},
   "outputs": [
    {
     "name": "stdout",
     "output_type": "stream",
     "text": [
      "313/313 [==============================] - 30s 95ms/step - loss: 0.3379 - accuracy: 0.9170\n",
      "Accuracy on test dataset:  0.917\n"
     ]
    }
   ],
   "source": [
    "# Evaluating accuracy\n",
    "\n",
    "test_loss, test_accuracy = model.evaluate(test_dataset,steps=math.ceil(num_test_examples/32))\n",
    "print('Accuracy on test dataset: ',test_accuracy)"
   ]
  },
  {
   "cell_type": "code",
   "execution_count": 42,
   "metadata": {},
   "outputs": [],
   "source": [
    "# Forecasting and exploration\n",
    "for test_images,test_labels in test_dataset.take(1):\n",
    "    test_images=test_images.numpy()\n",
    "    test_labels=test_labels.numpy()\n",
    "    predictions=model.predict(test_images)"
   ]
  },
  {
   "cell_type": "code",
   "execution_count": 43,
   "metadata": {},
   "outputs": [
    {
     "data": {
      "text/plain": [
       "(32, 10)"
      ]
     },
     "execution_count": 43,
     "metadata": {},
     "output_type": "execute_result"
    }
   ],
   "source": [
    "predictions.shape"
   ]
  },
  {
   "cell_type": "code",
   "execution_count": 44,
   "metadata": {},
   "outputs": [
    {
     "data": {
      "text/plain": [
       "array([4.3117234e-09, 2.8820528e-11, 3.1871177e-06, 2.5001674e-07,\n",
       "       6.4234855e-04, 3.8228234e-10, 9.9935406e-01, 4.1212359e-12,\n",
       "       1.4653022e-11, 1.7352244e-07], dtype=float32)"
      ]
     },
     "execution_count": 44,
     "metadata": {},
     "output_type": "execute_result"
    }
   ],
   "source": [
    "# Prediction for the first image\n",
    "predictions[0]"
   ]
  },
  {
   "cell_type": "code",
   "execution_count": 45,
   "metadata": {},
   "outputs": [
    {
     "data": {
      "text/plain": [
       "6"
      ]
     },
     "execution_count": 45,
     "metadata": {},
     "output_type": "execute_result"
    }
   ],
   "source": [
    "np.argmax(predictions[0])"
   ]
  },
  {
   "cell_type": "code",
   "execution_count": 46,
   "metadata": {},
   "outputs": [
    {
     "data": {
      "text/plain": [
       "6"
      ]
     },
     "execution_count": 46,
     "metadata": {},
     "output_type": "execute_result"
    }
   ],
   "source": [
    "# Checking (test_labels) if the image nbr 6 is a shirt according to the Model\n",
    "\n",
    "test_labels[0]"
   ]
  },
  {
   "cell_type": "code",
   "execution_count": 47,
   "metadata": {},
   "outputs": [],
   "source": [
    "def plot_image(i, predictions_array, true_labels, images):\n",
    "  predictions_array, true_label, img = predictions_array[i], true_labels[i], images[i]\n",
    "  plt.grid(False)\n",
    "  plt.xticks([])\n",
    "  plt.yticks([])\n",
    "  \n",
    "  plt.imshow(img[...,0], cmap=plt.cm.binary)\n",
    "\n",
    "  predicted_label = np.argmax(predictions_array)\n",
    "  if predicted_label == true_label:\n",
    "    color = 'blue'\n",
    "  else:\n",
    "    color = 'red'\n",
    "  \n",
    "  plt.xlabel(\"{} {:2.0f}% ({})\".format(class_names[predicted_label],\n",
    "                                100*np.max(predictions_array),\n",
    "                                class_names[true_label]),\n",
    "                                color=color)\n",
    "\n",
    "def plot_value_array(i, predictions_array, true_label):\n",
    "  predictions_array, true_label = predictions_array[i], true_label[i]\n",
    "  plt.grid(False)\n",
    "  plt.xticks([])\n",
    "  plt.yticks([])\n",
    "  thisplot = plt.bar(range(10), predictions_array, color=\"#777777\")\n",
    "  plt.ylim([0, 1]) \n",
    "  predicted_label = np.argmax(predictions_array)\n",
    "  \n",
    "  thisplot[predicted_label].set_color('red')\n",
    "  thisplot[true_label].set_color('blue')"
   ]
  },
  {
   "cell_type": "code",
   "execution_count": 48,
   "metadata": {},
   "outputs": [
    {
     "data": {
      "image/png": "[encoded data removed]",
      "text/plain": [
       "<Figure size 432x216 with 2 Axes>"
      ]
     },
     "metadata": {},
     "output_type": "display_data"
    }
   ],
   "source": [
    "i = 0\n",
    "plt.figure(figsize=(6,3))\n",
    "plt.subplot(1,2,1)\n",
    "plot_image(i, predictions, test_labels, test_images)\n",
    "plt.subplot(1,2,2)\n",
    "plot_value_array(i, predictions, test_labels)"
   ]
  },
  {
   "cell_type": "code",
   "execution_count": 49,
   "metadata": {},
   "outputs": [
    {
     "data": {
      "image/png": "[encoded data removed]",
      "text/plain": [
       "<Figure size 432x216 with 2 Axes>"
      ]
     },
     "metadata": {},
     "output_type": "display_data"
    }
   ],
   "source": [
    "i = 12\n",
    "plt.figure(figsize=(6,3))\n",
    "plt.subplot(1,2,1)\n",
    "plot_image(i, predictions, test_labels, test_images)\n",
    "plt.subplot(1,2,2)\n",
    "plot_value_array(i, predictions, test_labels)"
   ]
  },
  {
   "cell_type": "code",
   "execution_count": 50,
   "metadata": {},
   "outputs": [
    {
     "data": {
      "image/png": "[encoded data removed]",
      "text/plain": [
       "<Figure size 864x720 with 30 Axes>"
      ]
     },
     "metadata": {},
     "output_type": "display_data"
    }
   ],
   "source": [
    "num_rows=5\n",
    "num_cols=3\n",
    "num_images=num_rows*num_cols\n",
    "plt.figure(figsize=(2*2*num_cols,2*num_rows))\n",
    "\n",
    "for i in range(num_images):\n",
    "    plt.subplot(num_rows,2*num_cols,2*i+1)\n",
    "    plot_image(i,predictions,test_labels,test_images)\n",
    "    plt.subplot(num_rows,2*num_cols,2*i+2)\n",
    "    plot_value_array(i,predictions,test_labels)"
   ]
  },
  {
   "cell_type": "code",
   "execution_count": 51,
   "metadata": {},
   "outputs": [
    {
     "name": "stdout",
     "output_type": "stream",
     "text": [
      "(28, 28, 1)\n"
     ]
    }
   ],
   "source": [
    "# Grab an image from the test dataset\n",
    "img = test_images[0]\n",
    "\n",
    "print(img.shape)"
   ]
  },
  {
   "cell_type": "code",
   "execution_count": 52,
   "metadata": {},
   "outputs": [
    {
     "name": "stdout",
     "output_type": "stream",
     "text": [
      "(1, 28, 28, 1)\n"
     ]
    }
   ],
   "source": [
    "# tf.keras models are optimized to make predictions on a batch, or collection,\n",
    "# of examples at once. So even though we're using a single image,\n",
    "# we need to add it to a list:\n",
    "\n",
    "# Add the image to a batch where it's the only member.\n",
    "img = np.array([img])\n",
    "\n",
    "print(img.shape)"
   ]
  },
  {
   "cell_type": "code",
   "execution_count": 53,
   "metadata": {},
   "outputs": [
    {
     "name": "stdout",
     "output_type": "stream",
     "text": [
      "[[4.3117314e-09 2.8820691e-11 3.1871209e-06 2.5001819e-07 6.4234913e-04\n",
      "  3.8228307e-10 9.9935406e-01 4.1212437e-12 1.4653135e-11 1.7352278e-07]]\n"
     ]
    }
   ],
   "source": [
    "predictions_single = model.predict(img)\n",
    "\n",
    "print(predictions_single)"
   ]
  },
  {
   "cell_type": "code",
   "execution_count": 54,
   "metadata": {},
   "outputs": [
    {
     "data": {
      "image/png": "[encoded data removed]",
      "text/plain": [
       "<Figure size 432x288 with 1 Axes>"
      ]
     },
     "metadata": {
      "needs_background": "light"
     },
     "output_type": "display_data"
    }
   ],
   "source": [
    "plot_value_array(0, predictions_single, test_labels)\n",
    "_ = plt.xticks(range(10), class_names, rotation=45)"
   ]
  },
  {
   "cell_type": "code",
   "execution_count": 55,
   "metadata": {},
   "outputs": [
    {
     "data": {
      "text/plain": [
       "6"
      ]
     },
     "execution_count": 55,
     "metadata": {},
     "output_type": "execute_result"
    }
   ],
   "source": [
    "np.argmax(predictions_single[0])"
   ]
  },
  {
   "cell_type": "code",
   "execution_count": null,
   "metadata": {},
   "outputs": [],
   "source": []
  }
 ],
 "metadata": {
  "kernelspec": {
   "display_name": "Python 3",
   "language": "python",
   "name": "python3"
  },
  "language_info": {
   "codemirror_mode": {
    "name": "ipython",
    "version": 3
   },
   "file_extension": ".py",
   "mimetype": "text/x-python",
   "name": "python",
   "nbconvert_exporter": "python",
   "pygments_lexer": "ipython3",
   "version": "3.6.10"
  }
 },
 "nbformat": 4,
 "nbformat_minor": 4
}

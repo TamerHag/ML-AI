{
 "cells": [
  {
   "cell_type": "code",
   "execution_count": 1,
   "metadata": {},
   "outputs": [
    {
     "name": "stdout",
     "output_type": "stream",
     "text": [
      "Hello World\n"
     ]
    }
   ],
   "source": [
    "print(\"Hello World\")"
   ]
  },
  {
   "cell_type": "code",
   "execution_count": 2,
   "metadata": {},
   "outputs": [
    {
     "name": "stdout",
     "output_type": "stream",
     "text": [
      "---Now running with i: 8\n",
      "HelloWorld, x was < 10\n",
      "Result from HelloWorld: 8\n",
      "---Now running with i: 13\n",
      "Hello World, x was >=20\n",
      "Result from HelloWorld: 13\n",
      "---Now running with i: 18\n",
      "Hello World, x was >=20\n",
      "Result from HelloWorld: 18\n",
      "---Now running with i: 23\n",
      "Hello World, x was >=20\n",
      "Result from HelloWorld: 23\n"
     ]
    }
   ],
   "source": [
    "def HelloWorldXY(x,y):\n",
    "  if (x<10):\n",
    "    print(\"HelloWorld, x was < 10\")\n",
    "  elif (x<10):\n",
    "    print(\"HelloWorld, x was >= 10 but < 20\")\n",
    "  else:\n",
    "    print(\"Hello World, x was >=20\")\n",
    "  return x+y\n",
    "\n",
    "for i in range(8,25,5): \n",
    "  print(\"---Now running with i: {}\".format(i))\n",
    "  r=HelloWorldXY(i,i)\n",
    "  print(\"Result from HelloWorld: {}\".format(i,r))"
   ]
  },
  {
   "cell_type": "code",
   "execution_count": 3,
   "metadata": {},
   "outputs": [
    {
     "name": "stdout",
     "output_type": "stream",
     "text": [
      "HelloWorld, x was < 10\n",
      "3\n",
      "HelloWorld, x was < 10\n",
      "25\n"
     ]
    }
   ],
   "source": [
    "print(HelloWorldXY(1,2))\n",
    "\n",
    "print(HelloWorldXY(5,20))"
   ]
  },
  {
   "cell_type": "code",
   "execution_count": 4,
   "metadata": {},
   "outputs": [
    {
     "name": "stdout",
     "output_type": "stream",
     "text": [
      "iteration over the items\n",
      "0\n",
      "1\n",
      "iteration over the items\n",
      "0\n",
      "1\n"
     ]
    }
   ],
   "source": [
    "print(\"iteration over the items\")\n",
    "for i in range(2):\n",
    "  print(i)\n",
    "# or\n",
    "print(\"iteration over the items\")\n",
    "i=0\n",
    "while i<2:\n",
    "  print(i)\n",
    "  i+=1"
   ]
  },
  {
   "cell_type": "code",
   "execution_count": 5,
   "metadata": {},
   "outputs": [
    {
     "name": "stdout",
     "output_type": "stream",
     "text": [
      "stdr key words\n",
      "Entered while\n"
     ]
    }
   ],
   "source": [
    "print(\"stdr key words\")\n",
    "while True:\n",
    "  print(\"Entered while\")\n",
    "  break"
   ]
  },
  {
   "cell_type": "code",
   "execution_count": 6,
   "metadata": {},
   "outputs": [],
   "source": [
    "import numpy as np"
   ]
  },
  {
   "cell_type": "code",
   "execution_count": 7,
   "metadata": {},
   "outputs": [
    {
     "name": "stdout",
     "output_type": "stream",
     "text": [
      "current array: ['Hello' 'World' '!']\n",
      "Printing each element\n",
      "Hello\n",
      "World\n",
      "!\n",
      "Printing each element and their index\n",
      "Index: 0, was: Hello\n",
      "Index: 1, was: World\n",
      "Index: 2, was: !\n"
     ]
    }
   ],
   "source": [
    "a=np.array([\"Hello\", \"World\"])\n",
    "a=np.append(a, \"!\")\n",
    "print(\"current array: {}\".format(a))\n",
    "print(\"Printing each element\")\n",
    "for i in a:\n",
    "    print(i)\n",
    "\n",
    "print(\"Printing each element and their index\")\n",
    "for i,e in enumerate(a):\n",
    "    print(\"Index: {}, was: {}\".format(i,e))"
   ]
  },
  {
   "cell_type": "code",
   "execution_count": 8,
   "metadata": {},
   "outputs": [
    {
     "name": "stdout",
     "output_type": "stream",
     "text": [
      "Showing some basic math on arrays\n",
      "Max: 4\n",
      "Average: 2.0\n",
      "Max Index: 2\n"
     ]
    }
   ],
   "source": [
    "print(\"Showing some basic math on arrays\")\n",
    "b=np.array([0,1,4,2,3])\n",
    "print(\"Max: {}\".format(np.max(b)))\n",
    "print(\"Average: {}\".format(np.average(b)))\n",
    "print(\"Max Index: {}\".format(np.argmax(b)))"
   ]
  },
  {
   "cell_type": "code",
   "execution_count": 9,
   "metadata": {},
   "outputs": [
    {
     "name": "stdout",
     "output_type": "stream",
     "text": [
      "You can print the type of anything\n",
      "Type of b: <class 'numpy.ndarray'>,Type of b[0]: <class 'numpy.str_'>\n"
     ]
    }
   ],
   "source": [
    "print(\"You can print the type of anything\")\n",
    "print(\"Type of b: {},Type of b[0]: {}\".format(type(a),type(a[0])))"
   ]
  },
  {
   "cell_type": "code",
   "execution_count": 10,
   "metadata": {},
   "outputs": [
    {
     "name": "stdout",
     "output_type": "stream",
     "text": [
      "Use numpy to create a [3,3] dimension array with random number\n",
      "[[0.54168172 0.93632114 0.71412858]\n",
      " [0.24738693 0.99968153 0.19433359]\n",
      " [0.55668681 0.78118115 0.89201058]]\n"
     ]
    }
   ],
   "source": [
    "print(\"Use numpy to create a [3,3] dimension array with random number\")\n",
    "c=np.random.rand(3,3)\n",
    "print(c)"
   ]
  },
  {
   "cell_type": "code",
   "execution_count": 11,
   "metadata": {},
   "outputs": [
    {
     "name": "stdout",
     "output_type": "stream",
     "text": [
      "You can print the dimensions of arrays\n",
      "shape of a: (3,)\n",
      "shape of b: (5,)\n",
      "shape of c: (3, 3)\n",
      "...Observe, Python uses both [0,1,2] and [0,1,2] to specify lists\n"
     ]
    }
   ],
   "source": [
    "print(\"You can print the dimensions of arrays\")\n",
    "print(\"shape of a: {}\".format(a.shape))\n",
    "print(\"shape of b: {}\".format(b.shape))\n",
    "print(\"shape of c: {}\".format(c.shape))\n",
    "print(\"...Observe, Python uses both [0,1,2] and [0,1,2] to specify lists\")"
   ]
  },
  {
   "cell_type": "code",
   "execution_count": null,
   "metadata": {},
   "outputs": [],
   "source": []
  }
 ],
 "metadata": {
  "kernelspec": {
   "display_name": "Python 3",
   "language": "python",
   "name": "python3"
  },
  "language_info": {
   "codemirror_mode": {
    "name": "ipython",
    "version": 3
   },
   "file_extension": ".py",
   "mimetype": "text/x-python",
   "name": "python",
   "nbconvert_exporter": "python",
   "pygments_lexer": "ipython3",
   "version": "3.6.10"
  }
 },
 "nbformat": 4,
 "nbformat_minor": 4
}

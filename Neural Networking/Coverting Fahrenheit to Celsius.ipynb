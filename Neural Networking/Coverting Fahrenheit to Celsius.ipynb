{
 "cells": [
  {
   "cell_type": "code",
   "execution_count": 1,
   "metadata": {},
   "outputs": [],
   "source": [
    "import tensorflow as tf"
   ]
  },
  {
   "cell_type": "code",
   "execution_count": 2,
   "metadata": {},
   "outputs": [],
   "source": [
    "import numpy as np"
   ]
  },
  {
   "cell_type": "code",
   "execution_count": 21,
   "metadata": {},
   "outputs": [],
   "source": [
    "import matplotlib.pyplot as plt"
   ]
  },
  {
   "cell_type": "code",
   "execution_count": 3,
   "metadata": {},
   "outputs": [
    {
     "name": "stdout",
     "output_type": "stream",
     "text": [
      "32.0\n"
     ]
    }
   ],
   "source": [
    "f=lambda c: c*1.8+32\n",
    "c=12\n",
    "print(f(0))"
   ]
  },
  {
   "cell_type": "code",
   "execution_count": 13,
   "metadata": {},
   "outputs": [
    {
     "name": "stdout",
     "output_type": "stream",
     "text": [
      "-40.0 degrees Celsius = -40.0 degrees Fahrenheit\n",
      "-10.0 degrees Celsius = 14.0 degrees Fahrenheit\n",
      "0.0 degrees Celsius = 32.0 degrees Fahrenheit\n",
      "8.0 degrees Celsius = 46.0 degrees Fahrenheit\n",
      "15.0 degrees Celsius = 59.0 degrees Fahrenheit\n",
      "22.0 degrees Celsius = 72.0 degrees Fahrenheit\n",
      "38.0 degrees Celsius = 100.0 degrees Fahrenheit\n"
     ]
    }
   ],
   "source": [
    "celsius_q   =np.array([-40,-10, 0, 8,15,22, 38],float)\n",
    "fahrenheit_a=np.array([-40, 14,32,46,59,72,100],float)\n",
    "\n",
    "for i,c in enumerate(celsius_q):\n",
    "    print(\"{} degrees Celsius = {} degrees Fahrenheit\".format(c, fahrenheit_a[i]))"
   ]
  },
  {
   "cell_type": "code",
   "execution_count": 16,
   "metadata": {},
   "outputs": [],
   "source": [
    "# Creating the Model (single layer model)\n",
    "L0=tf.keras.layers.Dense(units=1, input_shape=[1])"
   ]
  },
  {
   "cell_type": "code",
   "execution_count": 17,
   "metadata": {},
   "outputs": [],
   "source": [
    "# Assembling the layer to the model\n",
    "model=tf.keras.Sequential([L0])"
   ]
  },
  {
   "cell_type": "code",
   "execution_count": 19,
   "metadata": {},
   "outputs": [],
   "source": [
    "# Compiling the model with loss & optimizer functions\n",
    "\n",
    "model.compile(loss='mean_squared_error',\n",
    "              optimizer=tf.keras.optimizers.Adam(0.1))"
   ]
  },
  {
   "cell_type": "code",
   "execution_count": 23,
   "metadata": {},
   "outputs": [],
   "source": [
    "# Training the Model by caling the fit method\n",
    "\n",
    "history=model.fit(celsius_q,fahrenheit_a,epochs=500,verbose=False)"
   ]
  },
  {
   "cell_type": "code",
   "execution_count": 25,
   "metadata": {},
   "outputs": [
    {
     "data": {
      "image/png": "[encoded data removed]",
      "text/plain": [
       "<Figure size 432x288 with 1 Axes>"
      ]
     },
     "metadata": {
      "needs_background": "light"
     },
     "output_type": "display_data"
    }
   ],
   "source": [
    "# Displaying the training statistics\n",
    "\n",
    "plt.xlabel('Epoch Number')\n",
    "plt.ylabel('Loss Magnitude')\n",
    "plt.plot(history.history['loss']);"
   ]
  },
  {
   "cell_type": "code",
   "execution_count": 27,
   "metadata": {},
   "outputs": [
    {
     "name": "stdout",
     "output_type": "stream",
     "text": [
      "[[211.74277]]\n"
     ]
    }
   ],
   "source": [
    "forecasting=model.predict([100.0])\n",
    "print(forecasting)"
   ]
  },
  {
   "cell_type": "code",
   "execution_count": 28,
   "metadata": {},
   "outputs": [
    {
     "name": "stdout",
     "output_type": "stream",
     "text": [
      "Layers variables: [array([[1.7982262]], dtype=float32), array([31.920155], dtype=float32)]\n"
     ]
    }
   ],
   "source": [
    "print(\"Layers variables: {}\".format(L0.get_weights()))"
   ]
  },
  {
   "cell_type": "code",
   "execution_count": 41,
   "metadata": {},
   "outputs": [
    {
     "name": "stdout",
     "output_type": "stream",
     "text": [
      "[[211.74745]]\n",
      "Layers L0 variables: [array([[ 0.13732988, -0.75605106, -0.08235938,  0.0317115 ]],\n",
      "      dtype=float32), array([ 3.3216045, -3.4785855, -3.0550604,  3.2566142], dtype=float32)]\n",
      "Layers L1 variables: [array([[-0.13014215,  0.17318293, -1.2685703 ,  0.7784409 ],\n",
      "       [ 0.09751514, -1.0674734 ,  0.5577725 , -0.34445342],\n",
      "       [-0.39316988, -0.8710594 ,  0.23464328,  0.6721442 ],\n",
      "       [ 0.02702182,  1.3308117 ,  0.1826795 , -0.41281468]],\n",
      "      dtype=float32), array([ 2.5762331,  3.398999 , -3.250382 ,  1.4467088], dtype=float32)]\n",
      "Layers L2 variables: [array([[ 0.19100209],\n",
      "       [ 1.2233516 ],\n",
      "       [-1.0598115 ],\n",
      "       [ 0.02470962]], dtype=float32), array([3.258249], dtype=float32)]\n"
     ]
    }
   ],
   "source": [
    "# Extensions\n",
    "\n",
    "L0=tf.keras.layers.Dense(units=4, input_shape=[1])\n",
    "L1=tf.keras.layers.Dense(units=4)\n",
    "L2=tf.keras.layers.Dense(units=1)\n",
    "model=tf.keras.Sequential([L0,L1,L2])\n",
    "model.compile(loss='mean_squared_error',\n",
    "              optimizer=tf.keras.optimizers.Adam(0.1))\n",
    "model.fit(celsius_q,fahrenheit_a,epochs=500,verbose=False)\n",
    "print(model.predict([100.0]))\n",
    "print(\"Layers L0 variables: {}\".format(L0.get_weights()))\n",
    "print(\"Layers L1 variables: {}\".format(L1.get_weights()))\n",
    "print(\"Layers L2 variables: {}\".format(L2.get_weights()))"
   ]
  },
  {
   "cell_type": "code",
   "execution_count": null,
   "metadata": {},
   "outputs": [],
   "source": []
  }
 ],
 "metadata": {
  "kernelspec": {
   "display_name": "Python 3",
   "language": "python",
   "name": "python3"
  },
  "language_info": {
   "codemirror_mode": {
    "name": "ipython",
    "version": 3
   },
   "file_extension": ".py",
   "mimetype": "text/x-python",
   "name": "python",
   "nbconvert_exporter": "python",
   "pygments_lexer": "ipython3",
   "version": "3.6.10"
  }
 },
 "nbformat": 4,
 "nbformat_minor": 4
}

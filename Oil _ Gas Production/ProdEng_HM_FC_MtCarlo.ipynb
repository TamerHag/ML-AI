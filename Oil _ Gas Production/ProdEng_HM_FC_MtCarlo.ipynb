{
 "cells": [
  {
   "cell_type": "code",
   "execution_count": 1,
   "metadata": {},
   "outputs": [],
   "source": [
    "import pandas as pd\n",
    "import numpy as np"
   ]
  },
  {
   "cell_type": "code",
   "execution_count": 3,
   "metadata": {},
   "outputs": [],
   "source": [
    "import seaborn as sns  \n",
    "import matplotlib.pyplot as plt\n",
    "from scipy.stats import norm\n",
    "# might be needed depending on your version of Jupyter\n",
    "%matplotlib inline\n",
    "#from pandas_datareader import data as wb\n",
    "from scipy.stats import norm"
   ]
  },
  {
   "cell_type": "code",
   "execution_count": 4,
   "metadata": {},
   "outputs": [],
   "source": [
    "df = pd.read_csv('../Oil & Gas Production/Pandey_Ch07_Production_Engineering_Code/data/Well_Monthly_ProdT.csv')"
   ]
  },
  {
   "cell_type": "code",
   "execution_count": 5,
   "metadata": {},
   "outputs": [
    {
     "name": "stdout",
     "output_type": "stream",
     "text": [
      "<class 'pandas.core.frame.DataFrame'>\n",
      "RangeIndex: 528 entries, 0 to 527\n",
      "Data columns (total 2 columns):\n",
      " #   Column      Non-Null Count  Dtype \n",
      "---  ------      --------------  ----- \n",
      " 0   START_DATE  528 non-null    object\n",
      " 1   OIL         528 non-null    int64 \n",
      "dtypes: int64(1), object(1)\n",
      "memory usage: 8.4+ KB\n"
     ]
    }
   ],
   "source": [
    "df.info()"
   ]
  },
  {
   "cell_type": "code",
   "execution_count": 6,
   "metadata": {},
   "outputs": [
    {
     "data": {
      "text/plain": [
       "START_DATE    0\n",
       "OIL           0\n",
       "dtype: int64"
      ]
     },
     "execution_count": 6,
     "metadata": {},
     "output_type": "execute_result"
    }
   ],
   "source": [
    "df.isnull().sum()"
   ]
  },
  {
   "cell_type": "code",
   "execution_count": 7,
   "metadata": {
    "scrolled": true
   },
   "outputs": [
    {
     "data": {
      "text/html": [
       "<div>\n",
       "<style scoped>\n",
       "    .dataframe tbody tr th:only-of-type {\n",
       "        vertical-align: middle;\n",
       "    }\n",
       "\n",
       "    .dataframe tbody tr th {\n",
       "        vertical-align: top;\n",
       "    }\n",
       "\n",
       "    .dataframe thead th {\n",
       "        text-align: right;\n",
       "    }\n",
       "</style>\n",
       "<table border=\"1\" class=\"dataframe\">\n",
       "  <thead>\n",
       "    <tr style=\"text-align: right;\">\n",
       "      <th></th>\n",
       "      <th>START_DATE</th>\n",
       "      <th>OIL</th>\n",
       "    </tr>\n",
       "  </thead>\n",
       "  <tbody>\n",
       "    <tr>\n",
       "      <th>0</th>\n",
       "      <td>1974-01-01</td>\n",
       "      <td>7134368</td>\n",
       "    </tr>\n",
       "    <tr>\n",
       "      <th>1</th>\n",
       "      <td>1974-01-02</td>\n",
       "      <td>9528303</td>\n",
       "    </tr>\n",
       "    <tr>\n",
       "      <th>2</th>\n",
       "      <td>1974-01-03</td>\n",
       "      <td>12263786</td>\n",
       "    </tr>\n",
       "    <tr>\n",
       "      <th>3</th>\n",
       "      <td>1974-01-04</td>\n",
       "      <td>13153821</td>\n",
       "    </tr>\n",
       "    <tr>\n",
       "      <th>4</th>\n",
       "      <td>1974-01-05</td>\n",
       "      <td>12240857</td>\n",
       "    </tr>\n",
       "  </tbody>\n",
       "</table>\n",
       "</div>"
      ],
      "text/plain": [
       "   START_DATE       OIL\n",
       "0  1974-01-01   7134368\n",
       "1  1974-01-02   9528303\n",
       "2  1974-01-03  12263786\n",
       "3  1974-01-04  13153821\n",
       "4  1974-01-05  12240857"
      ]
     },
     "execution_count": 7,
     "metadata": {},
     "output_type": "execute_result"
    }
   ],
   "source": [
    "df.head()"
   ]
  },
  {
   "cell_type": "code",
   "execution_count": 8,
   "metadata": {},
   "outputs": [
    {
     "data": {
      "text/html": [
       "<div>\n",
       "<style scoped>\n",
       "    .dataframe tbody tr th:only-of-type {\n",
       "        vertical-align: middle;\n",
       "    }\n",
       "\n",
       "    .dataframe tbody tr th {\n",
       "        vertical-align: top;\n",
       "    }\n",
       "\n",
       "    .dataframe thead th {\n",
       "        text-align: right;\n",
       "    }\n",
       "</style>\n",
       "<table border=\"1\" class=\"dataframe\">\n",
       "  <thead>\n",
       "    <tr style=\"text-align: right;\">\n",
       "      <th></th>\n",
       "      <th>START_DATE</th>\n",
       "      <th>OIL</th>\n",
       "    </tr>\n",
       "  </thead>\n",
       "  <tbody>\n",
       "    <tr>\n",
       "      <th>0</th>\n",
       "      <td>1974-01-01</td>\n",
       "      <td>7134368</td>\n",
       "    </tr>\n",
       "    <tr>\n",
       "      <th>1</th>\n",
       "      <td>1974-01-02</td>\n",
       "      <td>9528303</td>\n",
       "    </tr>\n",
       "    <tr>\n",
       "      <th>2</th>\n",
       "      <td>1974-01-03</td>\n",
       "      <td>12263786</td>\n",
       "    </tr>\n",
       "    <tr>\n",
       "      <th>3</th>\n",
       "      <td>1974-01-04</td>\n",
       "      <td>13153821</td>\n",
       "    </tr>\n",
       "    <tr>\n",
       "      <th>4</th>\n",
       "      <td>1974-01-05</td>\n",
       "      <td>12240857</td>\n",
       "    </tr>\n",
       "    <tr>\n",
       "      <th>...</th>\n",
       "      <td>...</td>\n",
       "      <td>...</td>\n",
       "    </tr>\n",
       "    <tr>\n",
       "      <th>523</th>\n",
       "      <td>2017-01-08</td>\n",
       "      <td>8450763</td>\n",
       "    </tr>\n",
       "    <tr>\n",
       "      <th>524</th>\n",
       "      <td>2017-01-09</td>\n",
       "      <td>8168717</td>\n",
       "    </tr>\n",
       "    <tr>\n",
       "      <th>525</th>\n",
       "      <td>2017-01-10</td>\n",
       "      <td>8668929</td>\n",
       "    </tr>\n",
       "    <tr>\n",
       "      <th>526</th>\n",
       "      <td>2017-01-11</td>\n",
       "      <td>8452498</td>\n",
       "    </tr>\n",
       "    <tr>\n",
       "      <th>527</th>\n",
       "      <td>2017-01-12</td>\n",
       "      <td>8607196</td>\n",
       "    </tr>\n",
       "  </tbody>\n",
       "</table>\n",
       "<p>528 rows × 2 columns</p>\n",
       "</div>"
      ],
      "text/plain": [
       "     START_DATE       OIL\n",
       "0    1974-01-01   7134368\n",
       "1    1974-01-02   9528303\n",
       "2    1974-01-03  12263786\n",
       "3    1974-01-04  13153821\n",
       "4    1974-01-05  12240857\n",
       "..          ...       ...\n",
       "523  2017-01-08   8450763\n",
       "524  2017-01-09   8168717\n",
       "525  2017-01-10   8668929\n",
       "526  2017-01-11   8452498\n",
       "527  2017-01-12   8607196\n",
       "\n",
       "[528 rows x 2 columns]"
      ]
     },
     "execution_count": 8,
     "metadata": {},
     "output_type": "execute_result"
    }
   ],
   "source": [
    "df"
   ]
  },
  {
   "cell_type": "code",
   "execution_count": 9,
   "metadata": {},
   "outputs": [
    {
     "data": {
      "text/plain": [
       "OIL    1.0\n",
       "Name: OIL, dtype: float64"
      ]
     },
     "execution_count": 9,
     "metadata": {},
     "output_type": "execute_result"
    }
   ],
   "source": [
    "df.corr()['OIL'].sort_values()"
   ]
  },
  {
   "cell_type": "code",
   "execution_count": 10,
   "metadata": {},
   "outputs": [],
   "source": [
    "#df.corr()['GAS'].sort_values()"
   ]
  },
  {
   "cell_type": "code",
   "execution_count": 11,
   "metadata": {},
   "outputs": [],
   "source": [
    "#df.corr()['WATER'].sort_values()"
   ]
  },
  {
   "cell_type": "code",
   "execution_count": 12,
   "metadata": {},
   "outputs": [
    {
     "data": {
      "text/html": [
       "<div>\n",
       "<style scoped>\n",
       "    .dataframe tbody tr th:only-of-type {\n",
       "        vertical-align: middle;\n",
       "    }\n",
       "\n",
       "    .dataframe tbody tr th {\n",
       "        vertical-align: top;\n",
       "    }\n",
       "\n",
       "    .dataframe thead th {\n",
       "        text-align: right;\n",
       "    }\n",
       "</style>\n",
       "<table border=\"1\" class=\"dataframe\">\n",
       "  <thead>\n",
       "    <tr style=\"text-align: right;\">\n",
       "      <th></th>\n",
       "      <th>OIL</th>\n",
       "    </tr>\n",
       "  </thead>\n",
       "  <tbody>\n",
       "    <tr>\n",
       "      <th>OIL</th>\n",
       "      <td>1.0</td>\n",
       "    </tr>\n",
       "  </tbody>\n",
       "</table>\n",
       "</div>"
      ],
      "text/plain": [
       "     OIL\n",
       "OIL  1.0"
      ]
     },
     "execution_count": 12,
     "metadata": {},
     "output_type": "execute_result"
    }
   ],
   "source": [
    "df.corr()"
   ]
  },
  {
   "cell_type": "code",
   "execution_count": 13,
   "metadata": {},
   "outputs": [],
   "source": [
    "from datetime import datetime\n",
    "import statsmodels.api as sm"
   ]
  },
  {
   "cell_type": "code",
   "execution_count": 14,
   "metadata": {},
   "outputs": [],
   "source": [
    "df.set_index('START_DATE',inplace=True)"
   ]
  },
  {
   "cell_type": "code",
   "execution_count": 15,
   "metadata": {},
   "outputs": [
    {
     "data": {
      "text/html": [
       "<div>\n",
       "<style scoped>\n",
       "    .dataframe tbody tr th:only-of-type {\n",
       "        vertical-align: middle;\n",
       "    }\n",
       "\n",
       "    .dataframe tbody tr th {\n",
       "        vertical-align: top;\n",
       "    }\n",
       "\n",
       "    .dataframe thead th {\n",
       "        text-align: right;\n",
       "    }\n",
       "</style>\n",
       "<table border=\"1\" class=\"dataframe\">\n",
       "  <thead>\n",
       "    <tr style=\"text-align: right;\">\n",
       "      <th></th>\n",
       "      <th>OIL</th>\n",
       "    </tr>\n",
       "    <tr>\n",
       "      <th>START_DATE</th>\n",
       "      <th></th>\n",
       "    </tr>\n",
       "  </thead>\n",
       "  <tbody>\n",
       "    <tr>\n",
       "      <th>1974-01-01</th>\n",
       "      <td>7134368</td>\n",
       "    </tr>\n",
       "    <tr>\n",
       "      <th>1974-01-02</th>\n",
       "      <td>9528303</td>\n",
       "    </tr>\n",
       "    <tr>\n",
       "      <th>1974-01-03</th>\n",
       "      <td>12263786</td>\n",
       "    </tr>\n",
       "    <tr>\n",
       "      <th>1974-01-04</th>\n",
       "      <td>13153821</td>\n",
       "    </tr>\n",
       "    <tr>\n",
       "      <th>1974-01-05</th>\n",
       "      <td>12240857</td>\n",
       "    </tr>\n",
       "    <tr>\n",
       "      <th>...</th>\n",
       "      <td>...</td>\n",
       "    </tr>\n",
       "    <tr>\n",
       "      <th>2017-01-08</th>\n",
       "      <td>8450763</td>\n",
       "    </tr>\n",
       "    <tr>\n",
       "      <th>2017-01-09</th>\n",
       "      <td>8168717</td>\n",
       "    </tr>\n",
       "    <tr>\n",
       "      <th>2017-01-10</th>\n",
       "      <td>8668929</td>\n",
       "    </tr>\n",
       "    <tr>\n",
       "      <th>2017-01-11</th>\n",
       "      <td>8452498</td>\n",
       "    </tr>\n",
       "    <tr>\n",
       "      <th>2017-01-12</th>\n",
       "      <td>8607196</td>\n",
       "    </tr>\n",
       "  </tbody>\n",
       "</table>\n",
       "<p>528 rows × 1 columns</p>\n",
       "</div>"
      ],
      "text/plain": [
       "                 OIL\n",
       "START_DATE          \n",
       "1974-01-01   7134368\n",
       "1974-01-02   9528303\n",
       "1974-01-03  12263786\n",
       "1974-01-04  13153821\n",
       "1974-01-05  12240857\n",
       "...              ...\n",
       "2017-01-08   8450763\n",
       "2017-01-09   8168717\n",
       "2017-01-10   8668929\n",
       "2017-01-11   8452498\n",
       "2017-01-12   8607196\n",
       "\n",
       "[528 rows x 1 columns]"
      ]
     },
     "execution_count": 15,
     "metadata": {},
     "output_type": "execute_result"
    }
   ],
   "source": [
    "df"
   ]
  },
  {
   "cell_type": "code",
   "execution_count": 16,
   "metadata": {},
   "outputs": [],
   "source": [
    "#df = df.drop('WATER',axis=1)"
   ]
  },
  {
   "cell_type": "code",
   "execution_count": 17,
   "metadata": {},
   "outputs": [],
   "source": [
    "#df = df.drop('UWI',axis=1)"
   ]
  },
  {
   "cell_type": "code",
   "execution_count": 18,
   "metadata": {},
   "outputs": [],
   "source": [
    "#df = df.drop('GAS',axis=1)"
   ]
  },
  {
   "cell_type": "code",
   "execution_count": 19,
   "metadata": {},
   "outputs": [
    {
     "data": {
      "text/html": [
       "<div>\n",
       "<style scoped>\n",
       "    .dataframe tbody tr th:only-of-type {\n",
       "        vertical-align: middle;\n",
       "    }\n",
       "\n",
       "    .dataframe tbody tr th {\n",
       "        vertical-align: top;\n",
       "    }\n",
       "\n",
       "    .dataframe thead th {\n",
       "        text-align: right;\n",
       "    }\n",
       "</style>\n",
       "<table border=\"1\" class=\"dataframe\">\n",
       "  <thead>\n",
       "    <tr style=\"text-align: right;\">\n",
       "      <th></th>\n",
       "      <th>OIL</th>\n",
       "    </tr>\n",
       "    <tr>\n",
       "      <th>START_DATE</th>\n",
       "      <th></th>\n",
       "    </tr>\n",
       "  </thead>\n",
       "  <tbody>\n",
       "    <tr>\n",
       "      <th>1974-01-01</th>\n",
       "      <td>7134368</td>\n",
       "    </tr>\n",
       "    <tr>\n",
       "      <th>1974-01-02</th>\n",
       "      <td>9528303</td>\n",
       "    </tr>\n",
       "    <tr>\n",
       "      <th>1974-01-03</th>\n",
       "      <td>12263786</td>\n",
       "    </tr>\n",
       "    <tr>\n",
       "      <th>1974-01-04</th>\n",
       "      <td>13153821</td>\n",
       "    </tr>\n",
       "    <tr>\n",
       "      <th>1974-01-05</th>\n",
       "      <td>12240857</td>\n",
       "    </tr>\n",
       "    <tr>\n",
       "      <th>...</th>\n",
       "      <td>...</td>\n",
       "    </tr>\n",
       "    <tr>\n",
       "      <th>2017-01-08</th>\n",
       "      <td>8450763</td>\n",
       "    </tr>\n",
       "    <tr>\n",
       "      <th>2017-01-09</th>\n",
       "      <td>8168717</td>\n",
       "    </tr>\n",
       "    <tr>\n",
       "      <th>2017-01-10</th>\n",
       "      <td>8668929</td>\n",
       "    </tr>\n",
       "    <tr>\n",
       "      <th>2017-01-11</th>\n",
       "      <td>8452498</td>\n",
       "    </tr>\n",
       "    <tr>\n",
       "      <th>2017-01-12</th>\n",
       "      <td>8607196</td>\n",
       "    </tr>\n",
       "  </tbody>\n",
       "</table>\n",
       "<p>528 rows × 1 columns</p>\n",
       "</div>"
      ],
      "text/plain": [
       "                 OIL\n",
       "START_DATE          \n",
       "1974-01-01   7134368\n",
       "1974-01-02   9528303\n",
       "1974-01-03  12263786\n",
       "1974-01-04  13153821\n",
       "1974-01-05  12240857\n",
       "...              ...\n",
       "2017-01-08   8450763\n",
       "2017-01-09   8168717\n",
       "2017-01-10   8668929\n",
       "2017-01-11   8452498\n",
       "2017-01-12   8607196\n",
       "\n",
       "[528 rows x 1 columns]"
      ]
     },
     "execution_count": 19,
     "metadata": {},
     "output_type": "execute_result"
    }
   ],
   "source": [
    "df"
   ]
  },
  {
   "cell_type": "code",
   "execution_count": 20,
   "metadata": {},
   "outputs": [],
   "source": [
    "from scipy import stats\n",
    "import statsmodels.api as sm"
   ]
  },
  {
   "cell_type": "code",
   "execution_count": 21,
   "metadata": {},
   "outputs": [],
   "source": [
    "#df=df.replace(0, np.nan)"
   ]
  },
  {
   "cell_type": "code",
   "execution_count": 22,
   "metadata": {},
   "outputs": [],
   "source": [
    "#df=df.replace(0, np.nan).dropna(subset=[\"OIL\"], how=\"all\")"
   ]
  },
  {
   "cell_type": "code",
   "execution_count": 23,
   "metadata": {},
   "outputs": [
    {
     "data": {
      "text/html": [
       "<div>\n",
       "<style scoped>\n",
       "    .dataframe tbody tr th:only-of-type {\n",
       "        vertical-align: middle;\n",
       "    }\n",
       "\n",
       "    .dataframe tbody tr th {\n",
       "        vertical-align: top;\n",
       "    }\n",
       "\n",
       "    .dataframe thead th {\n",
       "        text-align: right;\n",
       "    }\n",
       "</style>\n",
       "<table border=\"1\" class=\"dataframe\">\n",
       "  <thead>\n",
       "    <tr style=\"text-align: right;\">\n",
       "      <th></th>\n",
       "      <th>OIL</th>\n",
       "    </tr>\n",
       "    <tr>\n",
       "      <th>START_DATE</th>\n",
       "      <th></th>\n",
       "    </tr>\n",
       "  </thead>\n",
       "  <tbody>\n",
       "    <tr>\n",
       "      <th>1974-01-01</th>\n",
       "      <td>7134368</td>\n",
       "    </tr>\n",
       "    <tr>\n",
       "      <th>1974-01-02</th>\n",
       "      <td>9528303</td>\n",
       "    </tr>\n",
       "    <tr>\n",
       "      <th>1974-01-03</th>\n",
       "      <td>12263786</td>\n",
       "    </tr>\n",
       "    <tr>\n",
       "      <th>1974-01-04</th>\n",
       "      <td>13153821</td>\n",
       "    </tr>\n",
       "    <tr>\n",
       "      <th>1974-01-05</th>\n",
       "      <td>12240857</td>\n",
       "    </tr>\n",
       "    <tr>\n",
       "      <th>...</th>\n",
       "      <td>...</td>\n",
       "    </tr>\n",
       "    <tr>\n",
       "      <th>2017-01-08</th>\n",
       "      <td>8450763</td>\n",
       "    </tr>\n",
       "    <tr>\n",
       "      <th>2017-01-09</th>\n",
       "      <td>8168717</td>\n",
       "    </tr>\n",
       "    <tr>\n",
       "      <th>2017-01-10</th>\n",
       "      <td>8668929</td>\n",
       "    </tr>\n",
       "    <tr>\n",
       "      <th>2017-01-11</th>\n",
       "      <td>8452498</td>\n",
       "    </tr>\n",
       "    <tr>\n",
       "      <th>2017-01-12</th>\n",
       "      <td>8607196</td>\n",
       "    </tr>\n",
       "  </tbody>\n",
       "</table>\n",
       "<p>528 rows × 1 columns</p>\n",
       "</div>"
      ],
      "text/plain": [
       "                 OIL\n",
       "START_DATE          \n",
       "1974-01-01   7134368\n",
       "1974-01-02   9528303\n",
       "1974-01-03  12263786\n",
       "1974-01-04  13153821\n",
       "1974-01-05  12240857\n",
       "...              ...\n",
       "2017-01-08   8450763\n",
       "2017-01-09   8168717\n",
       "2017-01-10   8668929\n",
       "2017-01-11   8452498\n",
       "2017-01-12   8607196\n",
       "\n",
       "[528 rows x 1 columns]"
      ]
     },
     "execution_count": 23,
     "metadata": {},
     "output_type": "execute_result"
    }
   ],
   "source": [
    "df"
   ]
  },
  {
   "cell_type": "code",
   "execution_count": 24,
   "metadata": {},
   "outputs": [
    {
     "data": {
      "text/html": [
       "<div>\n",
       "<style scoped>\n",
       "    .dataframe tbody tr th:only-of-type {\n",
       "        vertical-align: middle;\n",
       "    }\n",
       "\n",
       "    .dataframe tbody tr th {\n",
       "        vertical-align: top;\n",
       "    }\n",
       "\n",
       "    .dataframe thead th {\n",
       "        text-align: right;\n",
       "    }\n",
       "</style>\n",
       "<table border=\"1\" class=\"dataframe\">\n",
       "  <thead>\n",
       "    <tr style=\"text-align: right;\">\n",
       "      <th></th>\n",
       "      <th>OIL</th>\n",
       "    </tr>\n",
       "    <tr>\n",
       "      <th>START_DATE</th>\n",
       "      <th></th>\n",
       "    </tr>\n",
       "  </thead>\n",
       "  <tbody>\n",
       "    <tr>\n",
       "      <th>1974-01-01</th>\n",
       "      <td>NaN</td>\n",
       "    </tr>\n",
       "    <tr>\n",
       "      <th>1974-01-02</th>\n",
       "      <td>0.289343</td>\n",
       "    </tr>\n",
       "    <tr>\n",
       "      <th>1974-01-03</th>\n",
       "      <td>0.252384</td>\n",
       "    </tr>\n",
       "    <tr>\n",
       "      <th>1974-01-04</th>\n",
       "      <td>0.070062</td>\n",
       "    </tr>\n",
       "    <tr>\n",
       "      <th>1974-01-05</th>\n",
       "      <td>-0.071933</td>\n",
       "    </tr>\n",
       "    <tr>\n",
       "      <th>...</th>\n",
       "      <td>...</td>\n",
       "    </tr>\n",
       "    <tr>\n",
       "      <th>2017-01-08</th>\n",
       "      <td>0.008805</td>\n",
       "    </tr>\n",
       "    <tr>\n",
       "      <th>2017-01-09</th>\n",
       "      <td>-0.033945</td>\n",
       "    </tr>\n",
       "    <tr>\n",
       "      <th>2017-01-10</th>\n",
       "      <td>0.059433</td>\n",
       "    </tr>\n",
       "    <tr>\n",
       "      <th>2017-01-11</th>\n",
       "      <td>-0.025283</td>\n",
       "    </tr>\n",
       "    <tr>\n",
       "      <th>2017-01-12</th>\n",
       "      <td>0.018137</td>\n",
       "    </tr>\n",
       "  </tbody>\n",
       "</table>\n",
       "<p>528 rows × 1 columns</p>\n",
       "</div>"
      ],
      "text/plain": [
       "                 OIL\n",
       "START_DATE          \n",
       "1974-01-01       NaN\n",
       "1974-01-02  0.289343\n",
       "1974-01-03  0.252384\n",
       "1974-01-04  0.070062\n",
       "1974-01-05 -0.071933\n",
       "...              ...\n",
       "2017-01-08  0.008805\n",
       "2017-01-09 -0.033945\n",
       "2017-01-10  0.059433\n",
       "2017-01-11 -0.025283\n",
       "2017-01-12  0.018137\n",
       "\n",
       "[528 rows x 1 columns]"
      ]
     },
     "execution_count": 24,
     "metadata": {},
     "output_type": "execute_result"
    }
   ],
   "source": [
    "log_returns=np.log(1+df.pct_change())\n",
    "log_returns"
   ]
  },
  {
   "cell_type": "code",
   "execution_count": 25,
   "metadata": {},
   "outputs": [],
   "source": [
    "#log_returns=log_returns.replace([np.inf, -np.inf], np.nan)"
   ]
  },
  {
   "cell_type": "code",
   "execution_count": 26,
   "metadata": {},
   "outputs": [],
   "source": [
    "#df=df.dropna(subset=[\"OIL\"], how=\"all\")"
   ]
  },
  {
   "cell_type": "code",
   "execution_count": 27,
   "metadata": {},
   "outputs": [
    {
     "data": {
      "text/html": [
       "<div>\n",
       "<style scoped>\n",
       "    .dataframe tbody tr th:only-of-type {\n",
       "        vertical-align: middle;\n",
       "    }\n",
       "\n",
       "    .dataframe tbody tr th {\n",
       "        vertical-align: top;\n",
       "    }\n",
       "\n",
       "    .dataframe thead th {\n",
       "        text-align: right;\n",
       "    }\n",
       "</style>\n",
       "<table border=\"1\" class=\"dataframe\">\n",
       "  <thead>\n",
       "    <tr style=\"text-align: right;\">\n",
       "      <th></th>\n",
       "      <th>OIL</th>\n",
       "    </tr>\n",
       "    <tr>\n",
       "      <th>START_DATE</th>\n",
       "      <th></th>\n",
       "    </tr>\n",
       "  </thead>\n",
       "  <tbody>\n",
       "    <tr>\n",
       "      <th>1974-01-01</th>\n",
       "      <td>NaN</td>\n",
       "    </tr>\n",
       "    <tr>\n",
       "      <th>1974-01-02</th>\n",
       "      <td>0.289343</td>\n",
       "    </tr>\n",
       "    <tr>\n",
       "      <th>1974-01-03</th>\n",
       "      <td>0.252384</td>\n",
       "    </tr>\n",
       "    <tr>\n",
       "      <th>1974-01-04</th>\n",
       "      <td>0.070062</td>\n",
       "    </tr>\n",
       "    <tr>\n",
       "      <th>1974-01-05</th>\n",
       "      <td>-0.071933</td>\n",
       "    </tr>\n",
       "    <tr>\n",
       "      <th>...</th>\n",
       "      <td>...</td>\n",
       "    </tr>\n",
       "    <tr>\n",
       "      <th>2017-01-08</th>\n",
       "      <td>0.008805</td>\n",
       "    </tr>\n",
       "    <tr>\n",
       "      <th>2017-01-09</th>\n",
       "      <td>-0.033945</td>\n",
       "    </tr>\n",
       "    <tr>\n",
       "      <th>2017-01-10</th>\n",
       "      <td>0.059433</td>\n",
       "    </tr>\n",
       "    <tr>\n",
       "      <th>2017-01-11</th>\n",
       "      <td>-0.025283</td>\n",
       "    </tr>\n",
       "    <tr>\n",
       "      <th>2017-01-12</th>\n",
       "      <td>0.018137</td>\n",
       "    </tr>\n",
       "  </tbody>\n",
       "</table>\n",
       "<p>528 rows × 1 columns</p>\n",
       "</div>"
      ],
      "text/plain": [
       "                 OIL\n",
       "START_DATE          \n",
       "1974-01-01       NaN\n",
       "1974-01-02  0.289343\n",
       "1974-01-03  0.252384\n",
       "1974-01-04  0.070062\n",
       "1974-01-05 -0.071933\n",
       "...              ...\n",
       "2017-01-08  0.008805\n",
       "2017-01-09 -0.033945\n",
       "2017-01-10  0.059433\n",
       "2017-01-11 -0.025283\n",
       "2017-01-12  0.018137\n",
       "\n",
       "[528 rows x 1 columns]"
      ]
     },
     "execution_count": 27,
     "metadata": {},
     "output_type": "execute_result"
    }
   ],
   "source": [
    "log_returns"
   ]
  },
  {
   "cell_type": "code",
   "execution_count": 28,
   "metadata": {},
   "outputs": [
    {
     "data": {
      "image/png": "[encoded data removed]",
      "text/plain": [
       "<Figure size 864x576 with 1 Axes>"
      ]
     },
     "metadata": {
      "needs_background": "light"
     },
     "output_type": "display_data"
    }
   ],
   "source": [
    "log_returns.plot(figsize=(12,8));"
   ]
  },
  {
   "cell_type": "code",
   "execution_count": 29,
   "metadata": {},
   "outputs": [
    {
     "data": {
      "text/plain": [
       "OIL    0.000356\n",
       "dtype: float64"
      ]
     },
     "execution_count": 29,
     "metadata": {},
     "output_type": "execute_result"
    }
   ],
   "source": [
    "u=log_returns.mean()\n",
    "u"
   ]
  },
  {
   "cell_type": "code",
   "execution_count": 30,
   "metadata": {},
   "outputs": [
    {
     "data": {
      "text/plain": [
       "OIL    0.000178\n",
       "dtype: float64"
      ]
     },
     "execution_count": 30,
     "metadata": {},
     "output_type": "execute_result"
    }
   ],
   "source": [
    "drift=u-(0.5*u)\n",
    "drift"
   ]
  },
  {
   "cell_type": "code",
   "execution_count": 31,
   "metadata": {},
   "outputs": [
    {
     "data": {
      "text/plain": [
       "OIL    0.160186\n",
       "dtype: float64"
      ]
     },
     "execution_count": 31,
     "metadata": {},
     "output_type": "execute_result"
    }
   ],
   "source": [
    "stdev=log_returns.std()\n",
    "stdev"
   ]
  },
  {
   "cell_type": "code",
   "execution_count": 32,
   "metadata": {},
   "outputs": [
    {
     "data": {
      "text/plain": [
       "array([0.00017806])"
      ]
     },
     "execution_count": 32,
     "metadata": {},
     "output_type": "execute_result"
    }
   ],
   "source": [
    "drift.values"
   ]
  },
  {
   "cell_type": "code",
   "execution_count": 33,
   "metadata": {},
   "outputs": [
    {
     "data": {
      "text/plain": [
       "array([0.16018593])"
      ]
     },
     "execution_count": 33,
     "metadata": {},
     "output_type": "execute_result"
    }
   ],
   "source": [
    "stdev.values"
   ]
  },
  {
   "cell_type": "code",
   "execution_count": 34,
   "metadata": {},
   "outputs": [
    {
     "data": {
      "text/plain": [
       "1.6448536269514722"
      ]
     },
     "execution_count": 34,
     "metadata": {},
     "output_type": "execute_result"
    }
   ],
   "source": [
    "norm.ppf(0.95)"
   ]
  },
  {
   "cell_type": "code",
   "execution_count": 35,
   "metadata": {},
   "outputs": [
    {
     "data": {
      "text/plain": [
       "array([[0.43709552, 0.71808633],\n",
       "       [0.3232429 , 0.19419692],\n",
       "       [0.17433312, 0.52419601],\n",
       "       [0.81042528, 0.81099954],\n",
       "       [0.45089753, 0.00466304],\n",
       "       [0.04311579, 0.64148628],\n",
       "       [0.85159443, 0.41817938],\n",
       "       [0.89828391, 0.65206197],\n",
       "       [0.14065161, 0.01139432],\n",
       "       [0.3283668 , 0.41460872]])"
      ]
     },
     "execution_count": 35,
     "metadata": {},
     "output_type": "execute_result"
    }
   ],
   "source": [
    "x=np.random.rand(10,2)\n",
    "x"
   ]
  },
  {
   "cell_type": "code",
   "execution_count": 36,
   "metadata": {},
   "outputs": [
    {
     "data": {
      "text/plain": [
       "array([[-0.15833727,  0.57716599],\n",
       "       [-0.45864962, -0.86253381],\n",
       "       [-0.93717949,  0.06068763],\n",
       "       [ 0.87946457,  0.88158565],\n",
       "       [-0.12339406, -2.59986384],\n",
       "       [-1.71562025,  0.36243439],\n",
       "       [ 1.04329618, -0.20655327],\n",
       "       [ 1.27183376,  0.39089337],\n",
       "       [-1.07739637, -2.27695946],\n",
       "       [-0.4444274 , -0.21570533]])"
      ]
     },
     "execution_count": 36,
     "metadata": {},
     "output_type": "execute_result"
    }
   ],
   "source": [
    "norm.ppf(x)"
   ]
  },
  {
   "cell_type": "code",
   "execution_count": 37,
   "metadata": {},
   "outputs": [
    {
     "data": {
      "text/plain": [
       "array([[-0.28287543, -0.09001453],\n",
       "       [-0.97909188,  1.23538227],\n",
       "       [-0.57001739,  3.03645992],\n",
       "       [-0.13553171, -0.13804041],\n",
       "       [-0.53945497, -0.46351333],\n",
       "       [ 0.97511664, -0.13713605],\n",
       "       [-0.20488542,  1.68991019],\n",
       "       [-0.65090526,  0.74730422],\n",
       "       [ 0.18527131, -1.69763683],\n",
       "       [ 1.23644105, -0.38793423]])"
      ]
     },
     "execution_count": 37,
     "metadata": {},
     "output_type": "execute_result"
    }
   ],
   "source": [
    "z=norm.ppf(np.random.rand(10,2))\n",
    "z"
   ]
  },
  {
   "cell_type": "code",
   "execution_count": 38,
   "metadata": {},
   "outputs": [],
   "source": [
    "t_intervals=1000\n",
    "iterations=50"
   ]
  },
  {
   "cell_type": "code",
   "execution_count": 39,
   "metadata": {},
   "outputs": [
    {
     "data": {
      "text/plain": [
       "array([[-1.08143048,  0.45756329,  0.54571416, ..., -0.39234529,\n",
       "         0.70089646, -0.07519588],\n",
       "       [-1.7956542 , -0.99827406,  1.57519952, ..., -0.97811975,\n",
       "         0.50669579,  0.40298312],\n",
       "       [ 0.96600937, -0.84251837,  0.1163784 , ..., -1.65942908,\n",
       "         2.25216386, -0.18994165],\n",
       "       ...,\n",
       "       [ 0.86654669,  0.03521526,  1.19344023, ..., -1.08053384,\n",
       "        -1.29308551, -0.9834391 ],\n",
       "       [ 0.68407428, -0.7169845 , -0.19266859, ..., -0.00495246,\n",
       "         1.77741189,  0.76339808],\n",
       "       [ 0.12767413, -1.5655988 ,  0.35992557, ...,  0.97499178,\n",
       "         0.76595142, -1.0647131 ]])"
      ]
     },
     "execution_count": 39,
     "metadata": {},
     "output_type": "execute_result"
    }
   ],
   "source": [
    "Z=norm.ppf(np.random.rand(t_intervals,iterations))\n",
    "Z"
   ]
  },
  {
   "cell_type": "code",
   "execution_count": 40,
   "metadata": {},
   "outputs": [
    {
     "data": {
      "text/plain": [
       "array([[-0.17305189,  0.07347326,  0.08759379, ..., -0.06267013,\n",
       "         0.11245181, -0.01186726],\n",
       "       [-0.28746047, -0.1597314 ,  0.25250286, ..., -0.15650296,\n",
       "         0.0813436 ,  0.06473028],\n",
       "       [ 0.15491917, -0.13478153,  0.01882024, ..., -0.26563913,\n",
       "         0.36094302, -0.03024792],\n",
       "       ...,\n",
       "       [ 0.13898665,  0.00581905,  0.19135039, ..., -0.17290826,\n",
       "        -0.20695604, -0.15735505],\n",
       "       [ 0.10975713, -0.11467277, -0.03068474, ..., -0.00061526,\n",
       "         0.28489443,  0.12246369],\n",
       "       [ 0.02062966, -0.25060884,  0.05783307, ...,  0.15635802,\n",
       "         0.1228727 , -0.170374  ]])"
      ]
     },
     "execution_count": 40,
     "metadata": {},
     "output_type": "execute_result"
    }
   ],
   "source": [
    "r=(drift.values+(stdev.values*Z))\n",
    "r"
   ]
  },
  {
   "cell_type": "code",
   "execution_count": 41,
   "metadata": {},
   "outputs": [
    {
     "data": {
      "text/plain": [
       "array([[0.84109397, 1.07623976, 1.09154463, ..., 0.93925325, 1.11901833,\n",
       "        0.98820288],\n",
       "       [0.75016622, 0.85237271, 1.28724317, ..., 0.85512899, 1.08474355,\n",
       "        1.06687123],\n",
       "       [1.16756358, 0.87390682, 1.01899846, ..., 0.76671576, 1.43468171,\n",
       "        0.97020497],\n",
       "       ...,\n",
       "       [1.14910875, 1.00583601, 1.21088366, ..., 0.84121479, 0.81305539,\n",
       "        0.85440065],\n",
       "       [1.116007  , 0.89165788, 0.96978126, ..., 0.99938493, 1.32962166,\n",
       "        1.13027808],\n",
       "       [1.02084392, 0.77832676, 1.05953811, ..., 1.16924475, 1.13074047,\n",
       "        0.84334935]])"
      ]
     },
     "execution_count": 41,
     "metadata": {},
     "output_type": "execute_result"
    }
   ],
   "source": [
    "monthly_prod=np.exp(r)\n",
    "monthly_prod"
   ]
  },
  {
   "cell_type": "code",
   "execution_count": 42,
   "metadata": {},
   "outputs": [
    {
     "data": {
      "text/plain": [
       "OIL    8607196\n",
       "Name: 2017-01-12, dtype: int64"
      ]
     },
     "execution_count": 42,
     "metadata": {},
     "output_type": "execute_result"
    }
   ],
   "source": [
    "S0=df.iloc[-1]\n",
    "S0"
   ]
  },
  {
   "cell_type": "code",
   "execution_count": 43,
   "metadata": {},
   "outputs": [
    {
     "data": {
      "text/plain": [
       "array([[0., 0., 0., ..., 0., 0., 0.],\n",
       "       [0., 0., 0., ..., 0., 0., 0.],\n",
       "       [0., 0., 0., ..., 0., 0., 0.],\n",
       "       ...,\n",
       "       [0., 0., 0., ..., 0., 0., 0.],\n",
       "       [0., 0., 0., ..., 0., 0., 0.],\n",
       "       [0., 0., 0., ..., 0., 0., 0.]])"
      ]
     },
     "execution_count": 43,
     "metadata": {},
     "output_type": "execute_result"
    }
   ],
   "source": [
    "Oil_Rate=np.zeros_like(monthly_prod)\n",
    "Oil_Rate"
   ]
  },
  {
   "cell_type": "code",
   "execution_count": 44,
   "metadata": {},
   "outputs": [
    {
     "data": {
      "text/plain": [
       "array([[8607196., 8607196., 8607196., ..., 8607196., 8607196., 8607196.],\n",
       "       [      0.,       0.,       0., ...,       0.,       0.,       0.],\n",
       "       [      0.,       0.,       0., ...,       0.,       0.,       0.],\n",
       "       ...,\n",
       "       [      0.,       0.,       0., ...,       0.,       0.,       0.],\n",
       "       [      0.,       0.,       0., ...,       0.,       0.,       0.],\n",
       "       [      0.,       0.,       0., ...,       0.,       0.,       0.]])"
      ]
     },
     "execution_count": 44,
     "metadata": {},
     "output_type": "execute_result"
    }
   ],
   "source": [
    "Oil_Rate[0]=S0\n",
    "Oil_Rate"
   ]
  },
  {
   "cell_type": "code",
   "execution_count": 45,
   "metadata": {},
   "outputs": [
    {
     "data": {
      "text/plain": [
       "array([[8.60719600e+06, 8.60719600e+06, 8.60719600e+06, ...,\n",
       "        8.60719600e+06, 8.60719600e+06, 8.60719600e+06],\n",
       "       [6.45682766e+06, 7.33653896e+06, 1.10795543e+07, ...,\n",
       "        7.36026279e+06, 9.33660030e+06, 9.18276982e+06],\n",
       "       [7.53875682e+06, 6.41145140e+06, 1.12900488e+07, ...,\n",
       "        5.64322951e+06, 1.33950497e+07, 8.90916892e+06],\n",
       "       ...,\n",
       "       [1.96340889e+03, 1.68795840e+05, 1.88936147e+07, ...,\n",
       "        8.26978138e+05, 6.45414959e+09, 5.69896338e+04],\n",
       "       [2.19117805e+03, 1.50508140e+05, 1.83226735e+07, ...,\n",
       "        8.26469491e+05, 8.58157707e+09, 6.44141339e+04],\n",
       "       [2.23685080e+03, 1.17144514e+05, 1.94135709e+07, ...,\n",
       "        9.66345110e+05, 9.70353647e+09, 5.43236178e+04]])"
      ]
     },
     "execution_count": 45,
     "metadata": {},
     "output_type": "execute_result"
    }
   ],
   "source": [
    "for t in range(1,t_intervals):\n",
    "    Oil_Rate[t]=Oil_Rate[t-1]*monthly_prod[t]\n",
    "    \n",
    "Oil_Rate"
   ]
  },
  {
   "cell_type": "code",
   "execution_count": 46,
   "metadata": {},
   "outputs": [
    {
     "data": {
      "text/plain": [
       "(835.0, 875.0)"
      ]
     },
     "execution_count": 46,
     "metadata": {},
     "output_type": "execute_result"
    },
    {
     "data": {
      "image/png": "[encoded data removed]",
      "text/plain": [
       "<Figure size 864x576 with 1 Axes>"
      ]
     },
     "metadata": {
      "needs_background": "light"
     },
     "output_type": "display_data"
    }
   ],
   "source": [
    "plt.figure(figsize=(12,8));\n",
    "plt.plot(Oil_Rate);#[:251,:1000]);\n",
    "plt.xlim([835,875])\n",
    "#plt.ylim([0,1400])"
   ]
  },
  {
   "cell_type": "code",
   "execution_count": 47,
   "metadata": {},
   "outputs": [
    {
     "data": {
      "image/png": "[encoded data removed]",
      "text/plain": [
       "<Figure size 864x576 with 1 Axes>"
      ]
     },
     "metadata": {
      "needs_background": "light"
     },
     "output_type": "display_data"
    }
   ],
   "source": [
    "plt.figure(figsize=(12,8));\n",
    "plt.hist(Oil_Rate,bins=20);\n",
    "#plt.xlim(left=0,right=0.1)\n",
    "#plt.xlim([0,0.1])\n",
    "#plt.ylim([0,400])"
   ]
  },
  {
   "cell_type": "code",
   "execution_count": null,
   "metadata": {},
   "outputs": [],
   "source": []
  }
 ],
 "metadata": {
  "kernelspec": {
   "display_name": "Python 3",
   "language": "python",
   "name": "python3"
  },
  "language_info": {
   "codemirror_mode": {
    "name": "ipython",
    "version": 3
   },
   "file_extension": ".py",
   "mimetype": "text/x-python",
   "name": "python",
   "nbconvert_exporter": "python",
   "pygments_lexer": "ipython3",
   "version": "3.8.5"
  }
 },
 "nbformat": 4,
 "nbformat_minor": 4
}

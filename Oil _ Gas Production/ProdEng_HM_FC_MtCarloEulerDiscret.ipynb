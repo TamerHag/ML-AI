{
 "cells": [
  {
   "cell_type": "code",
   "execution_count": 1,
   "metadata": {},
   "outputs": [],
   "source": [
    "import pandas as pd\n",
    "import numpy as np"
   ]
  },
  {
   "cell_type": "code",
   "execution_count": 2,
   "metadata": {},
   "outputs": [],
   "source": [
    "import seaborn as sns  \n",
    "import matplotlib.pyplot as plt\n",
    "from scipy.stats import norm\n",
    "# might be needed depending on your version of Jupyter\n",
    "%matplotlib inline"
   ]
  },
  {
   "cell_type": "code",
   "execution_count": 3,
   "metadata": {},
   "outputs": [],
   "source": [
    "df = pd.read_csv('../Oil & Gas Production/Pandey_Ch07_Production_Engineering_Code/data/Well_Monthly_ProdT.csv')"
   ]
  },
  {
   "cell_type": "code",
   "execution_count": 4,
   "metadata": {},
   "outputs": [
    {
     "name": "stdout",
     "output_type": "stream",
     "text": [
      "<class 'pandas.core.frame.DataFrame'>\n",
      "RangeIndex: 528 entries, 0 to 527\n",
      "Data columns (total 2 columns):\n",
      " #   Column      Non-Null Count  Dtype \n",
      "---  ------      --------------  ----- \n",
      " 0   START_DATE  528 non-null    object\n",
      " 1   OIL         528 non-null    int64 \n",
      "dtypes: int64(1), object(1)\n",
      "memory usage: 8.4+ KB\n"
     ]
    }
   ],
   "source": [
    "df.info()"
   ]
  },
  {
   "cell_type": "code",
   "execution_count": 5,
   "metadata": {},
   "outputs": [
    {
     "data": {
      "text/plain": [
       "START_DATE    0\n",
       "OIL           0\n",
       "dtype: int64"
      ]
     },
     "execution_count": 5,
     "metadata": {},
     "output_type": "execute_result"
    }
   ],
   "source": [
    "df.isnull().sum()"
   ]
  },
  {
   "cell_type": "code",
   "execution_count": 6,
   "metadata": {
    "scrolled": true
   },
   "outputs": [
    {
     "data": {
      "text/html": [
       "<div>\n",
       "<style scoped>\n",
       "    .dataframe tbody tr th:only-of-type {\n",
       "        vertical-align: middle;\n",
       "    }\n",
       "\n",
       "    .dataframe tbody tr th {\n",
       "        vertical-align: top;\n",
       "    }\n",
       "\n",
       "    .dataframe thead th {\n",
       "        text-align: right;\n",
       "    }\n",
       "</style>\n",
       "<table border=\"1\" class=\"dataframe\">\n",
       "  <thead>\n",
       "    <tr style=\"text-align: right;\">\n",
       "      <th></th>\n",
       "      <th>START_DATE</th>\n",
       "      <th>OIL</th>\n",
       "    </tr>\n",
       "  </thead>\n",
       "  <tbody>\n",
       "    <tr>\n",
       "      <th>0</th>\n",
       "      <td>1974-01-01</td>\n",
       "      <td>7134368</td>\n",
       "    </tr>\n",
       "    <tr>\n",
       "      <th>1</th>\n",
       "      <td>1974-01-02</td>\n",
       "      <td>9528303</td>\n",
       "    </tr>\n",
       "    <tr>\n",
       "      <th>2</th>\n",
       "      <td>1974-01-03</td>\n",
       "      <td>12263786</td>\n",
       "    </tr>\n",
       "    <tr>\n",
       "      <th>3</th>\n",
       "      <td>1974-01-04</td>\n",
       "      <td>13153821</td>\n",
       "    </tr>\n",
       "    <tr>\n",
       "      <th>4</th>\n",
       "      <td>1974-01-05</td>\n",
       "      <td>12240857</td>\n",
       "    </tr>\n",
       "  </tbody>\n",
       "</table>\n",
       "</div>"
      ],
      "text/plain": [
       "   START_DATE       OIL\n",
       "0  1974-01-01   7134368\n",
       "1  1974-01-02   9528303\n",
       "2  1974-01-03  12263786\n",
       "3  1974-01-04  13153821\n",
       "4  1974-01-05  12240857"
      ]
     },
     "execution_count": 6,
     "metadata": {},
     "output_type": "execute_result"
    }
   ],
   "source": [
    "df.head()"
   ]
  },
  {
   "cell_type": "code",
   "execution_count": 7,
   "metadata": {},
   "outputs": [
    {
     "data": {
      "text/html": [
       "<div>\n",
       "<style scoped>\n",
       "    .dataframe tbody tr th:only-of-type {\n",
       "        vertical-align: middle;\n",
       "    }\n",
       "\n",
       "    .dataframe tbody tr th {\n",
       "        vertical-align: top;\n",
       "    }\n",
       "\n",
       "    .dataframe thead th {\n",
       "        text-align: right;\n",
       "    }\n",
       "</style>\n",
       "<table border=\"1\" class=\"dataframe\">\n",
       "  <thead>\n",
       "    <tr style=\"text-align: right;\">\n",
       "      <th></th>\n",
       "      <th>START_DATE</th>\n",
       "      <th>OIL</th>\n",
       "    </tr>\n",
       "  </thead>\n",
       "  <tbody>\n",
       "    <tr>\n",
       "      <th>0</th>\n",
       "      <td>1974-01-01</td>\n",
       "      <td>7134368</td>\n",
       "    </tr>\n",
       "    <tr>\n",
       "      <th>1</th>\n",
       "      <td>1974-01-02</td>\n",
       "      <td>9528303</td>\n",
       "    </tr>\n",
       "    <tr>\n",
       "      <th>2</th>\n",
       "      <td>1974-01-03</td>\n",
       "      <td>12263786</td>\n",
       "    </tr>\n",
       "    <tr>\n",
       "      <th>3</th>\n",
       "      <td>1974-01-04</td>\n",
       "      <td>13153821</td>\n",
       "    </tr>\n",
       "    <tr>\n",
       "      <th>4</th>\n",
       "      <td>1974-01-05</td>\n",
       "      <td>12240857</td>\n",
       "    </tr>\n",
       "    <tr>\n",
       "      <th>...</th>\n",
       "      <td>...</td>\n",
       "      <td>...</td>\n",
       "    </tr>\n",
       "    <tr>\n",
       "      <th>523</th>\n",
       "      <td>2017-01-08</td>\n",
       "      <td>8450763</td>\n",
       "    </tr>\n",
       "    <tr>\n",
       "      <th>524</th>\n",
       "      <td>2017-01-09</td>\n",
       "      <td>8168717</td>\n",
       "    </tr>\n",
       "    <tr>\n",
       "      <th>525</th>\n",
       "      <td>2017-01-10</td>\n",
       "      <td>8668929</td>\n",
       "    </tr>\n",
       "    <tr>\n",
       "      <th>526</th>\n",
       "      <td>2017-01-11</td>\n",
       "      <td>8452498</td>\n",
       "    </tr>\n",
       "    <tr>\n",
       "      <th>527</th>\n",
       "      <td>2017-01-12</td>\n",
       "      <td>8607196</td>\n",
       "    </tr>\n",
       "  </tbody>\n",
       "</table>\n",
       "<p>528 rows × 2 columns</p>\n",
       "</div>"
      ],
      "text/plain": [
       "     START_DATE       OIL\n",
       "0    1974-01-01   7134368\n",
       "1    1974-01-02   9528303\n",
       "2    1974-01-03  12263786\n",
       "3    1974-01-04  13153821\n",
       "4    1974-01-05  12240857\n",
       "..          ...       ...\n",
       "523  2017-01-08   8450763\n",
       "524  2017-01-09   8168717\n",
       "525  2017-01-10   8668929\n",
       "526  2017-01-11   8452498\n",
       "527  2017-01-12   8607196\n",
       "\n",
       "[528 rows x 2 columns]"
      ]
     },
     "execution_count": 7,
     "metadata": {},
     "output_type": "execute_result"
    }
   ],
   "source": [
    "df"
   ]
  },
  {
   "cell_type": "code",
   "execution_count": 8,
   "metadata": {},
   "outputs": [
    {
     "data": {
      "text/plain": [
       "OIL    1.0\n",
       "Name: OIL, dtype: float64"
      ]
     },
     "execution_count": 8,
     "metadata": {},
     "output_type": "execute_result"
    }
   ],
   "source": [
    "df.corr()['OIL'].sort_values()"
   ]
  },
  {
   "cell_type": "code",
   "execution_count": 9,
   "metadata": {},
   "outputs": [],
   "source": [
    "#df.corr()['GAS'].sort_values()"
   ]
  },
  {
   "cell_type": "code",
   "execution_count": 10,
   "metadata": {},
   "outputs": [],
   "source": [
    "#df.corr()['WATER'].sort_values()"
   ]
  },
  {
   "cell_type": "code",
   "execution_count": 11,
   "metadata": {},
   "outputs": [
    {
     "data": {
      "text/html": [
       "<div>\n",
       "<style scoped>\n",
       "    .dataframe tbody tr th:only-of-type {\n",
       "        vertical-align: middle;\n",
       "    }\n",
       "\n",
       "    .dataframe tbody tr th {\n",
       "        vertical-align: top;\n",
       "    }\n",
       "\n",
       "    .dataframe thead th {\n",
       "        text-align: right;\n",
       "    }\n",
       "</style>\n",
       "<table border=\"1\" class=\"dataframe\">\n",
       "  <thead>\n",
       "    <tr style=\"text-align: right;\">\n",
       "      <th></th>\n",
       "      <th>OIL</th>\n",
       "    </tr>\n",
       "  </thead>\n",
       "  <tbody>\n",
       "    <tr>\n",
       "      <th>OIL</th>\n",
       "      <td>1.0</td>\n",
       "    </tr>\n",
       "  </tbody>\n",
       "</table>\n",
       "</div>"
      ],
      "text/plain": [
       "     OIL\n",
       "OIL  1.0"
      ]
     },
     "execution_count": 11,
     "metadata": {},
     "output_type": "execute_result"
    }
   ],
   "source": [
    "df.corr()"
   ]
  },
  {
   "cell_type": "code",
   "execution_count": 12,
   "metadata": {},
   "outputs": [],
   "source": [
    "from datetime import datetime\n",
    "import statsmodels.api as sm"
   ]
  },
  {
   "cell_type": "code",
   "execution_count": 13,
   "metadata": {},
   "outputs": [],
   "source": [
    "df.set_index('START_DATE',inplace=True)"
   ]
  },
  {
   "cell_type": "code",
   "execution_count": 14,
   "metadata": {},
   "outputs": [
    {
     "data": {
      "text/html": [
       "<div>\n",
       "<style scoped>\n",
       "    .dataframe tbody tr th:only-of-type {\n",
       "        vertical-align: middle;\n",
       "    }\n",
       "\n",
       "    .dataframe tbody tr th {\n",
       "        vertical-align: top;\n",
       "    }\n",
       "\n",
       "    .dataframe thead th {\n",
       "        text-align: right;\n",
       "    }\n",
       "</style>\n",
       "<table border=\"1\" class=\"dataframe\">\n",
       "  <thead>\n",
       "    <tr style=\"text-align: right;\">\n",
       "      <th></th>\n",
       "      <th>OIL</th>\n",
       "    </tr>\n",
       "    <tr>\n",
       "      <th>START_DATE</th>\n",
       "      <th></th>\n",
       "    </tr>\n",
       "  </thead>\n",
       "  <tbody>\n",
       "    <tr>\n",
       "      <th>1974-01-01</th>\n",
       "      <td>7134368</td>\n",
       "    </tr>\n",
       "    <tr>\n",
       "      <th>1974-01-02</th>\n",
       "      <td>9528303</td>\n",
       "    </tr>\n",
       "    <tr>\n",
       "      <th>1974-01-03</th>\n",
       "      <td>12263786</td>\n",
       "    </tr>\n",
       "    <tr>\n",
       "      <th>1974-01-04</th>\n",
       "      <td>13153821</td>\n",
       "    </tr>\n",
       "    <tr>\n",
       "      <th>1974-01-05</th>\n",
       "      <td>12240857</td>\n",
       "    </tr>\n",
       "    <tr>\n",
       "      <th>...</th>\n",
       "      <td>...</td>\n",
       "    </tr>\n",
       "    <tr>\n",
       "      <th>2017-01-08</th>\n",
       "      <td>8450763</td>\n",
       "    </tr>\n",
       "    <tr>\n",
       "      <th>2017-01-09</th>\n",
       "      <td>8168717</td>\n",
       "    </tr>\n",
       "    <tr>\n",
       "      <th>2017-01-10</th>\n",
       "      <td>8668929</td>\n",
       "    </tr>\n",
       "    <tr>\n",
       "      <th>2017-01-11</th>\n",
       "      <td>8452498</td>\n",
       "    </tr>\n",
       "    <tr>\n",
       "      <th>2017-01-12</th>\n",
       "      <td>8607196</td>\n",
       "    </tr>\n",
       "  </tbody>\n",
       "</table>\n",
       "<p>528 rows × 1 columns</p>\n",
       "</div>"
      ],
      "text/plain": [
       "                 OIL\n",
       "START_DATE          \n",
       "1974-01-01   7134368\n",
       "1974-01-02   9528303\n",
       "1974-01-03  12263786\n",
       "1974-01-04  13153821\n",
       "1974-01-05  12240857\n",
       "...              ...\n",
       "2017-01-08   8450763\n",
       "2017-01-09   8168717\n",
       "2017-01-10   8668929\n",
       "2017-01-11   8452498\n",
       "2017-01-12   8607196\n",
       "\n",
       "[528 rows x 1 columns]"
      ]
     },
     "execution_count": 14,
     "metadata": {},
     "output_type": "execute_result"
    }
   ],
   "source": [
    "df"
   ]
  },
  {
   "cell_type": "code",
   "execution_count": 15,
   "metadata": {},
   "outputs": [],
   "source": [
    "#df = df.drop('WATER',axis=1)"
   ]
  },
  {
   "cell_type": "code",
   "execution_count": 16,
   "metadata": {},
   "outputs": [],
   "source": [
    "#df = df.drop('UWI',axis=1)"
   ]
  },
  {
   "cell_type": "code",
   "execution_count": 17,
   "metadata": {},
   "outputs": [],
   "source": [
    "#df = df.drop('GAS',axis=1)"
   ]
  },
  {
   "cell_type": "code",
   "execution_count": 18,
   "metadata": {},
   "outputs": [
    {
     "data": {
      "text/html": [
       "<div>\n",
       "<style scoped>\n",
       "    .dataframe tbody tr th:only-of-type {\n",
       "        vertical-align: middle;\n",
       "    }\n",
       "\n",
       "    .dataframe tbody tr th {\n",
       "        vertical-align: top;\n",
       "    }\n",
       "\n",
       "    .dataframe thead th {\n",
       "        text-align: right;\n",
       "    }\n",
       "</style>\n",
       "<table border=\"1\" class=\"dataframe\">\n",
       "  <thead>\n",
       "    <tr style=\"text-align: right;\">\n",
       "      <th></th>\n",
       "      <th>OIL</th>\n",
       "    </tr>\n",
       "    <tr>\n",
       "      <th>START_DATE</th>\n",
       "      <th></th>\n",
       "    </tr>\n",
       "  </thead>\n",
       "  <tbody>\n",
       "    <tr>\n",
       "      <th>1974-01-01</th>\n",
       "      <td>7134368</td>\n",
       "    </tr>\n",
       "    <tr>\n",
       "      <th>1974-01-02</th>\n",
       "      <td>9528303</td>\n",
       "    </tr>\n",
       "    <tr>\n",
       "      <th>1974-01-03</th>\n",
       "      <td>12263786</td>\n",
       "    </tr>\n",
       "    <tr>\n",
       "      <th>1974-01-04</th>\n",
       "      <td>13153821</td>\n",
       "    </tr>\n",
       "    <tr>\n",
       "      <th>1974-01-05</th>\n",
       "      <td>12240857</td>\n",
       "    </tr>\n",
       "    <tr>\n",
       "      <th>...</th>\n",
       "      <td>...</td>\n",
       "    </tr>\n",
       "    <tr>\n",
       "      <th>2017-01-08</th>\n",
       "      <td>8450763</td>\n",
       "    </tr>\n",
       "    <tr>\n",
       "      <th>2017-01-09</th>\n",
       "      <td>8168717</td>\n",
       "    </tr>\n",
       "    <tr>\n",
       "      <th>2017-01-10</th>\n",
       "      <td>8668929</td>\n",
       "    </tr>\n",
       "    <tr>\n",
       "      <th>2017-01-11</th>\n",
       "      <td>8452498</td>\n",
       "    </tr>\n",
       "    <tr>\n",
       "      <th>2017-01-12</th>\n",
       "      <td>8607196</td>\n",
       "    </tr>\n",
       "  </tbody>\n",
       "</table>\n",
       "<p>528 rows × 1 columns</p>\n",
       "</div>"
      ],
      "text/plain": [
       "                 OIL\n",
       "START_DATE          \n",
       "1974-01-01   7134368\n",
       "1974-01-02   9528303\n",
       "1974-01-03  12263786\n",
       "1974-01-04  13153821\n",
       "1974-01-05  12240857\n",
       "...              ...\n",
       "2017-01-08   8450763\n",
       "2017-01-09   8168717\n",
       "2017-01-10   8668929\n",
       "2017-01-11   8452498\n",
       "2017-01-12   8607196\n",
       "\n",
       "[528 rows x 1 columns]"
      ]
     },
     "execution_count": 18,
     "metadata": {},
     "output_type": "execute_result"
    }
   ],
   "source": [
    "df"
   ]
  },
  {
   "cell_type": "code",
   "execution_count": 19,
   "metadata": {},
   "outputs": [],
   "source": [
    "from scipy import stats\n",
    "import statsmodels.api as sm"
   ]
  },
  {
   "cell_type": "code",
   "execution_count": 20,
   "metadata": {},
   "outputs": [],
   "source": [
    "#df=df.replace(0, np.nan)"
   ]
  },
  {
   "cell_type": "code",
   "execution_count": 21,
   "metadata": {},
   "outputs": [],
   "source": [
    "#df=df.replace(0, np.nan).dropna(subset=[\"OIL\"], how=\"all\")"
   ]
  },
  {
   "cell_type": "code",
   "execution_count": 22,
   "metadata": {},
   "outputs": [
    {
     "data": {
      "text/html": [
       "<div>\n",
       "<style scoped>\n",
       "    .dataframe tbody tr th:only-of-type {\n",
       "        vertical-align: middle;\n",
       "    }\n",
       "\n",
       "    .dataframe tbody tr th {\n",
       "        vertical-align: top;\n",
       "    }\n",
       "\n",
       "    .dataframe thead th {\n",
       "        text-align: right;\n",
       "    }\n",
       "</style>\n",
       "<table border=\"1\" class=\"dataframe\">\n",
       "  <thead>\n",
       "    <tr style=\"text-align: right;\">\n",
       "      <th></th>\n",
       "      <th>OIL</th>\n",
       "    </tr>\n",
       "    <tr>\n",
       "      <th>START_DATE</th>\n",
       "      <th></th>\n",
       "    </tr>\n",
       "  </thead>\n",
       "  <tbody>\n",
       "    <tr>\n",
       "      <th>1974-01-01</th>\n",
       "      <td>7134368</td>\n",
       "    </tr>\n",
       "    <tr>\n",
       "      <th>1974-01-02</th>\n",
       "      <td>9528303</td>\n",
       "    </tr>\n",
       "    <tr>\n",
       "      <th>1974-01-03</th>\n",
       "      <td>12263786</td>\n",
       "    </tr>\n",
       "    <tr>\n",
       "      <th>1974-01-04</th>\n",
       "      <td>13153821</td>\n",
       "    </tr>\n",
       "    <tr>\n",
       "      <th>1974-01-05</th>\n",
       "      <td>12240857</td>\n",
       "    </tr>\n",
       "    <tr>\n",
       "      <th>...</th>\n",
       "      <td>...</td>\n",
       "    </tr>\n",
       "    <tr>\n",
       "      <th>2017-01-08</th>\n",
       "      <td>8450763</td>\n",
       "    </tr>\n",
       "    <tr>\n",
       "      <th>2017-01-09</th>\n",
       "      <td>8168717</td>\n",
       "    </tr>\n",
       "    <tr>\n",
       "      <th>2017-01-10</th>\n",
       "      <td>8668929</td>\n",
       "    </tr>\n",
       "    <tr>\n",
       "      <th>2017-01-11</th>\n",
       "      <td>8452498</td>\n",
       "    </tr>\n",
       "    <tr>\n",
       "      <th>2017-01-12</th>\n",
       "      <td>8607196</td>\n",
       "    </tr>\n",
       "  </tbody>\n",
       "</table>\n",
       "<p>528 rows × 1 columns</p>\n",
       "</div>"
      ],
      "text/plain": [
       "                 OIL\n",
       "START_DATE          \n",
       "1974-01-01   7134368\n",
       "1974-01-02   9528303\n",
       "1974-01-03  12263786\n",
       "1974-01-04  13153821\n",
       "1974-01-05  12240857\n",
       "...              ...\n",
       "2017-01-08   8450763\n",
       "2017-01-09   8168717\n",
       "2017-01-10   8668929\n",
       "2017-01-11   8452498\n",
       "2017-01-12   8607196\n",
       "\n",
       "[528 rows x 1 columns]"
      ]
     },
     "execution_count": 22,
     "metadata": {},
     "output_type": "execute_result"
    }
   ],
   "source": [
    "df"
   ]
  },
  {
   "cell_type": "code",
   "execution_count": 23,
   "metadata": {},
   "outputs": [
    {
     "data": {
      "text/html": [
       "<div>\n",
       "<style scoped>\n",
       "    .dataframe tbody tr th:only-of-type {\n",
       "        vertical-align: middle;\n",
       "    }\n",
       "\n",
       "    .dataframe tbody tr th {\n",
       "        vertical-align: top;\n",
       "    }\n",
       "\n",
       "    .dataframe thead th {\n",
       "        text-align: right;\n",
       "    }\n",
       "</style>\n",
       "<table border=\"1\" class=\"dataframe\">\n",
       "  <thead>\n",
       "    <tr style=\"text-align: right;\">\n",
       "      <th></th>\n",
       "      <th>OIL</th>\n",
       "    </tr>\n",
       "    <tr>\n",
       "      <th>START_DATE</th>\n",
       "      <th></th>\n",
       "    </tr>\n",
       "  </thead>\n",
       "  <tbody>\n",
       "    <tr>\n",
       "      <th>1974-01-01</th>\n",
       "      <td>NaN</td>\n",
       "    </tr>\n",
       "    <tr>\n",
       "      <th>1974-01-02</th>\n",
       "      <td>0.289343</td>\n",
       "    </tr>\n",
       "    <tr>\n",
       "      <th>1974-01-03</th>\n",
       "      <td>0.252384</td>\n",
       "    </tr>\n",
       "    <tr>\n",
       "      <th>1974-01-04</th>\n",
       "      <td>0.070062</td>\n",
       "    </tr>\n",
       "    <tr>\n",
       "      <th>1974-01-05</th>\n",
       "      <td>-0.071933</td>\n",
       "    </tr>\n",
       "    <tr>\n",
       "      <th>...</th>\n",
       "      <td>...</td>\n",
       "    </tr>\n",
       "    <tr>\n",
       "      <th>2017-01-08</th>\n",
       "      <td>0.008805</td>\n",
       "    </tr>\n",
       "    <tr>\n",
       "      <th>2017-01-09</th>\n",
       "      <td>-0.033945</td>\n",
       "    </tr>\n",
       "    <tr>\n",
       "      <th>2017-01-10</th>\n",
       "      <td>0.059433</td>\n",
       "    </tr>\n",
       "    <tr>\n",
       "      <th>2017-01-11</th>\n",
       "      <td>-0.025283</td>\n",
       "    </tr>\n",
       "    <tr>\n",
       "      <th>2017-01-12</th>\n",
       "      <td>0.018137</td>\n",
       "    </tr>\n",
       "  </tbody>\n",
       "</table>\n",
       "<p>528 rows × 1 columns</p>\n",
       "</div>"
      ],
      "text/plain": [
       "                 OIL\n",
       "START_DATE          \n",
       "1974-01-01       NaN\n",
       "1974-01-02  0.289343\n",
       "1974-01-03  0.252384\n",
       "1974-01-04  0.070062\n",
       "1974-01-05 -0.071933\n",
       "...              ...\n",
       "2017-01-08  0.008805\n",
       "2017-01-09 -0.033945\n",
       "2017-01-10  0.059433\n",
       "2017-01-11 -0.025283\n",
       "2017-01-12  0.018137\n",
       "\n",
       "[528 rows x 1 columns]"
      ]
     },
     "execution_count": 23,
     "metadata": {},
     "output_type": "execute_result"
    }
   ],
   "source": [
    "log_returns=np.log(1+df.pct_change())\n",
    "log_returns"
   ]
  },
  {
   "cell_type": "code",
   "execution_count": 24,
   "metadata": {},
   "outputs": [],
   "source": [
    "#log_returns=log_returns.replace([np.inf, -np.inf], np.nan)"
   ]
  },
  {
   "cell_type": "code",
   "execution_count": 25,
   "metadata": {},
   "outputs": [],
   "source": [
    "#df=df.dropna(subset=[\"OIL\"], how=\"all\")"
   ]
  },
  {
   "cell_type": "code",
   "execution_count": 26,
   "metadata": {},
   "outputs": [
    {
     "data": {
      "text/html": [
       "<div>\n",
       "<style scoped>\n",
       "    .dataframe tbody tr th:only-of-type {\n",
       "        vertical-align: middle;\n",
       "    }\n",
       "\n",
       "    .dataframe tbody tr th {\n",
       "        vertical-align: top;\n",
       "    }\n",
       "\n",
       "    .dataframe thead th {\n",
       "        text-align: right;\n",
       "    }\n",
       "</style>\n",
       "<table border=\"1\" class=\"dataframe\">\n",
       "  <thead>\n",
       "    <tr style=\"text-align: right;\">\n",
       "      <th></th>\n",
       "      <th>OIL</th>\n",
       "    </tr>\n",
       "    <tr>\n",
       "      <th>START_DATE</th>\n",
       "      <th></th>\n",
       "    </tr>\n",
       "  </thead>\n",
       "  <tbody>\n",
       "    <tr>\n",
       "      <th>1974-01-01</th>\n",
       "      <td>NaN</td>\n",
       "    </tr>\n",
       "    <tr>\n",
       "      <th>1974-01-02</th>\n",
       "      <td>0.289343</td>\n",
       "    </tr>\n",
       "    <tr>\n",
       "      <th>1974-01-03</th>\n",
       "      <td>0.252384</td>\n",
       "    </tr>\n",
       "    <tr>\n",
       "      <th>1974-01-04</th>\n",
       "      <td>0.070062</td>\n",
       "    </tr>\n",
       "    <tr>\n",
       "      <th>1974-01-05</th>\n",
       "      <td>-0.071933</td>\n",
       "    </tr>\n",
       "    <tr>\n",
       "      <th>...</th>\n",
       "      <td>...</td>\n",
       "    </tr>\n",
       "    <tr>\n",
       "      <th>2017-01-08</th>\n",
       "      <td>0.008805</td>\n",
       "    </tr>\n",
       "    <tr>\n",
       "      <th>2017-01-09</th>\n",
       "      <td>-0.033945</td>\n",
       "    </tr>\n",
       "    <tr>\n",
       "      <th>2017-01-10</th>\n",
       "      <td>0.059433</td>\n",
       "    </tr>\n",
       "    <tr>\n",
       "      <th>2017-01-11</th>\n",
       "      <td>-0.025283</td>\n",
       "    </tr>\n",
       "    <tr>\n",
       "      <th>2017-01-12</th>\n",
       "      <td>0.018137</td>\n",
       "    </tr>\n",
       "  </tbody>\n",
       "</table>\n",
       "<p>528 rows × 1 columns</p>\n",
       "</div>"
      ],
      "text/plain": [
       "                 OIL\n",
       "START_DATE          \n",
       "1974-01-01       NaN\n",
       "1974-01-02  0.289343\n",
       "1974-01-03  0.252384\n",
       "1974-01-04  0.070062\n",
       "1974-01-05 -0.071933\n",
       "...              ...\n",
       "2017-01-08  0.008805\n",
       "2017-01-09 -0.033945\n",
       "2017-01-10  0.059433\n",
       "2017-01-11 -0.025283\n",
       "2017-01-12  0.018137\n",
       "\n",
       "[528 rows x 1 columns]"
      ]
     },
     "execution_count": 26,
     "metadata": {},
     "output_type": "execute_result"
    }
   ],
   "source": [
    "log_returns"
   ]
  },
  {
   "cell_type": "code",
   "execution_count": 27,
   "metadata": {},
   "outputs": [
    {
     "data": {
      "text/plain": [
       "OIL    7.646428\n",
       "dtype: float64"
      ]
     },
     "execution_count": 27,
     "metadata": {},
     "output_type": "execute_result"
    }
   ],
   "source": [
    "stdev=np.sqrt(log_returns.std()*365)\n",
    "stdev"
   ]
  },
  {
   "cell_type": "code",
   "execution_count": 28,
   "metadata": {},
   "outputs": [
    {
     "data": {
      "text/plain": [
       "array([7.64642818])"
      ]
     },
     "execution_count": 28,
     "metadata": {},
     "output_type": "execute_result"
    }
   ],
   "source": [
    "stdev=stdev.values\n",
    "stdev"
   ]
  },
  {
   "cell_type": "code",
   "execution_count": 29,
   "metadata": {},
   "outputs": [],
   "source": [
    "T=1\n",
    "t_intervals=1000\n",
    "delta_T=T/t_intervals\n",
    "iterations=10"
   ]
  },
  {
   "cell_type": "code",
   "execution_count": 30,
   "metadata": {},
   "outputs": [],
   "source": [
    "Z=np.random.standard_normal((t_intervals+1,iterations))\n",
    "S=np.zeros_like(Z)\n",
    "S0=df.iloc[-1]\n",
    "S[0]=S0"
   ]
  },
  {
   "cell_type": "code",
   "execution_count": 31,
   "metadata": {},
   "outputs": [],
   "source": [
    "r=0.025"
   ]
  },
  {
   "cell_type": "code",
   "execution_count": 32,
   "metadata": {},
   "outputs": [],
   "source": [
    "for t in range(1,t_intervals+1):\n",
    "    S[t]=S[t-1]*np.exp(((r-(0.5*pow(stdev,2)))*delta_T)+(stdev*Z[t]*(np.sqrt(delta_T))))"
   ]
  },
  {
   "cell_type": "code",
   "execution_count": 33,
   "metadata": {},
   "outputs": [
    {
     "data": {
      "text/plain": [
       "array([[8.60719600e+06, 8.60719600e+06, 8.60719600e+06, ...,\n",
       "        8.60719600e+06, 8.60719600e+06, 8.60719600e+06],\n",
       "       [7.54606801e+06, 7.70528793e+06, 8.94491231e+06, ...,\n",
       "        8.80470512e+06, 7.26653857e+06, 9.84665640e+06],\n",
       "       [7.88735044e+06, 7.55558918e+06, 8.74296841e+06, ...,\n",
       "        9.77330723e+06, 6.46522977e+06, 1.36983514e+07],\n",
       "       ...,\n",
       "       [2.15289261e-09, 2.66049104e-05, 7.19426937e-09, ...,\n",
       "        5.64905786e-05, 8.99586747e-02, 3.27102175e-07],\n",
       "       [1.93310856e-09, 2.03031881e-05, 7.58234444e-09, ...,\n",
       "        4.85881258e-05, 8.60697709e-02, 4.10554661e-07],\n",
       "       [2.50836493e-09, 1.71882319e-05, 8.60805637e-09, ...,\n",
       "        3.16592216e-05, 8.48183752e-02, 3.95367953e-07]])"
      ]
     },
     "execution_count": 33,
     "metadata": {},
     "output_type": "execute_result"
    }
   ],
   "source": [
    "S"
   ]
  },
  {
   "cell_type": "code",
   "execution_count": 34,
   "metadata": {},
   "outputs": [
    {
     "data": {
      "text/plain": [
       "(1001, 10)"
      ]
     },
     "execution_count": 34,
     "metadata": {},
     "output_type": "execute_result"
    }
   ],
   "source": [
    "S.shape"
   ]
  },
  {
   "cell_type": "code",
   "execution_count": 36,
   "metadata": {},
   "outputs": [
    {
     "data": {
      "text/plain": [
       "(0.0, 50.0)"
      ]
     },
     "execution_count": 36,
     "metadata": {},
     "output_type": "execute_result"
    },
    {
     "data": {
      "image/png": "[encoded data removed]",
      "text/plain": [
       "<Figure size 864x576 with 1 Axes>"
      ]
     },
     "metadata": {
      "needs_background": "light"
     },
     "output_type": "display_data"
    }
   ],
   "source": [
    "plt.figure(figsize=(12,8));\n",
    "plt.plot(S[:,:50]);\n",
    "plt.plot(S);\n",
    "plt.xlim(left=0,right=50)"
   ]
  },
  {
   "cell_type": "code",
   "execution_count": null,
   "metadata": {},
   "outputs": [],
   "source": []
  }
 ],
 "metadata": {
  "kernelspec": {
   "display_name": "Python 3",
   "language": "python",
   "name": "python3"
  },
  "language_info": {
   "codemirror_mode": {
    "name": "ipython",
    "version": 3
   },
   "file_extension": ".py",
   "mimetype": "text/x-python",
   "name": "python",
   "nbconvert_exporter": "python",
   "pygments_lexer": "ipython3",
   "version": "3.8.5"
  }
 },
 "nbformat": 4,
 "nbformat_minor": 4
}

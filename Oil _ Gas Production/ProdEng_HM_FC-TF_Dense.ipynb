{
 "cells": [
  {
   "cell_type": "code",
   "execution_count": 49,
   "metadata": {},
   "outputs": [],
   "source": [
    "import pandas as pd\n",
    "import numpy as np"
   ]
  },
  {
   "cell_type": "code",
   "execution_count": 50,
   "metadata": {},
   "outputs": [],
   "source": [
    "import seaborn as sns  \n",
    "import matplotlib.pyplot as plt\n",
    "\n",
    "# might be needed depending on your version of Jupyter\n",
    "%matplotlib inline"
   ]
  },
  {
   "cell_type": "code",
   "execution_count": 103,
   "metadata": {},
   "outputs": [],
   "source": [
    "df = pd.read_csv('../Oil & Gas Production/Pandey_Ch07_Production_Engineering_Code/data/Well_Monthly_ProdT.csv')"
   ]
  },
  {
   "cell_type": "code",
   "execution_count": 104,
   "metadata": {},
   "outputs": [
    {
     "name": "stdout",
     "output_type": "stream",
     "text": [
      "<class 'pandas.core.frame.DataFrame'>\n",
      "RangeIndex: 528 entries, 0 to 527\n",
      "Data columns (total 2 columns):\n",
      " #   Column      Non-Null Count  Dtype \n",
      "---  ------      --------------  ----- \n",
      " 0   START_DATE  528 non-null    object\n",
      " 1   OIL         528 non-null    int64 \n",
      "dtypes: int64(1), object(1)\n",
      "memory usage: 8.4+ KB\n"
     ]
    }
   ],
   "source": [
    "df.info()"
   ]
  },
  {
   "cell_type": "code",
   "execution_count": 105,
   "metadata": {},
   "outputs": [
    {
     "data": {
      "text/plain": [
       "START_DATE    0\n",
       "OIL           0\n",
       "dtype: int64"
      ]
     },
     "execution_count": 105,
     "metadata": {},
     "output_type": "execute_result"
    }
   ],
   "source": [
    "df.isnull().sum()"
   ]
  },
  {
   "cell_type": "code",
   "execution_count": 106,
   "metadata": {
    "scrolled": true
   },
   "outputs": [
    {
     "data": {
      "text/html": [
       "<div>\n",
       "<style scoped>\n",
       "    .dataframe tbody tr th:only-of-type {\n",
       "        vertical-align: middle;\n",
       "    }\n",
       "\n",
       "    .dataframe tbody tr th {\n",
       "        vertical-align: top;\n",
       "    }\n",
       "\n",
       "    .dataframe thead th {\n",
       "        text-align: right;\n",
       "    }\n",
       "</style>\n",
       "<table border=\"1\" class=\"dataframe\">\n",
       "  <thead>\n",
       "    <tr style=\"text-align: right;\">\n",
       "      <th></th>\n",
       "      <th>START_DATE</th>\n",
       "      <th>OIL</th>\n",
       "    </tr>\n",
       "  </thead>\n",
       "  <tbody>\n",
       "    <tr>\n",
       "      <th>0</th>\n",
       "      <td>1974-01-01</td>\n",
       "      <td>7134368</td>\n",
       "    </tr>\n",
       "    <tr>\n",
       "      <th>1</th>\n",
       "      <td>1974-01-02</td>\n",
       "      <td>9528303</td>\n",
       "    </tr>\n",
       "    <tr>\n",
       "      <th>2</th>\n",
       "      <td>1974-01-03</td>\n",
       "      <td>12263786</td>\n",
       "    </tr>\n",
       "    <tr>\n",
       "      <th>3</th>\n",
       "      <td>1974-01-04</td>\n",
       "      <td>13153821</td>\n",
       "    </tr>\n",
       "    <tr>\n",
       "      <th>4</th>\n",
       "      <td>1974-01-05</td>\n",
       "      <td>12240857</td>\n",
       "    </tr>\n",
       "  </tbody>\n",
       "</table>\n",
       "</div>"
      ],
      "text/plain": [
       "   START_DATE       OIL\n",
       "0  1974-01-01   7134368\n",
       "1  1974-01-02   9528303\n",
       "2  1974-01-03  12263786\n",
       "3  1974-01-04  13153821\n",
       "4  1974-01-05  12240857"
      ]
     },
     "execution_count": 106,
     "metadata": {},
     "output_type": "execute_result"
    }
   ],
   "source": [
    "df.head()"
   ]
  },
  {
   "cell_type": "code",
   "execution_count": 107,
   "metadata": {},
   "outputs": [
    {
     "data": {
      "text/html": [
       "<div>\n",
       "<style scoped>\n",
       "    .dataframe tbody tr th:only-of-type {\n",
       "        vertical-align: middle;\n",
       "    }\n",
       "\n",
       "    .dataframe tbody tr th {\n",
       "        vertical-align: top;\n",
       "    }\n",
       "\n",
       "    .dataframe thead th {\n",
       "        text-align: right;\n",
       "    }\n",
       "</style>\n",
       "<table border=\"1\" class=\"dataframe\">\n",
       "  <thead>\n",
       "    <tr style=\"text-align: right;\">\n",
       "      <th></th>\n",
       "      <th>START_DATE</th>\n",
       "      <th>OIL</th>\n",
       "    </tr>\n",
       "  </thead>\n",
       "  <tbody>\n",
       "    <tr>\n",
       "      <th>0</th>\n",
       "      <td>1974-01-01</td>\n",
       "      <td>7134368</td>\n",
       "    </tr>\n",
       "    <tr>\n",
       "      <th>1</th>\n",
       "      <td>1974-01-02</td>\n",
       "      <td>9528303</td>\n",
       "    </tr>\n",
       "    <tr>\n",
       "      <th>2</th>\n",
       "      <td>1974-01-03</td>\n",
       "      <td>12263786</td>\n",
       "    </tr>\n",
       "    <tr>\n",
       "      <th>3</th>\n",
       "      <td>1974-01-04</td>\n",
       "      <td>13153821</td>\n",
       "    </tr>\n",
       "    <tr>\n",
       "      <th>4</th>\n",
       "      <td>1974-01-05</td>\n",
       "      <td>12240857</td>\n",
       "    </tr>\n",
       "    <tr>\n",
       "      <th>...</th>\n",
       "      <td>...</td>\n",
       "      <td>...</td>\n",
       "    </tr>\n",
       "    <tr>\n",
       "      <th>523</th>\n",
       "      <td>2017-01-08</td>\n",
       "      <td>8450763</td>\n",
       "    </tr>\n",
       "    <tr>\n",
       "      <th>524</th>\n",
       "      <td>2017-01-09</td>\n",
       "      <td>8168717</td>\n",
       "    </tr>\n",
       "    <tr>\n",
       "      <th>525</th>\n",
       "      <td>2017-01-10</td>\n",
       "      <td>8668929</td>\n",
       "    </tr>\n",
       "    <tr>\n",
       "      <th>526</th>\n",
       "      <td>2017-01-11</td>\n",
       "      <td>8452498</td>\n",
       "    </tr>\n",
       "    <tr>\n",
       "      <th>527</th>\n",
       "      <td>2017-01-12</td>\n",
       "      <td>8607196</td>\n",
       "    </tr>\n",
       "  </tbody>\n",
       "</table>\n",
       "<p>528 rows × 2 columns</p>\n",
       "</div>"
      ],
      "text/plain": [
       "     START_DATE       OIL\n",
       "0    1974-01-01   7134368\n",
       "1    1974-01-02   9528303\n",
       "2    1974-01-03  12263786\n",
       "3    1974-01-04  13153821\n",
       "4    1974-01-05  12240857\n",
       "..          ...       ...\n",
       "523  2017-01-08   8450763\n",
       "524  2017-01-09   8168717\n",
       "525  2017-01-10   8668929\n",
       "526  2017-01-11   8452498\n",
       "527  2017-01-12   8607196\n",
       "\n",
       "[528 rows x 2 columns]"
      ]
     },
     "execution_count": 107,
     "metadata": {},
     "output_type": "execute_result"
    }
   ],
   "source": [
    "df"
   ]
  },
  {
   "cell_type": "code",
   "execution_count": 108,
   "metadata": {},
   "outputs": [
    {
     "data": {
      "text/plain": [
       "OIL    1.0\n",
       "Name: OIL, dtype: float64"
      ]
     },
     "execution_count": 108,
     "metadata": {},
     "output_type": "execute_result"
    }
   ],
   "source": [
    "df.corr()['OIL'].sort_values()"
   ]
  },
  {
   "cell_type": "code",
   "execution_count": 109,
   "metadata": {},
   "outputs": [],
   "source": [
    "#df.corr()['GAS'].sort_values()"
   ]
  },
  {
   "cell_type": "code",
   "execution_count": 110,
   "metadata": {},
   "outputs": [],
   "source": [
    "#df.corr()['WATER'].sort_values()"
   ]
  },
  {
   "cell_type": "code",
   "execution_count": 111,
   "metadata": {},
   "outputs": [
    {
     "data": {
      "text/html": [
       "<div>\n",
       "<style scoped>\n",
       "    .dataframe tbody tr th:only-of-type {\n",
       "        vertical-align: middle;\n",
       "    }\n",
       "\n",
       "    .dataframe tbody tr th {\n",
       "        vertical-align: top;\n",
       "    }\n",
       "\n",
       "    .dataframe thead th {\n",
       "        text-align: right;\n",
       "    }\n",
       "</style>\n",
       "<table border=\"1\" class=\"dataframe\">\n",
       "  <thead>\n",
       "    <tr style=\"text-align: right;\">\n",
       "      <th></th>\n",
       "      <th>OIL</th>\n",
       "    </tr>\n",
       "  </thead>\n",
       "  <tbody>\n",
       "    <tr>\n",
       "      <th>OIL</th>\n",
       "      <td>1.0</td>\n",
       "    </tr>\n",
       "  </tbody>\n",
       "</table>\n",
       "</div>"
      ],
      "text/plain": [
       "     OIL\n",
       "OIL  1.0"
      ]
     },
     "execution_count": 111,
     "metadata": {},
     "output_type": "execute_result"
    }
   ],
   "source": [
    "df.corr()"
   ]
  },
  {
   "cell_type": "code",
   "execution_count": 112,
   "metadata": {},
   "outputs": [],
   "source": [
    "#df = df.drop('WATER',axis=1)"
   ]
  },
  {
   "cell_type": "code",
   "execution_count": 113,
   "metadata": {},
   "outputs": [
    {
     "data": {
      "text/html": [
       "<div>\n",
       "<style scoped>\n",
       "    .dataframe tbody tr th:only-of-type {\n",
       "        vertical-align: middle;\n",
       "    }\n",
       "\n",
       "    .dataframe tbody tr th {\n",
       "        vertical-align: top;\n",
       "    }\n",
       "\n",
       "    .dataframe thead th {\n",
       "        text-align: right;\n",
       "    }\n",
       "</style>\n",
       "<table border=\"1\" class=\"dataframe\">\n",
       "  <thead>\n",
       "    <tr style=\"text-align: right;\">\n",
       "      <th></th>\n",
       "      <th>START_DATE</th>\n",
       "      <th>OIL</th>\n",
       "    </tr>\n",
       "  </thead>\n",
       "  <tbody>\n",
       "    <tr>\n",
       "      <th>0</th>\n",
       "      <td>1974-01-01</td>\n",
       "      <td>7134368</td>\n",
       "    </tr>\n",
       "    <tr>\n",
       "      <th>1</th>\n",
       "      <td>1974-01-02</td>\n",
       "      <td>9528303</td>\n",
       "    </tr>\n",
       "    <tr>\n",
       "      <th>2</th>\n",
       "      <td>1974-01-03</td>\n",
       "      <td>12263786</td>\n",
       "    </tr>\n",
       "    <tr>\n",
       "      <th>3</th>\n",
       "      <td>1974-01-04</td>\n",
       "      <td>13153821</td>\n",
       "    </tr>\n",
       "    <tr>\n",
       "      <th>4</th>\n",
       "      <td>1974-01-05</td>\n",
       "      <td>12240857</td>\n",
       "    </tr>\n",
       "    <tr>\n",
       "      <th>...</th>\n",
       "      <td>...</td>\n",
       "      <td>...</td>\n",
       "    </tr>\n",
       "    <tr>\n",
       "      <th>523</th>\n",
       "      <td>2017-01-08</td>\n",
       "      <td>8450763</td>\n",
       "    </tr>\n",
       "    <tr>\n",
       "      <th>524</th>\n",
       "      <td>2017-01-09</td>\n",
       "      <td>8168717</td>\n",
       "    </tr>\n",
       "    <tr>\n",
       "      <th>525</th>\n",
       "      <td>2017-01-10</td>\n",
       "      <td>8668929</td>\n",
       "    </tr>\n",
       "    <tr>\n",
       "      <th>526</th>\n",
       "      <td>2017-01-11</td>\n",
       "      <td>8452498</td>\n",
       "    </tr>\n",
       "    <tr>\n",
       "      <th>527</th>\n",
       "      <td>2017-01-12</td>\n",
       "      <td>8607196</td>\n",
       "    </tr>\n",
       "  </tbody>\n",
       "</table>\n",
       "<p>528 rows × 2 columns</p>\n",
       "</div>"
      ],
      "text/plain": [
       "     START_DATE       OIL\n",
       "0    1974-01-01   7134368\n",
       "1    1974-01-02   9528303\n",
       "2    1974-01-03  12263786\n",
       "3    1974-01-04  13153821\n",
       "4    1974-01-05  12240857\n",
       "..          ...       ...\n",
       "523  2017-01-08   8450763\n",
       "524  2017-01-09   8168717\n",
       "525  2017-01-10   8668929\n",
       "526  2017-01-11   8452498\n",
       "527  2017-01-12   8607196\n",
       "\n",
       "[528 rows x 2 columns]"
      ]
     },
     "execution_count": 113,
     "metadata": {},
     "output_type": "execute_result"
    }
   ],
   "source": [
    "df"
   ]
  },
  {
   "cell_type": "code",
   "execution_count": 114,
   "metadata": {},
   "outputs": [
    {
     "data": {
      "text/plain": [
       "OIL    1.0\n",
       "Name: OIL, dtype: float64"
      ]
     },
     "execution_count": 114,
     "metadata": {},
     "output_type": "execute_result"
    }
   ],
   "source": [
    "df.corr()['OIL'].sort_values()"
   ]
  },
  {
   "cell_type": "code",
   "execution_count": 115,
   "metadata": {},
   "outputs": [],
   "source": [
    "#df=df.replace(0, np.nan)"
   ]
  },
  {
   "cell_type": "code",
   "execution_count": 116,
   "metadata": {},
   "outputs": [],
   "source": [
    "#df=df.replace(0, np.nan).dropna(subset=[\"OIL\"], how=\"all\")"
   ]
  },
  {
   "cell_type": "code",
   "execution_count": 117,
   "metadata": {},
   "outputs": [],
   "source": [
    "#df = df.drop('GAS',axis=1)"
   ]
  },
  {
   "cell_type": "code",
   "execution_count": 118,
   "metadata": {},
   "outputs": [],
   "source": [
    "#df = df.drop('UWI',axis=1)"
   ]
  },
  {
   "cell_type": "code",
   "execution_count": 119,
   "metadata": {},
   "outputs": [],
   "source": [
    "#print(\"Mean of OIL column per GAS\")\n",
    "#df.groupby('GAS').mean()['OIL']"
   ]
  },
  {
   "cell_type": "code",
   "execution_count": 120,
   "metadata": {},
   "outputs": [],
   "source": [
    "# Mean of OIL column per GAS\n",
    "#GAS_avg=df.groupby('GAS').mean()['OIL']"
   ]
  },
  {
   "cell_type": "code",
   "execution_count": 121,
   "metadata": {},
   "outputs": [],
   "source": [
    "#GAS_avg[1]"
   ]
  },
  {
   "cell_type": "code",
   "execution_count": 122,
   "metadata": {},
   "outputs": [],
   "source": [
    "#def fill_OIL(GAS,OIL):\n",
    "#    '''\n",
    "#    Accepts the GAS and OIL values for the row.\n",
    "#    Checks if the OIL is NaN , if so, it returns the avg OIL value\n",
    "#    for the corresponding GAS value for that row.\n",
    "    \n",
    "#    GAS_avg here should be a Series or dictionary containing the mapping of the\n",
    "#    groupby averages of OIL per GAS values.\n",
    "#    '''\n",
    "#    if np.isnan(OIL):\n",
    "#        return GAS_avg[GAS]\n",
    "#    else:\n",
    "#        return OIL"
   ]
  },
  {
   "cell_type": "code",
   "execution_count": 123,
   "metadata": {},
   "outputs": [],
   "source": [
    "#df['OIL'] = df.apply(lambda x: fill_OIL(x['GAS'], x['OIL']), axis=1)"
   ]
  },
  {
   "cell_type": "code",
   "execution_count": 124,
   "metadata": {},
   "outputs": [
    {
     "data": {
      "text/plain": [
       "0       7134368\n",
       "1       9528303\n",
       "2      12263786\n",
       "3      13153821\n",
       "4      12240857\n",
       "         ...   \n",
       "523     8450763\n",
       "524     8168717\n",
       "525     8668929\n",
       "526     8452498\n",
       "527     8607196\n",
       "Name: OIL, Length: 528, dtype: int64"
      ]
     },
     "execution_count": 124,
     "metadata": {},
     "output_type": "execute_result"
    }
   ],
   "source": [
    "df['OIL']"
   ]
  },
  {
   "cell_type": "code",
   "execution_count": 125,
   "metadata": {},
   "outputs": [
    {
     "data": {
      "text/html": [
       "<div>\n",
       "<style scoped>\n",
       "    .dataframe tbody tr th:only-of-type {\n",
       "        vertical-align: middle;\n",
       "    }\n",
       "\n",
       "    .dataframe tbody tr th {\n",
       "        vertical-align: top;\n",
       "    }\n",
       "\n",
       "    .dataframe thead th {\n",
       "        text-align: right;\n",
       "    }\n",
       "</style>\n",
       "<table border=\"1\" class=\"dataframe\">\n",
       "  <thead>\n",
       "    <tr style=\"text-align: right;\">\n",
       "      <th></th>\n",
       "      <th>START_DATE</th>\n",
       "      <th>OIL</th>\n",
       "    </tr>\n",
       "  </thead>\n",
       "  <tbody>\n",
       "    <tr>\n",
       "      <th>0</th>\n",
       "      <td>1974-01-01</td>\n",
       "      <td>7134368</td>\n",
       "    </tr>\n",
       "    <tr>\n",
       "      <th>1</th>\n",
       "      <td>1974-01-02</td>\n",
       "      <td>9528303</td>\n",
       "    </tr>\n",
       "    <tr>\n",
       "      <th>2</th>\n",
       "      <td>1974-01-03</td>\n",
       "      <td>12263786</td>\n",
       "    </tr>\n",
       "    <tr>\n",
       "      <th>3</th>\n",
       "      <td>1974-01-04</td>\n",
       "      <td>13153821</td>\n",
       "    </tr>\n",
       "    <tr>\n",
       "      <th>4</th>\n",
       "      <td>1974-01-05</td>\n",
       "      <td>12240857</td>\n",
       "    </tr>\n",
       "    <tr>\n",
       "      <th>...</th>\n",
       "      <td>...</td>\n",
       "      <td>...</td>\n",
       "    </tr>\n",
       "    <tr>\n",
       "      <th>523</th>\n",
       "      <td>2017-01-08</td>\n",
       "      <td>8450763</td>\n",
       "    </tr>\n",
       "    <tr>\n",
       "      <th>524</th>\n",
       "      <td>2017-01-09</td>\n",
       "      <td>8168717</td>\n",
       "    </tr>\n",
       "    <tr>\n",
       "      <th>525</th>\n",
       "      <td>2017-01-10</td>\n",
       "      <td>8668929</td>\n",
       "    </tr>\n",
       "    <tr>\n",
       "      <th>526</th>\n",
       "      <td>2017-01-11</td>\n",
       "      <td>8452498</td>\n",
       "    </tr>\n",
       "    <tr>\n",
       "      <th>527</th>\n",
       "      <td>2017-01-12</td>\n",
       "      <td>8607196</td>\n",
       "    </tr>\n",
       "  </tbody>\n",
       "</table>\n",
       "<p>528 rows × 2 columns</p>\n",
       "</div>"
      ],
      "text/plain": [
       "     START_DATE       OIL\n",
       "0    1974-01-01   7134368\n",
       "1    1974-01-02   9528303\n",
       "2    1974-01-03  12263786\n",
       "3    1974-01-04  13153821\n",
       "4    1974-01-05  12240857\n",
       "..          ...       ...\n",
       "523  2017-01-08   8450763\n",
       "524  2017-01-09   8168717\n",
       "525  2017-01-10   8668929\n",
       "526  2017-01-11   8452498\n",
       "527  2017-01-12   8607196\n",
       "\n",
       "[528 rows x 2 columns]"
      ]
     },
     "execution_count": 125,
     "metadata": {},
     "output_type": "execute_result"
    }
   ],
   "source": [
    "df"
   ]
  },
  {
   "cell_type": "code",
   "execution_count": 126,
   "metadata": {},
   "outputs": [],
   "source": [
    "#df['GAS'].mean()\n",
    "#GAS_mean=df['GAS'].mean()"
   ]
  },
  {
   "cell_type": "code",
   "execution_count": 127,
   "metadata": {},
   "outputs": [],
   "source": [
    "#df['GAS'].mean()"
   ]
  },
  {
   "cell_type": "code",
   "execution_count": 128,
   "metadata": {},
   "outputs": [],
   "source": [
    "#GAS_mean"
   ]
  },
  {
   "cell_type": "code",
   "execution_count": 129,
   "metadata": {},
   "outputs": [],
   "source": [
    "#df['GAS']=df['GAS'].fillna(value=GAS_mean)"
   ]
  },
  {
   "cell_type": "code",
   "execution_count": 130,
   "metadata": {},
   "outputs": [],
   "source": [
    "#df['GAS']"
   ]
  },
  {
   "cell_type": "code",
   "execution_count": 131,
   "metadata": {},
   "outputs": [
    {
     "data": {
      "text/html": [
       "<div>\n",
       "<style scoped>\n",
       "    .dataframe tbody tr th:only-of-type {\n",
       "        vertical-align: middle;\n",
       "    }\n",
       "\n",
       "    .dataframe tbody tr th {\n",
       "        vertical-align: top;\n",
       "    }\n",
       "\n",
       "    .dataframe thead th {\n",
       "        text-align: right;\n",
       "    }\n",
       "</style>\n",
       "<table border=\"1\" class=\"dataframe\">\n",
       "  <thead>\n",
       "    <tr style=\"text-align: right;\">\n",
       "      <th></th>\n",
       "      <th>START_DATE</th>\n",
       "      <th>OIL</th>\n",
       "    </tr>\n",
       "  </thead>\n",
       "  <tbody>\n",
       "    <tr>\n",
       "      <th>0</th>\n",
       "      <td>1974-01-01</td>\n",
       "      <td>7134368</td>\n",
       "    </tr>\n",
       "    <tr>\n",
       "      <th>1</th>\n",
       "      <td>1974-01-02</td>\n",
       "      <td>9528303</td>\n",
       "    </tr>\n",
       "    <tr>\n",
       "      <th>2</th>\n",
       "      <td>1974-01-03</td>\n",
       "      <td>12263786</td>\n",
       "    </tr>\n",
       "    <tr>\n",
       "      <th>3</th>\n",
       "      <td>1974-01-04</td>\n",
       "      <td>13153821</td>\n",
       "    </tr>\n",
       "    <tr>\n",
       "      <th>4</th>\n",
       "      <td>1974-01-05</td>\n",
       "      <td>12240857</td>\n",
       "    </tr>\n",
       "    <tr>\n",
       "      <th>...</th>\n",
       "      <td>...</td>\n",
       "      <td>...</td>\n",
       "    </tr>\n",
       "    <tr>\n",
       "      <th>523</th>\n",
       "      <td>2017-01-08</td>\n",
       "      <td>8450763</td>\n",
       "    </tr>\n",
       "    <tr>\n",
       "      <th>524</th>\n",
       "      <td>2017-01-09</td>\n",
       "      <td>8168717</td>\n",
       "    </tr>\n",
       "    <tr>\n",
       "      <th>525</th>\n",
       "      <td>2017-01-10</td>\n",
       "      <td>8668929</td>\n",
       "    </tr>\n",
       "    <tr>\n",
       "      <th>526</th>\n",
       "      <td>2017-01-11</td>\n",
       "      <td>8452498</td>\n",
       "    </tr>\n",
       "    <tr>\n",
       "      <th>527</th>\n",
       "      <td>2017-01-12</td>\n",
       "      <td>8607196</td>\n",
       "    </tr>\n",
       "  </tbody>\n",
       "</table>\n",
       "<p>528 rows × 2 columns</p>\n",
       "</div>"
      ],
      "text/plain": [
       "     START_DATE       OIL\n",
       "0    1974-01-01   7134368\n",
       "1    1974-01-02   9528303\n",
       "2    1974-01-03  12263786\n",
       "3    1974-01-04  13153821\n",
       "4    1974-01-05  12240857\n",
       "..          ...       ...\n",
       "523  2017-01-08   8450763\n",
       "524  2017-01-09   8168717\n",
       "525  2017-01-10   8668929\n",
       "526  2017-01-11   8452498\n",
       "527  2017-01-12   8607196\n",
       "\n",
       "[528 rows x 2 columns]"
      ]
     },
     "execution_count": 131,
     "metadata": {},
     "output_type": "execute_result"
    }
   ],
   "source": [
    "df"
   ]
  },
  {
   "cell_type": "code",
   "execution_count": 132,
   "metadata": {},
   "outputs": [],
   "source": [
    "df['YEARS'] = df['START_DATE'].apply(lambda START_DATE:int(START_DATE[:-6]))\n",
    "df = df.drop('START_DATE',axis=1)"
   ]
  },
  {
   "cell_type": "code",
   "execution_count": 133,
   "metadata": {},
   "outputs": [],
   "source": [
    "#df.set_index('START_DATE',inplace=True)"
   ]
  },
  {
   "cell_type": "code",
   "execution_count": 134,
   "metadata": {},
   "outputs": [
    {
     "name": "stdout",
     "output_type": "stream",
     "text": [
      "<class 'pandas.core.frame.DataFrame'>\n",
      "RangeIndex: 528 entries, 0 to 527\n",
      "Data columns (total 2 columns):\n",
      " #   Column  Non-Null Count  Dtype\n",
      "---  ------  --------------  -----\n",
      " 0   OIL     528 non-null    int64\n",
      " 1   YEARS   528 non-null    int64\n",
      "dtypes: int64(2)\n",
      "memory usage: 8.4 KB\n"
     ]
    }
   ],
   "source": [
    "df.info()"
   ]
  },
  {
   "cell_type": "code",
   "execution_count": 135,
   "metadata": {},
   "outputs": [],
   "source": [
    "#dummies = pd.get_dummies(df['UWI'],drop_first=True)\n",
    "#df = df.drop(['UWI'],axis=1)\n",
    "#df = pd.concat([df,dummies],axis=1)"
   ]
  },
  {
   "cell_type": "code",
   "execution_count": 136,
   "metadata": {},
   "outputs": [
    {
     "name": "stdout",
     "output_type": "stream",
     "text": [
      "<class 'pandas.core.frame.DataFrame'>\n",
      "RangeIndex: 528 entries, 0 to 527\n",
      "Data columns (total 2 columns):\n",
      " #   Column  Non-Null Count  Dtype\n",
      "---  ------  --------------  -----\n",
      " 0   OIL     528 non-null    int64\n",
      " 1   YEARS   528 non-null    int64\n",
      "dtypes: int64(2)\n",
      "memory usage: 8.4 KB\n"
     ]
    }
   ],
   "source": [
    "df.info()"
   ]
  },
  {
   "cell_type": "code",
   "execution_count": 137,
   "metadata": {},
   "outputs": [
    {
     "data": {
      "text/html": [
       "<div>\n",
       "<style scoped>\n",
       "    .dataframe tbody tr th:only-of-type {\n",
       "        vertical-align: middle;\n",
       "    }\n",
       "\n",
       "    .dataframe tbody tr th {\n",
       "        vertical-align: top;\n",
       "    }\n",
       "\n",
       "    .dataframe thead th {\n",
       "        text-align: right;\n",
       "    }\n",
       "</style>\n",
       "<table border=\"1\" class=\"dataframe\">\n",
       "  <thead>\n",
       "    <tr style=\"text-align: right;\">\n",
       "      <th></th>\n",
       "      <th>OIL</th>\n",
       "      <th>YEARS</th>\n",
       "    </tr>\n",
       "  </thead>\n",
       "  <tbody>\n",
       "    <tr>\n",
       "      <th>0</th>\n",
       "      <td>7134368</td>\n",
       "      <td>1974</td>\n",
       "    </tr>\n",
       "    <tr>\n",
       "      <th>1</th>\n",
       "      <td>9528303</td>\n",
       "      <td>1974</td>\n",
       "    </tr>\n",
       "    <tr>\n",
       "      <th>2</th>\n",
       "      <td>12263786</td>\n",
       "      <td>1974</td>\n",
       "    </tr>\n",
       "    <tr>\n",
       "      <th>3</th>\n",
       "      <td>13153821</td>\n",
       "      <td>1974</td>\n",
       "    </tr>\n",
       "    <tr>\n",
       "      <th>4</th>\n",
       "      <td>12240857</td>\n",
       "      <td>1974</td>\n",
       "    </tr>\n",
       "    <tr>\n",
       "      <th>...</th>\n",
       "      <td>...</td>\n",
       "      <td>...</td>\n",
       "    </tr>\n",
       "    <tr>\n",
       "      <th>523</th>\n",
       "      <td>8450763</td>\n",
       "      <td>2017</td>\n",
       "    </tr>\n",
       "    <tr>\n",
       "      <th>524</th>\n",
       "      <td>8168717</td>\n",
       "      <td>2017</td>\n",
       "    </tr>\n",
       "    <tr>\n",
       "      <th>525</th>\n",
       "      <td>8668929</td>\n",
       "      <td>2017</td>\n",
       "    </tr>\n",
       "    <tr>\n",
       "      <th>526</th>\n",
       "      <td>8452498</td>\n",
       "      <td>2017</td>\n",
       "    </tr>\n",
       "    <tr>\n",
       "      <th>527</th>\n",
       "      <td>8607196</td>\n",
       "      <td>2017</td>\n",
       "    </tr>\n",
       "  </tbody>\n",
       "</table>\n",
       "<p>528 rows × 2 columns</p>\n",
       "</div>"
      ],
      "text/plain": [
       "          OIL  YEARS\n",
       "0     7134368   1974\n",
       "1     9528303   1974\n",
       "2    12263786   1974\n",
       "3    13153821   1974\n",
       "4    12240857   1974\n",
       "..        ...    ...\n",
       "523   8450763   2017\n",
       "524   8168717   2017\n",
       "525   8668929   2017\n",
       "526   8452498   2017\n",
       "527   8607196   2017\n",
       "\n",
       "[528 rows x 2 columns]"
      ]
     },
     "execution_count": 137,
     "metadata": {},
     "output_type": "execute_result"
    }
   ],
   "source": [
    "df"
   ]
  },
  {
   "cell_type": "code",
   "execution_count": 138,
   "metadata": {},
   "outputs": [
    {
     "name": "stdout",
     "output_type": "stream",
     "text": [
      "<class 'pandas.core.frame.DataFrame'>\n",
      "RangeIndex: 528 entries, 0 to 527\n",
      "Data columns (total 2 columns):\n",
      " #   Column  Non-Null Count  Dtype\n",
      "---  ------  --------------  -----\n",
      " 0   OIL     528 non-null    int64\n",
      " 1   YEARS   528 non-null    int64\n",
      "dtypes: int64(2)\n",
      "memory usage: 8.4 KB\n"
     ]
    }
   ],
   "source": [
    "df.info()"
   ]
  },
  {
   "cell_type": "code",
   "execution_count": 139,
   "metadata": {},
   "outputs": [
    {
     "data": {
      "text/plain": [
       "OIL      0\n",
       "YEARS    0\n",
       "dtype: int64"
      ]
     },
     "execution_count": 139,
     "metadata": {},
     "output_type": "execute_result"
    }
   ],
   "source": [
    "df.isnull().sum()"
   ]
  },
  {
   "cell_type": "code",
   "execution_count": 140,
   "metadata": {},
   "outputs": [],
   "source": [
    "X = df.drop('OIL',axis=1)\n",
    "y = df['OIL']"
   ]
  },
  {
   "cell_type": "code",
   "execution_count": 141,
   "metadata": {},
   "outputs": [
    {
     "data": {
      "text/html": [
       "<div>\n",
       "<style scoped>\n",
       "    .dataframe tbody tr th:only-of-type {\n",
       "        vertical-align: middle;\n",
       "    }\n",
       "\n",
       "    .dataframe tbody tr th {\n",
       "        vertical-align: top;\n",
       "    }\n",
       "\n",
       "    .dataframe thead th {\n",
       "        text-align: right;\n",
       "    }\n",
       "</style>\n",
       "<table border=\"1\" class=\"dataframe\">\n",
       "  <thead>\n",
       "    <tr style=\"text-align: right;\">\n",
       "      <th></th>\n",
       "      <th>OIL</th>\n",
       "      <th>YEARS</th>\n",
       "    </tr>\n",
       "  </thead>\n",
       "  <tbody>\n",
       "    <tr>\n",
       "      <th>0</th>\n",
       "      <td>7134368</td>\n",
       "      <td>1974</td>\n",
       "    </tr>\n",
       "    <tr>\n",
       "      <th>1</th>\n",
       "      <td>9528303</td>\n",
       "      <td>1974</td>\n",
       "    </tr>\n",
       "    <tr>\n",
       "      <th>2</th>\n",
       "      <td>12263786</td>\n",
       "      <td>1974</td>\n",
       "    </tr>\n",
       "    <tr>\n",
       "      <th>3</th>\n",
       "      <td>13153821</td>\n",
       "      <td>1974</td>\n",
       "    </tr>\n",
       "    <tr>\n",
       "      <th>4</th>\n",
       "      <td>12240857</td>\n",
       "      <td>1974</td>\n",
       "    </tr>\n",
       "    <tr>\n",
       "      <th>...</th>\n",
       "      <td>...</td>\n",
       "      <td>...</td>\n",
       "    </tr>\n",
       "    <tr>\n",
       "      <th>523</th>\n",
       "      <td>8450763</td>\n",
       "      <td>2017</td>\n",
       "    </tr>\n",
       "    <tr>\n",
       "      <th>524</th>\n",
       "      <td>8168717</td>\n",
       "      <td>2017</td>\n",
       "    </tr>\n",
       "    <tr>\n",
       "      <th>525</th>\n",
       "      <td>8668929</td>\n",
       "      <td>2017</td>\n",
       "    </tr>\n",
       "    <tr>\n",
       "      <th>526</th>\n",
       "      <td>8452498</td>\n",
       "      <td>2017</td>\n",
       "    </tr>\n",
       "    <tr>\n",
       "      <th>527</th>\n",
       "      <td>8607196</td>\n",
       "      <td>2017</td>\n",
       "    </tr>\n",
       "  </tbody>\n",
       "</table>\n",
       "<p>528 rows × 2 columns</p>\n",
       "</div>"
      ],
      "text/plain": [
       "          OIL  YEARS\n",
       "0     7134368   1974\n",
       "1     9528303   1974\n",
       "2    12263786   1974\n",
       "3    13153821   1974\n",
       "4    12240857   1974\n",
       "..        ...    ...\n",
       "523   8450763   2017\n",
       "524   8168717   2017\n",
       "525   8668929   2017\n",
       "526   8452498   2017\n",
       "527   8607196   2017\n",
       "\n",
       "[528 rows x 2 columns]"
      ]
     },
     "execution_count": 141,
     "metadata": {},
     "output_type": "execute_result"
    }
   ],
   "source": [
    "df"
   ]
  },
  {
   "cell_type": "code",
   "execution_count": 142,
   "metadata": {},
   "outputs": [],
   "source": [
    "from sklearn.model_selection import train_test_split"
   ]
  },
  {
   "cell_type": "code",
   "execution_count": 143,
   "metadata": {
    "scrolled": true
   },
   "outputs": [],
   "source": [
    "X_train, X_test, y_train, y_test = train_test_split(X,y,test_size=0.4)"
   ]
  },
  {
   "cell_type": "code",
   "execution_count": 144,
   "metadata": {},
   "outputs": [],
   "source": [
    "from sklearn.preprocessing import MinMaxScaler"
   ]
  },
  {
   "cell_type": "code",
   "execution_count": 145,
   "metadata": {},
   "outputs": [],
   "source": [
    "#from sklearn.preprocessing import StandardScaler"
   ]
  },
  {
   "cell_type": "code",
   "execution_count": 146,
   "metadata": {},
   "outputs": [],
   "source": [
    "scaler = MinMaxScaler()"
   ]
  },
  {
   "cell_type": "code",
   "execution_count": 147,
   "metadata": {},
   "outputs": [
    {
     "data": {
      "text/plain": [
       "(316, 1)"
      ]
     },
     "execution_count": 147,
     "metadata": {},
     "output_type": "execute_result"
    }
   ],
   "source": [
    "X_train.shape"
   ]
  },
  {
   "cell_type": "code",
   "execution_count": 148,
   "metadata": {},
   "outputs": [
    {
     "data": {
      "text/plain": [
       "(212, 1)"
      ]
     },
     "execution_count": 148,
     "metadata": {},
     "output_type": "execute_result"
    }
   ],
   "source": [
    "X_test.shape"
   ]
  },
  {
   "cell_type": "code",
   "execution_count": 149,
   "metadata": {},
   "outputs": [
    {
     "data": {
      "text/plain": [
       "(316,)"
      ]
     },
     "execution_count": 149,
     "metadata": {},
     "output_type": "execute_result"
    }
   ],
   "source": [
    "y_train.shape"
   ]
  },
  {
   "cell_type": "code",
   "execution_count": 150,
   "metadata": {},
   "outputs": [
    {
     "data": {
      "text/plain": [
       "(212,)"
      ]
     },
     "execution_count": 150,
     "metadata": {},
     "output_type": "execute_result"
    }
   ],
   "source": [
    "y_test.shape"
   ]
  },
  {
   "cell_type": "code",
   "execution_count": 151,
   "metadata": {},
   "outputs": [
    {
     "data": {
      "text/plain": [
       "MinMaxScaler()"
      ]
     },
     "execution_count": 151,
     "metadata": {},
     "output_type": "execute_result"
    }
   ],
   "source": [
    "scaler.fit(X_train)"
   ]
  },
  {
   "cell_type": "code",
   "execution_count": 152,
   "metadata": {},
   "outputs": [],
   "source": [
    "X_train = scaler.transform(X_train)"
   ]
  },
  {
   "cell_type": "code",
   "execution_count": 153,
   "metadata": {},
   "outputs": [],
   "source": [
    "X_test = scaler.transform(X_test)"
   ]
  },
  {
   "cell_type": "code",
   "execution_count": 154,
   "metadata": {},
   "outputs": [],
   "source": [
    "import tensorflow as tf\n",
    "from tensorflow.keras.models import Sequential\n",
    "from tensorflow.keras.layers import Dense, Activation, Dropout\n",
    "from tensorflow.keras.optimizers import Adam\n",
    "from tensorflow.keras.constraints import max_norm\n",
    "from tensorflow.keras.models import load_model\n",
    "from tensorflow.keras.layers import Dropout"
   ]
  },
  {
   "cell_type": "code",
   "execution_count": 155,
   "metadata": {},
   "outputs": [],
   "source": [
    "#model = Sequential()\n",
    "\n",
    "# https://stats.stackexchange.com/questions/181/how-to-choose-the-number-of-hidden-layers-and-nodes-in-a-feedforward-neural-netw\n",
    "\n",
    "# input layer\n",
    "#model.add(Dense(8,activation='relu'))\n",
    "#model.add(Dropout(0.2))\n",
    "\n",
    "# hidden layer\n",
    "#model.add(Dense(8,activation='relu'))\n",
    "#model.add(Dropout(0.2))\n",
    "\n",
    "# hidden layer\n",
    "#model.add(Dense(8,activation='relu'))\n",
    "#model.add(Dropout(0.2))\n",
    "\n",
    "# output layer\n",
    "#model.add(Dense(1)#,activation='sigmoid'))\n",
    "\n",
    "# Compile model\n",
    "#model.compile(optimizer='adam',loss='mse',metrics='accuracy')"
   ]
  },
  {
   "cell_type": "code",
   "execution_count": 156,
   "metadata": {},
   "outputs": [],
   "source": [
    "#from tensorflow.keras.layers import LSTM"
   ]
  },
  {
   "cell_type": "code",
   "execution_count": 161,
   "metadata": {},
   "outputs": [],
   "source": [
    "model = Sequential()\n",
    "\n",
    "model.add(Dense(347,activation='relu'))\n",
    "model.add(Dense(177,activation='relu'))\n",
    "model.add(Dense(87,activation='relu'))\n",
    "model.add(Dense(47,activation='relu'))\n",
    "model.add(Dense(27,activation='relu'))\n",
    "model.add(Dense(17,activation='relu'))\n",
    "model.add(Dense(7,activation='relu'))\n",
    "model.add(Dense(1))\n",
    "\n",
    "model.compile(optimizer='adam',loss='mse',metrics='accuracy')"
   ]
  },
  {
   "cell_type": "code",
   "execution_count": 162,
   "metadata": {},
   "outputs": [],
   "source": [
    "#model=tf.keras.models.Sequential([\n",
    "#    tf.keras.layers.LSTM(8,activation='relu'),\n",
    "#    tf.keras.layers.LSTM(8,activation='relu'),\n",
    "#    tf.keras.layers.LSTM(8,activation='relu'),\n",
    "#    tf.keras.layers.Dense(1)\n",
    "#])\n",
    "    \n",
    "#model.compile(optimizer='SGD',loss='huber',metrics='accuracy')    "
   ]
  },
  {
   "cell_type": "code",
   "execution_count": 163,
   "metadata": {
    "scrolled": true
   },
   "outputs": [],
   "source": [
    "#model.fit(x=X_train,y=y_train.values,\n",
    "#          validation_data=(X_test,y_test.values),epochs=100)"
   ]
  },
  {
   "cell_type": "code",
   "execution_count": 165,
   "metadata": {},
   "outputs": [],
   "source": [
    "#model.summary()"
   ]
  },
  {
   "cell_type": "code",
   "execution_count": 166,
   "metadata": {},
   "outputs": [
    {
     "name": "stdout",
     "output_type": "stream",
     "text": [
      "Epoch 1/50\n",
      "10/10 [==============================] - 5s 114ms/step - loss: 66574664859648.0000 - accuracy: 0.0000e+00 - val_loss: 70480790814720.0000 - val_accuracy: 0.0000e+00\n",
      "Epoch 2/50\n",
      "10/10 [==============================] - 0s 26ms/step - loss: 66574656471040.0000 - accuracy: 0.0000e+00 - val_loss: 70480790814720.0000 - val_accuracy: 0.0000e+00\n",
      "Epoch 3/50\n",
      "10/10 [==============================] - 0s 28ms/step - loss: 66574656471040.0000 - accuracy: 0.0000e+00 - val_loss: 70480774037504.0000 - val_accuracy: 0.0000e+00\n",
      "Epoch 4/50\n",
      "10/10 [==============================] - 0s 26ms/step - loss: 66574643888128.0000 - accuracy: 0.0000e+00 - val_loss: 70480748871680.0000 - val_accuracy: 0.0000e+00\n",
      "Epoch 5/50\n",
      "10/10 [==============================] - 0s 28ms/step - loss: 66574589362176.0000 - accuracy: 0.0000e+00 - val_loss: 70480648208384.0000 - val_accuracy: 0.0000e+00\n",
      "Epoch 6/50\n",
      "10/10 [==============================] - 0s 31ms/step - loss: 66574392229888.0000 - accuracy: 0.0000e+00 - val_loss: 70480262332416.0000 - val_accuracy: 0.0000e+00\n",
      "Epoch 7/50\n",
      "10/10 [==============================] - 0s 22ms/step - loss: 66573670809600.0000 - accuracy: 0.0000e+00 - val_loss: 70478936932352.0000 - val_accuracy: 0.0000e+00\n",
      "Epoch 8/50\n",
      "10/10 [==============================] - 0s 21ms/step - loss: 66571422662656.0000 - accuracy: 0.0000e+00 - val_loss: 70474868457472.0000 - val_accuracy: 0.0000e+00\n",
      "Epoch 9/50\n",
      "10/10 [==============================] - 0s 31ms/step - loss: 66564774690816.0000 - accuracy: 0.0000e+00 - val_loss: 70463543836672.0000 - val_accuracy: 0.0000e+00\n",
      "Epoch 10/50\n",
      "10/10 [==============================] - 0s 41ms/step - loss: 66547091505152.0000 - accuracy: 0.0000e+00 - val_loss: 70434326315008.0000 - val_accuracy: 0.0000e+00\n",
      "Epoch 11/50\n",
      "10/10 [==============================] - 0s 29ms/step - loss: 66502791266304.0000 - accuracy: 0.0000e+00 - val_loss: 70364235300864.0000 - val_accuracy: 0.0000e+00\n",
      "Epoch 12/50\n",
      "10/10 [==============================] - 0s 36ms/step - loss: 66401993752576.0000 - accuracy: 0.0000e+00 - val_loss: 70206604967936.0000 - val_accuracy: 0.0000e+00\n",
      "Epoch 13/50\n",
      "10/10 [==============================] - 0s 35ms/step - loss: 66181314641920.0000 - accuracy: 0.0000e+00 - val_loss: 69871920480256.0000 - val_accuracy: 0.0000e+00\n",
      "Epoch 14/50\n",
      "10/10 [==============================] - 0s 36ms/step - loss: 65722545864704.0000 - accuracy: 0.0000e+00 - val_loss: 69198675968000.0000 - val_accuracy: 0.0000e+00\n",
      "Epoch 15/50\n",
      "10/10 [==============================] - 0s 40ms/step - loss: 64815141748736.0000 - accuracy: 0.0000e+00 - val_loss: 67905987280896.0000 - val_accuracy: 0.0000e+00\n",
      "Epoch 16/50\n",
      "10/10 [==============================] - 0s 32ms/step - loss: 63122891079680.0000 - accuracy: 0.0000e+00 - val_loss: 65537249902592.0000 - val_accuracy: 0.0000e+00\n",
      "Epoch 17/50\n",
      "10/10 [==============================] - 0s 36ms/step - loss: 60095807356928.0000 - accuracy: 0.0000e+00 - val_loss: 61419760386048.0000 - val_accuracy: 0.0000e+00\n",
      "Epoch 18/50\n",
      "10/10 [==============================] - 0s 29ms/step - loss: 54986847289344.0000 - accuracy: 0.0000e+00 - val_loss: 54681422266368.0000 - val_accuracy: 0.0000e+00\n",
      "Epoch 19/50\n",
      "10/10 [==============================] - 0s 33ms/step - loss: 46922542874624.0000 - accuracy: 0.0000e+00 - val_loss: 44527041642496.0000 - val_accuracy: 0.0000e+00\n",
      "Epoch 20/50\n",
      "10/10 [==============================] - 0s 32ms/step - loss: 35592544976896.0000 - accuracy: 0.0000e+00 - val_loss: 31035156856832.0000 - val_accuracy: 0.0000e+00\n",
      "Epoch 21/50\n",
      "10/10 [==============================] - 0s 27ms/step - loss: 22026297278464.0000 - accuracy: 0.0000e+00 - val_loss: 16996599070720.0000 - val_accuracy: 0.0000e+00\n",
      "Epoch 22/50\n",
      "10/10 [==============================] - 0s 29ms/step - loss: 10749520904192.0000 - accuracy: 0.0000e+00 - val_loss: 8948665024512.0000 - val_accuracy: 0.0000e+00\n",
      "Epoch 23/50\n",
      "10/10 [==============================] - 0s 33ms/step - loss: 7338856546304.0000 - accuracy: 0.0000e+00 - val_loss: 8601569067008.0000 - val_accuracy: 0.0000e+00\n",
      "Epoch 24/50\n",
      "10/10 [==============================] - 0s 37ms/step - loss: 7618154201088.0000 - accuracy: 0.0000e+00 - val_loss: 8235455610880.0000 - val_accuracy: 0.0000e+00\n",
      "Epoch 25/50\n",
      "10/10 [==============================] - 0s 36ms/step - loss: 7091797360640.0000 - accuracy: 0.0000e+00 - val_loss: 8155013054464.0000 - val_accuracy: 0.0000e+00\n",
      "Epoch 26/50\n",
      "10/10 [==============================] - 0s 26ms/step - loss: 6887847755776.0000 - accuracy: 0.0000e+00 - val_loss: 8064211091456.0000 - val_accuracy: 0.0000e+00\n",
      "Epoch 27/50\n",
      "10/10 [==============================] - 0s 33ms/step - loss: 6765932445696.0000 - accuracy: 0.0000e+00 - val_loss: 7849884778496.0000 - val_accuracy: 0.0000e+00\n",
      "Epoch 28/50\n",
      "10/10 [==============================] - 0s 34ms/step - loss: 6652590292992.0000 - accuracy: 0.0000e+00 - val_loss: 7699295109120.0000 - val_accuracy: 0.0000e+00\n",
      "Epoch 29/50\n",
      "10/10 [==============================] - 0s 26ms/step - loss: 6556264431616.0000 - accuracy: 0.0000e+00 - val_loss: 7606151675904.0000 - val_accuracy: 0.0000e+00\n",
      "Epoch 30/50\n",
      "10/10 [==============================] - 0s 34ms/step - loss: 6469345345536.0000 - accuracy: 0.0000e+00 - val_loss: 7509509144576.0000 - val_accuracy: 0.0000e+00\n",
      "Epoch 31/50\n",
      "10/10 [==============================] - 0s 30ms/step - loss: 6366324326400.0000 - accuracy: 0.0000e+00 - val_loss: 7381117304832.0000 - val_accuracy: 0.0000e+00\n",
      "Epoch 32/50\n",
      "10/10 [==============================] - 0s 25ms/step - loss: 6295162191872.0000 - accuracy: 0.0000e+00 - val_loss: 7246988181504.0000 - val_accuracy: 0.0000e+00\n",
      "Epoch 33/50\n",
      "10/10 [==============================] - 0s 32ms/step - loss: 6195592036352.0000 - accuracy: 0.0000e+00 - val_loss: 7185044602880.0000 - val_accuracy: 0.0000e+00\n",
      "Epoch 34/50\n",
      "10/10 [==============================] - 0s 33ms/step - loss: 6113855537152.0000 - accuracy: 0.0000e+00 - val_loss: 7044283760640.0000 - val_accuracy: 0.0000e+00\n",
      "Epoch 35/50\n",
      "10/10 [==============================] - 0s 31ms/step - loss: 6022090981376.0000 - accuracy: 0.0000e+00 - val_loss: 6939677818880.0000 - val_accuracy: 0.0000e+00\n",
      "Epoch 36/50\n",
      "10/10 [==============================] - 0s 37ms/step - loss: 5932515328000.0000 - accuracy: 0.0000e+00 - val_loss: 6872736727040.0000 - val_accuracy: 0.0000e+00\n",
      "Epoch 37/50\n",
      "10/10 [==============================] - 0s 31ms/step - loss: 5866635395072.0000 - accuracy: 0.0000e+00 - val_loss: 6793763749888.0000 - val_accuracy: 0.0000e+00\n",
      "Epoch 38/50\n",
      "10/10 [==============================] - 0s 26ms/step - loss: 5788139520000.0000 - accuracy: 0.0000e+00 - val_loss: 6623620235264.0000 - val_accuracy: 0.0000e+00\n",
      "Epoch 39/50\n",
      "10/10 [==============================] - 0s 41ms/step - loss: 5699790176256.0000 - accuracy: 0.0000e+00 - val_loss: 6536549105664.0000 - val_accuracy: 0.0000e+00\n",
      "Epoch 40/50\n",
      "10/10 [==============================] - 0s 34ms/step - loss: 5617786290176.0000 - accuracy: 0.0000e+00 - val_loss: 6480059695104.0000 - val_accuracy: 0.0000e+00\n",
      "Epoch 41/50\n",
      "10/10 [==============================] - 0s 28ms/step - loss: 5542661062656.0000 - accuracy: 0.0000e+00 - val_loss: 6381174784000.0000 - val_accuracy: 0.0000e+00\n",
      "Epoch 42/50\n",
      "10/10 [==============================] - 0s 40ms/step - loss: 5472031080448.0000 - accuracy: 0.0000e+00 - val_loss: 6262366404608.0000 - val_accuracy: 0.0000e+00\n",
      "Epoch 43/50\n",
      "10/10 [==============================] - 0s 35ms/step - loss: 5412978950144.0000 - accuracy: 0.0000e+00 - val_loss: 6214933544960.0000 - val_accuracy: 0.0000e+00\n",
      "Epoch 44/50\n",
      "10/10 [==============================] - 0s 27ms/step - loss: 5324974587904.0000 - accuracy: 0.0000e+00 - val_loss: 6084661084160.0000 - val_accuracy: 0.0000e+00\n",
      "Epoch 45/50\n",
      "10/10 [==============================] - 0s 37ms/step - loss: 5265213620224.0000 - accuracy: 0.0000e+00 - val_loss: 5980960587776.0000 - val_accuracy: 0.0000e+00\n",
      "Epoch 46/50\n",
      "10/10 [==============================] - 0s 33ms/step - loss: 5181865984000.0000 - accuracy: 0.0000e+00 - val_loss: 5942959669248.0000 - val_accuracy: 0.0000e+00\n",
      "Epoch 47/50\n",
      "10/10 [==============================] - 0s 27ms/step - loss: 5127526154240.0000 - accuracy: 0.0000e+00 - val_loss: 5884561850368.0000 - val_accuracy: 0.0000e+00\n"
     ]
    },
    {
     "name": "stdout",
     "output_type": "stream",
     "text": [
      "Epoch 48/50\n",
      "10/10 [==============================] - 0s 32ms/step - loss: 5061853839360.0000 - accuracy: 0.0000e+00 - val_loss: 5748178288640.0000 - val_accuracy: 0.0000e+00\n",
      "Epoch 49/50\n",
      "10/10 [==============================] - 0s 38ms/step - loss: 4992860160000.0000 - accuracy: 0.0000e+00 - val_loss: 5676608258048.0000 - val_accuracy: 0.0000e+00\n",
      "Epoch 50/50\n",
      "10/10 [==============================] - 0s 31ms/step - loss: 4927744638976.0000 - accuracy: 0.0000e+00 - val_loss: 5607903985664.0000 - val_accuracy: 0.0000e+00\n"
     ]
    },
    {
     "data": {
      "text/plain": [
       "<tensorflow.python.keras.callbacks.History at 0x144f9f8b0>"
      ]
     },
     "execution_count": 166,
     "metadata": {},
     "output_type": "execute_result"
    }
   ],
   "source": [
    "model.fit(x=X_train, \n",
    "          y=y_train.values, \n",
    "          epochs=50,\n",
    "          #batch_size=128,\n",
    "          validation_data=(X_test, y_test.values), \n",
    "          )"
   ]
  },
  {
   "cell_type": "code",
   "execution_count": 167,
   "metadata": {},
   "outputs": [],
   "source": [
    "#df.drop([6171,7405],inplace=None)"
   ]
  },
  {
   "cell_type": "code",
   "execution_count": 168,
   "metadata": {},
   "outputs": [
    {
     "data": {
      "text/html": [
       "<div>\n",
       "<style scoped>\n",
       "    .dataframe tbody tr th:only-of-type {\n",
       "        vertical-align: middle;\n",
       "    }\n",
       "\n",
       "    .dataframe tbody tr th {\n",
       "        vertical-align: top;\n",
       "    }\n",
       "\n",
       "    .dataframe thead th {\n",
       "        text-align: right;\n",
       "    }\n",
       "</style>\n",
       "<table border=\"1\" class=\"dataframe\">\n",
       "  <thead>\n",
       "    <tr style=\"text-align: right;\">\n",
       "      <th></th>\n",
       "      <th>loss</th>\n",
       "      <th>accuracy</th>\n",
       "      <th>val_loss</th>\n",
       "      <th>val_accuracy</th>\n",
       "    </tr>\n",
       "  </thead>\n",
       "  <tbody>\n",
       "    <tr>\n",
       "      <th>0</th>\n",
       "      <td>6.657466e+13</td>\n",
       "      <td>0.0</td>\n",
       "      <td>7.048079e+13</td>\n",
       "      <td>0.0</td>\n",
       "    </tr>\n",
       "    <tr>\n",
       "      <th>1</th>\n",
       "      <td>6.657466e+13</td>\n",
       "      <td>0.0</td>\n",
       "      <td>7.048079e+13</td>\n",
       "      <td>0.0</td>\n",
       "    </tr>\n",
       "    <tr>\n",
       "      <th>2</th>\n",
       "      <td>6.657466e+13</td>\n",
       "      <td>0.0</td>\n",
       "      <td>7.048077e+13</td>\n",
       "      <td>0.0</td>\n",
       "    </tr>\n",
       "    <tr>\n",
       "      <th>3</th>\n",
       "      <td>6.657464e+13</td>\n",
       "      <td>0.0</td>\n",
       "      <td>7.048075e+13</td>\n",
       "      <td>0.0</td>\n",
       "    </tr>\n",
       "    <tr>\n",
       "      <th>4</th>\n",
       "      <td>6.657459e+13</td>\n",
       "      <td>0.0</td>\n",
       "      <td>7.048065e+13</td>\n",
       "      <td>0.0</td>\n",
       "    </tr>\n",
       "    <tr>\n",
       "      <th>5</th>\n",
       "      <td>6.657439e+13</td>\n",
       "      <td>0.0</td>\n",
       "      <td>7.048026e+13</td>\n",
       "      <td>0.0</td>\n",
       "    </tr>\n",
       "    <tr>\n",
       "      <th>6</th>\n",
       "      <td>6.657367e+13</td>\n",
       "      <td>0.0</td>\n",
       "      <td>7.047894e+13</td>\n",
       "      <td>0.0</td>\n",
       "    </tr>\n",
       "    <tr>\n",
       "      <th>7</th>\n",
       "      <td>6.657142e+13</td>\n",
       "      <td>0.0</td>\n",
       "      <td>7.047487e+13</td>\n",
       "      <td>0.0</td>\n",
       "    </tr>\n",
       "    <tr>\n",
       "      <th>8</th>\n",
       "      <td>6.656477e+13</td>\n",
       "      <td>0.0</td>\n",
       "      <td>7.046354e+13</td>\n",
       "      <td>0.0</td>\n",
       "    </tr>\n",
       "    <tr>\n",
       "      <th>9</th>\n",
       "      <td>6.654709e+13</td>\n",
       "      <td>0.0</td>\n",
       "      <td>7.043433e+13</td>\n",
       "      <td>0.0</td>\n",
       "    </tr>\n",
       "    <tr>\n",
       "      <th>10</th>\n",
       "      <td>6.650279e+13</td>\n",
       "      <td>0.0</td>\n",
       "      <td>7.036424e+13</td>\n",
       "      <td>0.0</td>\n",
       "    </tr>\n",
       "    <tr>\n",
       "      <th>11</th>\n",
       "      <td>6.640199e+13</td>\n",
       "      <td>0.0</td>\n",
       "      <td>7.020660e+13</td>\n",
       "      <td>0.0</td>\n",
       "    </tr>\n",
       "    <tr>\n",
       "      <th>12</th>\n",
       "      <td>6.618131e+13</td>\n",
       "      <td>0.0</td>\n",
       "      <td>6.987192e+13</td>\n",
       "      <td>0.0</td>\n",
       "    </tr>\n",
       "    <tr>\n",
       "      <th>13</th>\n",
       "      <td>6.572255e+13</td>\n",
       "      <td>0.0</td>\n",
       "      <td>6.919868e+13</td>\n",
       "      <td>0.0</td>\n",
       "    </tr>\n",
       "    <tr>\n",
       "      <th>14</th>\n",
       "      <td>6.481514e+13</td>\n",
       "      <td>0.0</td>\n",
       "      <td>6.790599e+13</td>\n",
       "      <td>0.0</td>\n",
       "    </tr>\n",
       "    <tr>\n",
       "      <th>15</th>\n",
       "      <td>6.312289e+13</td>\n",
       "      <td>0.0</td>\n",
       "      <td>6.553725e+13</td>\n",
       "      <td>0.0</td>\n",
       "    </tr>\n",
       "    <tr>\n",
       "      <th>16</th>\n",
       "      <td>6.009581e+13</td>\n",
       "      <td>0.0</td>\n",
       "      <td>6.141976e+13</td>\n",
       "      <td>0.0</td>\n",
       "    </tr>\n",
       "    <tr>\n",
       "      <th>17</th>\n",
       "      <td>5.498685e+13</td>\n",
       "      <td>0.0</td>\n",
       "      <td>5.468142e+13</td>\n",
       "      <td>0.0</td>\n",
       "    </tr>\n",
       "    <tr>\n",
       "      <th>18</th>\n",
       "      <td>4.692254e+13</td>\n",
       "      <td>0.0</td>\n",
       "      <td>4.452704e+13</td>\n",
       "      <td>0.0</td>\n",
       "    </tr>\n",
       "    <tr>\n",
       "      <th>19</th>\n",
       "      <td>3.559254e+13</td>\n",
       "      <td>0.0</td>\n",
       "      <td>3.103516e+13</td>\n",
       "      <td>0.0</td>\n",
       "    </tr>\n",
       "    <tr>\n",
       "      <th>20</th>\n",
       "      <td>2.202630e+13</td>\n",
       "      <td>0.0</td>\n",
       "      <td>1.699660e+13</td>\n",
       "      <td>0.0</td>\n",
       "    </tr>\n",
       "    <tr>\n",
       "      <th>21</th>\n",
       "      <td>1.074952e+13</td>\n",
       "      <td>0.0</td>\n",
       "      <td>8.948665e+12</td>\n",
       "      <td>0.0</td>\n",
       "    </tr>\n",
       "    <tr>\n",
       "      <th>22</th>\n",
       "      <td>7.338857e+12</td>\n",
       "      <td>0.0</td>\n",
       "      <td>8.601569e+12</td>\n",
       "      <td>0.0</td>\n",
       "    </tr>\n",
       "    <tr>\n",
       "      <th>23</th>\n",
       "      <td>7.618154e+12</td>\n",
       "      <td>0.0</td>\n",
       "      <td>8.235456e+12</td>\n",
       "      <td>0.0</td>\n",
       "    </tr>\n",
       "    <tr>\n",
       "      <th>24</th>\n",
       "      <td>7.091797e+12</td>\n",
       "      <td>0.0</td>\n",
       "      <td>8.155013e+12</td>\n",
       "      <td>0.0</td>\n",
       "    </tr>\n",
       "    <tr>\n",
       "      <th>25</th>\n",
       "      <td>6.887848e+12</td>\n",
       "      <td>0.0</td>\n",
       "      <td>8.064211e+12</td>\n",
       "      <td>0.0</td>\n",
       "    </tr>\n",
       "    <tr>\n",
       "      <th>26</th>\n",
       "      <td>6.765932e+12</td>\n",
       "      <td>0.0</td>\n",
       "      <td>7.849885e+12</td>\n",
       "      <td>0.0</td>\n",
       "    </tr>\n",
       "    <tr>\n",
       "      <th>27</th>\n",
       "      <td>6.652590e+12</td>\n",
       "      <td>0.0</td>\n",
       "      <td>7.699295e+12</td>\n",
       "      <td>0.0</td>\n",
       "    </tr>\n",
       "    <tr>\n",
       "      <th>28</th>\n",
       "      <td>6.556264e+12</td>\n",
       "      <td>0.0</td>\n",
       "      <td>7.606152e+12</td>\n",
       "      <td>0.0</td>\n",
       "    </tr>\n",
       "    <tr>\n",
       "      <th>29</th>\n",
       "      <td>6.469345e+12</td>\n",
       "      <td>0.0</td>\n",
       "      <td>7.509509e+12</td>\n",
       "      <td>0.0</td>\n",
       "    </tr>\n",
       "    <tr>\n",
       "      <th>30</th>\n",
       "      <td>6.366324e+12</td>\n",
       "      <td>0.0</td>\n",
       "      <td>7.381117e+12</td>\n",
       "      <td>0.0</td>\n",
       "    </tr>\n",
       "    <tr>\n",
       "      <th>31</th>\n",
       "      <td>6.295162e+12</td>\n",
       "      <td>0.0</td>\n",
       "      <td>7.246988e+12</td>\n",
       "      <td>0.0</td>\n",
       "    </tr>\n",
       "    <tr>\n",
       "      <th>32</th>\n",
       "      <td>6.195592e+12</td>\n",
       "      <td>0.0</td>\n",
       "      <td>7.185045e+12</td>\n",
       "      <td>0.0</td>\n",
       "    </tr>\n",
       "    <tr>\n",
       "      <th>33</th>\n",
       "      <td>6.113856e+12</td>\n",
       "      <td>0.0</td>\n",
       "      <td>7.044284e+12</td>\n",
       "      <td>0.0</td>\n",
       "    </tr>\n",
       "    <tr>\n",
       "      <th>34</th>\n",
       "      <td>6.022091e+12</td>\n",
       "      <td>0.0</td>\n",
       "      <td>6.939678e+12</td>\n",
       "      <td>0.0</td>\n",
       "    </tr>\n",
       "    <tr>\n",
       "      <th>35</th>\n",
       "      <td>5.932515e+12</td>\n",
       "      <td>0.0</td>\n",
       "      <td>6.872737e+12</td>\n",
       "      <td>0.0</td>\n",
       "    </tr>\n",
       "    <tr>\n",
       "      <th>36</th>\n",
       "      <td>5.866635e+12</td>\n",
       "      <td>0.0</td>\n",
       "      <td>6.793764e+12</td>\n",
       "      <td>0.0</td>\n",
       "    </tr>\n",
       "    <tr>\n",
       "      <th>37</th>\n",
       "      <td>5.788140e+12</td>\n",
       "      <td>0.0</td>\n",
       "      <td>6.623620e+12</td>\n",
       "      <td>0.0</td>\n",
       "    </tr>\n",
       "    <tr>\n",
       "      <th>38</th>\n",
       "      <td>5.699790e+12</td>\n",
       "      <td>0.0</td>\n",
       "      <td>6.536549e+12</td>\n",
       "      <td>0.0</td>\n",
       "    </tr>\n",
       "    <tr>\n",
       "      <th>39</th>\n",
       "      <td>5.617786e+12</td>\n",
       "      <td>0.0</td>\n",
       "      <td>6.480060e+12</td>\n",
       "      <td>0.0</td>\n",
       "    </tr>\n",
       "    <tr>\n",
       "      <th>40</th>\n",
       "      <td>5.542661e+12</td>\n",
       "      <td>0.0</td>\n",
       "      <td>6.381175e+12</td>\n",
       "      <td>0.0</td>\n",
       "    </tr>\n",
       "    <tr>\n",
       "      <th>41</th>\n",
       "      <td>5.472031e+12</td>\n",
       "      <td>0.0</td>\n",
       "      <td>6.262366e+12</td>\n",
       "      <td>0.0</td>\n",
       "    </tr>\n",
       "    <tr>\n",
       "      <th>42</th>\n",
       "      <td>5.412979e+12</td>\n",
       "      <td>0.0</td>\n",
       "      <td>6.214934e+12</td>\n",
       "      <td>0.0</td>\n",
       "    </tr>\n",
       "    <tr>\n",
       "      <th>43</th>\n",
       "      <td>5.324975e+12</td>\n",
       "      <td>0.0</td>\n",
       "      <td>6.084661e+12</td>\n",
       "      <td>0.0</td>\n",
       "    </tr>\n",
       "    <tr>\n",
       "      <th>44</th>\n",
       "      <td>5.265214e+12</td>\n",
       "      <td>0.0</td>\n",
       "      <td>5.980961e+12</td>\n",
       "      <td>0.0</td>\n",
       "    </tr>\n",
       "    <tr>\n",
       "      <th>45</th>\n",
       "      <td>5.181866e+12</td>\n",
       "      <td>0.0</td>\n",
       "      <td>5.942960e+12</td>\n",
       "      <td>0.0</td>\n",
       "    </tr>\n",
       "    <tr>\n",
       "      <th>46</th>\n",
       "      <td>5.127526e+12</td>\n",
       "      <td>0.0</td>\n",
       "      <td>5.884562e+12</td>\n",
       "      <td>0.0</td>\n",
       "    </tr>\n",
       "    <tr>\n",
       "      <th>47</th>\n",
       "      <td>5.061854e+12</td>\n",
       "      <td>0.0</td>\n",
       "      <td>5.748178e+12</td>\n",
       "      <td>0.0</td>\n",
       "    </tr>\n",
       "    <tr>\n",
       "      <th>48</th>\n",
       "      <td>4.992860e+12</td>\n",
       "      <td>0.0</td>\n",
       "      <td>5.676608e+12</td>\n",
       "      <td>0.0</td>\n",
       "    </tr>\n",
       "    <tr>\n",
       "      <th>49</th>\n",
       "      <td>4.927745e+12</td>\n",
       "      <td>0.0</td>\n",
       "      <td>5.607904e+12</td>\n",
       "      <td>0.0</td>\n",
       "    </tr>\n",
       "  </tbody>\n",
       "</table>\n",
       "</div>"
      ],
      "text/plain": [
       "            loss  accuracy      val_loss  val_accuracy\n",
       "0   6.657466e+13       0.0  7.048079e+13           0.0\n",
       "1   6.657466e+13       0.0  7.048079e+13           0.0\n",
       "2   6.657466e+13       0.0  7.048077e+13           0.0\n",
       "3   6.657464e+13       0.0  7.048075e+13           0.0\n",
       "4   6.657459e+13       0.0  7.048065e+13           0.0\n",
       "5   6.657439e+13       0.0  7.048026e+13           0.0\n",
       "6   6.657367e+13       0.0  7.047894e+13           0.0\n",
       "7   6.657142e+13       0.0  7.047487e+13           0.0\n",
       "8   6.656477e+13       0.0  7.046354e+13           0.0\n",
       "9   6.654709e+13       0.0  7.043433e+13           0.0\n",
       "10  6.650279e+13       0.0  7.036424e+13           0.0\n",
       "11  6.640199e+13       0.0  7.020660e+13           0.0\n",
       "12  6.618131e+13       0.0  6.987192e+13           0.0\n",
       "13  6.572255e+13       0.0  6.919868e+13           0.0\n",
       "14  6.481514e+13       0.0  6.790599e+13           0.0\n",
       "15  6.312289e+13       0.0  6.553725e+13           0.0\n",
       "16  6.009581e+13       0.0  6.141976e+13           0.0\n",
       "17  5.498685e+13       0.0  5.468142e+13           0.0\n",
       "18  4.692254e+13       0.0  4.452704e+13           0.0\n",
       "19  3.559254e+13       0.0  3.103516e+13           0.0\n",
       "20  2.202630e+13       0.0  1.699660e+13           0.0\n",
       "21  1.074952e+13       0.0  8.948665e+12           0.0\n",
       "22  7.338857e+12       0.0  8.601569e+12           0.0\n",
       "23  7.618154e+12       0.0  8.235456e+12           0.0\n",
       "24  7.091797e+12       0.0  8.155013e+12           0.0\n",
       "25  6.887848e+12       0.0  8.064211e+12           0.0\n",
       "26  6.765932e+12       0.0  7.849885e+12           0.0\n",
       "27  6.652590e+12       0.0  7.699295e+12           0.0\n",
       "28  6.556264e+12       0.0  7.606152e+12           0.0\n",
       "29  6.469345e+12       0.0  7.509509e+12           0.0\n",
       "30  6.366324e+12       0.0  7.381117e+12           0.0\n",
       "31  6.295162e+12       0.0  7.246988e+12           0.0\n",
       "32  6.195592e+12       0.0  7.185045e+12           0.0\n",
       "33  6.113856e+12       0.0  7.044284e+12           0.0\n",
       "34  6.022091e+12       0.0  6.939678e+12           0.0\n",
       "35  5.932515e+12       0.0  6.872737e+12           0.0\n",
       "36  5.866635e+12       0.0  6.793764e+12           0.0\n",
       "37  5.788140e+12       0.0  6.623620e+12           0.0\n",
       "38  5.699790e+12       0.0  6.536549e+12           0.0\n",
       "39  5.617786e+12       0.0  6.480060e+12           0.0\n",
       "40  5.542661e+12       0.0  6.381175e+12           0.0\n",
       "41  5.472031e+12       0.0  6.262366e+12           0.0\n",
       "42  5.412979e+12       0.0  6.214934e+12           0.0\n",
       "43  5.324975e+12       0.0  6.084661e+12           0.0\n",
       "44  5.265214e+12       0.0  5.980961e+12           0.0\n",
       "45  5.181866e+12       0.0  5.942960e+12           0.0\n",
       "46  5.127526e+12       0.0  5.884562e+12           0.0\n",
       "47  5.061854e+12       0.0  5.748178e+12           0.0\n",
       "48  4.992860e+12       0.0  5.676608e+12           0.0\n",
       "49  4.927745e+12       0.0  5.607904e+12           0.0"
      ]
     },
     "execution_count": 168,
     "metadata": {},
     "output_type": "execute_result"
    }
   ],
   "source": [
    "losses = pd.DataFrame(model.history.history)\n",
    "losses"
   ]
  },
  {
   "cell_type": "code",
   "execution_count": 169,
   "metadata": {
    "scrolled": false
   },
   "outputs": [
    {
     "data": {
      "text/plain": [
       "Text(0.5, 0, 'epoch')"
      ]
     },
     "execution_count": 169,
     "metadata": {},
     "output_type": "execute_result"
    },
    {
     "data": {
      "image/png": "[encoded data removed]",
      "text/plain": [
       "<Figure size 864x576 with 1 Axes>"
      ]
     },
     "metadata": {
      "needs_background": "light"
     },
     "output_type": "display_data"
    }
   ],
   "source": [
    "losses.plot(figsize=(12,8))\n",
    "plt.title('model accuracy')\n",
    "plt.ylabel('accuracy')\n",
    "plt.xlabel('epoch')"
   ]
  },
  {
   "cell_type": "code",
   "execution_count": 170,
   "metadata": {},
   "outputs": [
    {
     "name": "stdout",
     "output_type": "stream",
     "text": [
      "Model: \"sequential_1\"\n",
      "_________________________________________________________________\n",
      "Layer (type)                 Output Shape              Param #   \n",
      "=================================================================\n",
      "dense_8 (Dense)              (None, 347)               694       \n",
      "_________________________________________________________________\n",
      "dense_9 (Dense)              (None, 177)               61596     \n",
      "_________________________________________________________________\n",
      "dense_10 (Dense)             (None, 87)                15486     \n",
      "_________________________________________________________________\n",
      "dense_11 (Dense)             (None, 47)                4136      \n",
      "_________________________________________________________________\n",
      "dense_12 (Dense)             (None, 27)                1296      \n",
      "_________________________________________________________________\n",
      "dense_13 (Dense)             (None, 17)                476       \n",
      "_________________________________________________________________\n",
      "dense_14 (Dense)             (None, 7)                 126       \n",
      "_________________________________________________________________\n",
      "dense_15 (Dense)             (None, 1)                 8         \n",
      "=================================================================\n",
      "Total params: 83,818\n",
      "Trainable params: 83,818\n",
      "Non-trainable params: 0\n",
      "_________________________________________________________________\n"
     ]
    }
   ],
   "source": [
    "#tf.keras.metrics.mean_absolute_error(model.history.history)\n",
    "\n",
    "model.summary()"
   ]
  },
  {
   "cell_type": "code",
   "execution_count": 171,
   "metadata": {},
   "outputs": [
    {
     "data": {
      "text/plain": [
       "[4889907822592.0, 0.0]"
      ]
     },
     "execution_count": 171,
     "metadata": {},
     "output_type": "execute_result"
    }
   ],
   "source": [
    "model.evaluate(X_train,y_train,verbose=0)"
   ]
  },
  {
   "cell_type": "code",
   "execution_count": 172,
   "metadata": {},
   "outputs": [
    {
     "data": {
      "text/plain": [
       "array([[6650105. ],\n",
       "       [6941854. ],\n",
       "       [7890039.5],\n",
       "       [9057037. ],\n",
       "       [6285417.5],\n",
       "       [7306541. ],\n",
       "       [6795980. ],\n",
       "       [8473538. ],\n",
       "       [6285417.5],\n",
       "       [8984101. ],\n",
       "       [8254726. ],\n",
       "       [8327664. ],\n",
       "       [7598290. ],\n",
       "       [8400601. ],\n",
       "       [8692351. ],\n",
       "       [7525353. ],\n",
       "       [8911162. ],\n",
       "       [7817102. ],\n",
       "       [6868916.5],\n",
       "       [7744164. ],\n",
       "       [8692351. ],\n",
       "       [7306541. ],\n",
       "       [6212480.5],\n",
       "       [9057037. ],\n",
       "       [6795980. ],\n",
       "       [8254726. ],\n",
       "       [6358355. ],\n",
       "       [8619414. ],\n",
       "       [7817102. ],\n",
       "       [8473538. ],\n",
       "       [8546476. ],\n",
       "       [7160666. ],\n",
       "       [9348786. ],\n",
       "       [7890039.5],\n",
       "       [8692351. ],\n",
       "       [8838225. ],\n",
       "       [7306541. ],\n",
       "       [8838225. ],\n",
       "       [6285417.5],\n",
       "       [8911162. ],\n",
       "       [7962977. ],\n",
       "       [6431292.5],\n",
       "       [8765288. ],\n",
       "       [8838225. ],\n",
       "       [6868916.5],\n",
       "       [6650105. ],\n",
       "       [8108852. ],\n",
       "       [7598290. ],\n",
       "       [8546476. ],\n",
       "       [9275850. ],\n",
       "       [6212480.5],\n",
       "       [8035914. ],\n",
       "       [6868916.5],\n",
       "       [8838225. ],\n",
       "       [9202911. ],\n",
       "       [9057037. ],\n",
       "       [6358355. ],\n",
       "       [6212480.5],\n",
       "       [8765288. ],\n",
       "       [6358355. ],\n",
       "       [7817102. ],\n",
       "       [8400601. ],\n",
       "       [9348786. ],\n",
       "       [7817102. ],\n",
       "       [8546476. ],\n",
       "       [6212480.5],\n",
       "       [7744164. ],\n",
       "       [7087728. ],\n",
       "       [9057037. ],\n",
       "       [6358355. ],\n",
       "       [7306541. ],\n",
       "       [7233603. ],\n",
       "       [8400601. ],\n",
       "       [6795980. ],\n",
       "       [8911162. ],\n",
       "       [8765288. ],\n",
       "       [8327664. ],\n",
       "       [6504230.5],\n",
       "       [7233603. ],\n",
       "       [7379478. ],\n",
       "       [6577168. ],\n",
       "       [6723042. ],\n",
       "       [9057037. ],\n",
       "       [6941854. ],\n",
       "       [7306541. ],\n",
       "       [6212480.5],\n",
       "       [8692351. ],\n",
       "       [6577168. ],\n",
       "       [6868916.5],\n",
       "       [8765288. ],\n",
       "       [8254726. ],\n",
       "       [9057037. ],\n",
       "       [9348786. ],\n",
       "       [6431292.5],\n",
       "       [8546476. ],\n",
       "       [6650105. ],\n",
       "       [8400601. ],\n",
       "       [6285417.5],\n",
       "       [6577168. ],\n",
       "       [7744164. ],\n",
       "       [8181788. ],\n",
       "       [7671228. ],\n",
       "       [8765288. ],\n",
       "       [7817102. ],\n",
       "       [7233603. ],\n",
       "       [7598290. ],\n",
       "       [6577168. ],\n",
       "       [6868916.5],\n",
       "       [7087728. ],\n",
       "       [7525353. ],\n",
       "       [7890039.5],\n",
       "       [8181788. ],\n",
       "       [7233603. ],\n",
       "       [8984101. ],\n",
       "       [8692351. ],\n",
       "       [8327664. ],\n",
       "       [8181788. ],\n",
       "       [8984101. ],\n",
       "       [8619414. ],\n",
       "       [7379478. ],\n",
       "       [8911162. ],\n",
       "       [8035914. ],\n",
       "       [8546476. ],\n",
       "       [7379478. ],\n",
       "       [8400601. ],\n",
       "       [8473538. ],\n",
       "       [7160666. ],\n",
       "       [6285417.5],\n",
       "       [6577168. ],\n",
       "       [7598290. ],\n",
       "       [7306541. ],\n",
       "       [8108852. ],\n",
       "       [7014791.5],\n",
       "       [9275850. ],\n",
       "       [6358355. ],\n",
       "       [8400601. ],\n",
       "       [8838225. ],\n",
       "       [7379478. ],\n",
       "       [8911162. ],\n",
       "       [8473538. ],\n",
       "       [8473538. ],\n",
       "       [8254726. ],\n",
       "       [6431292.5],\n",
       "       [7379478. ],\n",
       "       [7598290. ],\n",
       "       [7087728. ],\n",
       "       [6285417.5],\n",
       "       [7525353. ],\n",
       "       [9202911. ],\n",
       "       [6650105. ],\n",
       "       [8911162. ],\n",
       "       [7014791.5],\n",
       "       [8984101. ],\n",
       "       [7160666. ],\n",
       "       [6650105. ],\n",
       "       [7817102. ],\n",
       "       [6431292.5],\n",
       "       [8619414. ],\n",
       "       [8035914. ],\n",
       "       [6723042. ],\n",
       "       [7087728. ],\n",
       "       [7671228. ],\n",
       "       [6795980. ],\n",
       "       [8035914. ],\n",
       "       [7306541. ],\n",
       "       [9348786. ],\n",
       "       [8765288. ],\n",
       "       [8327664. ],\n",
       "       [9129975. ],\n",
       "       [8911162. ],\n",
       "       [8108852. ],\n",
       "       [6431292.5],\n",
       "       [7744164. ],\n",
       "       [6504230.5],\n",
       "       [7160666. ],\n",
       "       [7890039.5],\n",
       "       [6577168. ],\n",
       "       [6723042. ],\n",
       "       [8546476. ],\n",
       "       [6868916.5],\n",
       "       [7160666. ],\n",
       "       [9275850. ],\n",
       "       [8911162. ],\n",
       "       [7306541. ],\n",
       "       [7233603. ],\n",
       "       [6285417.5],\n",
       "       [7744164. ],\n",
       "       [9202911. ],\n",
       "       [9129975. ],\n",
       "       [7890039.5],\n",
       "       [8181788. ],\n",
       "       [8473538. ],\n",
       "       [7160666. ],\n",
       "       [6504230. ],\n",
       "       [8327664. ],\n",
       "       [7087728. ],\n",
       "       [9275850. ],\n",
       "       [6941853.5],\n",
       "       [7452416. ],\n",
       "       [6650105. ],\n",
       "       [7525353. ],\n",
       "       [7014791.5],\n",
       "       [7817102. ],\n",
       "       [7598290. ],\n",
       "       [6941853.5],\n",
       "       [8984101. ],\n",
       "       [9202912. ],\n",
       "       [7890040. ],\n",
       "       [9129975. ],\n",
       "       [6358355. ],\n",
       "       [7379478. ],\n",
       "       [9057037. ]], dtype=float32)"
      ]
     },
     "execution_count": 172,
     "metadata": {},
     "output_type": "execute_result"
    }
   ],
   "source": [
    "predictions = model.predict(X_test)\n",
    "predictions"
   ]
  },
  {
   "cell_type": "code",
   "execution_count": 173,
   "metadata": {},
   "outputs": [
    {
     "data": {
      "text/plain": [
       "array([5.8287986e+12, 5.0177088e+12, 3.5573499e+12, 4.2283982e+12,\n",
       "       7.0820592e+12, 4.2432374e+12, 5.4019731e+12, 3.5524033e+12,\n",
       "       7.0820592e+12, 4.1066617e+12, 3.4744602e+12, 3.4898022e+12,\n",
       "       3.8151767e+12, 3.5157825e+12, 3.7261041e+12, 3.9062319e+12,\n",
       "       3.9955608e+12, 3.6058468e+12, 5.2045220e+12, 3.6649841e+12,\n",
       "       3.7261041e+12, 4.2432374e+12, 7.3646284e+12, 4.2283982e+12,\n",
       "       5.4019731e+12, 3.4744602e+12, 6.8101278e+12, 3.6575652e+12,\n",
       "       3.6058468e+12, 3.5524033e+12, 3.5996642e+12, 4.5211069e+12,\n",
       "       4.8217483e+12, 3.5573499e+12, 3.7261041e+12, 3.8951023e+12,\n",
       "       4.2432374e+12, 3.8951023e+12, 7.0820592e+12, 3.9955608e+12,\n",
       "       3.5194921e+12, 6.5488358e+12, 3.8052834e+12, 3.8951023e+12,\n",
       "       5.2045220e+12, 5.8287986e+12, 3.4756968e+12, 3.8151767e+12,\n",
       "       3.5996642e+12, 4.6574537e+12, 7.3646284e+12, 3.4922750e+12,\n",
       "       5.2045220e+12, 3.8951023e+12, 4.5037928e+12, 4.2283982e+12,\n",
       "       6.8101278e+12, 7.3646284e+12, 3.8052834e+12, 6.8101278e+12,\n",
       "       3.6058468e+12, 3.5157825e+12, 4.8217483e+12, 3.6058468e+12,\n",
       "       3.5996642e+12, 7.3646284e+12, 3.6649841e+12, 4.6760025e+12,\n",
       "       4.2283982e+12, 6.8101278e+12, 4.2432374e+12, 4.3768535e+12,\n",
       "       3.5157825e+12, 5.4019731e+12, 3.9955608e+12, 3.8052834e+12,\n",
       "       3.4898022e+12, 6.2981821e+12, 4.3768535e+12, 4.1202627e+12,\n",
       "       6.0581699e+12, 5.6100672e+12, 4.2283982e+12, 5.0177088e+12,\n",
       "       4.2432374e+12, 7.3646284e+12, 3.7261041e+12, 6.0581699e+12,\n",
       "       5.2045220e+12, 3.8052834e+12, 3.4744602e+12, 4.2283982e+12,\n",
       "       4.8217483e+12, 6.5488358e+12, 3.5996642e+12, 5.8287986e+12,\n",
       "       3.5157825e+12, 7.0820592e+12, 6.0581699e+12, 3.6649841e+12,\n",
       "       3.4697587e+12, 3.7347593e+12, 3.8052834e+12, 3.6058468e+12,\n",
       "       4.3768535e+12, 3.8151767e+12, 6.0581699e+12, 5.2045220e+12,\n",
       "       4.6760025e+12, 3.9062319e+12, 3.5573499e+12, 3.4697587e+12,\n",
       "       4.3768535e+12, 4.1066617e+12, 3.7261041e+12, 3.4898022e+12,\n",
       "       3.4697587e+12, 4.1066617e+12, 3.6575652e+12, 4.1202627e+12,\n",
       "       3.9955608e+12, 3.4922750e+12, 3.5996642e+12, 4.1202627e+12,\n",
       "       3.5157825e+12, 3.5524033e+12, 4.5211069e+12, 7.0820592e+12,\n",
       "       6.0581699e+12, 3.8151767e+12, 4.2432374e+12, 3.4756968e+12,\n",
       "       4.8415344e+12, 4.6574537e+12, 6.8101278e+12, 3.5157825e+12,\n",
       "       3.8951023e+12, 4.1202627e+12, 3.9955608e+12, 3.5524033e+12,\n",
       "       3.5524033e+12, 3.4744602e+12, 6.5488358e+12, 4.1202627e+12,\n",
       "       3.8151767e+12, 4.6760025e+12, 7.0820592e+12, 3.9062319e+12,\n",
       "       4.5037928e+12, 5.8287986e+12, 3.9955608e+12, 4.8415344e+12,\n",
       "       4.1066617e+12, 4.5211069e+12, 5.8287986e+12, 3.6058468e+12,\n",
       "       6.5488358e+12, 3.6575652e+12, 3.4922750e+12, 5.6100672e+12,\n",
       "       4.6760025e+12, 3.7347593e+12, 5.4019731e+12, 3.4922750e+12,\n",
       "       4.2432374e+12, 4.8217483e+12, 3.8052834e+12, 3.4898022e+12,\n",
       "       4.3607778e+12, 3.9955608e+12, 3.4756968e+12, 6.5488358e+12,\n",
       "       3.6649841e+12, 6.2981821e+12, 4.5211069e+12, 3.5573499e+12,\n",
       "       6.0581699e+12, 5.6100672e+12, 3.5996642e+12, 5.2045220e+12,\n",
       "       4.5211069e+12, 4.6574537e+12, 3.9955608e+12, 4.2432374e+12,\n",
       "       4.3768535e+12, 7.0820592e+12, 3.6649841e+12, 4.5037928e+12,\n",
       "       4.3607778e+12, 3.5573499e+12, 3.4697587e+12, 3.5524033e+12,\n",
       "       4.5211069e+12, 6.2981842e+12, 3.4898022e+12, 4.6760025e+12,\n",
       "       4.6574537e+12, 5.0177098e+12, 4.0079270e+12, 5.8287986e+12,\n",
       "       3.9062319e+12, 4.8415344e+12, 3.6058468e+12, 3.8151767e+12,\n",
       "       5.0177098e+12, 4.1066617e+12, 4.5037944e+12, 3.5573494e+12,\n",
       "       4.3607778e+12, 6.8101278e+12, 4.1202627e+12, 4.2283982e+12],\n",
       "      dtype=float32)"
      ]
     },
     "execution_count": 173,
     "metadata": {},
     "output_type": "execute_result"
    }
   ],
   "source": [
    "tf.keras.metrics.mean_squared_error(y_test,predictions).numpy()"
   ]
  },
  {
   "cell_type": "code",
   "execution_count": 174,
   "metadata": {},
   "outputs": [],
   "source": [
    "from sklearn.metrics import mean_squared_error,mean_absolute_error,explained_variance_score\n",
    "from sklearn.metrics import classification_report,confusion_matrix"
   ]
  },
  {
   "cell_type": "code",
   "execution_count": 175,
   "metadata": {},
   "outputs": [
    {
     "data": {
      "text/plain": [
       "2368101.467867429"
      ]
     },
     "execution_count": 175,
     "metadata": {},
     "output_type": "execute_result"
    }
   ],
   "source": [
    "mean_absolute_error(y_test,predictions)\n",
    "np.sqrt(mean_squared_error(y_test,predictions))"
   ]
  },
  {
   "cell_type": "code",
   "execution_count": 176,
   "metadata": {},
   "outputs": [
    {
     "data": {
      "text/plain": [
       "-0.5660109579434494"
      ]
     },
     "execution_count": 176,
     "metadata": {},
     "output_type": "execute_result"
    }
   ],
   "source": [
    "explained_variance_score(y_test,predictions)"
   ]
  },
  {
   "cell_type": "code",
   "execution_count": 177,
   "metadata": {},
   "outputs": [],
   "source": [
    "#from sklearn.ensemble import RandomForestClassifier, RandomForestRegressor, ExtraTreesRegressor, GradientBoostingRegressor"
   ]
  },
  {
   "cell_type": "code",
   "execution_count": 178,
   "metadata": {},
   "outputs": [],
   "source": [
    "#print(classification_report(y_test,predictions))\n",
    "\n",
    "#RandomForestRegressor(n_estimators=10).score(X_test, y_test)"
   ]
  },
  {
   "cell_type": "code",
   "execution_count": 179,
   "metadata": {},
   "outputs": [],
   "source": [
    "#confusion_matrix(y_test,predictions)"
   ]
  },
  {
   "cell_type": "code",
   "execution_count": 180,
   "metadata": {},
   "outputs": [
    {
     "name": "stdout",
     "output_type": "stream",
     "text": [
      "<class 'pandas.core.frame.DataFrame'>\n",
      "RangeIndex: 528 entries, 0 to 527\n",
      "Data columns (total 2 columns):\n",
      " #   Column  Non-Null Count  Dtype\n",
      "---  ------  --------------  -----\n",
      " 0   OIL     528 non-null    int64\n",
      " 1   YEARS   528 non-null    int64\n",
      "dtypes: int64(2)\n",
      "memory usage: 8.4 KB\n"
     ]
    }
   ],
   "source": [
    "df.info()"
   ]
  },
  {
   "cell_type": "code",
   "execution_count": 181,
   "metadata": {},
   "outputs": [
    {
     "data": {
      "text/plain": [
       "YEARS    1974\n",
       "Name: 0, dtype: int64"
      ]
     },
     "execution_count": 181,
     "metadata": {},
     "output_type": "execute_result"
    }
   ],
   "source": [
    "new_OilRate = df.drop('OIL',axis=1).iloc[0]\n",
    "new_OilRate"
   ]
  },
  {
   "cell_type": "code",
   "execution_count": 191,
   "metadata": {
    "scrolled": true
   },
   "outputs": [
    {
     "data": {
      "text/plain": [
       "array([0])"
      ]
     },
     "execution_count": 191,
     "metadata": {},
     "output_type": "execute_result"
    }
   ],
   "source": [
    "#model.predict_classes(new_OilRate.values.reshape(1,348))\n",
    "np.argmax(model.predict(new_OilRate.values.reshape(1,1)),axis=-1)"
   ]
  },
  {
   "cell_type": "code",
   "execution_count": 192,
   "metadata": {},
   "outputs": [
    {
     "data": {
      "text/plain": [
       "7134368"
      ]
     },
     "execution_count": 192,
     "metadata": {},
     "output_type": "execute_result"
    }
   ],
   "source": [
    "df.iloc[0]['OIL']"
   ]
  },
  {
   "cell_type": "code",
   "execution_count": 193,
   "metadata": {},
   "outputs": [],
   "source": [
    "##############"
   ]
  },
  {
   "cell_type": "code",
   "execution_count": 194,
   "metadata": {},
   "outputs": [],
   "source": [
    "New_OilRate = df.drop('OIL',axis=1).iloc[0]"
   ]
  },
  {
   "cell_type": "code",
   "execution_count": 197,
   "metadata": {
    "scrolled": true
   },
   "outputs": [
    {
     "data": {
      "text/plain": [
       "array([[0.]])"
      ]
     },
     "execution_count": 197,
     "metadata": {},
     "output_type": "execute_result"
    }
   ],
   "source": [
    "New_OilRate = scaler.transform(New_OilRate.values.reshape(-1, 1))\n",
    "New_OilRate"
   ]
  },
  {
   "cell_type": "code",
   "execution_count": 198,
   "metadata": {},
   "outputs": [
    {
     "data": {
      "text/plain": [
       "array([[6212480.5]], dtype=float32)"
      ]
     },
     "execution_count": 198,
     "metadata": {},
     "output_type": "execute_result"
    }
   ],
   "source": [
    "model.predict(New_OilRate)"
   ]
  },
  {
   "cell_type": "code",
   "execution_count": 199,
   "metadata": {},
   "outputs": [
    {
     "data": {
      "text/plain": [
       "OIL      7134368\n",
       "YEARS       1974\n",
       "Name: 0, dtype: int64"
      ]
     },
     "execution_count": 199,
     "metadata": {},
     "output_type": "execute_result"
    }
   ],
   "source": [
    "df.iloc[0]"
   ]
  },
  {
   "cell_type": "code",
   "execution_count": 204,
   "metadata": {},
   "outputs": [],
   "source": [
    "#######"
   ]
  },
  {
   "cell_type": "code",
   "execution_count": 205,
   "metadata": {},
   "outputs": [
    {
     "ename": "NameError",
     "evalue": "name 'x_test' is not defined",
     "output_type": "error",
     "traceback": [
      "\u001b[0;31m---------------------------------------------------------------------------\u001b[0m",
      "\u001b[0;31mNameError\u001b[0m                                 Traceback (most recent call last)",
      "\u001b[0;32m<ipython-input-205-98d7b5180d99>\u001b[0m in \u001b[0;36m<module>\u001b[0;34m\u001b[0m\n\u001b[1;32m      1\u001b[0m \u001b[0mforecast\u001b[0m\u001b[0;34m=\u001b[0m\u001b[0mmodel\u001b[0m\u001b[0;34m.\u001b[0m\u001b[0mpredict\u001b[0m\u001b[0;34m(\u001b[0m\u001b[0mdf\u001b[0m\u001b[0;34m[\u001b[0m\u001b[0;34m'OIL'\u001b[0m\u001b[0;34m]\u001b[0m\u001b[0;34m)\u001b[0m\u001b[0;34m\u001b[0m\u001b[0;34m\u001b[0m\u001b[0m\n\u001b[0;32m----> 2\u001b[0;31m \u001b[0mforecast\u001b[0m\u001b[0;34m=\u001b[0m\u001b[0mforecast\u001b[0m\u001b[0;34m[\u001b[0m\u001b[0;36m0\u001b[0m\u001b[0;34m,\u001b[0m \u001b[0mx_test\u001b[0m \u001b[0;34m-\u001b[0m \u001b[0;36m1\u001b[0m\u001b[0;34m:\u001b[0m\u001b[0;34m-\u001b[0m\u001b[0;36m1\u001b[0m\u001b[0;34m,\u001b[0m \u001b[0;36m0\u001b[0m\u001b[0;34m]\u001b[0m\u001b[0;34m\u001b[0m\u001b[0;34m\u001b[0m\u001b[0m\n\u001b[0m",
      "\u001b[0;31mNameError\u001b[0m: name 'x_test' is not defined"
     ]
    }
   ],
   "source": [
    "forecast=model.predict(df['OIL'])\n",
    "forecast=forecast[0, x_test - 1:-1, 0]"
   ]
  },
  {
   "cell_type": "code",
   "execution_count": 206,
   "metadata": {},
   "outputs": [
    {
     "data": {
      "text/plain": [
       "(528, 1)"
      ]
     },
     "execution_count": 206,
     "metadata": {},
     "output_type": "execute_result"
    }
   ],
   "source": [
    "forecast.shape"
   ]
  },
  {
   "cell_type": "code",
   "execution_count": 207,
   "metadata": {},
   "outputs": [
    {
     "ename": "NameError",
     "evalue": "name 'plot_series' is not defined",
     "output_type": "error",
     "traceback": [
      "\u001b[0;31m---------------------------------------------------------------------------\u001b[0m",
      "\u001b[0;31mNameError\u001b[0m                                 Traceback (most recent call last)",
      "\u001b[0;32m<ipython-input-207-2b8856a286b7>\u001b[0m in \u001b[0;36m<module>\u001b[0;34m\u001b[0m\n\u001b[1;32m      1\u001b[0m \u001b[0mplt\u001b[0m\u001b[0;34m.\u001b[0m\u001b[0mfigure\u001b[0m\u001b[0;34m(\u001b[0m\u001b[0mfigsize\u001b[0m\u001b[0;34m=\u001b[0m\u001b[0;34m(\u001b[0m\u001b[0;36m10\u001b[0m\u001b[0;34m,\u001b[0m \u001b[0;36m6\u001b[0m\u001b[0;34m)\u001b[0m\u001b[0;34m)\u001b[0m\u001b[0;34m\u001b[0m\u001b[0;34m\u001b[0m\u001b[0m\n\u001b[0;32m----> 2\u001b[0;31m \u001b[0mplot_series\u001b[0m\u001b[0;34m(\u001b[0m\u001b[0mX_test\u001b[0m\u001b[0;34m,\u001b[0m \u001b[0my_test\u001b[0m\u001b[0;34m)\u001b[0m\u001b[0;34m;\u001b[0m\u001b[0;34m\u001b[0m\u001b[0;34m\u001b[0m\u001b[0m\n\u001b[0m\u001b[1;32m      3\u001b[0m \u001b[0mplot_series\u001b[0m\u001b[0;34m(\u001b[0m\u001b[0mX_test\u001b[0m\u001b[0;34m,\u001b[0m \u001b[0mpredictions\u001b[0m\u001b[0;34m)\u001b[0m\u001b[0;34m;\u001b[0m\u001b[0;34m\u001b[0m\u001b[0;34m\u001b[0m\u001b[0m\n",
      "\u001b[0;31mNameError\u001b[0m: name 'plot_series' is not defined"
     ]
    },
    {
     "data": {
      "text/plain": [
       "<Figure size 720x432 with 0 Axes>"
      ]
     },
     "metadata": {},
     "output_type": "display_data"
    }
   ],
   "source": [
    "plt.figure(figsize=(10, 6))\n",
    "plot_series(X_test, y_test);\n",
    "plot_series(X_test, predictions);"
   ]
  },
  {
   "cell_type": "code",
   "execution_count": null,
   "metadata": {},
   "outputs": [],
   "source": []
  }
 ],
 "metadata": {
  "kernelspec": {
   "display_name": "Python 3",
   "language": "python",
   "name": "python3"
  },
  "language_info": {
   "codemirror_mode": {
    "name": "ipython",
    "version": 3
   },
   "file_extension": ".py",
   "mimetype": "text/x-python",
   "name": "python",
   "nbconvert_exporter": "python",
   "pygments_lexer": "ipython3",
   "version": "3.8.5"
  }
 },
 "nbformat": 4,
 "nbformat_minor": 4
}

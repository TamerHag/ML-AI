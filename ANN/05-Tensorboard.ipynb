{
 "cells": [
  {
   "cell_type": "markdown",
   "metadata": {},
   "source": [
    "<a href=\"https://www.pieriandata.com\"><img src=\"../Pierian_Data_Logo.PNG\"></a>\n",
    "<strong><center>Copyright by Pierian Data Inc.</center></strong> \n",
    "<strong><center>Created by Jose Marcial Portilla.</center></strong>"
   ]
  },
  {
   "cell_type": "markdown",
   "metadata": {},
   "source": [
    "# Tensorboard\n",
    "\n",
    "---\n",
    "---\n",
    "\n",
    "**NOTE: You must watch the corresponding video to understand this lecture. This notebook can't serve as a full guide. Please watch the video BEFORE posting questions to the QA forum.**\n",
    "\n",
    "---\n",
    "---\n",
    "\n",
    "Let's explore the built in data visualization capabilities that come with Tensorboard.\n",
    "\n",
    "Full official tutorial available here: https://www.tensorflow.org/tensorboard/get_started\n",
    "\n",
    "## Data"
   ]
  },
  {
   "cell_type": "code",
   "execution_count": 1,
   "metadata": {},
   "outputs": [],
   "source": [
    "import pandas as pd\n",
    "import numpy as np"
   ]
  },
  {
   "cell_type": "code",
   "execution_count": 2,
   "metadata": {},
   "outputs": [],
   "source": [
    "df = pd.read_csv('../DATA/cancer_classification.csv')"
   ]
  },
  {
   "cell_type": "markdown",
   "metadata": {},
   "source": [
    "### Train Test Split"
   ]
  },
  {
   "cell_type": "code",
   "execution_count": 3,
   "metadata": {},
   "outputs": [],
   "source": [
    "X = df.drop('benign_0__mal_1',axis=1).values\n",
    "y = df['benign_0__mal_1'].values"
   ]
  },
  {
   "cell_type": "code",
   "execution_count": 4,
   "metadata": {},
   "outputs": [],
   "source": [
    "from sklearn.model_selection import train_test_split"
   ]
  },
  {
   "cell_type": "code",
   "execution_count": 5,
   "metadata": {},
   "outputs": [],
   "source": [
    "X_train, X_test, y_train, y_test = train_test_split(X,y,test_size=0.25,random_state=101)"
   ]
  },
  {
   "cell_type": "markdown",
   "metadata": {},
   "source": [
    "\n",
    "### Scaling Data"
   ]
  },
  {
   "cell_type": "code",
   "execution_count": 6,
   "metadata": {},
   "outputs": [],
   "source": [
    "from sklearn.preprocessing import MinMaxScaler"
   ]
  },
  {
   "cell_type": "code",
   "execution_count": 7,
   "metadata": {},
   "outputs": [],
   "source": [
    "scaler = MinMaxScaler()"
   ]
  },
  {
   "cell_type": "code",
   "execution_count": 8,
   "metadata": {},
   "outputs": [
    {
     "data": {
      "text/plain": [
       "MinMaxScaler()"
      ]
     },
     "execution_count": 8,
     "metadata": {},
     "output_type": "execute_result"
    }
   ],
   "source": [
    "scaler.fit(X_train)"
   ]
  },
  {
   "cell_type": "code",
   "execution_count": 9,
   "metadata": {},
   "outputs": [],
   "source": [
    "X_train = scaler.transform(X_train)\n",
    "X_test = scaler.transform(X_test)"
   ]
  },
  {
   "cell_type": "markdown",
   "metadata": {},
   "source": [
    "## Creating the Model"
   ]
  },
  {
   "cell_type": "code",
   "execution_count": 10,
   "metadata": {},
   "outputs": [],
   "source": [
    "import tensorflow as tf\n",
    "from tensorflow.keras.models import Sequential\n",
    "from tensorflow.keras.layers import Dense, Activation,Dropout"
   ]
  },
  {
   "cell_type": "code",
   "execution_count": 11,
   "metadata": {},
   "outputs": [],
   "source": [
    "from tensorflow.keras.callbacks import EarlyStopping,TensorBoard"
   ]
  },
  {
   "cell_type": "code",
   "execution_count": 12,
   "metadata": {},
   "outputs": [],
   "source": [
    "early_stop = EarlyStopping(monitor='val_loss', mode='min', verbose=1, patience=25)"
   ]
  },
  {
   "cell_type": "code",
   "execution_count": 13,
   "metadata": {},
   "outputs": [
    {
     "data": {
      "text/plain": [
       "'/Users/tamerhousseinhag/Documents/Python/UDEMY/TSFL2KRDL/ANN'"
      ]
     },
     "execution_count": 13,
     "metadata": {},
     "output_type": "execute_result"
    }
   ],
   "source": [
    "pwd"
   ]
  },
  {
   "cell_type": "markdown",
   "metadata": {},
   "source": [
    "## Creating the Tensorboard Callback\n",
    "\n",
    "TensorBoard is a visualization tool provided with TensorFlow.\n",
    "\n",
    "This callback logs events for TensorBoard, including:\n",
    "* Metrics summary plots\n",
    "* Training graph visualization\n",
    "* Activation histograms\n",
    "* Sampled profiling\n",
    "\n",
    "If you have installed TensorFlow with pip, you should be able\n",
    "to launch TensorBoard from the command line:\n",
    "\n",
    "```sh\n",
    "tensorboard --logdir=path_to_your_logs\n",
    "```\n",
    "\n",
    "You can find more information about TensorBoard\n",
    "[here](https://www.tensorflow.org/tensorboard/).\n",
    "\n",
    "    Arguments:\n",
    "        log_dir: the path of the directory where to save the log files to be\n",
    "          parsed by TensorBoard.\n",
    "        histogram_freq: frequency (in epochs) at which to compute activation and\n",
    "          weight histograms for the layers of the model. If set to 0, histograms\n",
    "          won't be computed. Validation data (or split) must be specified for\n",
    "          histogram visualizations.\n",
    "        write_graph: whether to visualize the graph in TensorBoard. The log file\n",
    "          can become quite large when write_graph is set to True.\n",
    "        write_images: whether to write model weights to visualize as image in\n",
    "          TensorBoard.\n",
    "        update_freq: `'batch'` or `'epoch'` or integer. When using `'batch'`,\n",
    "          writes the losses and metrics to TensorBoard after each batch. The same\n",
    "          applies for `'epoch'`. If using an integer, let's say `1000`, the\n",
    "          callback will write the metrics and losses to TensorBoard every 1000\n",
    "          samples. Note that writing too frequently to TensorBoard can slow down\n",
    "          your training.\n",
    "        profile_batch: Profile the batch to sample compute characteristics. By\n",
    "          default, it will profile the second batch. Set profile_batch=0 to\n",
    "          disable profiling. Must run in TensorFlow eager mode.\n",
    "        embeddings_freq: frequency (in epochs) at which embedding layers will\n",
    "          be visualized. If set to 0, embeddings won't be visualized.\n",
    "       "
   ]
  },
  {
   "cell_type": "code",
   "execution_count": 19,
   "metadata": {},
   "outputs": [],
   "source": [
    "from datetime import datetime"
   ]
  },
  {
   "cell_type": "code",
   "execution_count": 20,
   "metadata": {},
   "outputs": [
    {
     "data": {
      "text/plain": [
       "'2021-05-29--1946'"
      ]
     },
     "execution_count": 20,
     "metadata": {},
     "output_type": "execute_result"
    }
   ],
   "source": [
    "datetime.now().strftime(\"%Y-%m-%d--%H%M\")"
   ]
  },
  {
   "cell_type": "code",
   "execution_count": 23,
   "metadata": {},
   "outputs": [],
   "source": [
    "# WINDOWS: Use \"logs\\\\fit\"\n",
    "# MACOS/LINUX: Use \"logs\\fit\"\n",
    "\n",
    "log_directory = 'logs/fit'\n",
    "\n",
    "# OPTIONAL: ADD A TIMESTAMP FOR UNIQUE FOLDER\n",
    "# timestamp = datetime.now().strftime(\"%Y-%m-%d--%H%M\")\n",
    "# log_directory = log_directory + '\\\\' + timestamp\n",
    "\n",
    "\n",
    "board = TensorBoard(log_dir=log_directory,histogram_freq=1,\n",
    "    write_graph=True,\n",
    "    write_images=True,\n",
    "    update_freq='epoch',\n",
    "    profile_batch=2,\n",
    "    embeddings_freq=1)"
   ]
  },
  {
   "cell_type": "markdown",
   "metadata": {},
   "source": [
    "Now create the model layers:"
   ]
  },
  {
   "cell_type": "code",
   "execution_count": 24,
   "metadata": {},
   "outputs": [],
   "source": [
    "model = Sequential()\n",
    "model.add(Dense(units=30,activation='relu'))\n",
    "model.add(Dropout(0.5))\n",
    "model.add(Dense(units=15,activation='relu'))\n",
    "model.add(Dropout(0.5))\n",
    "model.add(Dense(units=1,activation='sigmoid'))\n",
    "model.compile(loss='binary_crossentropy', optimizer='adam')"
   ]
  },
  {
   "cell_type": "markdown",
   "metadata": {},
   "source": [
    "## Train the Model"
   ]
  },
  {
   "cell_type": "code",
   "execution_count": 25,
   "metadata": {},
   "outputs": [
    {
     "name": "stdout",
     "output_type": "stream",
     "text": [
      "Epoch 1/600\n",
      "14/14 [==============================] - 6s 157ms/step - loss: 0.6907 - val_loss: 0.6422\n",
      "Epoch 2/600\n",
      "14/14 [==============================] - 0s 37ms/step - loss: 0.6561 - val_loss: 0.6219\n",
      "Epoch 3/600\n",
      "14/14 [==============================] - 0s 23ms/step - loss: 0.6244 - val_loss: 0.5953\n",
      "Epoch 4/600\n",
      "14/14 [==============================] - 0s 19ms/step - loss: 0.5967 - val_loss: 0.5686\n",
      "Epoch 5/600\n",
      "14/14 [==============================] - 0s 21ms/step - loss: 0.5796 - val_loss: 0.5394\n",
      "Epoch 6/600\n",
      "14/14 [==============================] - 0s 23ms/step - loss: 0.5717 - val_loss: 0.5174\n",
      "Epoch 7/600\n",
      "14/14 [==============================] - 0s 21ms/step - loss: 0.5607 - val_loss: 0.4930\n",
      "Epoch 8/600\n",
      "14/14 [==============================] - 0s 27ms/step - loss: 0.5215 - val_loss: 0.4702\n",
      "Epoch 9/600\n",
      "14/14 [==============================] - 0s 27ms/step - loss: 0.5271 - val_loss: 0.4472\n",
      "Epoch 10/600\n",
      "14/14 [==============================] - 0s 21ms/step - loss: 0.5021 - val_loss: 0.4257\n",
      "Epoch 11/600\n",
      "14/14 [==============================] - 0s 27ms/step - loss: 0.4535 - val_loss: 0.4000\n",
      "Epoch 12/600\n",
      "14/14 [==============================] - 0s 22ms/step - loss: 0.4497 - val_loss: 0.3748\n",
      "Epoch 13/600\n",
      "14/14 [==============================] - 0s 27ms/step - loss: 0.4237 - val_loss: 0.3523\n",
      "Epoch 14/600\n",
      "14/14 [==============================] - 0s 20ms/step - loss: 0.4243 - val_loss: 0.3341\n",
      "Epoch 15/600\n",
      "14/14 [==============================] - 0s 20ms/step - loss: 0.4226 - val_loss: 0.3206\n",
      "Epoch 16/600\n",
      "14/14 [==============================] - 0s 22ms/step - loss: 0.3948 - val_loss: 0.3007\n",
      "Epoch 17/600\n",
      "14/14 [==============================] - 0s 31ms/step - loss: 0.3792 - val_loss: 0.2827\n",
      "Epoch 18/600\n",
      "14/14 [==============================] - 0s 19ms/step - loss: 0.3527 - val_loss: 0.2692\n",
      "Epoch 19/600\n",
      "14/14 [==============================] - 0s 26ms/step - loss: 0.3594 - val_loss: 0.2532\n",
      "Epoch 20/600\n",
      "14/14 [==============================] - 0s 22ms/step - loss: 0.3231 - val_loss: 0.2515\n",
      "Epoch 21/600\n",
      "14/14 [==============================] - 0s 25ms/step - loss: 0.3050 - val_loss: 0.2285\n",
      "Epoch 22/600\n",
      "14/14 [==============================] - 0s 27ms/step - loss: 0.3048 - val_loss: 0.2159\n",
      "Epoch 23/600\n",
      "14/14 [==============================] - 0s 29ms/step - loss: 0.2827 - val_loss: 0.2061\n",
      "Epoch 24/600\n",
      "14/14 [==============================] - 0s 26ms/step - loss: 0.3008 - val_loss: 0.1967\n",
      "Epoch 25/600\n",
      "14/14 [==============================] - 0s 23ms/step - loss: 0.3064 - val_loss: 0.2017\n",
      "Epoch 26/600\n",
      "14/14 [==============================] - 0s 20ms/step - loss: 0.3138 - val_loss: 0.1921\n",
      "Epoch 27/600\n",
      "14/14 [==============================] - 0s 29ms/step - loss: 0.2912 - val_loss: 0.1820\n",
      "Epoch 28/600\n",
      "14/14 [==============================] - 0s 28ms/step - loss: 0.2661 - val_loss: 0.1787\n",
      "Epoch 29/600\n",
      "14/14 [==============================] - 0s 26ms/step - loss: 0.2756 - val_loss: 0.1748\n",
      "Epoch 30/600\n",
      "14/14 [==============================] - 0s 20ms/step - loss: 0.2601 - val_loss: 0.1668\n",
      "Epoch 31/600\n",
      "14/14 [==============================] - 0s 22ms/step - loss: 0.2470 - val_loss: 0.1673\n",
      "Epoch 32/600\n",
      "14/14 [==============================] - 0s 21ms/step - loss: 0.2104 - val_loss: 0.1517\n",
      "Epoch 33/600\n",
      "14/14 [==============================] - 0s 32ms/step - loss: 0.2283 - val_loss: 0.1441\n",
      "Epoch 34/600\n",
      "14/14 [==============================] - 0s 21ms/step - loss: 0.2374 - val_loss: 0.1394\n",
      "Epoch 35/600\n",
      "14/14 [==============================] - 0s 25ms/step - loss: 0.1992 - val_loss: 0.1386\n",
      "Epoch 36/600\n",
      "14/14 [==============================] - 0s 23ms/step - loss: 0.2167 - val_loss: 0.1380\n",
      "Epoch 37/600\n",
      "14/14 [==============================] - 0s 27ms/step - loss: 0.2192 - val_loss: 0.1353\n",
      "Epoch 38/600\n",
      "14/14 [==============================] - 0s 27ms/step - loss: 0.2093 - val_loss: 0.1345\n",
      "Epoch 39/600\n",
      "14/14 [==============================] - 0s 23ms/step - loss: 0.2121 - val_loss: 0.1279\n",
      "Epoch 40/600\n",
      "14/14 [==============================] - 1s 40ms/step - loss: 0.1930 - val_loss: 0.1250\n",
      "Epoch 41/600\n",
      "14/14 [==============================] - 0s 36ms/step - loss: 0.1811 - val_loss: 0.1239\n",
      "Epoch 42/600\n",
      "14/14 [==============================] - 0s 32ms/step - loss: 0.2294 - val_loss: 0.1202\n",
      "Epoch 43/600\n",
      "14/14 [==============================] - 0s 25ms/step - loss: 0.1876 - val_loss: 0.1279\n",
      "Epoch 44/600\n",
      "14/14 [==============================] - 0s 23ms/step - loss: 0.1858 - val_loss: 0.1228\n",
      "Epoch 45/600\n",
      "14/14 [==============================] - 0s 21ms/step - loss: 0.1966 - val_loss: 0.1238\n",
      "Epoch 46/600\n",
      "14/14 [==============================] - 0s 24ms/step - loss: 0.1814 - val_loss: 0.1188\n",
      "Epoch 47/600\n",
      "14/14 [==============================] - 0s 20ms/step - loss: 0.1895 - val_loss: 0.1114\n",
      "Epoch 48/600\n",
      "14/14 [==============================] - 0s 28ms/step - loss: 0.1532 - val_loss: 0.1178\n",
      "Epoch 49/600\n",
      "14/14 [==============================] - 0s 20ms/step - loss: 0.1722 - val_loss: 0.1129\n",
      "Epoch 50/600\n",
      "14/14 [==============================] - 0s 23ms/step - loss: 0.1688 - val_loss: 0.1194\n",
      "Epoch 51/600\n",
      "14/14 [==============================] - 0s 18ms/step - loss: 0.1576 - val_loss: 0.1040\n",
      "Epoch 52/600\n",
      "14/14 [==============================] - 0s 36ms/step - loss: 0.1669 - val_loss: 0.1074\n",
      "Epoch 53/600\n",
      "14/14 [==============================] - 0s 23ms/step - loss: 0.1528 - val_loss: 0.1064\n",
      "Epoch 54/600\n",
      "14/14 [==============================] - 0s 24ms/step - loss: 0.1471 - val_loss: 0.1118\n",
      "Epoch 55/600\n",
      "14/14 [==============================] - 0s 21ms/step - loss: 0.1706 - val_loss: 0.1116\n",
      "Epoch 56/600\n",
      "14/14 [==============================] - 0s 23ms/step - loss: 0.1737 - val_loss: 0.1100\n",
      "Epoch 57/600\n",
      "14/14 [==============================] - 0s 22ms/step - loss: 0.1596 - val_loss: 0.1066\n",
      "Epoch 58/600\n",
      "14/14 [==============================] - 0s 21ms/step - loss: 0.1544 - val_loss: 0.1006\n",
      "Epoch 59/600\n",
      "14/14 [==============================] - 0s 20ms/step - loss: 0.1607 - val_loss: 0.1003\n",
      "Epoch 60/600\n",
      "14/14 [==============================] - 0s 19ms/step - loss: 0.1441 - val_loss: 0.0973\n",
      "Epoch 61/600\n",
      "14/14 [==============================] - 0s 20ms/step - loss: 0.1379 - val_loss: 0.1079\n",
      "Epoch 62/600\n",
      "14/14 [==============================] - 0s 36ms/step - loss: 0.1395 - val_loss: 0.1013\n",
      "Epoch 63/600\n",
      "14/14 [==============================] - 0s 18ms/step - loss: 0.1349 - val_loss: 0.0966\n",
      "Epoch 64/600\n",
      "14/14 [==============================] - 0s 22ms/step - loss: 0.1371 - val_loss: 0.0956\n",
      "Epoch 65/600\n",
      "14/14 [==============================] - 0s 20ms/step - loss: 0.1156 - val_loss: 0.1026\n",
      "Epoch 66/600\n",
      "14/14 [==============================] - 0s 22ms/step - loss: 0.1278 - val_loss: 0.1025\n",
      "Epoch 67/600\n",
      "14/14 [==============================] - 0s 22ms/step - loss: 0.1186 - val_loss: 0.0983\n",
      "Epoch 68/600\n",
      "14/14 [==============================] - 0s 24ms/step - loss: 0.1021 - val_loss: 0.0971\n",
      "Epoch 69/600\n",
      "14/14 [==============================] - 0s 20ms/step - loss: 0.1372 - val_loss: 0.1060\n",
      "Epoch 70/600\n",
      "14/14 [==============================] - 0s 20ms/step - loss: 0.1386 - val_loss: 0.0967\n",
      "Epoch 71/600\n",
      "14/14 [==============================] - 0s 26ms/step - loss: 0.1211 - val_loss: 0.0962\n",
      "Epoch 72/600\n",
      "14/14 [==============================] - 0s 36ms/step - loss: 0.1184 - val_loss: 0.0989\n",
      "Epoch 73/600\n",
      "14/14 [==============================] - 0s 24ms/step - loss: 0.1123 - val_loss: 0.0998\n",
      "Epoch 74/600\n",
      "14/14 [==============================] - 0s 25ms/step - loss: 0.1432 - val_loss: 0.1011\n",
      "Epoch 75/600\n",
      "14/14 [==============================] - 0s 22ms/step - loss: 0.1121 - val_loss: 0.1013\n",
      "Epoch 76/600\n",
      "14/14 [==============================] - 0s 27ms/step - loss: 0.1181 - val_loss: 0.0949\n",
      "Epoch 77/600\n",
      "14/14 [==============================] - 0s 20ms/step - loss: 0.0956 - val_loss: 0.0933\n",
      "Epoch 78/600\n",
      "14/14 [==============================] - 0s 27ms/step - loss: 0.1204 - val_loss: 0.0897\n",
      "Epoch 79/600\n",
      "14/14 [==============================] - 0s 24ms/step - loss: 0.1238 - val_loss: 0.0966\n",
      "Epoch 80/600\n",
      "14/14 [==============================] - 0s 25ms/step - loss: 0.1231 - val_loss: 0.1084\n",
      "Epoch 81/600\n",
      "14/14 [==============================] - 0s 21ms/step - loss: 0.1215 - val_loss: 0.0958\n",
      "Epoch 82/600\n"
     ]
    },
    {
     "name": "stdout",
     "output_type": "stream",
     "text": [
      "14/14 [==============================] - 0s 32ms/step - loss: 0.1252 - val_loss: 0.0938\n",
      "Epoch 83/600\n",
      "14/14 [==============================] - 0s 18ms/step - loss: 0.0942 - val_loss: 0.0989\n",
      "Epoch 84/600\n",
      "14/14 [==============================] - 0s 29ms/step - loss: 0.1019 - val_loss: 0.0946\n",
      "Epoch 85/600\n",
      "14/14 [==============================] - 0s 19ms/step - loss: 0.1062 - val_loss: 0.0971\n",
      "Epoch 86/600\n",
      "14/14 [==============================] - 0s 23ms/step - loss: 0.1035 - val_loss: 0.1041\n",
      "Epoch 87/600\n",
      "14/14 [==============================] - 0s 21ms/step - loss: 0.1127 - val_loss: 0.0894\n",
      "Epoch 88/600\n",
      "14/14 [==============================] - 0s 32ms/step - loss: 0.1011 - val_loss: 0.0984\n",
      "Epoch 89/600\n",
      "14/14 [==============================] - 0s 19ms/step - loss: 0.1198 - val_loss: 0.0934\n",
      "Epoch 90/600\n",
      "14/14 [==============================] - 0s 24ms/step - loss: 0.0994 - val_loss: 0.1087\n",
      "Epoch 91/600\n",
      "14/14 [==============================] - 0s 20ms/step - loss: 0.0965 - val_loss: 0.0976\n",
      "Epoch 92/600\n",
      "14/14 [==============================] - 0s 22ms/step - loss: 0.1030 - val_loss: 0.0905\n",
      "Epoch 93/600\n",
      "14/14 [==============================] - 0s 26ms/step - loss: 0.0971 - val_loss: 0.0934\n",
      "Epoch 94/600\n",
      "14/14 [==============================] - 0s 23ms/step - loss: 0.0850 - val_loss: 0.1062\n",
      "Epoch 95/600\n",
      "14/14 [==============================] - 0s 19ms/step - loss: 0.1201 - val_loss: 0.0947\n",
      "Epoch 96/600\n",
      "14/14 [==============================] - 0s 18ms/step - loss: 0.1350 - val_loss: 0.0884\n",
      "Epoch 97/600\n",
      "14/14 [==============================] - 0s 16ms/step - loss: 0.1030 - val_loss: 0.1129\n",
      "Epoch 98/600\n",
      "14/14 [==============================] - 0s 21ms/step - loss: 0.1249 - val_loss: 0.0990\n",
      "Epoch 99/600\n",
      "14/14 [==============================] - 0s 22ms/step - loss: 0.0895 - val_loss: 0.0923\n",
      "Epoch 100/600\n",
      "14/14 [==============================] - 0s 14ms/step - loss: 0.0922 - val_loss: 0.0928\n",
      "Epoch 101/600\n",
      "14/14 [==============================] - 0s 5ms/step - loss: 0.0907 - val_loss: 0.1034\n",
      "Epoch 102/600\n",
      "14/14 [==============================] - 0s 4ms/step - loss: 0.0877 - val_loss: 0.0941\n",
      "Epoch 103/600\n",
      "14/14 [==============================] - 0s 4ms/step - loss: 0.1025 - val_loss: 0.0963\n",
      "Epoch 104/600\n",
      "14/14 [==============================] - 0s 5ms/step - loss: 0.0783 - val_loss: 0.0980\n",
      "Epoch 105/600\n",
      "14/14 [==============================] - 0s 6ms/step - loss: 0.1002 - val_loss: 0.0993\n",
      "Epoch 106/600\n",
      "14/14 [==============================] - 0s 4ms/step - loss: 0.1078 - val_loss: 0.1113\n",
      "Epoch 107/600\n",
      "14/14 [==============================] - 0s 4ms/step - loss: 0.0889 - val_loss: 0.0918\n",
      "Epoch 108/600\n",
      "14/14 [==============================] - 0s 3ms/step - loss: 0.0904 - val_loss: 0.0904\n",
      "Epoch 109/600\n",
      "14/14 [==============================] - 0s 3ms/step - loss: 0.0800 - val_loss: 0.0929\n",
      "Epoch 110/600\n",
      "14/14 [==============================] - 0s 4ms/step - loss: 0.0826 - val_loss: 0.0910\n",
      "Epoch 111/600\n",
      "14/14 [==============================] - 0s 4ms/step - loss: 0.0896 - val_loss: 0.0938\n",
      "Epoch 112/600\n",
      "14/14 [==============================] - 0s 4ms/step - loss: 0.0862 - val_loss: 0.0901\n",
      "Epoch 113/600\n",
      "14/14 [==============================] - 0s 3ms/step - loss: 0.1054 - val_loss: 0.1340\n",
      "Epoch 114/600\n",
      "14/14 [==============================] - 0s 3ms/step - loss: 0.1179 - val_loss: 0.0930\n",
      "Epoch 115/600\n",
      "14/14 [==============================] - 0s 3ms/step - loss: 0.0897 - val_loss: 0.0925\n",
      "Epoch 116/600\n",
      "14/14 [==============================] - 0s 3ms/step - loss: 0.0906 - val_loss: 0.0966\n",
      "Epoch 117/600\n",
      "14/14 [==============================] - 0s 4ms/step - loss: 0.0793 - val_loss: 0.0901\n",
      "Epoch 118/600\n",
      "14/14 [==============================] - 0s 4ms/step - loss: 0.0869 - val_loss: 0.0939\n",
      "Epoch 119/600\n",
      "14/14 [==============================] - 0s 3ms/step - loss: 0.0874 - val_loss: 0.1017\n",
      "Epoch 120/600\n",
      "14/14 [==============================] - 0s 3ms/step - loss: 0.0733 - val_loss: 0.1066\n",
      "Epoch 121/600\n",
      "14/14 [==============================] - 0s 3ms/step - loss: 0.0838 - val_loss: 0.1088\n",
      "Epoch 00121: early stopping\n"
     ]
    },
    {
     "data": {
      "text/plain": [
       "<tensorflow.python.keras.callbacks.History at 0x144ce95b0>"
      ]
     },
     "execution_count": 25,
     "metadata": {},
     "output_type": "execute_result"
    }
   ],
   "source": [
    "model.fit(x=X_train, \n",
    "          y=y_train, \n",
    "          epochs=600,\n",
    "          validation_data=(X_test, y_test), verbose=1,\n",
    "          callbacks=[early_stop,board]\n",
    "          )"
   ]
  },
  {
   "cell_type": "markdown",
   "metadata": {},
   "source": [
    "# Running Tensorboard\n"
   ]
  },
  {
   "cell_type": "markdown",
   "metadata": {},
   "source": [
    "## Running through the Command Line\n",
    "\n",
    "**Watch video to see how to run Tensorboard through a command line call.**"
   ]
  },
  {
   "cell_type": "markdown",
   "metadata": {},
   "source": [
    "Tensorboard will run locally in your browser at [http://localhost:6006/](http://localhost:6006/)\n"
   ]
  },
  {
   "cell_type": "code",
   "execution_count": 26,
   "metadata": {},
   "outputs": [
    {
     "name": "stdout",
     "output_type": "stream",
     "text": [
      "logs/fit\n"
     ]
    }
   ],
   "source": [
    "print(log_directory)"
   ]
  },
  {
   "cell_type": "code",
   "execution_count": 27,
   "metadata": {},
   "outputs": [
    {
     "data": {
      "text/plain": [
       "'/Users/tamerhousseinhag/Documents/Python/UDEMY/TSFL2KRDL/ANN'"
      ]
     },
     "execution_count": 27,
     "metadata": {},
     "output_type": "execute_result"
    }
   ],
   "source": [
    "pwd"
   ]
  },
  {
   "cell_type": "markdown",
   "metadata": {},
   "source": [
    "### Use cd at your command line to change directory to the file path reported back by pwd or your current .py file location.\n",
    "### Then run this code at your command line or terminal"
   ]
  },
  {
   "cell_type": "code",
   "execution_count": 28,
   "metadata": {},
   "outputs": [
    {
     "ename": "SyntaxError",
     "evalue": "invalid syntax (<ipython-input-28-f1f15e2adad4>, line 1)",
     "output_type": "error",
     "traceback": [
      "\u001b[0;36m  File \u001b[0;32m\"<ipython-input-28-f1f15e2adad4>\"\u001b[0;36m, line \u001b[0;32m1\u001b[0m\n\u001b[0;31m    tensorboard --logdir logs\\fit\u001b[0m\n\u001b[0m                         ^\u001b[0m\n\u001b[0;31mSyntaxError\u001b[0m\u001b[0;31m:\u001b[0m invalid syntax\n"
     ]
    }
   ],
   "source": [
    "tensorboard --logdir logs\\fit "
   ]
  },
  {
   "cell_type": "code",
   "execution_count": null,
   "metadata": {},
   "outputs": [],
   "source": []
  }
 ],
 "metadata": {
  "kernelspec": {
   "display_name": "Python 3",
   "language": "python",
   "name": "python3"
  },
  "language_info": {
   "codemirror_mode": {
    "name": "ipython",
    "version": 3
   },
   "file_extension": ".py",
   "mimetype": "text/x-python",
   "name": "python",
   "nbconvert_exporter": "python",
   "pygments_lexer": "ipython3",
   "version": "3.8.5"
  }
 },
 "nbformat": 4,
 "nbformat_minor": 2
}

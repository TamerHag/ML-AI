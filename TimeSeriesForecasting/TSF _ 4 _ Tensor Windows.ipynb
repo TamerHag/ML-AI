{
 "cells": [
  {
   "cell_type": "code",
   "execution_count": 1,
   "metadata": {},
   "outputs": [],
   "source": [
    "import numpy as np\n",
    "import tensorflow as tf\n",
    "from tensorflow.keras import layers"
   ]
  },
  {
   "cell_type": "code",
   "execution_count": 2,
   "metadata": {},
   "outputs": [],
   "source": [
    "# Time windows\n",
    "\n",
    "# First, we will train a model to forecast the next step given the previous 20 steps,\n",
    "# therefore, we need to create a dataset of 20-step windows for training."
   ]
  },
  {
   "cell_type": "code",
   "execution_count": 3,
   "metadata": {},
   "outputs": [
    {
     "name": "stdout",
     "output_type": "stream",
     "text": [
      "0\n",
      "1\n",
      "2\n",
      "3\n",
      "4\n",
      "5\n",
      "6\n",
      "7\n",
      "8\n",
      "9\n"
     ]
    }
   ],
   "source": [
    "dataset=tf.data.Dataset.range(10)\n",
    "for val in dataset:\n",
    "    print(val.numpy())"
   ]
  },
  {
   "cell_type": "code",
   "execution_count": 4,
   "metadata": {},
   "outputs": [
    {
     "name": "stdout",
     "output_type": "stream",
     "text": [
      "0 1 2 3 4 \n",
      "1 2 3 4 5 \n",
      "2 3 4 5 6 \n",
      "3 4 5 6 7 \n",
      "4 5 6 7 8 \n",
      "5 6 7 8 9 \n",
      "6 7 8 9 \n",
      "7 8 9 \n",
      "8 9 \n",
      "9 \n"
     ]
    }
   ],
   "source": [
    "dataset=tf.data.Dataset.range(10)\n",
    "dataset=dataset.window(5,shift=1)\n",
    "for window_dataset in dataset:\n",
    "    for val in window_dataset:\n",
    "        print(val.numpy(),end=\" \")\n",
    "    print()"
   ]
  },
  {
   "cell_type": "code",
   "execution_count": 5,
   "metadata": {},
   "outputs": [
    {
     "name": "stdout",
     "output_type": "stream",
     "text": [
      "0 1 2 3 4 \n",
      "1 2 3 4 5 \n",
      "2 3 4 5 6 \n",
      "3 4 5 6 7 \n",
      "4 5 6 7 8 \n",
      "5 6 7 8 9 \n"
     ]
    }
   ],
   "source": [
    "dataset=tf.data.Dataset.range(10)\n",
    "dataset=dataset.window(5,shift=1,drop_remainder=True)\n",
    "for window_dataset in dataset:\n",
    "    for val in window_dataset:\n",
    "        print(val.numpy(),end=\" \")\n",
    "    print()"
   ]
  },
  {
   "cell_type": "code",
   "execution_count": 6,
   "metadata": {},
   "outputs": [
    {
     "name": "stdout",
     "output_type": "stream",
     "text": [
      "[0 1 2 3 4]\n",
      "[1 2 3 4 5]\n",
      "[2 3 4 5 6]\n",
      "[3 4 5 6 7]\n",
      "[4 5 6 7 8]\n",
      "[5 6 7 8 9]\n"
     ]
    }
   ],
   "source": [
    "dataset=tf.data.Dataset.range(10)\n",
    "dataset=dataset.window(5,shift=1,drop_remainder=True)\n",
    "dataset=dataset.flat_map(lambda window: window.batch(5))\n",
    "for window in dataset:\n",
    "#for window_dataset in dataset:\n",
    "    #for val in window_dataset:\n",
    "    print(window.numpy())\n",
    "    #print()"
   ]
  },
  {
   "cell_type": "code",
   "execution_count": 7,
   "metadata": {},
   "outputs": [
    {
     "name": "stdout",
     "output_type": "stream",
     "text": [
      "[0 1 2 3] [4]\n",
      "[1 2 3 4] [5]\n",
      "[2 3 4 5] [6]\n",
      "[3 4 5 6] [7]\n",
      "[4 5 6 7] [8]\n",
      "[5 6 7 8] [9]\n"
     ]
    }
   ],
   "source": [
    "dataset=tf.data.Dataset.range(10)\n",
    "dataset=dataset.window(5,shift=1,drop_remainder=True)\n",
    "dataset=dataset.flat_map(lambda window: window.batch(5))\n",
    "dataset=dataset.map(lambda window: (window[:-1],window[-1:]))\n",
    "for x,y in dataset:\n",
    "#for window in dataset:\n",
    "#for window_dataset in dataset:\n",
    "    #for val in window_dataset:\n",
    "    print(x.numpy(),y.numpy())\n",
    "    #print()"
   ]
  },
  {
   "cell_type": "code",
   "execution_count": 8,
   "metadata": {},
   "outputs": [
    {
     "name": "stdout",
     "output_type": "stream",
     "text": [
      "[4 5 6 7] [8]\n",
      "[2 3 4 5] [6]\n",
      "[0 1 2 3] [4]\n",
      "[5 6 7 8] [9]\n",
      "[3 4 5 6] [7]\n",
      "[1 2 3 4] [5]\n"
     ]
    }
   ],
   "source": [
    "dataset=tf.data.Dataset.range(10)\n",
    "dataset=dataset.window(5,shift=1,drop_remainder=True)\n",
    "dataset=dataset.flat_map(lambda window: window.batch(5))\n",
    "dataset=dataset.map(lambda window: (window[:-1],window[-1:]))\n",
    "dataset=dataset.shuffle(buffer_size=10)\n",
    "for x,y in dataset:\n",
    "#for window in dataset:\n",
    "#for window_dataset in dataset:\n",
    "    #for val in window_dataset:\n",
    "    print(x.numpy(),y.numpy())\n",
    "    #print()"
   ]
  },
  {
   "cell_type": "code",
   "execution_count": 9,
   "metadata": {},
   "outputs": [
    {
     "name": "stdout",
     "output_type": "stream",
     "text": [
      "x=  [[3 4 5 6]\n",
      " [1 2 3 4]]\n",
      "y=  [[7]\n",
      " [5]]\n",
      "x=  [[2 3 4 5]\n",
      " [5 6 7 8]]\n",
      "y=  [[6]\n",
      " [9]]\n",
      "x=  [[0 1 2 3]\n",
      " [4 5 6 7]]\n",
      "y=  [[4]\n",
      " [8]]\n"
     ]
    }
   ],
   "source": [
    "dataset=tf.data.Dataset.range(10)\n",
    "dataset=dataset.window(5,shift=1,drop_remainder=True)\n",
    "dataset=dataset.flat_map(lambda window: window.batch(5))\n",
    "dataset=dataset.map(lambda window: (window[:-1],window[-1:]))\n",
    "dataset=dataset.shuffle(buffer_size=10)\n",
    "dataset=dataset.batch(2).prefetch(1)\n",
    "for x,y in dataset:\n",
    "    print(\"x= \",x.numpy())\n",
    "    print(\"y= \",y.numpy())\n"
   ]
  },
  {
   "cell_type": "code",
   "execution_count": 10,
   "metadata": {},
   "outputs": [],
   "source": [
    "def window_dataset(series,window_size,batch_size=32,shuffle_buffer=1000):\n",
    "    dataset=tf.data.Dataset.from_tensor_slices(series)\n",
    "    dataset=dataset.window(window_size+1,shift=1,drop_remainder=True)\n",
    "    dataset=dataset.flat_map(lambda window: window.batch(window_size+1))\n",
    "    dataset=dataset.shuffle(shuffle_buffer)\n",
    "    dataset=dataset.map(lambda window: (window[:-1],window[-1:]))\n",
    "    dataset=dataset.batch(batch_size).prefetch(1)\n",
    "    return dataset"
   ]
  },
  {
   "cell_type": "code",
   "execution_count": null,
   "metadata": {},
   "outputs": [],
   "source": []
  }
 ],
 "metadata": {
  "kernelspec": {
   "display_name": "Python 3",
   "language": "python",
   "name": "python3"
  },
  "language_info": {
   "codemirror_mode": {
    "name": "ipython",
    "version": 3
   },
   "file_extension": ".py",
   "mimetype": "text/x-python",
   "name": "python",
   "nbconvert_exporter": "python",
   "pygments_lexer": "ipython3",
   "version": "3.6.10"
  }
 },
 "nbformat": 4,
 "nbformat_minor": 4
}

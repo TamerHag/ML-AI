{
 "cells": [
  {
   "cell_type": "code",
   "execution_count": 1,
   "metadata": {},
   "outputs": [],
   "source": [
    "import pandas as pd\n",
    "import numpy as np"
   ]
  },
  {
   "cell_type": "code",
   "execution_count": 2,
   "metadata": {},
   "outputs": [
    {
     "name": "stderr",
     "output_type": "stream",
     "text": [
      "/Users/tamerhousseinhag/opt/anaconda3/lib/python3.7/site-packages/pandas_datareader/compat/__init__.py:7: FutureWarning: pandas.util.testing is deprecated. Use the functions in the public API at pandas.testing instead.\n",
      "  from pandas.util.testing import assert_frame_equal\n"
     ]
    }
   ],
   "source": [
    "import seaborn as sns  \n",
    "import matplotlib.pyplot as plt\n",
    "from scipy.stats import norm\n",
    "# might be needed depending on your version of Jupyter\n",
    "%matplotlib inline\n",
    "from pandas_datareader import data as wb\n",
    "from scipy.stats import norm"
   ]
  },
  {
   "cell_type": "code",
   "execution_count": 3,
   "metadata": {},
   "outputs": [],
   "source": [
    "df = pd.read_csv('../Production/Pandey_Ch07_Production_Engineering_Code/data/Well_Monthly_ProdN2.csv')"
   ]
  },
  {
   "cell_type": "code",
   "execution_count": 4,
   "metadata": {},
   "outputs": [
    {
     "name": "stdout",
     "output_type": "stream",
     "text": [
      "<class 'pandas.core.frame.DataFrame'>\n",
      "RangeIndex: 79392 entries, 0 to 79391\n",
      "Data columns (total 5 columns):\n",
      " #   Column      Non-Null Count  Dtype \n",
      "---  ------      --------------  ----- \n",
      " 0   UWI         79392 non-null  object\n",
      " 1   START_DATE  79392 non-null  object\n",
      " 2   OIL         79392 non-null  int64 \n",
      " 3   GAS         79392 non-null  int64 \n",
      " 4   WATER       79392 non-null  int64 \n",
      "dtypes: int64(3), object(2)\n",
      "memory usage: 3.0+ MB\n"
     ]
    }
   ],
   "source": [
    "df.info()"
   ]
  },
  {
   "cell_type": "code",
   "execution_count": 5,
   "metadata": {},
   "outputs": [
    {
     "data": {
      "text/plain": [
       "UWI           0\n",
       "START_DATE    0\n",
       "OIL           0\n",
       "GAS           0\n",
       "WATER         0\n",
       "dtype: int64"
      ]
     },
     "execution_count": 5,
     "metadata": {},
     "output_type": "execute_result"
    }
   ],
   "source": [
    "df.isnull().sum()"
   ]
  },
  {
   "cell_type": "code",
   "execution_count": 6,
   "metadata": {
    "scrolled": true
   },
   "outputs": [
    {
     "data": {
      "text/html": [
       "<div>\n",
       "<style scoped>\n",
       "    .dataframe tbody tr th:only-of-type {\n",
       "        vertical-align: middle;\n",
       "    }\n",
       "\n",
       "    .dataframe tbody tr th {\n",
       "        vertical-align: top;\n",
       "    }\n",
       "\n",
       "    .dataframe thead th {\n",
       "        text-align: right;\n",
       "    }\n",
       "</style>\n",
       "<table border=\"1\" class=\"dataframe\">\n",
       "  <thead>\n",
       "    <tr style=\"text-align: right;\">\n",
       "      <th></th>\n",
       "      <th>UWI</th>\n",
       "      <th>START_DATE</th>\n",
       "      <th>OIL</th>\n",
       "      <th>GAS</th>\n",
       "      <th>WATER</th>\n",
       "    </tr>\n",
       "  </thead>\n",
       "  <tbody>\n",
       "    <tr>\n",
       "      <th>0</th>\n",
       "      <td>BR819</td>\n",
       "      <td>1965-05-01</td>\n",
       "      <td>1785</td>\n",
       "      <td>0</td>\n",
       "      <td>0</td>\n",
       "    </tr>\n",
       "    <tr>\n",
       "      <th>1</th>\n",
       "      <td>AB257</td>\n",
       "      <td>1973-11-01</td>\n",
       "      <td>26550</td>\n",
       "      <td>22470</td>\n",
       "      <td>0</td>\n",
       "    </tr>\n",
       "    <tr>\n",
       "      <th>2</th>\n",
       "      <td>TR758</td>\n",
       "      <td>1973-11-01</td>\n",
       "      <td>122600</td>\n",
       "      <td>112100</td>\n",
       "      <td>0</td>\n",
       "    </tr>\n",
       "    <tr>\n",
       "      <th>3</th>\n",
       "      <td>ON369</td>\n",
       "      <td>1973-11-01</td>\n",
       "      <td>65134</td>\n",
       "      <td>36450</td>\n",
       "      <td>0</td>\n",
       "    </tr>\n",
       "    <tr>\n",
       "      <th>4</th>\n",
       "      <td>DS652</td>\n",
       "      <td>1973-11-01</td>\n",
       "      <td>61277</td>\n",
       "      <td>60180</td>\n",
       "      <td>0</td>\n",
       "    </tr>\n",
       "  </tbody>\n",
       "</table>\n",
       "</div>"
      ],
      "text/plain": [
       "     UWI  START_DATE     OIL     GAS  WATER\n",
       "0  BR819  1965-05-01    1785       0      0\n",
       "1  AB257  1973-11-01   26550   22470      0\n",
       "2  TR758  1973-11-01  122600  112100      0\n",
       "3  ON369  1973-11-01   65134   36450      0\n",
       "4  DS652  1973-11-01   61277   60180      0"
      ]
     },
     "execution_count": 6,
     "metadata": {},
     "output_type": "execute_result"
    }
   ],
   "source": [
    "df.head()"
   ]
  },
  {
   "cell_type": "code",
   "execution_count": 7,
   "metadata": {},
   "outputs": [
    {
     "data": {
      "text/html": [
       "<div>\n",
       "<style scoped>\n",
       "    .dataframe tbody tr th:only-of-type {\n",
       "        vertical-align: middle;\n",
       "    }\n",
       "\n",
       "    .dataframe tbody tr th {\n",
       "        vertical-align: top;\n",
       "    }\n",
       "\n",
       "    .dataframe thead th {\n",
       "        text-align: right;\n",
       "    }\n",
       "</style>\n",
       "<table border=\"1\" class=\"dataframe\">\n",
       "  <thead>\n",
       "    <tr style=\"text-align: right;\">\n",
       "      <th></th>\n",
       "      <th>UWI</th>\n",
       "      <th>START_DATE</th>\n",
       "      <th>OIL</th>\n",
       "      <th>GAS</th>\n",
       "      <th>WATER</th>\n",
       "    </tr>\n",
       "  </thead>\n",
       "  <tbody>\n",
       "    <tr>\n",
       "      <th>0</th>\n",
       "      <td>BR819</td>\n",
       "      <td>1965-05-01</td>\n",
       "      <td>1785</td>\n",
       "      <td>0</td>\n",
       "      <td>0</td>\n",
       "    </tr>\n",
       "    <tr>\n",
       "      <th>1</th>\n",
       "      <td>AB257</td>\n",
       "      <td>1973-11-01</td>\n",
       "      <td>26550</td>\n",
       "      <td>22470</td>\n",
       "      <td>0</td>\n",
       "    </tr>\n",
       "    <tr>\n",
       "      <th>2</th>\n",
       "      <td>TR758</td>\n",
       "      <td>1973-11-01</td>\n",
       "      <td>122600</td>\n",
       "      <td>112100</td>\n",
       "      <td>0</td>\n",
       "    </tr>\n",
       "    <tr>\n",
       "      <th>3</th>\n",
       "      <td>ON369</td>\n",
       "      <td>1973-11-01</td>\n",
       "      <td>65134</td>\n",
       "      <td>36450</td>\n",
       "      <td>0</td>\n",
       "    </tr>\n",
       "    <tr>\n",
       "      <th>4</th>\n",
       "      <td>DS652</td>\n",
       "      <td>1973-11-01</td>\n",
       "      <td>61277</td>\n",
       "      <td>60180</td>\n",
       "      <td>0</td>\n",
       "    </tr>\n",
       "    <tr>\n",
       "      <th>...</th>\n",
       "      <td>...</td>\n",
       "      <td>...</td>\n",
       "      <td>...</td>\n",
       "      <td>...</td>\n",
       "      <td>...</td>\n",
       "    </tr>\n",
       "    <tr>\n",
       "      <th>79387</th>\n",
       "      <td>RK103</td>\n",
       "      <td>2018-06-01</td>\n",
       "      <td>39467</td>\n",
       "      <td>44068</td>\n",
       "      <td>0</td>\n",
       "    </tr>\n",
       "    <tr>\n",
       "      <th>79388</th>\n",
       "      <td>TR855</td>\n",
       "      <td>2018-06-01</td>\n",
       "      <td>38581</td>\n",
       "      <td>44513</td>\n",
       "      <td>31049</td>\n",
       "    </tr>\n",
       "    <tr>\n",
       "      <th>79389</th>\n",
       "      <td>BR477</td>\n",
       "      <td>2018-06-01</td>\n",
       "      <td>5740</td>\n",
       "      <td>4052</td>\n",
       "      <td>434</td>\n",
       "    </tr>\n",
       "    <tr>\n",
       "      <th>79390</th>\n",
       "      <td>RK301</td>\n",
       "      <td>2018-06-01</td>\n",
       "      <td>0</td>\n",
       "      <td>0</td>\n",
       "      <td>0</td>\n",
       "    </tr>\n",
       "    <tr>\n",
       "      <th>79391</th>\n",
       "      <td>CC479</td>\n",
       "      <td>2018-06-01</td>\n",
       "      <td>0</td>\n",
       "      <td>0</td>\n",
       "      <td>0</td>\n",
       "    </tr>\n",
       "  </tbody>\n",
       "</table>\n",
       "<p>79392 rows × 5 columns</p>\n",
       "</div>"
      ],
      "text/plain": [
       "         UWI  START_DATE     OIL     GAS  WATER\n",
       "0      BR819  1965-05-01    1785       0      0\n",
       "1      AB257  1973-11-01   26550   22470      0\n",
       "2      TR758  1973-11-01  122600  112100      0\n",
       "3      ON369  1973-11-01   65134   36450      0\n",
       "4      DS652  1973-11-01   61277   60180      0\n",
       "...      ...         ...     ...     ...    ...\n",
       "79387  RK103  2018-06-01   39467   44068      0\n",
       "79388  TR855  2018-06-01   38581   44513  31049\n",
       "79389  BR477  2018-06-01    5740    4052    434\n",
       "79390  RK301  2018-06-01       0       0      0\n",
       "79391  CC479  2018-06-01       0       0      0\n",
       "\n",
       "[79392 rows x 5 columns]"
      ]
     },
     "execution_count": 7,
     "metadata": {},
     "output_type": "execute_result"
    }
   ],
   "source": [
    "df"
   ]
  },
  {
   "cell_type": "code",
   "execution_count": 8,
   "metadata": {},
   "outputs": [
    {
     "data": {
      "text/plain": [
       "WATER   -0.077144\n",
       "GAS      0.959902\n",
       "OIL      1.000000\n",
       "Name: OIL, dtype: float64"
      ]
     },
     "execution_count": 8,
     "metadata": {},
     "output_type": "execute_result"
    }
   ],
   "source": [
    "df.corr()['OIL'].sort_values()"
   ]
  },
  {
   "cell_type": "code",
   "execution_count": 9,
   "metadata": {},
   "outputs": [
    {
     "data": {
      "text/plain": [
       "WATER   -0.049226\n",
       "OIL      0.959902\n",
       "GAS      1.000000\n",
       "Name: GAS, dtype: float64"
      ]
     },
     "execution_count": 9,
     "metadata": {},
     "output_type": "execute_result"
    }
   ],
   "source": [
    "df.corr()['GAS'].sort_values()"
   ]
  },
  {
   "cell_type": "code",
   "execution_count": 10,
   "metadata": {},
   "outputs": [
    {
     "data": {
      "text/plain": [
       "OIL     -0.077144\n",
       "GAS     -0.049226\n",
       "WATER    1.000000\n",
       "Name: WATER, dtype: float64"
      ]
     },
     "execution_count": 10,
     "metadata": {},
     "output_type": "execute_result"
    }
   ],
   "source": [
    "df.corr()['WATER'].sort_values()"
   ]
  },
  {
   "cell_type": "code",
   "execution_count": 11,
   "metadata": {},
   "outputs": [
    {
     "data": {
      "text/html": [
       "<div>\n",
       "<style scoped>\n",
       "    .dataframe tbody tr th:only-of-type {\n",
       "        vertical-align: middle;\n",
       "    }\n",
       "\n",
       "    .dataframe tbody tr th {\n",
       "        vertical-align: top;\n",
       "    }\n",
       "\n",
       "    .dataframe thead th {\n",
       "        text-align: right;\n",
       "    }\n",
       "</style>\n",
       "<table border=\"1\" class=\"dataframe\">\n",
       "  <thead>\n",
       "    <tr style=\"text-align: right;\">\n",
       "      <th></th>\n",
       "      <th>OIL</th>\n",
       "      <th>GAS</th>\n",
       "      <th>WATER</th>\n",
       "    </tr>\n",
       "  </thead>\n",
       "  <tbody>\n",
       "    <tr>\n",
       "      <th>OIL</th>\n",
       "      <td>1.000000</td>\n",
       "      <td>0.959902</td>\n",
       "      <td>-0.077144</td>\n",
       "    </tr>\n",
       "    <tr>\n",
       "      <th>GAS</th>\n",
       "      <td>0.959902</td>\n",
       "      <td>1.000000</td>\n",
       "      <td>-0.049226</td>\n",
       "    </tr>\n",
       "    <tr>\n",
       "      <th>WATER</th>\n",
       "      <td>-0.077144</td>\n",
       "      <td>-0.049226</td>\n",
       "      <td>1.000000</td>\n",
       "    </tr>\n",
       "  </tbody>\n",
       "</table>\n",
       "</div>"
      ],
      "text/plain": [
       "            OIL       GAS     WATER\n",
       "OIL    1.000000  0.959902 -0.077144\n",
       "GAS    0.959902  1.000000 -0.049226\n",
       "WATER -0.077144 -0.049226  1.000000"
      ]
     },
     "execution_count": 11,
     "metadata": {},
     "output_type": "execute_result"
    }
   ],
   "source": [
    "df.corr()"
   ]
  },
  {
   "cell_type": "code",
   "execution_count": 12,
   "metadata": {},
   "outputs": [],
   "source": [
    "from datetime import datetime\n",
    "import statsmodels.api as sm"
   ]
  },
  {
   "cell_type": "code",
   "execution_count": 13,
   "metadata": {},
   "outputs": [],
   "source": [
    "df.set_index('START_DATE',inplace=True)"
   ]
  },
  {
   "cell_type": "code",
   "execution_count": 14,
   "metadata": {},
   "outputs": [
    {
     "data": {
      "text/html": [
       "<div>\n",
       "<style scoped>\n",
       "    .dataframe tbody tr th:only-of-type {\n",
       "        vertical-align: middle;\n",
       "    }\n",
       "\n",
       "    .dataframe tbody tr th {\n",
       "        vertical-align: top;\n",
       "    }\n",
       "\n",
       "    .dataframe thead th {\n",
       "        text-align: right;\n",
       "    }\n",
       "</style>\n",
       "<table border=\"1\" class=\"dataframe\">\n",
       "  <thead>\n",
       "    <tr style=\"text-align: right;\">\n",
       "      <th></th>\n",
       "      <th>UWI</th>\n",
       "      <th>OIL</th>\n",
       "      <th>GAS</th>\n",
       "      <th>WATER</th>\n",
       "    </tr>\n",
       "    <tr>\n",
       "      <th>START_DATE</th>\n",
       "      <th></th>\n",
       "      <th></th>\n",
       "      <th></th>\n",
       "      <th></th>\n",
       "    </tr>\n",
       "  </thead>\n",
       "  <tbody>\n",
       "    <tr>\n",
       "      <th>1965-05-01</th>\n",
       "      <td>BR819</td>\n",
       "      <td>1785</td>\n",
       "      <td>0</td>\n",
       "      <td>0</td>\n",
       "    </tr>\n",
       "    <tr>\n",
       "      <th>1973-11-01</th>\n",
       "      <td>AB257</td>\n",
       "      <td>26550</td>\n",
       "      <td>22470</td>\n",
       "      <td>0</td>\n",
       "    </tr>\n",
       "    <tr>\n",
       "      <th>1973-11-01</th>\n",
       "      <td>TR758</td>\n",
       "      <td>122600</td>\n",
       "      <td>112100</td>\n",
       "      <td>0</td>\n",
       "    </tr>\n",
       "    <tr>\n",
       "      <th>1973-11-01</th>\n",
       "      <td>ON369</td>\n",
       "      <td>65134</td>\n",
       "      <td>36450</td>\n",
       "      <td>0</td>\n",
       "    </tr>\n",
       "    <tr>\n",
       "      <th>1973-11-01</th>\n",
       "      <td>DS652</td>\n",
       "      <td>61277</td>\n",
       "      <td>60180</td>\n",
       "      <td>0</td>\n",
       "    </tr>\n",
       "    <tr>\n",
       "      <th>...</th>\n",
       "      <td>...</td>\n",
       "      <td>...</td>\n",
       "      <td>...</td>\n",
       "      <td>...</td>\n",
       "    </tr>\n",
       "    <tr>\n",
       "      <th>2018-06-01</th>\n",
       "      <td>RK103</td>\n",
       "      <td>39467</td>\n",
       "      <td>44068</td>\n",
       "      <td>0</td>\n",
       "    </tr>\n",
       "    <tr>\n",
       "      <th>2018-06-01</th>\n",
       "      <td>TR855</td>\n",
       "      <td>38581</td>\n",
       "      <td>44513</td>\n",
       "      <td>31049</td>\n",
       "    </tr>\n",
       "    <tr>\n",
       "      <th>2018-06-01</th>\n",
       "      <td>BR477</td>\n",
       "      <td>5740</td>\n",
       "      <td>4052</td>\n",
       "      <td>434</td>\n",
       "    </tr>\n",
       "    <tr>\n",
       "      <th>2018-06-01</th>\n",
       "      <td>RK301</td>\n",
       "      <td>0</td>\n",
       "      <td>0</td>\n",
       "      <td>0</td>\n",
       "    </tr>\n",
       "    <tr>\n",
       "      <th>2018-06-01</th>\n",
       "      <td>CC479</td>\n",
       "      <td>0</td>\n",
       "      <td>0</td>\n",
       "      <td>0</td>\n",
       "    </tr>\n",
       "  </tbody>\n",
       "</table>\n",
       "<p>79392 rows × 4 columns</p>\n",
       "</div>"
      ],
      "text/plain": [
       "              UWI     OIL     GAS  WATER\n",
       "START_DATE                              \n",
       "1965-05-01  BR819    1785       0      0\n",
       "1973-11-01  AB257   26550   22470      0\n",
       "1973-11-01  TR758  122600  112100      0\n",
       "1973-11-01  ON369   65134   36450      0\n",
       "1973-11-01  DS652   61277   60180      0\n",
       "...           ...     ...     ...    ...\n",
       "2018-06-01  RK103   39467   44068      0\n",
       "2018-06-01  TR855   38581   44513  31049\n",
       "2018-06-01  BR477    5740    4052    434\n",
       "2018-06-01  RK301       0       0      0\n",
       "2018-06-01  CC479       0       0      0\n",
       "\n",
       "[79392 rows x 4 columns]"
      ]
     },
     "execution_count": 14,
     "metadata": {},
     "output_type": "execute_result"
    }
   ],
   "source": [
    "df"
   ]
  },
  {
   "cell_type": "code",
   "execution_count": 15,
   "metadata": {},
   "outputs": [],
   "source": [
    "df = df.drop('WATER',axis=1)"
   ]
  },
  {
   "cell_type": "code",
   "execution_count": 16,
   "metadata": {},
   "outputs": [],
   "source": [
    "df = df.drop('UWI',axis=1)"
   ]
  },
  {
   "cell_type": "code",
   "execution_count": 17,
   "metadata": {},
   "outputs": [],
   "source": [
    "df = df.drop('GAS',axis=1)"
   ]
  },
  {
   "cell_type": "code",
   "execution_count": 18,
   "metadata": {},
   "outputs": [
    {
     "data": {
      "text/html": [
       "<div>\n",
       "<style scoped>\n",
       "    .dataframe tbody tr th:only-of-type {\n",
       "        vertical-align: middle;\n",
       "    }\n",
       "\n",
       "    .dataframe tbody tr th {\n",
       "        vertical-align: top;\n",
       "    }\n",
       "\n",
       "    .dataframe thead th {\n",
       "        text-align: right;\n",
       "    }\n",
       "</style>\n",
       "<table border=\"1\" class=\"dataframe\">\n",
       "  <thead>\n",
       "    <tr style=\"text-align: right;\">\n",
       "      <th></th>\n",
       "      <th>OIL</th>\n",
       "    </tr>\n",
       "    <tr>\n",
       "      <th>START_DATE</th>\n",
       "      <th></th>\n",
       "    </tr>\n",
       "  </thead>\n",
       "  <tbody>\n",
       "    <tr>\n",
       "      <th>1965-05-01</th>\n",
       "      <td>1785</td>\n",
       "    </tr>\n",
       "    <tr>\n",
       "      <th>1973-11-01</th>\n",
       "      <td>26550</td>\n",
       "    </tr>\n",
       "    <tr>\n",
       "      <th>1973-11-01</th>\n",
       "      <td>122600</td>\n",
       "    </tr>\n",
       "    <tr>\n",
       "      <th>1973-11-01</th>\n",
       "      <td>65134</td>\n",
       "    </tr>\n",
       "    <tr>\n",
       "      <th>1973-11-01</th>\n",
       "      <td>61277</td>\n",
       "    </tr>\n",
       "    <tr>\n",
       "      <th>...</th>\n",
       "      <td>...</td>\n",
       "    </tr>\n",
       "    <tr>\n",
       "      <th>2018-06-01</th>\n",
       "      <td>39467</td>\n",
       "    </tr>\n",
       "    <tr>\n",
       "      <th>2018-06-01</th>\n",
       "      <td>38581</td>\n",
       "    </tr>\n",
       "    <tr>\n",
       "      <th>2018-06-01</th>\n",
       "      <td>5740</td>\n",
       "    </tr>\n",
       "    <tr>\n",
       "      <th>2018-06-01</th>\n",
       "      <td>0</td>\n",
       "    </tr>\n",
       "    <tr>\n",
       "      <th>2018-06-01</th>\n",
       "      <td>0</td>\n",
       "    </tr>\n",
       "  </tbody>\n",
       "</table>\n",
       "<p>79392 rows × 1 columns</p>\n",
       "</div>"
      ],
      "text/plain": [
       "               OIL\n",
       "START_DATE        \n",
       "1965-05-01    1785\n",
       "1973-11-01   26550\n",
       "1973-11-01  122600\n",
       "1973-11-01   65134\n",
       "1973-11-01   61277\n",
       "...            ...\n",
       "2018-06-01   39467\n",
       "2018-06-01   38581\n",
       "2018-06-01    5740\n",
       "2018-06-01       0\n",
       "2018-06-01       0\n",
       "\n",
       "[79392 rows x 1 columns]"
      ]
     },
     "execution_count": 18,
     "metadata": {},
     "output_type": "execute_result"
    }
   ],
   "source": [
    "df"
   ]
  },
  {
   "cell_type": "code",
   "execution_count": 19,
   "metadata": {},
   "outputs": [],
   "source": [
    "from scipy import stats\n",
    "import statsmodels.api as sm"
   ]
  },
  {
   "cell_type": "code",
   "execution_count": 20,
   "metadata": {},
   "outputs": [],
   "source": [
    "df=df.replace(0, np.nan)"
   ]
  },
  {
   "cell_type": "code",
   "execution_count": 21,
   "metadata": {},
   "outputs": [],
   "source": [
    "df=df.replace(0, np.nan).dropna(subset=[\"OIL\"], how=\"all\")"
   ]
  },
  {
   "cell_type": "code",
   "execution_count": 22,
   "metadata": {},
   "outputs": [
    {
     "data": {
      "text/html": [
       "<div>\n",
       "<style scoped>\n",
       "    .dataframe tbody tr th:only-of-type {\n",
       "        vertical-align: middle;\n",
       "    }\n",
       "\n",
       "    .dataframe tbody tr th {\n",
       "        vertical-align: top;\n",
       "    }\n",
       "\n",
       "    .dataframe thead th {\n",
       "        text-align: right;\n",
       "    }\n",
       "</style>\n",
       "<table border=\"1\" class=\"dataframe\">\n",
       "  <thead>\n",
       "    <tr style=\"text-align: right;\">\n",
       "      <th></th>\n",
       "      <th>OIL</th>\n",
       "    </tr>\n",
       "    <tr>\n",
       "      <th>START_DATE</th>\n",
       "      <th></th>\n",
       "    </tr>\n",
       "  </thead>\n",
       "  <tbody>\n",
       "    <tr>\n",
       "      <th>1965-05-01</th>\n",
       "      <td>1785.0</td>\n",
       "    </tr>\n",
       "    <tr>\n",
       "      <th>1973-11-01</th>\n",
       "      <td>26550.0</td>\n",
       "    </tr>\n",
       "    <tr>\n",
       "      <th>1973-11-01</th>\n",
       "      <td>122600.0</td>\n",
       "    </tr>\n",
       "    <tr>\n",
       "      <th>1973-11-01</th>\n",
       "      <td>65134.0</td>\n",
       "    </tr>\n",
       "    <tr>\n",
       "      <th>1973-11-01</th>\n",
       "      <td>61277.0</td>\n",
       "    </tr>\n",
       "    <tr>\n",
       "      <th>...</th>\n",
       "      <td>...</td>\n",
       "    </tr>\n",
       "    <tr>\n",
       "      <th>2018-06-01</th>\n",
       "      <td>41652.0</td>\n",
       "    </tr>\n",
       "    <tr>\n",
       "      <th>2018-06-01</th>\n",
       "      <td>47494.0</td>\n",
       "    </tr>\n",
       "    <tr>\n",
       "      <th>2018-06-01</th>\n",
       "      <td>39467.0</td>\n",
       "    </tr>\n",
       "    <tr>\n",
       "      <th>2018-06-01</th>\n",
       "      <td>38581.0</td>\n",
       "    </tr>\n",
       "    <tr>\n",
       "      <th>2018-06-01</th>\n",
       "      <td>5740.0</td>\n",
       "    </tr>\n",
       "  </tbody>\n",
       "</table>\n",
       "<p>76311 rows × 1 columns</p>\n",
       "</div>"
      ],
      "text/plain": [
       "                 OIL\n",
       "START_DATE          \n",
       "1965-05-01    1785.0\n",
       "1973-11-01   26550.0\n",
       "1973-11-01  122600.0\n",
       "1973-11-01   65134.0\n",
       "1973-11-01   61277.0\n",
       "...              ...\n",
       "2018-06-01   41652.0\n",
       "2018-06-01   47494.0\n",
       "2018-06-01   39467.0\n",
       "2018-06-01   38581.0\n",
       "2018-06-01    5740.0\n",
       "\n",
       "[76311 rows x 1 columns]"
      ]
     },
     "execution_count": 22,
     "metadata": {},
     "output_type": "execute_result"
    }
   ],
   "source": [
    "df"
   ]
  },
  {
   "cell_type": "code",
   "execution_count": 23,
   "metadata": {},
   "outputs": [
    {
     "data": {
      "text/html": [
       "<div>\n",
       "<style scoped>\n",
       "    .dataframe tbody tr th:only-of-type {\n",
       "        vertical-align: middle;\n",
       "    }\n",
       "\n",
       "    .dataframe tbody tr th {\n",
       "        vertical-align: top;\n",
       "    }\n",
       "\n",
       "    .dataframe thead th {\n",
       "        text-align: right;\n",
       "    }\n",
       "</style>\n",
       "<table border=\"1\" class=\"dataframe\">\n",
       "  <thead>\n",
       "    <tr style=\"text-align: right;\">\n",
       "      <th></th>\n",
       "      <th>OIL</th>\n",
       "    </tr>\n",
       "    <tr>\n",
       "      <th>START_DATE</th>\n",
       "      <th></th>\n",
       "    </tr>\n",
       "  </thead>\n",
       "  <tbody>\n",
       "    <tr>\n",
       "      <th>1965-05-01</th>\n",
       "      <td>NaN</td>\n",
       "    </tr>\n",
       "    <tr>\n",
       "      <th>1973-11-01</th>\n",
       "      <td>2.699611</td>\n",
       "    </tr>\n",
       "    <tr>\n",
       "      <th>1973-11-01</th>\n",
       "      <td>1.529897</td>\n",
       "    </tr>\n",
       "    <tr>\n",
       "      <th>1973-11-01</th>\n",
       "      <td>-0.632480</td>\n",
       "    </tr>\n",
       "    <tr>\n",
       "      <th>1973-11-01</th>\n",
       "      <td>-0.061042</td>\n",
       "    </tr>\n",
       "    <tr>\n",
       "      <th>...</th>\n",
       "      <td>...</td>\n",
       "    </tr>\n",
       "    <tr>\n",
       "      <th>2018-06-01</th>\n",
       "      <td>0.111107</td>\n",
       "    </tr>\n",
       "    <tr>\n",
       "      <th>2018-06-01</th>\n",
       "      <td>0.131254</td>\n",
       "    </tr>\n",
       "    <tr>\n",
       "      <th>2018-06-01</th>\n",
       "      <td>-0.185139</td>\n",
       "    </tr>\n",
       "    <tr>\n",
       "      <th>2018-06-01</th>\n",
       "      <td>-0.022705</td>\n",
       "    </tr>\n",
       "    <tr>\n",
       "      <th>2018-06-01</th>\n",
       "      <td>-1.905301</td>\n",
       "    </tr>\n",
       "  </tbody>\n",
       "</table>\n",
       "<p>76311 rows × 1 columns</p>\n",
       "</div>"
      ],
      "text/plain": [
       "                 OIL\n",
       "START_DATE          \n",
       "1965-05-01       NaN\n",
       "1973-11-01  2.699611\n",
       "1973-11-01  1.529897\n",
       "1973-11-01 -0.632480\n",
       "1973-11-01 -0.061042\n",
       "...              ...\n",
       "2018-06-01  0.111107\n",
       "2018-06-01  0.131254\n",
       "2018-06-01 -0.185139\n",
       "2018-06-01 -0.022705\n",
       "2018-06-01 -1.905301\n",
       "\n",
       "[76311 rows x 1 columns]"
      ]
     },
     "execution_count": 23,
     "metadata": {},
     "output_type": "execute_result"
    }
   ],
   "source": [
    "log_returns=np.log(1+df.pct_change())\n",
    "log_returns"
   ]
  },
  {
   "cell_type": "code",
   "execution_count": 24,
   "metadata": {},
   "outputs": [],
   "source": [
    "#log_returns=log_returns.replace([np.inf, -np.inf], np.nan)"
   ]
  },
  {
   "cell_type": "code",
   "execution_count": 25,
   "metadata": {},
   "outputs": [],
   "source": [
    "#df=df.dropna(subset=[\"OIL\"], how=\"all\")"
   ]
  },
  {
   "cell_type": "code",
   "execution_count": 26,
   "metadata": {},
   "outputs": [
    {
     "data": {
      "text/html": [
       "<div>\n",
       "<style scoped>\n",
       "    .dataframe tbody tr th:only-of-type {\n",
       "        vertical-align: middle;\n",
       "    }\n",
       "\n",
       "    .dataframe tbody tr th {\n",
       "        vertical-align: top;\n",
       "    }\n",
       "\n",
       "    .dataframe thead th {\n",
       "        text-align: right;\n",
       "    }\n",
       "</style>\n",
       "<table border=\"1\" class=\"dataframe\">\n",
       "  <thead>\n",
       "    <tr style=\"text-align: right;\">\n",
       "      <th></th>\n",
       "      <th>OIL</th>\n",
       "    </tr>\n",
       "    <tr>\n",
       "      <th>START_DATE</th>\n",
       "      <th></th>\n",
       "    </tr>\n",
       "  </thead>\n",
       "  <tbody>\n",
       "    <tr>\n",
       "      <th>1965-05-01</th>\n",
       "      <td>NaN</td>\n",
       "    </tr>\n",
       "    <tr>\n",
       "      <th>1973-11-01</th>\n",
       "      <td>2.699611</td>\n",
       "    </tr>\n",
       "    <tr>\n",
       "      <th>1973-11-01</th>\n",
       "      <td>1.529897</td>\n",
       "    </tr>\n",
       "    <tr>\n",
       "      <th>1973-11-01</th>\n",
       "      <td>-0.632480</td>\n",
       "    </tr>\n",
       "    <tr>\n",
       "      <th>1973-11-01</th>\n",
       "      <td>-0.061042</td>\n",
       "    </tr>\n",
       "    <tr>\n",
       "      <th>...</th>\n",
       "      <td>...</td>\n",
       "    </tr>\n",
       "    <tr>\n",
       "      <th>2018-06-01</th>\n",
       "      <td>0.111107</td>\n",
       "    </tr>\n",
       "    <tr>\n",
       "      <th>2018-06-01</th>\n",
       "      <td>0.131254</td>\n",
       "    </tr>\n",
       "    <tr>\n",
       "      <th>2018-06-01</th>\n",
       "      <td>-0.185139</td>\n",
       "    </tr>\n",
       "    <tr>\n",
       "      <th>2018-06-01</th>\n",
       "      <td>-0.022705</td>\n",
       "    </tr>\n",
       "    <tr>\n",
       "      <th>2018-06-01</th>\n",
       "      <td>-1.905301</td>\n",
       "    </tr>\n",
       "  </tbody>\n",
       "</table>\n",
       "<p>76311 rows × 1 columns</p>\n",
       "</div>"
      ],
      "text/plain": [
       "                 OIL\n",
       "START_DATE          \n",
       "1965-05-01       NaN\n",
       "1973-11-01  2.699611\n",
       "1973-11-01  1.529897\n",
       "1973-11-01 -0.632480\n",
       "1973-11-01 -0.061042\n",
       "...              ...\n",
       "2018-06-01  0.111107\n",
       "2018-06-01  0.131254\n",
       "2018-06-01 -0.185139\n",
       "2018-06-01 -0.022705\n",
       "2018-06-01 -1.905301\n",
       "\n",
       "[76311 rows x 1 columns]"
      ]
     },
     "execution_count": 26,
     "metadata": {},
     "output_type": "execute_result"
    }
   ],
   "source": [
    "log_returns"
   ]
  },
  {
   "cell_type": "code",
   "execution_count": 27,
   "metadata": {},
   "outputs": [
    {
     "data": {
      "image/png": "[encoded data removed]",
      "text/plain": [
       "<Figure size 864x576 with 1 Axes>"
      ]
     },
     "metadata": {
      "needs_background": "light"
     },
     "output_type": "display_data"
    }
   ],
   "source": [
    "log_returns.plot(figsize=(12,8));"
   ]
  },
  {
   "cell_type": "code",
   "execution_count": 28,
   "metadata": {},
   "outputs": [
    {
     "data": {
      "text/plain": [
       "OIL    0.000015\n",
       "dtype: float64"
      ]
     },
     "execution_count": 28,
     "metadata": {},
     "output_type": "execute_result"
    }
   ],
   "source": [
    "u=log_returns.mean()\n",
    "u"
   ]
  },
  {
   "cell_type": "code",
   "execution_count": 29,
   "metadata": {},
   "outputs": [
    {
     "data": {
      "text/plain": [
       "OIL    0.000008\n",
       "dtype: float64"
      ]
     },
     "execution_count": 29,
     "metadata": {},
     "output_type": "execute_result"
    }
   ],
   "source": [
    "drift=u-(0.5*u)\n",
    "drift"
   ]
  },
  {
   "cell_type": "code",
   "execution_count": 30,
   "metadata": {},
   "outputs": [
    {
     "data": {
      "text/plain": [
       "OIL    1.060771\n",
       "dtype: float64"
      ]
     },
     "execution_count": 30,
     "metadata": {},
     "output_type": "execute_result"
    }
   ],
   "source": [
    "stdev=log_returns.std()\n",
    "stdev"
   ]
  },
  {
   "cell_type": "code",
   "execution_count": 31,
   "metadata": {},
   "outputs": [
    {
     "data": {
      "text/plain": [
       "array([7.65326166e-06])"
      ]
     },
     "execution_count": 31,
     "metadata": {},
     "output_type": "execute_result"
    }
   ],
   "source": [
    "drift.values"
   ]
  },
  {
   "cell_type": "code",
   "execution_count": 32,
   "metadata": {},
   "outputs": [
    {
     "data": {
      "text/plain": [
       "array([1.06077147])"
      ]
     },
     "execution_count": 32,
     "metadata": {},
     "output_type": "execute_result"
    }
   ],
   "source": [
    "stdev.values"
   ]
  },
  {
   "cell_type": "code",
   "execution_count": 33,
   "metadata": {},
   "outputs": [
    {
     "data": {
      "text/plain": [
       "1.6448536269514722"
      ]
     },
     "execution_count": 33,
     "metadata": {},
     "output_type": "execute_result"
    }
   ],
   "source": [
    "norm.ppf(0.95)"
   ]
  },
  {
   "cell_type": "code",
   "execution_count": 34,
   "metadata": {},
   "outputs": [
    {
     "data": {
      "text/plain": [
       "array([[0.41011355, 0.61278341],\n",
       "       [0.48577072, 0.31594563],\n",
       "       [0.07112736, 0.86618572],\n",
       "       [0.17399087, 0.54879848],\n",
       "       [0.12007864, 0.98290153],\n",
       "       [0.34668152, 0.63177465],\n",
       "       [0.3554959 , 0.03455633],\n",
       "       [0.28769933, 0.71246358],\n",
       "       [0.32476986, 0.72451465],\n",
       "       [0.73998045, 0.65795509]])"
      ]
     },
     "execution_count": 34,
     "metadata": {},
     "output_type": "execute_result"
    }
   ],
   "source": [
    "x=np.random.rand(10,2)\n",
    "x"
   ]
  },
  {
   "cell_type": "code",
   "execution_count": 35,
   "metadata": {},
   "outputs": [
    {
     "data": {
      "text/plain": [
       "array([[-0.22725291,  0.28658098],\n",
       "       [-0.03567509, -0.4790666 ],\n",
       "       [-1.46744616,  1.10854026],\n",
       "       [-0.93851124,  0.12262628],\n",
       "       [-1.17459379,  2.11774175],\n",
       "       [-0.39429529,  0.33655722],\n",
       "       [-0.37052441, -1.8176826 ],\n",
       "       [-0.56011844,  0.56059621],\n",
       "       [-0.45440172,  0.59630618],\n",
       "       [ 0.64328514,  0.4068886 ]])"
      ]
     },
     "execution_count": 35,
     "metadata": {},
     "output_type": "execute_result"
    }
   ],
   "source": [
    "norm.ppf(x)"
   ]
  },
  {
   "cell_type": "code",
   "execution_count": 36,
   "metadata": {},
   "outputs": [
    {
     "data": {
      "text/plain": [
       "array([[-1.51801858,  0.36825086],\n",
       "       [ 0.38547545, -0.17625605],\n",
       "       [-1.43138653, -0.16198316],\n",
       "       [ 0.67750954,  0.29717973],\n",
       "       [-0.81787952,  0.44553574],\n",
       "       [ 0.5268898 , -0.74676833],\n",
       "       [ 0.67423042, -0.51660315],\n",
       "       [ 0.79754314, -0.56588614],\n",
       "       [-0.29300701, -1.01996392],\n",
       "       [ 1.14265964, -1.00212672]])"
      ]
     },
     "execution_count": 36,
     "metadata": {},
     "output_type": "execute_result"
    }
   ],
   "source": [
    "z=norm.ppf(np.random.rand(10,2))\n",
    "z"
   ]
  },
  {
   "cell_type": "code",
   "execution_count": 37,
   "metadata": {},
   "outputs": [],
   "source": [
    "t_intervals=1000\n",
    "iterations=50"
   ]
  },
  {
   "cell_type": "code",
   "execution_count": 38,
   "metadata": {},
   "outputs": [
    {
     "data": {
      "text/plain": [
       "array([[ 0.18377063, -0.22670628, -0.97649396, ..., -0.48595056,\n",
       "         1.15667644, -1.45046735],\n",
       "       [-1.03646521, -1.14854498,  0.43438325, ...,  1.1729923 ,\n",
       "        -0.1762676 , -1.4955721 ],\n",
       "       [-0.44623466, -0.96906111,  0.11127313, ...,  0.6050042 ,\n",
       "        -0.36010254,  0.68064315],\n",
       "       ...,\n",
       "       [ 0.20405624,  0.97652772, -0.47666771, ..., -0.79344767,\n",
       "         0.61385383, -0.44356929],\n",
       "       [ 0.60207081,  0.11601819, -0.2838011 , ..., -0.33338763,\n",
       "        -0.25041528, -0.60102228],\n",
       "       [ 1.94564343,  1.27982915, -0.76572058, ...,  2.11984176,\n",
       "         0.11270308, -0.06984312]])"
      ]
     },
     "execution_count": 38,
     "metadata": {},
     "output_type": "execute_result"
    }
   ],
   "source": [
    "Z=norm.ppf(np.random.rand(t_intervals,iterations))\n",
    "Z"
   ]
  },
  {
   "cell_type": "code",
   "execution_count": 39,
   "metadata": {},
   "outputs": [
    {
     "data": {
      "text/plain": [
       "array([[ 0.1949463 , -0.2404759 , -1.03582928, ..., -0.51547484,\n",
       "         1.22697702, -1.53860673],\n",
       "       [-1.09944507, -1.21833609,  0.46078901, ...,  1.24428442,\n",
       "        -0.18697198, -1.58645256],\n",
       "       [-0.47334534, -1.02794472,  0.11804301, ...,  0.64177885,\n",
       "        -0.38197884,  0.72201449],\n",
       "       ...,\n",
       "       [ 0.21646469,  1.03588039, -0.50562785, ..., -0.841659  ,\n",
       "         0.65116629, -0.47051799],\n",
       "       [ 0.63866719,  0.12307644, -0.30104045, ..., -0.35364044,\n",
       "        -0.26562573, -0.63753963],\n",
       "       [ 2.0638907 ,  1.3576139 , -0.8122469 , ...,  2.24867531,\n",
       "         0.11955987, -0.07407994]])"
      ]
     },
     "execution_count": 39,
     "metadata": {},
     "output_type": "execute_result"
    }
   ],
   "source": [
    "r=(drift.values+(stdev.values*Z))\n",
    "r"
   ]
  },
  {
   "cell_type": "code",
   "execution_count": 40,
   "metadata": {},
   "outputs": [
    {
     "data": {
      "text/plain": [
       "array([[1.21524572, 0.7862536 , 0.35493192, ..., 0.59721694, 3.41090283,\n",
       "        0.21468   ],\n",
       "       [0.33305586, 0.29572181, 1.58532432, ..., 3.47045051, 0.82946697,\n",
       "        0.20465031],\n",
       "       [0.62291491, 0.35774146, 1.12529251, ..., 1.89985743, 0.68250949,\n",
       "        2.05857602],\n",
       "       ...,\n",
       "       [1.24167924, 2.81758572, 0.60312678, ..., 0.43099491, 1.9177762 ,\n",
       "        0.62467861],\n",
       "       [1.89395492, 1.13097086, 0.74004784, ..., 0.70212738, 0.76672604,\n",
       "        0.52859136],\n",
       "       [7.87655556, 3.88690766, 0.44385964, ..., 9.47517586, 1.12700072,\n",
       "        0.92859746]])"
      ]
     },
     "execution_count": 40,
     "metadata": {},
     "output_type": "execute_result"
    }
   ],
   "source": [
    "monthly_prod=np.exp(r)\n",
    "monthly_prod"
   ]
  },
  {
   "cell_type": "code",
   "execution_count": 41,
   "metadata": {},
   "outputs": [
    {
     "data": {
      "text/plain": [
       "OIL    5740.0\n",
       "Name: 2018-06-01, dtype: float64"
      ]
     },
     "execution_count": 41,
     "metadata": {},
     "output_type": "execute_result"
    }
   ],
   "source": [
    "S0=df.iloc[-1]\n",
    "S0"
   ]
  },
  {
   "cell_type": "code",
   "execution_count": 42,
   "metadata": {},
   "outputs": [
    {
     "data": {
      "text/plain": [
       "array([[0., 0., 0., ..., 0., 0., 0.],\n",
       "       [0., 0., 0., ..., 0., 0., 0.],\n",
       "       [0., 0., 0., ..., 0., 0., 0.],\n",
       "       ...,\n",
       "       [0., 0., 0., ..., 0., 0., 0.],\n",
       "       [0., 0., 0., ..., 0., 0., 0.],\n",
       "       [0., 0., 0., ..., 0., 0., 0.]])"
      ]
     },
     "execution_count": 42,
     "metadata": {},
     "output_type": "execute_result"
    }
   ],
   "source": [
    "Oil_Rate=np.zeros_like(monthly_prod)\n",
    "Oil_Rate"
   ]
  },
  {
   "cell_type": "code",
   "execution_count": 43,
   "metadata": {},
   "outputs": [
    {
     "data": {
      "text/plain": [
       "array([[5740., 5740., 5740., ..., 5740., 5740., 5740.],\n",
       "       [   0.,    0.,    0., ...,    0.,    0.,    0.],\n",
       "       [   0.,    0.,    0., ...,    0.,    0.,    0.],\n",
       "       ...,\n",
       "       [   0.,    0.,    0., ...,    0.,    0.,    0.],\n",
       "       [   0.,    0.,    0., ...,    0.,    0.,    0.],\n",
       "       [   0.,    0.,    0., ...,    0.,    0.,    0.]])"
      ]
     },
     "execution_count": 43,
     "metadata": {},
     "output_type": "execute_result"
    }
   ],
   "source": [
    "Oil_Rate[0]=S0\n",
    "Oil_Rate"
   ]
  },
  {
   "cell_type": "code",
   "execution_count": 44,
   "metadata": {},
   "outputs": [
    {
     "data": {
      "text/plain": [
       "array([[5.74000000e+03, 5.74000000e+03, 5.74000000e+03, ...,\n",
       "        5.74000000e+03, 5.74000000e+03, 5.74000000e+03],\n",
       "       [1.91174062e+03, 1.69744320e+03, 9.09976162e+03, ...,\n",
       "        1.99203860e+04, 4.76114043e+03, 1.17469278e+03],\n",
       "       [1.19085174e+03, 6.07245814e+02, 1.02398936e+04, ...,\n",
       "        3.78458933e+04, 3.24952354e+03, 2.41819437e+03],\n",
       "       ...,\n",
       "       [5.03047535e+00, 3.20610197e+00, 1.49200973e+01, ...,\n",
       "        1.19885543e-01, 3.05157366e+28, 3.47796710e+06],\n",
       "       [9.52749352e+00, 3.62600791e+00, 1.10415857e+01, ...,\n",
       "        8.41749223e-02, 2.33972098e+28, 1.83842334e+06],\n",
       "       [7.50438321e+01, 1.40939580e+01, 4.90091425e+00, ...,\n",
       "        7.97572192e-01, 2.63686722e+28, 1.70715524e+06]])"
      ]
     },
     "execution_count": 44,
     "metadata": {},
     "output_type": "execute_result"
    }
   ],
   "source": [
    "for t in range(1,t_intervals):\n",
    "    Oil_Rate[t]=Oil_Rate[t-1]*monthly_prod[t]\n",
    "    \n",
    "Oil_Rate"
   ]
  },
  {
   "cell_type": "code",
   "execution_count": 49,
   "metadata": {},
   "outputs": [
    {
     "data": {
      "text/plain": [
       "(835, 875)"
      ]
     },
     "execution_count": 49,
     "metadata": {},
     "output_type": "execute_result"
    },
    {
     "data": {
      "image/png": "[encoded data removed]",
      "text/plain": [
       "<Figure size 864x576 with 1 Axes>"
      ]
     },
     "metadata": {
      "needs_background": "light"
     },
     "output_type": "display_data"
    }
   ],
   "source": [
    "plt.figure(figsize=(12,8));\n",
    "plt.plot(Oil_Rate);#[:251,:1000]);\n",
    "plt.xlim([835,875])\n",
    "#plt.ylim([0,1400])"
   ]
  },
  {
   "cell_type": "code",
   "execution_count": 54,
   "metadata": {},
   "outputs": [
    {
     "data": {
      "image/png": "[encoded data removed]",
      "text/plain": [
       "<Figure size 864x576 with 1 Axes>"
      ]
     },
     "metadata": {
      "needs_background": "light"
     },
     "output_type": "display_data"
    }
   ],
   "source": [
    "plt.figure(figsize=(12,8));\n",
    "plt.hist(Oil_Rate,bins=20);\n",
    "#plt.xlim(left=0,right=0.1)\n",
    "#plt.xlim([0,0.1])\n",
    "#plt.ylim([0,400])"
   ]
  },
  {
   "cell_type": "code",
   "execution_count": null,
   "metadata": {},
   "outputs": [],
   "source": []
  }
 ],
 "metadata": {
  "kernelspec": {
   "display_name": "Python 3",
   "language": "python",
   "name": "python3"
  },
  "language_info": {
   "codemirror_mode": {
    "name": "ipython",
    "version": 3
   },
   "file_extension": ".py",
   "mimetype": "text/x-python",
   "name": "python",
   "nbconvert_exporter": "python",
   "pygments_lexer": "ipython3",
   "version": "3.7.6"
  }
 },
 "nbformat": 4,
 "nbformat_minor": 4
}

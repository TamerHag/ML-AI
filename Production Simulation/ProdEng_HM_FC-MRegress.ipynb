{
 "cells": [
  {
   "cell_type": "code",
   "execution_count": 1,
   "metadata": {},
   "outputs": [],
   "source": [
    "import pandas as pd\n",
    "import numpy as np"
   ]
  },
  {
   "cell_type": "code",
   "execution_count": 2,
   "metadata": {},
   "outputs": [],
   "source": [
    "import seaborn as sns  \n",
    "import matplotlib.pyplot as plt\n",
    "\n",
    "# might be needed depending on your version of Jupyter\n",
    "%matplotlib inline"
   ]
  },
  {
   "cell_type": "code",
   "execution_count": 3,
   "metadata": {},
   "outputs": [],
   "source": [
    "df = pd.read_csv('../Production/Pandey_Ch07_Production_Engineering_Code/data/Well_Monthly_ProdN2.csv')"
   ]
  },
  {
   "cell_type": "code",
   "execution_count": 4,
   "metadata": {},
   "outputs": [
    {
     "name": "stdout",
     "output_type": "stream",
     "text": [
      "<class 'pandas.core.frame.DataFrame'>\n",
      "RangeIndex: 79392 entries, 0 to 79391\n",
      "Data columns (total 5 columns):\n",
      " #   Column      Non-Null Count  Dtype \n",
      "---  ------      --------------  ----- \n",
      " 0   UWI         79392 non-null  object\n",
      " 1   START_DATE  79392 non-null  object\n",
      " 2   OIL         79392 non-null  int64 \n",
      " 3   GAS         79392 non-null  int64 \n",
      " 4   WATER       79392 non-null  int64 \n",
      "dtypes: int64(3), object(2)\n",
      "memory usage: 3.0+ MB\n"
     ]
    }
   ],
   "source": [
    "df.info()"
   ]
  },
  {
   "cell_type": "code",
   "execution_count": 5,
   "metadata": {},
   "outputs": [
    {
     "data": {
      "text/plain": [
       "UWI           0\n",
       "START_DATE    0\n",
       "OIL           0\n",
       "GAS           0\n",
       "WATER         0\n",
       "dtype: int64"
      ]
     },
     "execution_count": 5,
     "metadata": {},
     "output_type": "execute_result"
    }
   ],
   "source": [
    "df.isnull().sum()"
   ]
  },
  {
   "cell_type": "code",
   "execution_count": 6,
   "metadata": {
    "scrolled": true
   },
   "outputs": [
    {
     "data": {
      "text/html": [
       "<div>\n",
       "<style scoped>\n",
       "    .dataframe tbody tr th:only-of-type {\n",
       "        vertical-align: middle;\n",
       "    }\n",
       "\n",
       "    .dataframe tbody tr th {\n",
       "        vertical-align: top;\n",
       "    }\n",
       "\n",
       "    .dataframe thead th {\n",
       "        text-align: right;\n",
       "    }\n",
       "</style>\n",
       "<table border=\"1\" class=\"dataframe\">\n",
       "  <thead>\n",
       "    <tr style=\"text-align: right;\">\n",
       "      <th></th>\n",
       "      <th>UWI</th>\n",
       "      <th>START_DATE</th>\n",
       "      <th>OIL</th>\n",
       "      <th>GAS</th>\n",
       "      <th>WATER</th>\n",
       "    </tr>\n",
       "  </thead>\n",
       "  <tbody>\n",
       "    <tr>\n",
       "      <th>0</th>\n",
       "      <td>BR819</td>\n",
       "      <td>1965-05-01</td>\n",
       "      <td>1785</td>\n",
       "      <td>0</td>\n",
       "      <td>0</td>\n",
       "    </tr>\n",
       "    <tr>\n",
       "      <th>1</th>\n",
       "      <td>AB257</td>\n",
       "      <td>1973-11-01</td>\n",
       "      <td>26550</td>\n",
       "      <td>22470</td>\n",
       "      <td>0</td>\n",
       "    </tr>\n",
       "    <tr>\n",
       "      <th>2</th>\n",
       "      <td>TR758</td>\n",
       "      <td>1973-11-01</td>\n",
       "      <td>122600</td>\n",
       "      <td>112100</td>\n",
       "      <td>0</td>\n",
       "    </tr>\n",
       "    <tr>\n",
       "      <th>3</th>\n",
       "      <td>ON369</td>\n",
       "      <td>1973-11-01</td>\n",
       "      <td>65134</td>\n",
       "      <td>36450</td>\n",
       "      <td>0</td>\n",
       "    </tr>\n",
       "    <tr>\n",
       "      <th>4</th>\n",
       "      <td>DS652</td>\n",
       "      <td>1973-11-01</td>\n",
       "      <td>61277</td>\n",
       "      <td>60180</td>\n",
       "      <td>0</td>\n",
       "    </tr>\n",
       "  </tbody>\n",
       "</table>\n",
       "</div>"
      ],
      "text/plain": [
       "     UWI  START_DATE     OIL     GAS  WATER\n",
       "0  BR819  1965-05-01    1785       0      0\n",
       "1  AB257  1973-11-01   26550   22470      0\n",
       "2  TR758  1973-11-01  122600  112100      0\n",
       "3  ON369  1973-11-01   65134   36450      0\n",
       "4  DS652  1973-11-01   61277   60180      0"
      ]
     },
     "execution_count": 6,
     "metadata": {},
     "output_type": "execute_result"
    }
   ],
   "source": [
    "df.head()"
   ]
  },
  {
   "cell_type": "code",
   "execution_count": 7,
   "metadata": {},
   "outputs": [
    {
     "data": {
      "text/html": [
       "<div>\n",
       "<style scoped>\n",
       "    .dataframe tbody tr th:only-of-type {\n",
       "        vertical-align: middle;\n",
       "    }\n",
       "\n",
       "    .dataframe tbody tr th {\n",
       "        vertical-align: top;\n",
       "    }\n",
       "\n",
       "    .dataframe thead th {\n",
       "        text-align: right;\n",
       "    }\n",
       "</style>\n",
       "<table border=\"1\" class=\"dataframe\">\n",
       "  <thead>\n",
       "    <tr style=\"text-align: right;\">\n",
       "      <th></th>\n",
       "      <th>UWI</th>\n",
       "      <th>START_DATE</th>\n",
       "      <th>OIL</th>\n",
       "      <th>GAS</th>\n",
       "      <th>WATER</th>\n",
       "    </tr>\n",
       "  </thead>\n",
       "  <tbody>\n",
       "    <tr>\n",
       "      <th>0</th>\n",
       "      <td>BR819</td>\n",
       "      <td>1965-05-01</td>\n",
       "      <td>1785</td>\n",
       "      <td>0</td>\n",
       "      <td>0</td>\n",
       "    </tr>\n",
       "    <tr>\n",
       "      <th>1</th>\n",
       "      <td>AB257</td>\n",
       "      <td>1973-11-01</td>\n",
       "      <td>26550</td>\n",
       "      <td>22470</td>\n",
       "      <td>0</td>\n",
       "    </tr>\n",
       "    <tr>\n",
       "      <th>2</th>\n",
       "      <td>TR758</td>\n",
       "      <td>1973-11-01</td>\n",
       "      <td>122600</td>\n",
       "      <td>112100</td>\n",
       "      <td>0</td>\n",
       "    </tr>\n",
       "    <tr>\n",
       "      <th>3</th>\n",
       "      <td>ON369</td>\n",
       "      <td>1973-11-01</td>\n",
       "      <td>65134</td>\n",
       "      <td>36450</td>\n",
       "      <td>0</td>\n",
       "    </tr>\n",
       "    <tr>\n",
       "      <th>4</th>\n",
       "      <td>DS652</td>\n",
       "      <td>1973-11-01</td>\n",
       "      <td>61277</td>\n",
       "      <td>60180</td>\n",
       "      <td>0</td>\n",
       "    </tr>\n",
       "    <tr>\n",
       "      <th>...</th>\n",
       "      <td>...</td>\n",
       "      <td>...</td>\n",
       "      <td>...</td>\n",
       "      <td>...</td>\n",
       "      <td>...</td>\n",
       "    </tr>\n",
       "    <tr>\n",
       "      <th>79387</th>\n",
       "      <td>RK103</td>\n",
       "      <td>2018-06-01</td>\n",
       "      <td>39467</td>\n",
       "      <td>44068</td>\n",
       "      <td>0</td>\n",
       "    </tr>\n",
       "    <tr>\n",
       "      <th>79388</th>\n",
       "      <td>TR855</td>\n",
       "      <td>2018-06-01</td>\n",
       "      <td>38581</td>\n",
       "      <td>44513</td>\n",
       "      <td>31049</td>\n",
       "    </tr>\n",
       "    <tr>\n",
       "      <th>79389</th>\n",
       "      <td>BR477</td>\n",
       "      <td>2018-06-01</td>\n",
       "      <td>5740</td>\n",
       "      <td>4052</td>\n",
       "      <td>434</td>\n",
       "    </tr>\n",
       "    <tr>\n",
       "      <th>79390</th>\n",
       "      <td>RK301</td>\n",
       "      <td>2018-06-01</td>\n",
       "      <td>0</td>\n",
       "      <td>0</td>\n",
       "      <td>0</td>\n",
       "    </tr>\n",
       "    <tr>\n",
       "      <th>79391</th>\n",
       "      <td>CC479</td>\n",
       "      <td>2018-06-01</td>\n",
       "      <td>0</td>\n",
       "      <td>0</td>\n",
       "      <td>0</td>\n",
       "    </tr>\n",
       "  </tbody>\n",
       "</table>\n",
       "<p>79392 rows × 5 columns</p>\n",
       "</div>"
      ],
      "text/plain": [
       "         UWI  START_DATE     OIL     GAS  WATER\n",
       "0      BR819  1965-05-01    1785       0      0\n",
       "1      AB257  1973-11-01   26550   22470      0\n",
       "2      TR758  1973-11-01  122600  112100      0\n",
       "3      ON369  1973-11-01   65134   36450      0\n",
       "4      DS652  1973-11-01   61277   60180      0\n",
       "...      ...         ...     ...     ...    ...\n",
       "79387  RK103  2018-06-01   39467   44068      0\n",
       "79388  TR855  2018-06-01   38581   44513  31049\n",
       "79389  BR477  2018-06-01    5740    4052    434\n",
       "79390  RK301  2018-06-01       0       0      0\n",
       "79391  CC479  2018-06-01       0       0      0\n",
       "\n",
       "[79392 rows x 5 columns]"
      ]
     },
     "execution_count": 7,
     "metadata": {},
     "output_type": "execute_result"
    }
   ],
   "source": [
    "df"
   ]
  },
  {
   "cell_type": "code",
   "execution_count": 8,
   "metadata": {},
   "outputs": [
    {
     "data": {
      "text/plain": [
       "WATER   -0.077144\n",
       "GAS      0.959902\n",
       "OIL      1.000000\n",
       "Name: OIL, dtype: float64"
      ]
     },
     "execution_count": 8,
     "metadata": {},
     "output_type": "execute_result"
    }
   ],
   "source": [
    "df.corr()['OIL'].sort_values()"
   ]
  },
  {
   "cell_type": "code",
   "execution_count": 9,
   "metadata": {},
   "outputs": [
    {
     "data": {
      "text/plain": [
       "WATER   -0.049226\n",
       "OIL      0.959902\n",
       "GAS      1.000000\n",
       "Name: GAS, dtype: float64"
      ]
     },
     "execution_count": 9,
     "metadata": {},
     "output_type": "execute_result"
    }
   ],
   "source": [
    "df.corr()['GAS'].sort_values()"
   ]
  },
  {
   "cell_type": "code",
   "execution_count": 10,
   "metadata": {},
   "outputs": [
    {
     "data": {
      "text/plain": [
       "OIL     -0.077144\n",
       "GAS     -0.049226\n",
       "WATER    1.000000\n",
       "Name: WATER, dtype: float64"
      ]
     },
     "execution_count": 10,
     "metadata": {},
     "output_type": "execute_result"
    }
   ],
   "source": [
    "df.corr()['WATER'].sort_values()"
   ]
  },
  {
   "cell_type": "code",
   "execution_count": 11,
   "metadata": {},
   "outputs": [
    {
     "data": {
      "text/html": [
       "<div>\n",
       "<style scoped>\n",
       "    .dataframe tbody tr th:only-of-type {\n",
       "        vertical-align: middle;\n",
       "    }\n",
       "\n",
       "    .dataframe tbody tr th {\n",
       "        vertical-align: top;\n",
       "    }\n",
       "\n",
       "    .dataframe thead th {\n",
       "        text-align: right;\n",
       "    }\n",
       "</style>\n",
       "<table border=\"1\" class=\"dataframe\">\n",
       "  <thead>\n",
       "    <tr style=\"text-align: right;\">\n",
       "      <th></th>\n",
       "      <th>OIL</th>\n",
       "      <th>GAS</th>\n",
       "      <th>WATER</th>\n",
       "    </tr>\n",
       "  </thead>\n",
       "  <tbody>\n",
       "    <tr>\n",
       "      <th>OIL</th>\n",
       "      <td>1.000000</td>\n",
       "      <td>0.959902</td>\n",
       "      <td>-0.077144</td>\n",
       "    </tr>\n",
       "    <tr>\n",
       "      <th>GAS</th>\n",
       "      <td>0.959902</td>\n",
       "      <td>1.000000</td>\n",
       "      <td>-0.049226</td>\n",
       "    </tr>\n",
       "    <tr>\n",
       "      <th>WATER</th>\n",
       "      <td>-0.077144</td>\n",
       "      <td>-0.049226</td>\n",
       "      <td>1.000000</td>\n",
       "    </tr>\n",
       "  </tbody>\n",
       "</table>\n",
       "</div>"
      ],
      "text/plain": [
       "            OIL       GAS     WATER\n",
       "OIL    1.000000  0.959902 -0.077144\n",
       "GAS    0.959902  1.000000 -0.049226\n",
       "WATER -0.077144 -0.049226  1.000000"
      ]
     },
     "execution_count": 11,
     "metadata": {},
     "output_type": "execute_result"
    }
   ],
   "source": [
    "df.corr()"
   ]
  },
  {
   "cell_type": "code",
   "execution_count": 12,
   "metadata": {},
   "outputs": [],
   "source": [
    "from datetime import datetime\n",
    "import statsmodels.api as sm"
   ]
  },
  {
   "cell_type": "code",
   "execution_count": 13,
   "metadata": {},
   "outputs": [],
   "source": [
    "df['YEAR'] = df['START_DATE'].apply(lambda START_DATE:int(START_DATE[:-6]))"
   ]
  },
  {
   "cell_type": "code",
   "execution_count": 14,
   "metadata": {},
   "outputs": [],
   "source": [
    "df = df.drop('START_DATE',axis=1)"
   ]
  },
  {
   "cell_type": "code",
   "execution_count": 15,
   "metadata": {},
   "outputs": [
    {
     "data": {
      "text/html": [
       "<div>\n",
       "<style scoped>\n",
       "    .dataframe tbody tr th:only-of-type {\n",
       "        vertical-align: middle;\n",
       "    }\n",
       "\n",
       "    .dataframe tbody tr th {\n",
       "        vertical-align: top;\n",
       "    }\n",
       "\n",
       "    .dataframe thead th {\n",
       "        text-align: right;\n",
       "    }\n",
       "</style>\n",
       "<table border=\"1\" class=\"dataframe\">\n",
       "  <thead>\n",
       "    <tr style=\"text-align: right;\">\n",
       "      <th></th>\n",
       "      <th>UWI</th>\n",
       "      <th>OIL</th>\n",
       "      <th>GAS</th>\n",
       "      <th>WATER</th>\n",
       "      <th>YEAR</th>\n",
       "    </tr>\n",
       "  </thead>\n",
       "  <tbody>\n",
       "    <tr>\n",
       "      <th>0</th>\n",
       "      <td>BR819</td>\n",
       "      <td>1785</td>\n",
       "      <td>0</td>\n",
       "      <td>0</td>\n",
       "      <td>1965</td>\n",
       "    </tr>\n",
       "    <tr>\n",
       "      <th>1</th>\n",
       "      <td>AB257</td>\n",
       "      <td>26550</td>\n",
       "      <td>22470</td>\n",
       "      <td>0</td>\n",
       "      <td>1973</td>\n",
       "    </tr>\n",
       "    <tr>\n",
       "      <th>2</th>\n",
       "      <td>TR758</td>\n",
       "      <td>122600</td>\n",
       "      <td>112100</td>\n",
       "      <td>0</td>\n",
       "      <td>1973</td>\n",
       "    </tr>\n",
       "    <tr>\n",
       "      <th>3</th>\n",
       "      <td>ON369</td>\n",
       "      <td>65134</td>\n",
       "      <td>36450</td>\n",
       "      <td>0</td>\n",
       "      <td>1973</td>\n",
       "    </tr>\n",
       "    <tr>\n",
       "      <th>4</th>\n",
       "      <td>DS652</td>\n",
       "      <td>61277</td>\n",
       "      <td>60180</td>\n",
       "      <td>0</td>\n",
       "      <td>1973</td>\n",
       "    </tr>\n",
       "    <tr>\n",
       "      <th>...</th>\n",
       "      <td>...</td>\n",
       "      <td>...</td>\n",
       "      <td>...</td>\n",
       "      <td>...</td>\n",
       "      <td>...</td>\n",
       "    </tr>\n",
       "    <tr>\n",
       "      <th>79387</th>\n",
       "      <td>RK103</td>\n",
       "      <td>39467</td>\n",
       "      <td>44068</td>\n",
       "      <td>0</td>\n",
       "      <td>2018</td>\n",
       "    </tr>\n",
       "    <tr>\n",
       "      <th>79388</th>\n",
       "      <td>TR855</td>\n",
       "      <td>38581</td>\n",
       "      <td>44513</td>\n",
       "      <td>31049</td>\n",
       "      <td>2018</td>\n",
       "    </tr>\n",
       "    <tr>\n",
       "      <th>79389</th>\n",
       "      <td>BR477</td>\n",
       "      <td>5740</td>\n",
       "      <td>4052</td>\n",
       "      <td>434</td>\n",
       "      <td>2018</td>\n",
       "    </tr>\n",
       "    <tr>\n",
       "      <th>79390</th>\n",
       "      <td>RK301</td>\n",
       "      <td>0</td>\n",
       "      <td>0</td>\n",
       "      <td>0</td>\n",
       "      <td>2018</td>\n",
       "    </tr>\n",
       "    <tr>\n",
       "      <th>79391</th>\n",
       "      <td>CC479</td>\n",
       "      <td>0</td>\n",
       "      <td>0</td>\n",
       "      <td>0</td>\n",
       "      <td>2018</td>\n",
       "    </tr>\n",
       "  </tbody>\n",
       "</table>\n",
       "<p>79392 rows × 5 columns</p>\n",
       "</div>"
      ],
      "text/plain": [
       "         UWI     OIL     GAS  WATER  YEAR\n",
       "0      BR819    1785       0      0  1965\n",
       "1      AB257   26550   22470      0  1973\n",
       "2      TR758  122600  112100      0  1973\n",
       "3      ON369   65134   36450      0  1973\n",
       "4      DS652   61277   60180      0  1973\n",
       "...      ...     ...     ...    ...   ...\n",
       "79387  RK103   39467   44068      0  2018\n",
       "79388  TR855   38581   44513  31049  2018\n",
       "79389  BR477    5740    4052    434  2018\n",
       "79390  RK301       0       0      0  2018\n",
       "79391  CC479       0       0      0  2018\n",
       "\n",
       "[79392 rows x 5 columns]"
      ]
     },
     "execution_count": 15,
     "metadata": {},
     "output_type": "execute_result"
    }
   ],
   "source": [
    "df"
   ]
  },
  {
   "cell_type": "code",
   "execution_count": 16,
   "metadata": {},
   "outputs": [],
   "source": [
    "X=df[['OIL','GAS']]\n",
    "Y=df['YEAR']"
   ]
  },
  {
   "cell_type": "code",
   "execution_count": 17,
   "metadata": {},
   "outputs": [],
   "source": [
    "from scipy import stats\n",
    "import statsmodels.api as sm"
   ]
  },
  {
   "cell_type": "code",
   "execution_count": 18,
   "metadata": {},
   "outputs": [],
   "source": [
    "X1=sm.add_constant(X)\n",
    "reg=sm.OLS(Y,X1).fit()"
   ]
  },
  {
   "cell_type": "code",
   "execution_count": 19,
   "metadata": {},
   "outputs": [
    {
     "data": {
      "text/html": [
       "<table class=\"simpletable\">\n",
       "<caption>OLS Regression Results</caption>\n",
       "<tr>\n",
       "  <th>Dep. Variable:</th>          <td>YEAR</td>       <th>  R-squared:         </th>  <td>   0.215</td>  \n",
       "</tr>\n",
       "<tr>\n",
       "  <th>Model:</th>                   <td>OLS</td>       <th>  Adj. R-squared:    </th>  <td>   0.215</td>  \n",
       "</tr>\n",
       "<tr>\n",
       "  <th>Method:</th>             <td>Least Squares</td>  <th>  F-statistic:       </th>  <td>1.088e+04</td> \n",
       "</tr>\n",
       "<tr>\n",
       "  <th>Date:</th>             <td>Sun, 03 Jan 2021</td> <th>  Prob (F-statistic):</th>   <td>  0.00</td>   \n",
       "</tr>\n",
       "<tr>\n",
       "  <th>Time:</th>                 <td>19:41:13</td>     <th>  Log-Likelihood:    </th> <td>-2.9450e+05</td>\n",
       "</tr>\n",
       "<tr>\n",
       "  <th>No. Observations:</th>      <td> 79392</td>      <th>  AIC:               </th>  <td>5.890e+05</td> \n",
       "</tr>\n",
       "<tr>\n",
       "  <th>Df Residuals:</th>          <td> 79389</td>      <th>  BIC:               </th>  <td>5.890e+05</td> \n",
       "</tr>\n",
       "<tr>\n",
       "  <th>Df Model:</th>              <td>     2</td>      <th>                     </th>      <td> </td>     \n",
       "</tr>\n",
       "<tr>\n",
       "  <th>Covariance Type:</th>      <td>nonrobust</td>    <th>                     </th>      <td> </td>     \n",
       "</tr>\n",
       "</table>\n",
       "<table class=\"simpletable\">\n",
       "<tr>\n",
       "    <td></td>       <th>coef</th>     <th>std err</th>      <th>t</th>      <th>P>|t|</th>  <th>[0.025</th>    <th>0.975]</th>  \n",
       "</tr>\n",
       "<tr>\n",
       "  <th>const</th> <td> 2006.0149</td> <td>    0.043</td> <td> 4.63e+04</td> <td> 0.000</td> <td> 2005.930</td> <td> 2006.100</td>\n",
       "</tr>\n",
       "<tr>\n",
       "  <th>OIL</th>   <td>-8.226e-05</td> <td> 1.64e-06</td> <td>  -50.007</td> <td> 0.000</td> <td>-8.55e-05</td> <td> -7.9e-05</td>\n",
       "</tr>\n",
       "<tr>\n",
       "  <th>GAS</th>   <td> 1.758e-05</td> <td> 1.93e-06</td> <td>    9.102</td> <td> 0.000</td> <td> 1.38e-05</td> <td> 2.14e-05</td>\n",
       "</tr>\n",
       "</table>\n",
       "<table class=\"simpletable\">\n",
       "<tr>\n",
       "  <th>Omnibus:</th>       <td>10178.747</td> <th>  Durbin-Watson:     </th> <td>   0.223</td>\n",
       "</tr>\n",
       "<tr>\n",
       "  <th>Prob(Omnibus):</th>  <td> 0.000</td>   <th>  Jarque-Bera (JB):  </th> <td>4370.072</td>\n",
       "</tr>\n",
       "<tr>\n",
       "  <th>Skew:</th>           <td>-0.390</td>   <th>  Prob(JB):          </th> <td>    0.00</td>\n",
       "</tr>\n",
       "<tr>\n",
       "  <th>Kurtosis:</th>       <td> 2.157</td>   <th>  Cond. No.          </th> <td>1.49e+05</td>\n",
       "</tr>\n",
       "</table><br/><br/>Warnings:<br/>[1] Standard Errors assume that the covariance matrix of the errors is correctly specified.<br/>[2] The condition number is large, 1.49e+05. This might indicate that there are<br/>strong multicollinearity or other numerical problems."
      ],
      "text/plain": [
       "<class 'statsmodels.iolib.summary.Summary'>\n",
       "\"\"\"\n",
       "                            OLS Regression Results                            \n",
       "==============================================================================\n",
       "Dep. Variable:                   YEAR   R-squared:                       0.215\n",
       "Model:                            OLS   Adj. R-squared:                  0.215\n",
       "Method:                 Least Squares   F-statistic:                 1.088e+04\n",
       "Date:                Sun, 03 Jan 2021   Prob (F-statistic):               0.00\n",
       "Time:                        19:41:13   Log-Likelihood:            -2.9450e+05\n",
       "No. Observations:               79392   AIC:                         5.890e+05\n",
       "Df Residuals:                   79389   BIC:                         5.890e+05\n",
       "Df Model:                           2                                         \n",
       "Covariance Type:            nonrobust                                         \n",
       "==============================================================================\n",
       "                 coef    std err          t      P>|t|      [0.025      0.975]\n",
       "------------------------------------------------------------------------------\n",
       "const       2006.0149      0.043   4.63e+04      0.000    2005.930    2006.100\n",
       "OIL        -8.226e-05   1.64e-06    -50.007      0.000   -8.55e-05    -7.9e-05\n",
       "GAS         1.758e-05   1.93e-06      9.102      0.000    1.38e-05    2.14e-05\n",
       "==============================================================================\n",
       "Omnibus:                    10178.747   Durbin-Watson:                   0.223\n",
       "Prob(Omnibus):                  0.000   Jarque-Bera (JB):             4370.072\n",
       "Skew:                          -0.390   Prob(JB):                         0.00\n",
       "Kurtosis:                       2.157   Cond. No.                     1.49e+05\n",
       "==============================================================================\n",
       "\n",
       "Warnings:\n",
       "[1] Standard Errors assume that the covariance matrix of the errors is correctly specified.\n",
       "[2] The condition number is large, 1.49e+05. This might indicate that there are\n",
       "strong multicollinearity or other numerical problems.\n",
       "\"\"\""
      ]
     },
     "execution_count": 19,
     "metadata": {},
     "output_type": "execute_result"
    }
   ],
   "source": [
    "reg.summary()"
   ]
  },
  {
   "cell_type": "code",
   "execution_count": null,
   "metadata": {},
   "outputs": [],
   "source": []
  }
 ],
 "metadata": {
  "kernelspec": {
   "display_name": "Python 3",
   "language": "python",
   "name": "python3"
  },
  "language_info": {
   "codemirror_mode": {
    "name": "ipython",
    "version": 3
   },
   "file_extension": ".py",
   "mimetype": "text/x-python",
   "name": "python",
   "nbconvert_exporter": "python",
   "pygments_lexer": "ipython3",
   "version": "3.7.6"
  }
 },
 "nbformat": 4,
 "nbformat_minor": 4
}

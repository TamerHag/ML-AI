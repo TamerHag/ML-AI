{
 "cells": [
  {
   "cell_type": "code",
   "execution_count": 1,
   "metadata": {},
   "outputs": [],
   "source": [
    "import pandas as pd\n",
    "import numpy as np"
   ]
  },
  {
   "cell_type": "code",
   "execution_count": 2,
   "metadata": {},
   "outputs": [],
   "source": [
    "import seaborn as sns  \n",
    "import matplotlib.pyplot as plt\n",
    "\n",
    "# might be needed depending on your version of Jupyter\n",
    "%matplotlib inline"
   ]
  },
  {
   "cell_type": "code",
   "execution_count": 3,
   "metadata": {},
   "outputs": [],
   "source": [
    "df = pd.read_csv('../Production/Pandey_Ch07_Production_Engineering_Code/data/Well_Monthly_ProdN2.csv')"
   ]
  },
  {
   "cell_type": "code",
   "execution_count": 4,
   "metadata": {},
   "outputs": [
    {
     "name": "stdout",
     "output_type": "stream",
     "text": [
      "<class 'pandas.core.frame.DataFrame'>\n",
      "RangeIndex: 79392 entries, 0 to 79391\n",
      "Data columns (total 5 columns):\n",
      " #   Column      Non-Null Count  Dtype \n",
      "---  ------      --------------  ----- \n",
      " 0   UWI         79392 non-null  object\n",
      " 1   START_DATE  79392 non-null  object\n",
      " 2   OIL         79392 non-null  int64 \n",
      " 3   GAS         79392 non-null  int64 \n",
      " 4   WATER       79392 non-null  int64 \n",
      "dtypes: int64(3), object(2)\n",
      "memory usage: 3.0+ MB\n"
     ]
    }
   ],
   "source": [
    "df.info()"
   ]
  },
  {
   "cell_type": "code",
   "execution_count": 5,
   "metadata": {},
   "outputs": [
    {
     "data": {
      "text/plain": [
       "UWI           0\n",
       "START_DATE    0\n",
       "OIL           0\n",
       "GAS           0\n",
       "WATER         0\n",
       "dtype: int64"
      ]
     },
     "execution_count": 5,
     "metadata": {},
     "output_type": "execute_result"
    }
   ],
   "source": [
    "df.isnull().sum()"
   ]
  },
  {
   "cell_type": "code",
   "execution_count": 6,
   "metadata": {
    "scrolled": true
   },
   "outputs": [
    {
     "data": {
      "text/html": [
       "<div>\n",
       "<style scoped>\n",
       "    .dataframe tbody tr th:only-of-type {\n",
       "        vertical-align: middle;\n",
       "    }\n",
       "\n",
       "    .dataframe tbody tr th {\n",
       "        vertical-align: top;\n",
       "    }\n",
       "\n",
       "    .dataframe thead th {\n",
       "        text-align: right;\n",
       "    }\n",
       "</style>\n",
       "<table border=\"1\" class=\"dataframe\">\n",
       "  <thead>\n",
       "    <tr style=\"text-align: right;\">\n",
       "      <th></th>\n",
       "      <th>UWI</th>\n",
       "      <th>START_DATE</th>\n",
       "      <th>OIL</th>\n",
       "      <th>GAS</th>\n",
       "      <th>WATER</th>\n",
       "    </tr>\n",
       "  </thead>\n",
       "  <tbody>\n",
       "    <tr>\n",
       "      <th>0</th>\n",
       "      <td>BR819</td>\n",
       "      <td>1965-05-01</td>\n",
       "      <td>1785</td>\n",
       "      <td>0</td>\n",
       "      <td>0</td>\n",
       "    </tr>\n",
       "    <tr>\n",
       "      <th>1</th>\n",
       "      <td>AB257</td>\n",
       "      <td>1973-11-01</td>\n",
       "      <td>26550</td>\n",
       "      <td>22470</td>\n",
       "      <td>0</td>\n",
       "    </tr>\n",
       "    <tr>\n",
       "      <th>2</th>\n",
       "      <td>TR758</td>\n",
       "      <td>1973-11-01</td>\n",
       "      <td>122600</td>\n",
       "      <td>112100</td>\n",
       "      <td>0</td>\n",
       "    </tr>\n",
       "    <tr>\n",
       "      <th>3</th>\n",
       "      <td>ON369</td>\n",
       "      <td>1973-11-01</td>\n",
       "      <td>65134</td>\n",
       "      <td>36450</td>\n",
       "      <td>0</td>\n",
       "    </tr>\n",
       "    <tr>\n",
       "      <th>4</th>\n",
       "      <td>DS652</td>\n",
       "      <td>1973-11-01</td>\n",
       "      <td>61277</td>\n",
       "      <td>60180</td>\n",
       "      <td>0</td>\n",
       "    </tr>\n",
       "  </tbody>\n",
       "</table>\n",
       "</div>"
      ],
      "text/plain": [
       "     UWI  START_DATE     OIL     GAS  WATER\n",
       "0  BR819  1965-05-01    1785       0      0\n",
       "1  AB257  1973-11-01   26550   22470      0\n",
       "2  TR758  1973-11-01  122600  112100      0\n",
       "3  ON369  1973-11-01   65134   36450      0\n",
       "4  DS652  1973-11-01   61277   60180      0"
      ]
     },
     "execution_count": 6,
     "metadata": {},
     "output_type": "execute_result"
    }
   ],
   "source": [
    "df.head()"
   ]
  },
  {
   "cell_type": "code",
   "execution_count": 7,
   "metadata": {},
   "outputs": [
    {
     "data": {
      "text/html": [
       "<div>\n",
       "<style scoped>\n",
       "    .dataframe tbody tr th:only-of-type {\n",
       "        vertical-align: middle;\n",
       "    }\n",
       "\n",
       "    .dataframe tbody tr th {\n",
       "        vertical-align: top;\n",
       "    }\n",
       "\n",
       "    .dataframe thead th {\n",
       "        text-align: right;\n",
       "    }\n",
       "</style>\n",
       "<table border=\"1\" class=\"dataframe\">\n",
       "  <thead>\n",
       "    <tr style=\"text-align: right;\">\n",
       "      <th></th>\n",
       "      <th>UWI</th>\n",
       "      <th>START_DATE</th>\n",
       "      <th>OIL</th>\n",
       "      <th>GAS</th>\n",
       "      <th>WATER</th>\n",
       "    </tr>\n",
       "  </thead>\n",
       "  <tbody>\n",
       "    <tr>\n",
       "      <th>0</th>\n",
       "      <td>BR819</td>\n",
       "      <td>1965-05-01</td>\n",
       "      <td>1785</td>\n",
       "      <td>0</td>\n",
       "      <td>0</td>\n",
       "    </tr>\n",
       "    <tr>\n",
       "      <th>1</th>\n",
       "      <td>AB257</td>\n",
       "      <td>1973-11-01</td>\n",
       "      <td>26550</td>\n",
       "      <td>22470</td>\n",
       "      <td>0</td>\n",
       "    </tr>\n",
       "    <tr>\n",
       "      <th>2</th>\n",
       "      <td>TR758</td>\n",
       "      <td>1973-11-01</td>\n",
       "      <td>122600</td>\n",
       "      <td>112100</td>\n",
       "      <td>0</td>\n",
       "    </tr>\n",
       "    <tr>\n",
       "      <th>3</th>\n",
       "      <td>ON369</td>\n",
       "      <td>1973-11-01</td>\n",
       "      <td>65134</td>\n",
       "      <td>36450</td>\n",
       "      <td>0</td>\n",
       "    </tr>\n",
       "    <tr>\n",
       "      <th>4</th>\n",
       "      <td>DS652</td>\n",
       "      <td>1973-11-01</td>\n",
       "      <td>61277</td>\n",
       "      <td>60180</td>\n",
       "      <td>0</td>\n",
       "    </tr>\n",
       "    <tr>\n",
       "      <th>...</th>\n",
       "      <td>...</td>\n",
       "      <td>...</td>\n",
       "      <td>...</td>\n",
       "      <td>...</td>\n",
       "      <td>...</td>\n",
       "    </tr>\n",
       "    <tr>\n",
       "      <th>79387</th>\n",
       "      <td>RK103</td>\n",
       "      <td>2018-06-01</td>\n",
       "      <td>39467</td>\n",
       "      <td>44068</td>\n",
       "      <td>0</td>\n",
       "    </tr>\n",
       "    <tr>\n",
       "      <th>79388</th>\n",
       "      <td>TR855</td>\n",
       "      <td>2018-06-01</td>\n",
       "      <td>38581</td>\n",
       "      <td>44513</td>\n",
       "      <td>31049</td>\n",
       "    </tr>\n",
       "    <tr>\n",
       "      <th>79389</th>\n",
       "      <td>BR477</td>\n",
       "      <td>2018-06-01</td>\n",
       "      <td>5740</td>\n",
       "      <td>4052</td>\n",
       "      <td>434</td>\n",
       "    </tr>\n",
       "    <tr>\n",
       "      <th>79390</th>\n",
       "      <td>RK301</td>\n",
       "      <td>2018-06-01</td>\n",
       "      <td>0</td>\n",
       "      <td>0</td>\n",
       "      <td>0</td>\n",
       "    </tr>\n",
       "    <tr>\n",
       "      <th>79391</th>\n",
       "      <td>CC479</td>\n",
       "      <td>2018-06-01</td>\n",
       "      <td>0</td>\n",
       "      <td>0</td>\n",
       "      <td>0</td>\n",
       "    </tr>\n",
       "  </tbody>\n",
       "</table>\n",
       "<p>79392 rows × 5 columns</p>\n",
       "</div>"
      ],
      "text/plain": [
       "         UWI  START_DATE     OIL     GAS  WATER\n",
       "0      BR819  1965-05-01    1785       0      0\n",
       "1      AB257  1973-11-01   26550   22470      0\n",
       "2      TR758  1973-11-01  122600  112100      0\n",
       "3      ON369  1973-11-01   65134   36450      0\n",
       "4      DS652  1973-11-01   61277   60180      0\n",
       "...      ...         ...     ...     ...    ...\n",
       "79387  RK103  2018-06-01   39467   44068      0\n",
       "79388  TR855  2018-06-01   38581   44513  31049\n",
       "79389  BR477  2018-06-01    5740    4052    434\n",
       "79390  RK301  2018-06-01       0       0      0\n",
       "79391  CC479  2018-06-01       0       0      0\n",
       "\n",
       "[79392 rows x 5 columns]"
      ]
     },
     "execution_count": 7,
     "metadata": {},
     "output_type": "execute_result"
    }
   ],
   "source": [
    "df"
   ]
  },
  {
   "cell_type": "code",
   "execution_count": 8,
   "metadata": {},
   "outputs": [
    {
     "data": {
      "text/plain": [
       "WATER   -0.077144\n",
       "GAS      0.959902\n",
       "OIL      1.000000\n",
       "Name: OIL, dtype: float64"
      ]
     },
     "execution_count": 8,
     "metadata": {},
     "output_type": "execute_result"
    }
   ],
   "source": [
    "df.corr()['OIL'].sort_values()"
   ]
  },
  {
   "cell_type": "code",
   "execution_count": 9,
   "metadata": {},
   "outputs": [
    {
     "data": {
      "text/plain": [
       "WATER   -0.049226\n",
       "OIL      0.959902\n",
       "GAS      1.000000\n",
       "Name: GAS, dtype: float64"
      ]
     },
     "execution_count": 9,
     "metadata": {},
     "output_type": "execute_result"
    }
   ],
   "source": [
    "df.corr()['GAS'].sort_values()"
   ]
  },
  {
   "cell_type": "code",
   "execution_count": 10,
   "metadata": {},
   "outputs": [
    {
     "data": {
      "text/plain": [
       "OIL     -0.077144\n",
       "GAS     -0.049226\n",
       "WATER    1.000000\n",
       "Name: WATER, dtype: float64"
      ]
     },
     "execution_count": 10,
     "metadata": {},
     "output_type": "execute_result"
    }
   ],
   "source": [
    "df.corr()['WATER'].sort_values()"
   ]
  },
  {
   "cell_type": "code",
   "execution_count": 11,
   "metadata": {},
   "outputs": [
    {
     "data": {
      "text/html": [
       "<div>\n",
       "<style scoped>\n",
       "    .dataframe tbody tr th:only-of-type {\n",
       "        vertical-align: middle;\n",
       "    }\n",
       "\n",
       "    .dataframe tbody tr th {\n",
       "        vertical-align: top;\n",
       "    }\n",
       "\n",
       "    .dataframe thead th {\n",
       "        text-align: right;\n",
       "    }\n",
       "</style>\n",
       "<table border=\"1\" class=\"dataframe\">\n",
       "  <thead>\n",
       "    <tr style=\"text-align: right;\">\n",
       "      <th></th>\n",
       "      <th>OIL</th>\n",
       "      <th>GAS</th>\n",
       "      <th>WATER</th>\n",
       "    </tr>\n",
       "  </thead>\n",
       "  <tbody>\n",
       "    <tr>\n",
       "      <th>OIL</th>\n",
       "      <td>1.000000</td>\n",
       "      <td>0.959902</td>\n",
       "      <td>-0.077144</td>\n",
       "    </tr>\n",
       "    <tr>\n",
       "      <th>GAS</th>\n",
       "      <td>0.959902</td>\n",
       "      <td>1.000000</td>\n",
       "      <td>-0.049226</td>\n",
       "    </tr>\n",
       "    <tr>\n",
       "      <th>WATER</th>\n",
       "      <td>-0.077144</td>\n",
       "      <td>-0.049226</td>\n",
       "      <td>1.000000</td>\n",
       "    </tr>\n",
       "  </tbody>\n",
       "</table>\n",
       "</div>"
      ],
      "text/plain": [
       "            OIL       GAS     WATER\n",
       "OIL    1.000000  0.959902 -0.077144\n",
       "GAS    0.959902  1.000000 -0.049226\n",
       "WATER -0.077144 -0.049226  1.000000"
      ]
     },
     "execution_count": 11,
     "metadata": {},
     "output_type": "execute_result"
    }
   ],
   "source": [
    "df.corr()"
   ]
  },
  {
   "cell_type": "code",
   "execution_count": 12,
   "metadata": {},
   "outputs": [],
   "source": [
    "df = df.drop('WATER',axis=1)"
   ]
  },
  {
   "cell_type": "code",
   "execution_count": 13,
   "metadata": {},
   "outputs": [
    {
     "data": {
      "text/html": [
       "<div>\n",
       "<style scoped>\n",
       "    .dataframe tbody tr th:only-of-type {\n",
       "        vertical-align: middle;\n",
       "    }\n",
       "\n",
       "    .dataframe tbody tr th {\n",
       "        vertical-align: top;\n",
       "    }\n",
       "\n",
       "    .dataframe thead th {\n",
       "        text-align: right;\n",
       "    }\n",
       "</style>\n",
       "<table border=\"1\" class=\"dataframe\">\n",
       "  <thead>\n",
       "    <tr style=\"text-align: right;\">\n",
       "      <th></th>\n",
       "      <th>UWI</th>\n",
       "      <th>START_DATE</th>\n",
       "      <th>OIL</th>\n",
       "      <th>GAS</th>\n",
       "    </tr>\n",
       "  </thead>\n",
       "  <tbody>\n",
       "    <tr>\n",
       "      <th>0</th>\n",
       "      <td>BR819</td>\n",
       "      <td>1965-05-01</td>\n",
       "      <td>1785</td>\n",
       "      <td>0</td>\n",
       "    </tr>\n",
       "    <tr>\n",
       "      <th>1</th>\n",
       "      <td>AB257</td>\n",
       "      <td>1973-11-01</td>\n",
       "      <td>26550</td>\n",
       "      <td>22470</td>\n",
       "    </tr>\n",
       "    <tr>\n",
       "      <th>2</th>\n",
       "      <td>TR758</td>\n",
       "      <td>1973-11-01</td>\n",
       "      <td>122600</td>\n",
       "      <td>112100</td>\n",
       "    </tr>\n",
       "    <tr>\n",
       "      <th>3</th>\n",
       "      <td>ON369</td>\n",
       "      <td>1973-11-01</td>\n",
       "      <td>65134</td>\n",
       "      <td>36450</td>\n",
       "    </tr>\n",
       "    <tr>\n",
       "      <th>4</th>\n",
       "      <td>DS652</td>\n",
       "      <td>1973-11-01</td>\n",
       "      <td>61277</td>\n",
       "      <td>60180</td>\n",
       "    </tr>\n",
       "    <tr>\n",
       "      <th>...</th>\n",
       "      <td>...</td>\n",
       "      <td>...</td>\n",
       "      <td>...</td>\n",
       "      <td>...</td>\n",
       "    </tr>\n",
       "    <tr>\n",
       "      <th>79387</th>\n",
       "      <td>RK103</td>\n",
       "      <td>2018-06-01</td>\n",
       "      <td>39467</td>\n",
       "      <td>44068</td>\n",
       "    </tr>\n",
       "    <tr>\n",
       "      <th>79388</th>\n",
       "      <td>TR855</td>\n",
       "      <td>2018-06-01</td>\n",
       "      <td>38581</td>\n",
       "      <td>44513</td>\n",
       "    </tr>\n",
       "    <tr>\n",
       "      <th>79389</th>\n",
       "      <td>BR477</td>\n",
       "      <td>2018-06-01</td>\n",
       "      <td>5740</td>\n",
       "      <td>4052</td>\n",
       "    </tr>\n",
       "    <tr>\n",
       "      <th>79390</th>\n",
       "      <td>RK301</td>\n",
       "      <td>2018-06-01</td>\n",
       "      <td>0</td>\n",
       "      <td>0</td>\n",
       "    </tr>\n",
       "    <tr>\n",
       "      <th>79391</th>\n",
       "      <td>CC479</td>\n",
       "      <td>2018-06-01</td>\n",
       "      <td>0</td>\n",
       "      <td>0</td>\n",
       "    </tr>\n",
       "  </tbody>\n",
       "</table>\n",
       "<p>79392 rows × 4 columns</p>\n",
       "</div>"
      ],
      "text/plain": [
       "         UWI  START_DATE     OIL     GAS\n",
       "0      BR819  1965-05-01    1785       0\n",
       "1      AB257  1973-11-01   26550   22470\n",
       "2      TR758  1973-11-01  122600  112100\n",
       "3      ON369  1973-11-01   65134   36450\n",
       "4      DS652  1973-11-01   61277   60180\n",
       "...      ...         ...     ...     ...\n",
       "79387  RK103  2018-06-01   39467   44068\n",
       "79388  TR855  2018-06-01   38581   44513\n",
       "79389  BR477  2018-06-01    5740    4052\n",
       "79390  RK301  2018-06-01       0       0\n",
       "79391  CC479  2018-06-01       0       0\n",
       "\n",
       "[79392 rows x 4 columns]"
      ]
     },
     "execution_count": 13,
     "metadata": {},
     "output_type": "execute_result"
    }
   ],
   "source": [
    "df"
   ]
  },
  {
   "cell_type": "code",
   "execution_count": 14,
   "metadata": {},
   "outputs": [
    {
     "data": {
      "text/plain": [
       "GAS    0.959902\n",
       "OIL    1.000000\n",
       "Name: OIL, dtype: float64"
      ]
     },
     "execution_count": 14,
     "metadata": {},
     "output_type": "execute_result"
    }
   ],
   "source": [
    "df.corr()['OIL'].sort_values()"
   ]
  },
  {
   "cell_type": "code",
   "execution_count": 15,
   "metadata": {},
   "outputs": [],
   "source": [
    "df=df.replace(0, np.nan)"
   ]
  },
  {
   "cell_type": "code",
   "execution_count": 16,
   "metadata": {},
   "outputs": [],
   "source": [
    "df=df.replace(0, np.nan).dropna(subset=[\"OIL\"], how=\"all\")"
   ]
  },
  {
   "cell_type": "code",
   "execution_count": 17,
   "metadata": {},
   "outputs": [],
   "source": [
    "df = df.drop('GAS',axis=1)"
   ]
  },
  {
   "cell_type": "code",
   "execution_count": 18,
   "metadata": {},
   "outputs": [],
   "source": [
    "#df = df.drop('UWI',axis=1)"
   ]
  },
  {
   "cell_type": "code",
   "execution_count": 19,
   "metadata": {},
   "outputs": [],
   "source": [
    "#print(\"Mean of OIL column per GAS\")\n",
    "#df.groupby('GAS').mean()['OIL']"
   ]
  },
  {
   "cell_type": "code",
   "execution_count": 20,
   "metadata": {},
   "outputs": [],
   "source": [
    "# Mean of OIL column per GAS\n",
    "#GAS_avg=df.groupby('GAS').mean()['OIL']"
   ]
  },
  {
   "cell_type": "code",
   "execution_count": 21,
   "metadata": {},
   "outputs": [],
   "source": [
    "#GAS_avg[1]"
   ]
  },
  {
   "cell_type": "code",
   "execution_count": 22,
   "metadata": {},
   "outputs": [],
   "source": [
    "#def fill_OIL(GAS,OIL):\n",
    "#    '''\n",
    "#    Accepts the GAS and OIL values for the row.\n",
    "#    Checks if the OIL is NaN , if so, it returns the avg OIL value\n",
    "#    for the corresponding GAS value for that row.\n",
    "    \n",
    "#    GAS_avg here should be a Series or dictionary containing the mapping of the\n",
    "#    groupby averages of OIL per GAS values.\n",
    "#    '''\n",
    "#    if np.isnan(OIL):\n",
    "#        return GAS_avg[GAS]\n",
    "#    else:\n",
    "#        return OIL"
   ]
  },
  {
   "cell_type": "code",
   "execution_count": 23,
   "metadata": {},
   "outputs": [],
   "source": [
    "#df['OIL'] = df.apply(lambda x: fill_OIL(x['GAS'], x['OIL']), axis=1)"
   ]
  },
  {
   "cell_type": "code",
   "execution_count": 24,
   "metadata": {},
   "outputs": [
    {
     "data": {
      "text/plain": [
       "0          1785.0\n",
       "1         26550.0\n",
       "2        122600.0\n",
       "3         65134.0\n",
       "4         61277.0\n",
       "           ...   \n",
       "79385     41652.0\n",
       "79386     47494.0\n",
       "79387     39467.0\n",
       "79388     38581.0\n",
       "79389      5740.0\n",
       "Name: OIL, Length: 76311, dtype: float64"
      ]
     },
     "execution_count": 24,
     "metadata": {},
     "output_type": "execute_result"
    }
   ],
   "source": [
    "df['OIL']"
   ]
  },
  {
   "cell_type": "code",
   "execution_count": 25,
   "metadata": {},
   "outputs": [
    {
     "data": {
      "text/html": [
       "<div>\n",
       "<style scoped>\n",
       "    .dataframe tbody tr th:only-of-type {\n",
       "        vertical-align: middle;\n",
       "    }\n",
       "\n",
       "    .dataframe tbody tr th {\n",
       "        vertical-align: top;\n",
       "    }\n",
       "\n",
       "    .dataframe thead th {\n",
       "        text-align: right;\n",
       "    }\n",
       "</style>\n",
       "<table border=\"1\" class=\"dataframe\">\n",
       "  <thead>\n",
       "    <tr style=\"text-align: right;\">\n",
       "      <th></th>\n",
       "      <th>UWI</th>\n",
       "      <th>START_DATE</th>\n",
       "      <th>OIL</th>\n",
       "    </tr>\n",
       "  </thead>\n",
       "  <tbody>\n",
       "    <tr>\n",
       "      <th>0</th>\n",
       "      <td>BR819</td>\n",
       "      <td>1965-05-01</td>\n",
       "      <td>1785.0</td>\n",
       "    </tr>\n",
       "    <tr>\n",
       "      <th>1</th>\n",
       "      <td>AB257</td>\n",
       "      <td>1973-11-01</td>\n",
       "      <td>26550.0</td>\n",
       "    </tr>\n",
       "    <tr>\n",
       "      <th>2</th>\n",
       "      <td>TR758</td>\n",
       "      <td>1973-11-01</td>\n",
       "      <td>122600.0</td>\n",
       "    </tr>\n",
       "    <tr>\n",
       "      <th>3</th>\n",
       "      <td>ON369</td>\n",
       "      <td>1973-11-01</td>\n",
       "      <td>65134.0</td>\n",
       "    </tr>\n",
       "    <tr>\n",
       "      <th>4</th>\n",
       "      <td>DS652</td>\n",
       "      <td>1973-11-01</td>\n",
       "      <td>61277.0</td>\n",
       "    </tr>\n",
       "    <tr>\n",
       "      <th>...</th>\n",
       "      <td>...</td>\n",
       "      <td>...</td>\n",
       "      <td>...</td>\n",
       "    </tr>\n",
       "    <tr>\n",
       "      <th>79385</th>\n",
       "      <td>AB424</td>\n",
       "      <td>2018-06-01</td>\n",
       "      <td>41652.0</td>\n",
       "    </tr>\n",
       "    <tr>\n",
       "      <th>79386</th>\n",
       "      <td>ON575</td>\n",
       "      <td>2018-06-01</td>\n",
       "      <td>47494.0</td>\n",
       "    </tr>\n",
       "    <tr>\n",
       "      <th>79387</th>\n",
       "      <td>RK103</td>\n",
       "      <td>2018-06-01</td>\n",
       "      <td>39467.0</td>\n",
       "    </tr>\n",
       "    <tr>\n",
       "      <th>79388</th>\n",
       "      <td>TR855</td>\n",
       "      <td>2018-06-01</td>\n",
       "      <td>38581.0</td>\n",
       "    </tr>\n",
       "    <tr>\n",
       "      <th>79389</th>\n",
       "      <td>BR477</td>\n",
       "      <td>2018-06-01</td>\n",
       "      <td>5740.0</td>\n",
       "    </tr>\n",
       "  </tbody>\n",
       "</table>\n",
       "<p>76311 rows × 3 columns</p>\n",
       "</div>"
      ],
      "text/plain": [
       "         UWI  START_DATE       OIL\n",
       "0      BR819  1965-05-01    1785.0\n",
       "1      AB257  1973-11-01   26550.0\n",
       "2      TR758  1973-11-01  122600.0\n",
       "3      ON369  1973-11-01   65134.0\n",
       "4      DS652  1973-11-01   61277.0\n",
       "...      ...         ...       ...\n",
       "79385  AB424  2018-06-01   41652.0\n",
       "79386  ON575  2018-06-01   47494.0\n",
       "79387  RK103  2018-06-01   39467.0\n",
       "79388  TR855  2018-06-01   38581.0\n",
       "79389  BR477  2018-06-01    5740.0\n",
       "\n",
       "[76311 rows x 3 columns]"
      ]
     },
     "execution_count": 25,
     "metadata": {},
     "output_type": "execute_result"
    }
   ],
   "source": [
    "df"
   ]
  },
  {
   "cell_type": "code",
   "execution_count": 26,
   "metadata": {},
   "outputs": [],
   "source": [
    "#df['GAS'].mean()\n",
    "#GAS_mean=df['GAS'].mean()"
   ]
  },
  {
   "cell_type": "code",
   "execution_count": 27,
   "metadata": {},
   "outputs": [],
   "source": [
    "#df['GAS'].mean()"
   ]
  },
  {
   "cell_type": "code",
   "execution_count": 28,
   "metadata": {},
   "outputs": [],
   "source": [
    "#GAS_mean"
   ]
  },
  {
   "cell_type": "code",
   "execution_count": 29,
   "metadata": {},
   "outputs": [],
   "source": [
    "#df['GAS']=df['GAS'].fillna(value=GAS_mean)"
   ]
  },
  {
   "cell_type": "code",
   "execution_count": 30,
   "metadata": {},
   "outputs": [],
   "source": [
    "#df['GAS']"
   ]
  },
  {
   "cell_type": "code",
   "execution_count": 31,
   "metadata": {},
   "outputs": [
    {
     "data": {
      "text/html": [
       "<div>\n",
       "<style scoped>\n",
       "    .dataframe tbody tr th:only-of-type {\n",
       "        vertical-align: middle;\n",
       "    }\n",
       "\n",
       "    .dataframe tbody tr th {\n",
       "        vertical-align: top;\n",
       "    }\n",
       "\n",
       "    .dataframe thead th {\n",
       "        text-align: right;\n",
       "    }\n",
       "</style>\n",
       "<table border=\"1\" class=\"dataframe\">\n",
       "  <thead>\n",
       "    <tr style=\"text-align: right;\">\n",
       "      <th></th>\n",
       "      <th>UWI</th>\n",
       "      <th>START_DATE</th>\n",
       "      <th>OIL</th>\n",
       "    </tr>\n",
       "  </thead>\n",
       "  <tbody>\n",
       "    <tr>\n",
       "      <th>0</th>\n",
       "      <td>BR819</td>\n",
       "      <td>1965-05-01</td>\n",
       "      <td>1785.0</td>\n",
       "    </tr>\n",
       "    <tr>\n",
       "      <th>1</th>\n",
       "      <td>AB257</td>\n",
       "      <td>1973-11-01</td>\n",
       "      <td>26550.0</td>\n",
       "    </tr>\n",
       "    <tr>\n",
       "      <th>2</th>\n",
       "      <td>TR758</td>\n",
       "      <td>1973-11-01</td>\n",
       "      <td>122600.0</td>\n",
       "    </tr>\n",
       "    <tr>\n",
       "      <th>3</th>\n",
       "      <td>ON369</td>\n",
       "      <td>1973-11-01</td>\n",
       "      <td>65134.0</td>\n",
       "    </tr>\n",
       "    <tr>\n",
       "      <th>4</th>\n",
       "      <td>DS652</td>\n",
       "      <td>1973-11-01</td>\n",
       "      <td>61277.0</td>\n",
       "    </tr>\n",
       "    <tr>\n",
       "      <th>...</th>\n",
       "      <td>...</td>\n",
       "      <td>...</td>\n",
       "      <td>...</td>\n",
       "    </tr>\n",
       "    <tr>\n",
       "      <th>79385</th>\n",
       "      <td>AB424</td>\n",
       "      <td>2018-06-01</td>\n",
       "      <td>41652.0</td>\n",
       "    </tr>\n",
       "    <tr>\n",
       "      <th>79386</th>\n",
       "      <td>ON575</td>\n",
       "      <td>2018-06-01</td>\n",
       "      <td>47494.0</td>\n",
       "    </tr>\n",
       "    <tr>\n",
       "      <th>79387</th>\n",
       "      <td>RK103</td>\n",
       "      <td>2018-06-01</td>\n",
       "      <td>39467.0</td>\n",
       "    </tr>\n",
       "    <tr>\n",
       "      <th>79388</th>\n",
       "      <td>TR855</td>\n",
       "      <td>2018-06-01</td>\n",
       "      <td>38581.0</td>\n",
       "    </tr>\n",
       "    <tr>\n",
       "      <th>79389</th>\n",
       "      <td>BR477</td>\n",
       "      <td>2018-06-01</td>\n",
       "      <td>5740.0</td>\n",
       "    </tr>\n",
       "  </tbody>\n",
       "</table>\n",
       "<p>76311 rows × 3 columns</p>\n",
       "</div>"
      ],
      "text/plain": [
       "         UWI  START_DATE       OIL\n",
       "0      BR819  1965-05-01    1785.0\n",
       "1      AB257  1973-11-01   26550.0\n",
       "2      TR758  1973-11-01  122600.0\n",
       "3      ON369  1973-11-01   65134.0\n",
       "4      DS652  1973-11-01   61277.0\n",
       "...      ...         ...       ...\n",
       "79385  AB424  2018-06-01   41652.0\n",
       "79386  ON575  2018-06-01   47494.0\n",
       "79387  RK103  2018-06-01   39467.0\n",
       "79388  TR855  2018-06-01   38581.0\n",
       "79389  BR477  2018-06-01    5740.0\n",
       "\n",
       "[76311 rows x 3 columns]"
      ]
     },
     "execution_count": 31,
     "metadata": {},
     "output_type": "execute_result"
    }
   ],
   "source": [
    "df"
   ]
  },
  {
   "cell_type": "code",
   "execution_count": 32,
   "metadata": {},
   "outputs": [],
   "source": [
    "df['YEARS'] = df['START_DATE'].apply(lambda START_DATE:int(START_DATE[:-6]))\n",
    "df = df.drop('START_DATE',axis=1)"
   ]
  },
  {
   "cell_type": "code",
   "execution_count": 33,
   "metadata": {},
   "outputs": [
    {
     "name": "stdout",
     "output_type": "stream",
     "text": [
      "<class 'pandas.core.frame.DataFrame'>\n",
      "Int64Index: 76311 entries, 0 to 79389\n",
      "Data columns (total 3 columns):\n",
      " #   Column  Non-Null Count  Dtype  \n",
      "---  ------  --------------  -----  \n",
      " 0   UWI     76311 non-null  object \n",
      " 1   OIL     76311 non-null  float64\n",
      " 2   YEARS   76311 non-null  int64  \n",
      "dtypes: float64(1), int64(1), object(1)\n",
      "memory usage: 2.3+ MB\n"
     ]
    }
   ],
   "source": [
    "df.info()"
   ]
  },
  {
   "cell_type": "code",
   "execution_count": 34,
   "metadata": {},
   "outputs": [],
   "source": [
    "dummies = pd.get_dummies(df['UWI'],drop_first=True)\n",
    "df = df.drop(['UWI'],axis=1)\n",
    "df = pd.concat([df,dummies],axis=1)"
   ]
  },
  {
   "cell_type": "code",
   "execution_count": 35,
   "metadata": {},
   "outputs": [
    {
     "name": "stdout",
     "output_type": "stream",
     "text": [
      "<class 'pandas.core.frame.DataFrame'>\n",
      "Int64Index: 76311 entries, 0 to 79389\n",
      "Columns: 348 entries, OIL to YP861\n",
      "dtypes: float64(1), int64(1), uint8(346)\n",
      "memory usage: 26.9 MB\n"
     ]
    }
   ],
   "source": [
    "df.info()"
   ]
  },
  {
   "cell_type": "code",
   "execution_count": 36,
   "metadata": {},
   "outputs": [
    {
     "data": {
      "text/html": [
       "<div>\n",
       "<style scoped>\n",
       "    .dataframe tbody tr th:only-of-type {\n",
       "        vertical-align: middle;\n",
       "    }\n",
       "\n",
       "    .dataframe tbody tr th {\n",
       "        vertical-align: top;\n",
       "    }\n",
       "\n",
       "    .dataframe thead th {\n",
       "        text-align: right;\n",
       "    }\n",
       "</style>\n",
       "<table border=\"1\" class=\"dataframe\">\n",
       "  <thead>\n",
       "    <tr style=\"text-align: right;\">\n",
       "      <th></th>\n",
       "      <th>OIL</th>\n",
       "      <th>YEARS</th>\n",
       "      <th>AB141</th>\n",
       "      <th>AB257</th>\n",
       "      <th>AB295</th>\n",
       "      <th>AB320</th>\n",
       "      <th>AB323</th>\n",
       "      <th>AB344</th>\n",
       "      <th>AB348</th>\n",
       "      <th>AB363</th>\n",
       "      <th>...</th>\n",
       "      <th>YP676</th>\n",
       "      <th>YP693</th>\n",
       "      <th>YP714</th>\n",
       "      <th>YP718</th>\n",
       "      <th>YP737</th>\n",
       "      <th>YP768</th>\n",
       "      <th>YP785</th>\n",
       "      <th>YP805</th>\n",
       "      <th>YP821</th>\n",
       "      <th>YP861</th>\n",
       "    </tr>\n",
       "  </thead>\n",
       "  <tbody>\n",
       "    <tr>\n",
       "      <th>0</th>\n",
       "      <td>1785.0</td>\n",
       "      <td>1965</td>\n",
       "      <td>0</td>\n",
       "      <td>0</td>\n",
       "      <td>0</td>\n",
       "      <td>0</td>\n",
       "      <td>0</td>\n",
       "      <td>0</td>\n",
       "      <td>0</td>\n",
       "      <td>0</td>\n",
       "      <td>...</td>\n",
       "      <td>0</td>\n",
       "      <td>0</td>\n",
       "      <td>0</td>\n",
       "      <td>0</td>\n",
       "      <td>0</td>\n",
       "      <td>0</td>\n",
       "      <td>0</td>\n",
       "      <td>0</td>\n",
       "      <td>0</td>\n",
       "      <td>0</td>\n",
       "    </tr>\n",
       "    <tr>\n",
       "      <th>1</th>\n",
       "      <td>26550.0</td>\n",
       "      <td>1973</td>\n",
       "      <td>0</td>\n",
       "      <td>1</td>\n",
       "      <td>0</td>\n",
       "      <td>0</td>\n",
       "      <td>0</td>\n",
       "      <td>0</td>\n",
       "      <td>0</td>\n",
       "      <td>0</td>\n",
       "      <td>...</td>\n",
       "      <td>0</td>\n",
       "      <td>0</td>\n",
       "      <td>0</td>\n",
       "      <td>0</td>\n",
       "      <td>0</td>\n",
       "      <td>0</td>\n",
       "      <td>0</td>\n",
       "      <td>0</td>\n",
       "      <td>0</td>\n",
       "      <td>0</td>\n",
       "    </tr>\n",
       "    <tr>\n",
       "      <th>2</th>\n",
       "      <td>122600.0</td>\n",
       "      <td>1973</td>\n",
       "      <td>0</td>\n",
       "      <td>0</td>\n",
       "      <td>0</td>\n",
       "      <td>0</td>\n",
       "      <td>0</td>\n",
       "      <td>0</td>\n",
       "      <td>0</td>\n",
       "      <td>0</td>\n",
       "      <td>...</td>\n",
       "      <td>0</td>\n",
       "      <td>0</td>\n",
       "      <td>0</td>\n",
       "      <td>0</td>\n",
       "      <td>0</td>\n",
       "      <td>0</td>\n",
       "      <td>0</td>\n",
       "      <td>0</td>\n",
       "      <td>0</td>\n",
       "      <td>0</td>\n",
       "    </tr>\n",
       "    <tr>\n",
       "      <th>3</th>\n",
       "      <td>65134.0</td>\n",
       "      <td>1973</td>\n",
       "      <td>0</td>\n",
       "      <td>0</td>\n",
       "      <td>0</td>\n",
       "      <td>0</td>\n",
       "      <td>0</td>\n",
       "      <td>0</td>\n",
       "      <td>0</td>\n",
       "      <td>0</td>\n",
       "      <td>...</td>\n",
       "      <td>0</td>\n",
       "      <td>0</td>\n",
       "      <td>0</td>\n",
       "      <td>0</td>\n",
       "      <td>0</td>\n",
       "      <td>0</td>\n",
       "      <td>0</td>\n",
       "      <td>0</td>\n",
       "      <td>0</td>\n",
       "      <td>0</td>\n",
       "    </tr>\n",
       "    <tr>\n",
       "      <th>4</th>\n",
       "      <td>61277.0</td>\n",
       "      <td>1973</td>\n",
       "      <td>0</td>\n",
       "      <td>0</td>\n",
       "      <td>0</td>\n",
       "      <td>0</td>\n",
       "      <td>0</td>\n",
       "      <td>0</td>\n",
       "      <td>0</td>\n",
       "      <td>0</td>\n",
       "      <td>...</td>\n",
       "      <td>0</td>\n",
       "      <td>0</td>\n",
       "      <td>0</td>\n",
       "      <td>0</td>\n",
       "      <td>0</td>\n",
       "      <td>0</td>\n",
       "      <td>0</td>\n",
       "      <td>0</td>\n",
       "      <td>0</td>\n",
       "      <td>0</td>\n",
       "    </tr>\n",
       "    <tr>\n",
       "      <th>...</th>\n",
       "      <td>...</td>\n",
       "      <td>...</td>\n",
       "      <td>...</td>\n",
       "      <td>...</td>\n",
       "      <td>...</td>\n",
       "      <td>...</td>\n",
       "      <td>...</td>\n",
       "      <td>...</td>\n",
       "      <td>...</td>\n",
       "      <td>...</td>\n",
       "      <td>...</td>\n",
       "      <td>...</td>\n",
       "      <td>...</td>\n",
       "      <td>...</td>\n",
       "      <td>...</td>\n",
       "      <td>...</td>\n",
       "      <td>...</td>\n",
       "      <td>...</td>\n",
       "      <td>...</td>\n",
       "      <td>...</td>\n",
       "      <td>...</td>\n",
       "    </tr>\n",
       "    <tr>\n",
       "      <th>79385</th>\n",
       "      <td>41652.0</td>\n",
       "      <td>2018</td>\n",
       "      <td>0</td>\n",
       "      <td>0</td>\n",
       "      <td>0</td>\n",
       "      <td>0</td>\n",
       "      <td>0</td>\n",
       "      <td>0</td>\n",
       "      <td>0</td>\n",
       "      <td>0</td>\n",
       "      <td>...</td>\n",
       "      <td>0</td>\n",
       "      <td>0</td>\n",
       "      <td>0</td>\n",
       "      <td>0</td>\n",
       "      <td>0</td>\n",
       "      <td>0</td>\n",
       "      <td>0</td>\n",
       "      <td>0</td>\n",
       "      <td>0</td>\n",
       "      <td>0</td>\n",
       "    </tr>\n",
       "    <tr>\n",
       "      <th>79386</th>\n",
       "      <td>47494.0</td>\n",
       "      <td>2018</td>\n",
       "      <td>0</td>\n",
       "      <td>0</td>\n",
       "      <td>0</td>\n",
       "      <td>0</td>\n",
       "      <td>0</td>\n",
       "      <td>0</td>\n",
       "      <td>0</td>\n",
       "      <td>0</td>\n",
       "      <td>...</td>\n",
       "      <td>0</td>\n",
       "      <td>0</td>\n",
       "      <td>0</td>\n",
       "      <td>0</td>\n",
       "      <td>0</td>\n",
       "      <td>0</td>\n",
       "      <td>0</td>\n",
       "      <td>0</td>\n",
       "      <td>0</td>\n",
       "      <td>0</td>\n",
       "    </tr>\n",
       "    <tr>\n",
       "      <th>79387</th>\n",
       "      <td>39467.0</td>\n",
       "      <td>2018</td>\n",
       "      <td>0</td>\n",
       "      <td>0</td>\n",
       "      <td>0</td>\n",
       "      <td>0</td>\n",
       "      <td>0</td>\n",
       "      <td>0</td>\n",
       "      <td>0</td>\n",
       "      <td>0</td>\n",
       "      <td>...</td>\n",
       "      <td>0</td>\n",
       "      <td>0</td>\n",
       "      <td>0</td>\n",
       "      <td>0</td>\n",
       "      <td>0</td>\n",
       "      <td>0</td>\n",
       "      <td>0</td>\n",
       "      <td>0</td>\n",
       "      <td>0</td>\n",
       "      <td>0</td>\n",
       "    </tr>\n",
       "    <tr>\n",
       "      <th>79388</th>\n",
       "      <td>38581.0</td>\n",
       "      <td>2018</td>\n",
       "      <td>0</td>\n",
       "      <td>0</td>\n",
       "      <td>0</td>\n",
       "      <td>0</td>\n",
       "      <td>0</td>\n",
       "      <td>0</td>\n",
       "      <td>0</td>\n",
       "      <td>0</td>\n",
       "      <td>...</td>\n",
       "      <td>0</td>\n",
       "      <td>0</td>\n",
       "      <td>0</td>\n",
       "      <td>0</td>\n",
       "      <td>0</td>\n",
       "      <td>0</td>\n",
       "      <td>0</td>\n",
       "      <td>0</td>\n",
       "      <td>0</td>\n",
       "      <td>0</td>\n",
       "    </tr>\n",
       "    <tr>\n",
       "      <th>79389</th>\n",
       "      <td>5740.0</td>\n",
       "      <td>2018</td>\n",
       "      <td>0</td>\n",
       "      <td>0</td>\n",
       "      <td>0</td>\n",
       "      <td>0</td>\n",
       "      <td>0</td>\n",
       "      <td>0</td>\n",
       "      <td>0</td>\n",
       "      <td>0</td>\n",
       "      <td>...</td>\n",
       "      <td>0</td>\n",
       "      <td>0</td>\n",
       "      <td>0</td>\n",
       "      <td>0</td>\n",
       "      <td>0</td>\n",
       "      <td>0</td>\n",
       "      <td>0</td>\n",
       "      <td>0</td>\n",
       "      <td>0</td>\n",
       "      <td>0</td>\n",
       "    </tr>\n",
       "  </tbody>\n",
       "</table>\n",
       "<p>76311 rows × 348 columns</p>\n",
       "</div>"
      ],
      "text/plain": [
       "            OIL  YEARS  AB141  AB257  AB295  AB320  AB323  AB344  AB348  \\\n",
       "0        1785.0   1965      0      0      0      0      0      0      0   \n",
       "1       26550.0   1973      0      1      0      0      0      0      0   \n",
       "2      122600.0   1973      0      0      0      0      0      0      0   \n",
       "3       65134.0   1973      0      0      0      0      0      0      0   \n",
       "4       61277.0   1973      0      0      0      0      0      0      0   \n",
       "...         ...    ...    ...    ...    ...    ...    ...    ...    ...   \n",
       "79385   41652.0   2018      0      0      0      0      0      0      0   \n",
       "79386   47494.0   2018      0      0      0      0      0      0      0   \n",
       "79387   39467.0   2018      0      0      0      0      0      0      0   \n",
       "79388   38581.0   2018      0      0      0      0      0      0      0   \n",
       "79389    5740.0   2018      0      0      0      0      0      0      0   \n",
       "\n",
       "       AB363  ...  YP676  YP693  YP714  YP718  YP737  YP768  YP785  YP805  \\\n",
       "0          0  ...      0      0      0      0      0      0      0      0   \n",
       "1          0  ...      0      0      0      0      0      0      0      0   \n",
       "2          0  ...      0      0      0      0      0      0      0      0   \n",
       "3          0  ...      0      0      0      0      0      0      0      0   \n",
       "4          0  ...      0      0      0      0      0      0      0      0   \n",
       "...      ...  ...    ...    ...    ...    ...    ...    ...    ...    ...   \n",
       "79385      0  ...      0      0      0      0      0      0      0      0   \n",
       "79386      0  ...      0      0      0      0      0      0      0      0   \n",
       "79387      0  ...      0      0      0      0      0      0      0      0   \n",
       "79388      0  ...      0      0      0      0      0      0      0      0   \n",
       "79389      0  ...      0      0      0      0      0      0      0      0   \n",
       "\n",
       "       YP821  YP861  \n",
       "0          0      0  \n",
       "1          0      0  \n",
       "2          0      0  \n",
       "3          0      0  \n",
       "4          0      0  \n",
       "...      ...    ...  \n",
       "79385      0      0  \n",
       "79386      0      0  \n",
       "79387      0      0  \n",
       "79388      0      0  \n",
       "79389      0      0  \n",
       "\n",
       "[76311 rows x 348 columns]"
      ]
     },
     "execution_count": 36,
     "metadata": {},
     "output_type": "execute_result"
    }
   ],
   "source": [
    "df"
   ]
  },
  {
   "cell_type": "code",
   "execution_count": 37,
   "metadata": {},
   "outputs": [
    {
     "name": "stdout",
     "output_type": "stream",
     "text": [
      "<class 'pandas.core.frame.DataFrame'>\n",
      "Int64Index: 76311 entries, 0 to 79389\n",
      "Columns: 348 entries, OIL to YP861\n",
      "dtypes: float64(1), int64(1), uint8(346)\n",
      "memory usage: 26.9 MB\n"
     ]
    }
   ],
   "source": [
    "df.info()"
   ]
  },
  {
   "cell_type": "code",
   "execution_count": 38,
   "metadata": {},
   "outputs": [
    {
     "data": {
      "text/plain": [
       "OIL      0\n",
       "YEARS    0\n",
       "AB141    0\n",
       "AB257    0\n",
       "AB295    0\n",
       "        ..\n",
       "YP768    0\n",
       "YP785    0\n",
       "YP805    0\n",
       "YP821    0\n",
       "YP861    0\n",
       "Length: 348, dtype: int64"
      ]
     },
     "execution_count": 38,
     "metadata": {},
     "output_type": "execute_result"
    }
   ],
   "source": [
    "df.isnull().sum()"
   ]
  },
  {
   "cell_type": "code",
   "execution_count": 39,
   "metadata": {},
   "outputs": [],
   "source": [
    "X = df.drop('OIL',axis=1)\n",
    "y = df['OIL']"
   ]
  },
  {
   "cell_type": "code",
   "execution_count": 40,
   "metadata": {},
   "outputs": [],
   "source": [
    "from sklearn.model_selection import train_test_split"
   ]
  },
  {
   "cell_type": "code",
   "execution_count": 41,
   "metadata": {
    "scrolled": true
   },
   "outputs": [],
   "source": [
    "X_train, X_test, y_train, y_test = train_test_split(X,y,test_size=0.4)"
   ]
  },
  {
   "cell_type": "code",
   "execution_count": 42,
   "metadata": {},
   "outputs": [],
   "source": [
    "from sklearn.preprocessing import MinMaxScaler"
   ]
  },
  {
   "cell_type": "code",
   "execution_count": 43,
   "metadata": {},
   "outputs": [],
   "source": [
    "#from sklearn.preprocessing import StandardScaler"
   ]
  },
  {
   "cell_type": "code",
   "execution_count": 44,
   "metadata": {},
   "outputs": [],
   "source": [
    "scaler = MinMaxScaler()"
   ]
  },
  {
   "cell_type": "code",
   "execution_count": 45,
   "metadata": {},
   "outputs": [
    {
     "data": {
      "text/plain": [
       "(45786, 347)"
      ]
     },
     "execution_count": 45,
     "metadata": {},
     "output_type": "execute_result"
    }
   ],
   "source": [
    "X_train.shape"
   ]
  },
  {
   "cell_type": "code",
   "execution_count": 46,
   "metadata": {},
   "outputs": [
    {
     "data": {
      "text/plain": [
       "(30525, 347)"
      ]
     },
     "execution_count": 46,
     "metadata": {},
     "output_type": "execute_result"
    }
   ],
   "source": [
    "X_test.shape"
   ]
  },
  {
   "cell_type": "code",
   "execution_count": 47,
   "metadata": {},
   "outputs": [
    {
     "data": {
      "text/plain": [
       "(45786,)"
      ]
     },
     "execution_count": 47,
     "metadata": {},
     "output_type": "execute_result"
    }
   ],
   "source": [
    "y_train.shape"
   ]
  },
  {
   "cell_type": "code",
   "execution_count": 48,
   "metadata": {},
   "outputs": [
    {
     "data": {
      "text/plain": [
       "(30525,)"
      ]
     },
     "execution_count": 48,
     "metadata": {},
     "output_type": "execute_result"
    }
   ],
   "source": [
    "y_test.shape"
   ]
  },
  {
   "cell_type": "code",
   "execution_count": 49,
   "metadata": {},
   "outputs": [
    {
     "data": {
      "text/plain": [
       "MinMaxScaler(copy=True, feature_range=(0, 1))"
      ]
     },
     "execution_count": 49,
     "metadata": {},
     "output_type": "execute_result"
    }
   ],
   "source": [
    "scaler.fit(X_train)"
   ]
  },
  {
   "cell_type": "code",
   "execution_count": 50,
   "metadata": {},
   "outputs": [],
   "source": [
    "X_train = scaler.transform(X_train)"
   ]
  },
  {
   "cell_type": "code",
   "execution_count": 51,
   "metadata": {},
   "outputs": [],
   "source": [
    "X_test = scaler.transform(X_test)"
   ]
  },
  {
   "cell_type": "code",
   "execution_count": 52,
   "metadata": {},
   "outputs": [],
   "source": [
    "import tensorflow as tf\n",
    "from tensorflow.keras.models import Sequential\n",
    "from tensorflow.keras.layers import Dense, Activation, Dropout\n",
    "from tensorflow.keras.optimizers import Adam\n",
    "from tensorflow.keras.constraints import max_norm\n",
    "from tensorflow.keras.models import load_model\n",
    "from tensorflow.keras.layers import Dropout"
   ]
  },
  {
   "cell_type": "code",
   "execution_count": 53,
   "metadata": {},
   "outputs": [],
   "source": [
    "#model = Sequential()\n",
    "\n",
    "# https://stats.stackexchange.com/questions/181/how-to-choose-the-number-of-hidden-layers-and-nodes-in-a-feedforward-neural-netw\n",
    "\n",
    "# input layer\n",
    "#model.add(Dense(8,activation='relu'))\n",
    "#model.add(Dropout(0.2))\n",
    "\n",
    "# hidden layer\n",
    "#model.add(Dense(8,activation='relu'))\n",
    "#model.add(Dropout(0.2))\n",
    "\n",
    "# hidden layer\n",
    "#model.add(Dense(8,activation='relu'))\n",
    "#model.add(Dropout(0.2))\n",
    "\n",
    "# output layer\n",
    "#model.add(Dense(1)#,activation='sigmoid'))\n",
    "\n",
    "# Compile model\n",
    "#model.compile(optimizer='adam',loss='mse',metrics='accuracy')"
   ]
  },
  {
   "cell_type": "code",
   "execution_count": 54,
   "metadata": {},
   "outputs": [],
   "source": [
    "#from tensorflow.keras.layers import LSTM"
   ]
  },
  {
   "cell_type": "code",
   "execution_count": 55,
   "metadata": {},
   "outputs": [],
   "source": [
    "model = Sequential()\n",
    "\n",
    "model.add(Dense(347,activation='relu'))\n",
    "model.add(Dense(177,activation='relu'))\n",
    "model.add(Dense(87,activation='relu'))\n",
    "model.add(Dense(47,activation='relu'))\n",
    "model.add(Dense(27,activation='relu'))\n",
    "model.add(Dense(17,activation='relu'))\n",
    "model.add(Dense(7,activation='relu'))\n",
    "model.add(Dense(1))\n",
    "\n",
    "model.compile(optimizer='adam',loss='mse',metrics='accuracy')"
   ]
  },
  {
   "cell_type": "code",
   "execution_count": 56,
   "metadata": {},
   "outputs": [],
   "source": [
    "#model=tf.keras.models.Sequential([\n",
    "#    tf.keras.layers.LSTM(8,activation='relu'),\n",
    "#    tf.keras.layers.LSTM(8,activation='relu'),\n",
    "#    tf.keras.layers.LSTM(8,activation='relu'),\n",
    "#    tf.keras.layers.Dense(1)\n",
    "#])\n",
    "    \n",
    "#model.compile(optimizer='SGD',loss='huber',metrics='accuracy')    "
   ]
  },
  {
   "cell_type": "code",
   "execution_count": 57,
   "metadata": {
    "scrolled": true
   },
   "outputs": [],
   "source": [
    "#model.fit(x=X_train,y=y_train.values,\n",
    "#          validation_data=(X_test,y_test.values),epochs=100)"
   ]
  },
  {
   "cell_type": "code",
   "execution_count": 91,
   "metadata": {},
   "outputs": [
    {
     "name": "stdout",
     "output_type": "stream",
     "text": [
      "Model: \"sequential\"\n",
      "_________________________________________________________________\n",
      "Layer (type)                 Output Shape              Param #   \n",
      "=================================================================\n",
      "dense (Dense)                (None, 347)               120756    \n",
      "_________________________________________________________________\n",
      "dense_1 (Dense)              (None, 177)               61596     \n",
      "_________________________________________________________________\n",
      "dense_2 (Dense)              (None, 87)                15486     \n",
      "_________________________________________________________________\n",
      "dense_3 (Dense)              (None, 47)                4136      \n",
      "_________________________________________________________________\n",
      "dense_4 (Dense)              (None, 27)                1296      \n",
      "_________________________________________________________________\n",
      "dense_5 (Dense)              (None, 17)                476       \n",
      "_________________________________________________________________\n",
      "dense_6 (Dense)              (None, 7)                 126       \n",
      "_________________________________________________________________\n",
      "dense_7 (Dense)              (None, 1)                 8         \n",
      "=================================================================\n",
      "Total params: 203,880\n",
      "Trainable params: 203,880\n",
      "Non-trainable params: 0\n",
      "_________________________________________________________________\n"
     ]
    }
   ],
   "source": [
    "model.summary()"
   ]
  },
  {
   "cell_type": "code",
   "execution_count": 58,
   "metadata": {},
   "outputs": [
    {
     "name": "stdout",
     "output_type": "stream",
     "text": [
      "Epoch 1/50\n",
      "1431/1431 [==============================] - 8s 5ms/step - loss: 5028385367.9553 - accuracy: 0.0000e+00 - val_loss: 2005842560.0000 - val_accuracy: 6.5520e-05\n",
      "Epoch 2/50\n",
      "1431/1431 [==============================] - 6s 4ms/step - loss: 2034252583.0615 - accuracy: 0.0000e+00 - val_loss: 1893887744.0000 - val_accuracy: 6.5520e-05\n",
      "Epoch 3/50\n",
      "1431/1431 [==============================] - 6s 4ms/step - loss: 1933413148.9162 - accuracy: 0.0000e+00 - val_loss: 2092873728.0000 - val_accuracy: 6.5520e-05\n",
      "Epoch 4/50\n",
      "1431/1431 [==============================] - 6s 4ms/step - loss: 1758578426.1006 - accuracy: 0.0000e+00 - val_loss: 1938119680.0000 - val_accuracy: 6.5520e-05\n",
      "Epoch 5/50\n",
      "1431/1431 [==============================] - 6s 4ms/step - loss: 1845669511.0615 - accuracy: 0.0000e+00 - val_loss: 1941508864.0000 - val_accuracy: 6.5520e-05\n",
      "Epoch 6/50\n",
      "1431/1431 [==============================] - 6s 4ms/step - loss: 1798783925.4525 - accuracy: 0.0000e+00 - val_loss: 1910895488.0000 - val_accuracy: 6.5520e-05\n",
      "Epoch 7/50\n",
      "1431/1431 [==============================] - 6s 4ms/step - loss: 1751951968.5363 - accuracy: 0.0000e+00 - val_loss: 1944798464.0000 - val_accuracy: 6.5520e-05\n",
      "Epoch 8/50\n",
      "1431/1431 [==============================] - 6s 4ms/step - loss: 1837121363.1285 - accuracy: 0.0000e+00 - val_loss: 1875033600.0000 - val_accuracy: 6.5520e-05\n",
      "Epoch 9/50\n",
      "1431/1431 [==============================] - 6s 4ms/step - loss: 1755039727.0615 - accuracy: 0.0000e+00 - val_loss: 1922677888.0000 - val_accuracy: 6.5520e-05\n",
      "Epoch 10/50\n",
      "1431/1431 [==============================] - 6s 4ms/step - loss: 1783131748.1117 - accuracy: 0.0000e+00 - val_loss: 1875565312.0000 - val_accuracy: 6.5520e-05\n",
      "Epoch 11/50\n",
      "1431/1431 [==============================] - 6s 4ms/step - loss: 1822335398.1676 - accuracy: 0.0000e+00 - val_loss: 2014875136.0000 - val_accuracy: 6.5520e-05\n",
      "Epoch 12/50\n",
      "1431/1431 [==============================] - 6s 4ms/step - loss: 1724158910.7486 - accuracy: 0.0000e+00 - val_loss: 1838824320.0000 - val_accuracy: 6.5520e-05\n",
      "Epoch 13/50\n",
      "1431/1431 [==============================] - 6s 4ms/step - loss: 1730818904.3575 - accuracy: 0.0000e+00 - val_loss: 1800215168.0000 - val_accuracy: 6.5520e-05\n",
      "Epoch 14/50\n",
      "1431/1431 [==============================] - 6s 4ms/step - loss: 1703503128.6704 - accuracy: 0.0000e+00 - val_loss: 1781431168.0000 - val_accuracy: 6.5520e-05\n",
      "Epoch 15/50\n",
      "1431/1431 [==============================] - 6s 4ms/step - loss: 1740245172.0223 - accuracy: 0.0000e+00 - val_loss: 1814499968.0000 - val_accuracy: 6.5520e-05\n",
      "Epoch 16/50\n",
      "1431/1431 [==============================] - 6s 4ms/step - loss: 1602401452.8045 - accuracy: 0.0000e+00 - val_loss: 1806173056.0000 - val_accuracy: 6.5520e-05\n",
      "Epoch 17/50\n",
      "1431/1431 [==============================] - 6s 4ms/step - loss: 1576494999.3296 - accuracy: 0.0000e+00 - val_loss: 1765569408.0000 - val_accuracy: 6.5520e-05\n",
      "Epoch 18/50\n",
      "1431/1431 [==============================] - 6s 4ms/step - loss: 1626378824.8492 - accuracy: 0.0000e+00 - val_loss: 1732772608.0000 - val_accuracy: 6.5520e-05\n",
      "Epoch 19/50\n",
      "1431/1431 [==============================] - 6s 4ms/step - loss: 1676950620.9609 - accuracy: 0.0000e+00 - val_loss: 1700982528.0000 - val_accuracy: 6.5520e-05\n",
      "Epoch 20/50\n",
      "1431/1431 [==============================] - 6s 4ms/step - loss: 1617159136.2682 - accuracy: 0.0000e+00 - val_loss: 1768212992.0000 - val_accuracy: 6.5520e-05\n",
      "Epoch 21/50\n",
      "1431/1431 [==============================] - 6s 4ms/step - loss: 1642911239.1955 - accuracy: 0.0000e+00 - val_loss: 1725818240.0000 - val_accuracy: 6.5520e-05\n",
      "Epoch 22/50\n",
      "1431/1431 [==============================] - 6s 4ms/step - loss: 1533474967.7765 - accuracy: 0.0000e+00 - val_loss: 1697584256.0000 - val_accuracy: 6.5520e-05\n",
      "Epoch 23/50\n",
      "1431/1431 [==============================] - 6s 4ms/step - loss: 1524719889.4078 - accuracy: 0.0000e+00 - val_loss: 1672204032.0000 - val_accuracy: 6.5520e-05\n",
      "Epoch 24/50\n",
      "1431/1431 [==============================] - 6s 4ms/step - loss: 1579281964.0670 - accuracy: 0.0000e+00 - val_loss: 1626241920.0000 - val_accuracy: 6.5520e-05\n",
      "Epoch 25/50\n",
      "1431/1431 [==============================] - 6s 4ms/step - loss: 1557734439.2514 - accuracy: 0.0000e+00 - val_loss: 1647750656.0000 - val_accuracy: 6.5520e-05\n",
      "Epoch 26/50\n",
      "1431/1431 [==============================] - 6s 4ms/step - loss: 1525583749.8994 - accuracy: 0.0000e+00 - val_loss: 1732075008.0000 - val_accuracy: 6.5520e-05\n",
      "Epoch 27/50\n",
      "1431/1431 [==============================] - 6s 4ms/step - loss: 1568029247.9553 - accuracy: 0.0000e+00 - val_loss: 1637404416.0000 - val_accuracy: 6.5520e-05\n",
      "Epoch 28/50\n",
      "1431/1431 [==============================] - 6s 4ms/step - loss: 1533405707.2179 - accuracy: 0.0000e+00 - val_loss: 1701667200.0000 - val_accuracy: 6.5520e-05\n",
      "Epoch 29/50\n",
      "1431/1431 [==============================] - 6s 4ms/step - loss: 1528491518.8827 - accuracy: 0.0000e+00 - val_loss: 1652373248.0000 - val_accuracy: 6.5520e-05\n",
      "Epoch 30/50\n",
      "1431/1431 [==============================] - 6s 5ms/step - loss: 1604944154.0335 - accuracy: 0.0000e+00 - val_loss: 1628931328.0000 - val_accuracy: 6.5520e-05\n",
      "Epoch 31/50\n",
      "1431/1431 [==============================] - 6s 4ms/step - loss: 1499412283.3184 - accuracy: 0.0000e+00 - val_loss: 1563108224.0000 - val_accuracy: 6.5520e-05\n",
      "Epoch 32/50\n",
      "1431/1431 [==============================] - 6s 4ms/step - loss: 1526961699.4413 - accuracy: 0.0000e+00 - val_loss: 1658406784.0000 - val_accuracy: 6.5520e-05\n",
      "Epoch 33/50\n",
      "1431/1431 [==============================] - 6s 4ms/step - loss: 1497175632.3575 - accuracy: 0.0000e+00 - val_loss: 1597003776.0000 - val_accuracy: 6.5520e-05\n",
      "Epoch 34/50\n",
      "1431/1431 [==============================] - 6s 4ms/step - loss: 1554071616.3575 - accuracy: 0.0000e+00 - val_loss: 1585853952.0000 - val_accuracy: 6.5520e-05\n",
      "Epoch 35/50\n",
      "1431/1431 [==============================] - 6s 5ms/step - loss: 1560677308.3352 - accuracy: 0.0000e+00 - val_loss: 1578382848.0000 - val_accuracy: 6.5520e-05\n",
      "Epoch 36/50\n",
      "1431/1431 [==============================] - 6s 4ms/step - loss: 1536186268.9609 - accuracy: 0.0000e+00 - val_loss: 1578386432.0000 - val_accuracy: 6.5520e-05\n",
      "Epoch 37/50\n",
      "1431/1431 [==============================] - 6s 5ms/step - loss: 1507667775.3743 - accuracy: 0.0000e+00 - val_loss: 1592744704.0000 - val_accuracy: 6.5520e-05\n",
      "Epoch 38/50\n",
      "1431/1431 [==============================] - 6s 5ms/step - loss: 1565825503.2849 - accuracy: 0.0000e+00 - val_loss: 1551439360.0000 - val_accuracy: 6.5520e-05\n",
      "Epoch 39/50\n",
      "1431/1431 [==============================] - 6s 4ms/step - loss: 1419071562.7709 - accuracy: 0.0000e+00 - val_loss: 1563501312.0000 - val_accuracy: 6.5520e-05\n",
      "Epoch 40/50\n",
      "1431/1431 [==============================] - 6s 5ms/step - loss: 1499799610.6369 - accuracy: 0.0000e+00 - val_loss: 1569011840.0000 - val_accuracy: 6.5520e-05\n",
      "Epoch 41/50\n",
      "1431/1431 [==============================] - 6s 5ms/step - loss: 1493617783.6872 - accuracy: 0.0000e+00 - val_loss: 1558839040.0000 - val_accuracy: 6.5520e-05\n",
      "Epoch 42/50\n",
      "1431/1431 [==============================] - 6s 5ms/step - loss: 1459420743.9553 - accuracy: 0.0000e+00 - val_loss: 1579758464.0000 - val_accuracy: 6.5520e-05\n",
      "Epoch 43/50\n",
      "1431/1431 [==============================] - 7s 5ms/step - loss: 1479100522.1006 - accuracy: 0.0000e+00 - val_loss: 1556729984.0000 - val_accuracy: 6.5520e-05\n",
      "Epoch 44/50\n",
      "1431/1431 [==============================] - 7s 5ms/step - loss: 1508604852.4469 - accuracy: 0.0000e+00 - val_loss: 1559368192.0000 - val_accuracy: 6.5520e-05\n",
      "Epoch 45/50\n",
      "1431/1431 [==============================] - 7s 5ms/step - loss: 1609879919.6425 - accuracy: 0.0000e+00 - val_loss: 1561895040.0000 - val_accuracy: 6.5520e-05\n",
      "Epoch 46/50\n",
      "1431/1431 [==============================] - 7s 5ms/step - loss: 1470540230.7039 - accuracy: 0.0000e+00 - val_loss: 1595572224.0000 - val_accuracy: 6.5520e-05\n",
      "Epoch 47/50\n",
      "1431/1431 [==============================] - 7s 5ms/step - loss: 1443942077.2737 - accuracy: 0.0000e+00 - val_loss: 1537213696.0000 - val_accuracy: 6.5520e-05\n",
      "Epoch 48/50\n",
      "1431/1431 [==============================] - 7s 5ms/step - loss: 1421665853.3184 - accuracy: 0.0000e+00 - val_loss: 1550398592.0000 - val_accuracy: 6.5520e-05\n"
     ]
    },
    {
     "name": "stdout",
     "output_type": "stream",
     "text": [
      "Epoch 49/50\n",
      "1431/1431 [==============================] - 6s 4ms/step - loss: 1443941629.4078 - accuracy: 0.0000e+00 - val_loss: 1544532352.0000 - val_accuracy: 6.5520e-05\n",
      "Epoch 50/50\n",
      "1431/1431 [==============================] - 6s 4ms/step - loss: 1455247109.0168 - accuracy: 0.0000e+00 - val_loss: 1541796608.0000 - val_accuracy: 6.5520e-05\n"
     ]
    },
    {
     "data": {
      "text/plain": [
       "<tensorflow.python.keras.callbacks.History at 0x1a60bdf190>"
      ]
     },
     "execution_count": 58,
     "metadata": {},
     "output_type": "execute_result"
    }
   ],
   "source": [
    "model.fit(x=X_train, \n",
    "          y=y_train.values, \n",
    "          epochs=50,\n",
    "          #batch_size=128,\n",
    "          validation_data=(X_test, y_test.values), \n",
    "          )"
   ]
  },
  {
   "cell_type": "code",
   "execution_count": 59,
   "metadata": {},
   "outputs": [],
   "source": [
    "#df.drop([6171,7405],inplace=None)"
   ]
  },
  {
   "cell_type": "code",
   "execution_count": 60,
   "metadata": {},
   "outputs": [
    {
     "data": {
      "text/html": [
       "<div>\n",
       "<style scoped>\n",
       "    .dataframe tbody tr th:only-of-type {\n",
       "        vertical-align: middle;\n",
       "    }\n",
       "\n",
       "    .dataframe tbody tr th {\n",
       "        vertical-align: top;\n",
       "    }\n",
       "\n",
       "    .dataframe thead th {\n",
       "        text-align: right;\n",
       "    }\n",
       "</style>\n",
       "<table border=\"1\" class=\"dataframe\">\n",
       "  <thead>\n",
       "    <tr style=\"text-align: right;\">\n",
       "      <th></th>\n",
       "      <th>loss</th>\n",
       "      <th>accuracy</th>\n",
       "      <th>val_loss</th>\n",
       "      <th>val_accuracy</th>\n",
       "    </tr>\n",
       "  </thead>\n",
       "  <tbody>\n",
       "    <tr>\n",
       "      <th>0</th>\n",
       "      <td>3.296358e+09</td>\n",
       "      <td>0.0</td>\n",
       "      <td>2.005843e+09</td>\n",
       "      <td>0.000066</td>\n",
       "    </tr>\n",
       "    <tr>\n",
       "      <th>1</th>\n",
       "      <td>1.900596e+09</td>\n",
       "      <td>0.0</td>\n",
       "      <td>1.893888e+09</td>\n",
       "      <td>0.000066</td>\n",
       "    </tr>\n",
       "    <tr>\n",
       "      <th>2</th>\n",
       "      <td>1.858869e+09</td>\n",
       "      <td>0.0</td>\n",
       "      <td>2.092874e+09</td>\n",
       "      <td>0.000066</td>\n",
       "    </tr>\n",
       "    <tr>\n",
       "      <th>3</th>\n",
       "      <td>1.823212e+09</td>\n",
       "      <td>0.0</td>\n",
       "      <td>1.938120e+09</td>\n",
       "      <td>0.000066</td>\n",
       "    </tr>\n",
       "    <tr>\n",
       "      <th>4</th>\n",
       "      <td>1.826782e+09</td>\n",
       "      <td>0.0</td>\n",
       "      <td>1.941509e+09</td>\n",
       "      <td>0.000066</td>\n",
       "    </tr>\n",
       "    <tr>\n",
       "      <th>5</th>\n",
       "      <td>1.805796e+09</td>\n",
       "      <td>0.0</td>\n",
       "      <td>1.910895e+09</td>\n",
       "      <td>0.000066</td>\n",
       "    </tr>\n",
       "    <tr>\n",
       "      <th>6</th>\n",
       "      <td>1.815726e+09</td>\n",
       "      <td>0.0</td>\n",
       "      <td>1.944798e+09</td>\n",
       "      <td>0.000066</td>\n",
       "    </tr>\n",
       "    <tr>\n",
       "      <th>7</th>\n",
       "      <td>1.797412e+09</td>\n",
       "      <td>0.0</td>\n",
       "      <td>1.875034e+09</td>\n",
       "      <td>0.000066</td>\n",
       "    </tr>\n",
       "    <tr>\n",
       "      <th>8</th>\n",
       "      <td>1.801365e+09</td>\n",
       "      <td>0.0</td>\n",
       "      <td>1.922678e+09</td>\n",
       "      <td>0.000066</td>\n",
       "    </tr>\n",
       "    <tr>\n",
       "      <th>9</th>\n",
       "      <td>1.774775e+09</td>\n",
       "      <td>0.0</td>\n",
       "      <td>1.875565e+09</td>\n",
       "      <td>0.000066</td>\n",
       "    </tr>\n",
       "    <tr>\n",
       "      <th>10</th>\n",
       "      <td>1.777552e+09</td>\n",
       "      <td>0.0</td>\n",
       "      <td>2.014875e+09</td>\n",
       "      <td>0.000066</td>\n",
       "    </tr>\n",
       "    <tr>\n",
       "      <th>11</th>\n",
       "      <td>1.752652e+09</td>\n",
       "      <td>0.0</td>\n",
       "      <td>1.838824e+09</td>\n",
       "      <td>0.000066</td>\n",
       "    </tr>\n",
       "    <tr>\n",
       "      <th>12</th>\n",
       "      <td>1.758071e+09</td>\n",
       "      <td>0.0</td>\n",
       "      <td>1.800215e+09</td>\n",
       "      <td>0.000066</td>\n",
       "    </tr>\n",
       "    <tr>\n",
       "      <th>13</th>\n",
       "      <td>1.730246e+09</td>\n",
       "      <td>0.0</td>\n",
       "      <td>1.781431e+09</td>\n",
       "      <td>0.000066</td>\n",
       "    </tr>\n",
       "    <tr>\n",
       "      <th>14</th>\n",
       "      <td>1.724776e+09</td>\n",
       "      <td>0.0</td>\n",
       "      <td>1.814500e+09</td>\n",
       "      <td>0.000066</td>\n",
       "    </tr>\n",
       "    <tr>\n",
       "      <th>15</th>\n",
       "      <td>1.708460e+09</td>\n",
       "      <td>0.0</td>\n",
       "      <td>1.806173e+09</td>\n",
       "      <td>0.000066</td>\n",
       "    </tr>\n",
       "    <tr>\n",
       "      <th>16</th>\n",
       "      <td>1.694270e+09</td>\n",
       "      <td>0.0</td>\n",
       "      <td>1.765569e+09</td>\n",
       "      <td>0.000066</td>\n",
       "    </tr>\n",
       "    <tr>\n",
       "      <th>17</th>\n",
       "      <td>1.680665e+09</td>\n",
       "      <td>0.0</td>\n",
       "      <td>1.732773e+09</td>\n",
       "      <td>0.000066</td>\n",
       "    </tr>\n",
       "    <tr>\n",
       "      <th>18</th>\n",
       "      <td>1.655613e+09</td>\n",
       "      <td>0.0</td>\n",
       "      <td>1.700983e+09</td>\n",
       "      <td>0.000066</td>\n",
       "    </tr>\n",
       "    <tr>\n",
       "      <th>19</th>\n",
       "      <td>1.631589e+09</td>\n",
       "      <td>0.0</td>\n",
       "      <td>1.768213e+09</td>\n",
       "      <td>0.000066</td>\n",
       "    </tr>\n",
       "    <tr>\n",
       "      <th>20</th>\n",
       "      <td>1.629452e+09</td>\n",
       "      <td>0.0</td>\n",
       "      <td>1.725818e+09</td>\n",
       "      <td>0.000066</td>\n",
       "    </tr>\n",
       "    <tr>\n",
       "      <th>21</th>\n",
       "      <td>1.613620e+09</td>\n",
       "      <td>0.0</td>\n",
       "      <td>1.697584e+09</td>\n",
       "      <td>0.000066</td>\n",
       "    </tr>\n",
       "    <tr>\n",
       "      <th>22</th>\n",
       "      <td>1.591501e+09</td>\n",
       "      <td>0.0</td>\n",
       "      <td>1.672204e+09</td>\n",
       "      <td>0.000066</td>\n",
       "    </tr>\n",
       "    <tr>\n",
       "      <th>23</th>\n",
       "      <td>1.593641e+09</td>\n",
       "      <td>0.0</td>\n",
       "      <td>1.626242e+09</td>\n",
       "      <td>0.000066</td>\n",
       "    </tr>\n",
       "    <tr>\n",
       "      <th>24</th>\n",
       "      <td>1.561470e+09</td>\n",
       "      <td>0.0</td>\n",
       "      <td>1.647751e+09</td>\n",
       "      <td>0.000066</td>\n",
       "    </tr>\n",
       "    <tr>\n",
       "      <th>25</th>\n",
       "      <td>1.569706e+09</td>\n",
       "      <td>0.0</td>\n",
       "      <td>1.732075e+09</td>\n",
       "      <td>0.000066</td>\n",
       "    </tr>\n",
       "    <tr>\n",
       "      <th>26</th>\n",
       "      <td>1.559956e+09</td>\n",
       "      <td>0.0</td>\n",
       "      <td>1.637404e+09</td>\n",
       "      <td>0.000066</td>\n",
       "    </tr>\n",
       "    <tr>\n",
       "      <th>27</th>\n",
       "      <td>1.545654e+09</td>\n",
       "      <td>0.0</td>\n",
       "      <td>1.701667e+09</td>\n",
       "      <td>0.000066</td>\n",
       "    </tr>\n",
       "    <tr>\n",
       "      <th>28</th>\n",
       "      <td>1.546249e+09</td>\n",
       "      <td>0.0</td>\n",
       "      <td>1.652373e+09</td>\n",
       "      <td>0.000066</td>\n",
       "    </tr>\n",
       "    <tr>\n",
       "      <th>29</th>\n",
       "      <td>1.540256e+09</td>\n",
       "      <td>0.0</td>\n",
       "      <td>1.628931e+09</td>\n",
       "      <td>0.000066</td>\n",
       "    </tr>\n",
       "    <tr>\n",
       "      <th>30</th>\n",
       "      <td>1.547041e+09</td>\n",
       "      <td>0.0</td>\n",
       "      <td>1.563108e+09</td>\n",
       "      <td>0.000066</td>\n",
       "    </tr>\n",
       "    <tr>\n",
       "      <th>31</th>\n",
       "      <td>1.533505e+09</td>\n",
       "      <td>0.0</td>\n",
       "      <td>1.658407e+09</td>\n",
       "      <td>0.000066</td>\n",
       "    </tr>\n",
       "    <tr>\n",
       "      <th>32</th>\n",
       "      <td>1.519647e+09</td>\n",
       "      <td>0.0</td>\n",
       "      <td>1.597004e+09</td>\n",
       "      <td>0.000066</td>\n",
       "    </tr>\n",
       "    <tr>\n",
       "      <th>33</th>\n",
       "      <td>1.507714e+09</td>\n",
       "      <td>0.0</td>\n",
       "      <td>1.585854e+09</td>\n",
       "      <td>0.000066</td>\n",
       "    </tr>\n",
       "    <tr>\n",
       "      <th>34</th>\n",
       "      <td>1.521154e+09</td>\n",
       "      <td>0.0</td>\n",
       "      <td>1.578383e+09</td>\n",
       "      <td>0.000066</td>\n",
       "    </tr>\n",
       "    <tr>\n",
       "      <th>35</th>\n",
       "      <td>1.517426e+09</td>\n",
       "      <td>0.0</td>\n",
       "      <td>1.578386e+09</td>\n",
       "      <td>0.000066</td>\n",
       "    </tr>\n",
       "    <tr>\n",
       "      <th>36</th>\n",
       "      <td>1.521958e+09</td>\n",
       "      <td>0.0</td>\n",
       "      <td>1.592745e+09</td>\n",
       "      <td>0.000066</td>\n",
       "    </tr>\n",
       "    <tr>\n",
       "      <th>37</th>\n",
       "      <td>1.517596e+09</td>\n",
       "      <td>0.0</td>\n",
       "      <td>1.551439e+09</td>\n",
       "      <td>0.000066</td>\n",
       "    </tr>\n",
       "    <tr>\n",
       "      <th>38</th>\n",
       "      <td>1.487967e+09</td>\n",
       "      <td>0.0</td>\n",
       "      <td>1.563501e+09</td>\n",
       "      <td>0.000066</td>\n",
       "    </tr>\n",
       "    <tr>\n",
       "      <th>39</th>\n",
       "      <td>1.502265e+09</td>\n",
       "      <td>0.0</td>\n",
       "      <td>1.569012e+09</td>\n",
       "      <td>0.000066</td>\n",
       "    </tr>\n",
       "    <tr>\n",
       "      <th>40</th>\n",
       "      <td>1.508535e+09</td>\n",
       "      <td>0.0</td>\n",
       "      <td>1.558839e+09</td>\n",
       "      <td>0.000066</td>\n",
       "    </tr>\n",
       "    <tr>\n",
       "      <th>41</th>\n",
       "      <td>1.497489e+09</td>\n",
       "      <td>0.0</td>\n",
       "      <td>1.579758e+09</td>\n",
       "      <td>0.000066</td>\n",
       "    </tr>\n",
       "    <tr>\n",
       "      <th>42</th>\n",
       "      <td>1.485737e+09</td>\n",
       "      <td>0.0</td>\n",
       "      <td>1.556730e+09</td>\n",
       "      <td>0.000066</td>\n",
       "    </tr>\n",
       "    <tr>\n",
       "      <th>43</th>\n",
       "      <td>1.481857e+09</td>\n",
       "      <td>0.0</td>\n",
       "      <td>1.559368e+09</td>\n",
       "      <td>0.000066</td>\n",
       "    </tr>\n",
       "    <tr>\n",
       "      <th>44</th>\n",
       "      <td>1.486693e+09</td>\n",
       "      <td>0.0</td>\n",
       "      <td>1.561895e+09</td>\n",
       "      <td>0.000066</td>\n",
       "    </tr>\n",
       "    <tr>\n",
       "      <th>45</th>\n",
       "      <td>1.480113e+09</td>\n",
       "      <td>0.0</td>\n",
       "      <td>1.595572e+09</td>\n",
       "      <td>0.000066</td>\n",
       "    </tr>\n",
       "    <tr>\n",
       "      <th>46</th>\n",
       "      <td>1.486153e+09</td>\n",
       "      <td>0.0</td>\n",
       "      <td>1.537214e+09</td>\n",
       "      <td>0.000066</td>\n",
       "    </tr>\n",
       "    <tr>\n",
       "      <th>47</th>\n",
       "      <td>1.485885e+09</td>\n",
       "      <td>0.0</td>\n",
       "      <td>1.550399e+09</td>\n",
       "      <td>0.000066</td>\n",
       "    </tr>\n",
       "    <tr>\n",
       "      <th>48</th>\n",
       "      <td>1.485280e+09</td>\n",
       "      <td>0.0</td>\n",
       "      <td>1.544532e+09</td>\n",
       "      <td>0.000066</td>\n",
       "    </tr>\n",
       "    <tr>\n",
       "      <th>49</th>\n",
       "      <td>1.479952e+09</td>\n",
       "      <td>0.0</td>\n",
       "      <td>1.541797e+09</td>\n",
       "      <td>0.000066</td>\n",
       "    </tr>\n",
       "  </tbody>\n",
       "</table>\n",
       "</div>"
      ],
      "text/plain": [
       "            loss  accuracy      val_loss  val_accuracy\n",
       "0   3.296358e+09       0.0  2.005843e+09      0.000066\n",
       "1   1.900596e+09       0.0  1.893888e+09      0.000066\n",
       "2   1.858869e+09       0.0  2.092874e+09      0.000066\n",
       "3   1.823212e+09       0.0  1.938120e+09      0.000066\n",
       "4   1.826782e+09       0.0  1.941509e+09      0.000066\n",
       "5   1.805796e+09       0.0  1.910895e+09      0.000066\n",
       "6   1.815726e+09       0.0  1.944798e+09      0.000066\n",
       "7   1.797412e+09       0.0  1.875034e+09      0.000066\n",
       "8   1.801365e+09       0.0  1.922678e+09      0.000066\n",
       "9   1.774775e+09       0.0  1.875565e+09      0.000066\n",
       "10  1.777552e+09       0.0  2.014875e+09      0.000066\n",
       "11  1.752652e+09       0.0  1.838824e+09      0.000066\n",
       "12  1.758071e+09       0.0  1.800215e+09      0.000066\n",
       "13  1.730246e+09       0.0  1.781431e+09      0.000066\n",
       "14  1.724776e+09       0.0  1.814500e+09      0.000066\n",
       "15  1.708460e+09       0.0  1.806173e+09      0.000066\n",
       "16  1.694270e+09       0.0  1.765569e+09      0.000066\n",
       "17  1.680665e+09       0.0  1.732773e+09      0.000066\n",
       "18  1.655613e+09       0.0  1.700983e+09      0.000066\n",
       "19  1.631589e+09       0.0  1.768213e+09      0.000066\n",
       "20  1.629452e+09       0.0  1.725818e+09      0.000066\n",
       "21  1.613620e+09       0.0  1.697584e+09      0.000066\n",
       "22  1.591501e+09       0.0  1.672204e+09      0.000066\n",
       "23  1.593641e+09       0.0  1.626242e+09      0.000066\n",
       "24  1.561470e+09       0.0  1.647751e+09      0.000066\n",
       "25  1.569706e+09       0.0  1.732075e+09      0.000066\n",
       "26  1.559956e+09       0.0  1.637404e+09      0.000066\n",
       "27  1.545654e+09       0.0  1.701667e+09      0.000066\n",
       "28  1.546249e+09       0.0  1.652373e+09      0.000066\n",
       "29  1.540256e+09       0.0  1.628931e+09      0.000066\n",
       "30  1.547041e+09       0.0  1.563108e+09      0.000066\n",
       "31  1.533505e+09       0.0  1.658407e+09      0.000066\n",
       "32  1.519647e+09       0.0  1.597004e+09      0.000066\n",
       "33  1.507714e+09       0.0  1.585854e+09      0.000066\n",
       "34  1.521154e+09       0.0  1.578383e+09      0.000066\n",
       "35  1.517426e+09       0.0  1.578386e+09      0.000066\n",
       "36  1.521958e+09       0.0  1.592745e+09      0.000066\n",
       "37  1.517596e+09       0.0  1.551439e+09      0.000066\n",
       "38  1.487967e+09       0.0  1.563501e+09      0.000066\n",
       "39  1.502265e+09       0.0  1.569012e+09      0.000066\n",
       "40  1.508535e+09       0.0  1.558839e+09      0.000066\n",
       "41  1.497489e+09       0.0  1.579758e+09      0.000066\n",
       "42  1.485737e+09       0.0  1.556730e+09      0.000066\n",
       "43  1.481857e+09       0.0  1.559368e+09      0.000066\n",
       "44  1.486693e+09       0.0  1.561895e+09      0.000066\n",
       "45  1.480113e+09       0.0  1.595572e+09      0.000066\n",
       "46  1.486153e+09       0.0  1.537214e+09      0.000066\n",
       "47  1.485885e+09       0.0  1.550399e+09      0.000066\n",
       "48  1.485280e+09       0.0  1.544532e+09      0.000066\n",
       "49  1.479952e+09       0.0  1.541797e+09      0.000066"
      ]
     },
     "execution_count": 60,
     "metadata": {},
     "output_type": "execute_result"
    }
   ],
   "source": [
    "losses = pd.DataFrame(model.history.history)\n",
    "losses"
   ]
  },
  {
   "cell_type": "code",
   "execution_count": 61,
   "metadata": {
    "scrolled": false
   },
   "outputs": [
    {
     "data": {
      "text/plain": [
       "Text(0.5, 0, 'epoch')"
      ]
     },
     "execution_count": 61,
     "metadata": {},
     "output_type": "execute_result"
    },
    {
     "data": {
      "image/png": "[encoded data removed]",
      "text/plain": [
       "<Figure size 864x576 with 1 Axes>"
      ]
     },
     "metadata": {
      "needs_background": "light"
     },
     "output_type": "display_data"
    }
   ],
   "source": [
    "losses.plot(figsize=(12,8))\n",
    "plt.title('model accuracy')\n",
    "plt.ylabel('accuracy')\n",
    "plt.xlabel('epoch')"
   ]
  },
  {
   "cell_type": "code",
   "execution_count": 62,
   "metadata": {},
   "outputs": [
    {
     "name": "stdout",
     "output_type": "stream",
     "text": [
      "Model: \"sequential\"\n",
      "_________________________________________________________________\n",
      "Layer (type)                 Output Shape              Param #   \n",
      "=================================================================\n",
      "dense (Dense)                (None, 347)               120756    \n",
      "_________________________________________________________________\n",
      "dense_1 (Dense)              (None, 177)               61596     \n",
      "_________________________________________________________________\n",
      "dense_2 (Dense)              (None, 87)                15486     \n",
      "_________________________________________________________________\n",
      "dense_3 (Dense)              (None, 47)                4136      \n",
      "_________________________________________________________________\n",
      "dense_4 (Dense)              (None, 27)                1296      \n",
      "_________________________________________________________________\n",
      "dense_5 (Dense)              (None, 17)                476       \n",
      "_________________________________________________________________\n",
      "dense_6 (Dense)              (None, 7)                 126       \n",
      "_________________________________________________________________\n",
      "dense_7 (Dense)              (None, 1)                 8         \n",
      "=================================================================\n",
      "Total params: 203,880\n",
      "Trainable params: 203,880\n",
      "Non-trainable params: 0\n",
      "_________________________________________________________________\n"
     ]
    }
   ],
   "source": [
    "#tf.keras.metrics.mean_absolute_error(model.history.history)\n",
    "\n",
    "model.summary()"
   ]
  },
  {
   "cell_type": "code",
   "execution_count": 63,
   "metadata": {},
   "outputs": [
    {
     "data": {
      "text/plain": [
       "[1424614272.0, 0.0]"
      ]
     },
     "execution_count": 63,
     "metadata": {},
     "output_type": "execute_result"
    }
   ],
   "source": [
    "model.evaluate(X_train,y_train,verbose=0)"
   ]
  },
  {
   "cell_type": "code",
   "execution_count": 64,
   "metadata": {},
   "outputs": [
    {
     "data": {
      "text/plain": [
       "array([[32339.25 ],\n",
       "       [32424.145],\n",
       "       [48237.105],\n",
       "       ...,\n",
       "       [35709.973],\n",
       "       [26483.156],\n",
       "       [59184.027]], dtype=float32)"
      ]
     },
     "execution_count": 64,
     "metadata": {},
     "output_type": "execute_result"
    }
   ],
   "source": [
    "predictions = model.predict(X_test)\n",
    "predictions"
   ]
  },
  {
   "cell_type": "code",
   "execution_count": 65,
   "metadata": {},
   "outputs": [
    {
     "data": {
      "text/plain": [
       "array([6.3323264e+09, 6.3282872e+09, 5.8272430e+09, ..., 6.1830118e+09,\n",
       "       6.6457723e+09, 5.7733202e+09], dtype=float32)"
      ]
     },
     "execution_count": 65,
     "metadata": {},
     "output_type": "execute_result"
    }
   ],
   "source": [
    "tf.keras.metrics.mean_squared_error(y_test,predictions).numpy()"
   ]
  },
  {
   "cell_type": "code",
   "execution_count": 66,
   "metadata": {},
   "outputs": [],
   "source": [
    "from sklearn.metrics import mean_squared_error,mean_absolute_error,explained_variance_score\n",
    "from sklearn.metrics import classification_report,confusion_matrix"
   ]
  },
  {
   "cell_type": "code",
   "execution_count": 67,
   "metadata": {},
   "outputs": [
    {
     "data": {
      "text/plain": [
       "39265.701674780044"
      ]
     },
     "execution_count": 67,
     "metadata": {},
     "output_type": "execute_result"
    }
   ],
   "source": [
    "mean_absolute_error(y_test,predictions)\n",
    "np.sqrt(mean_squared_error(y_test,predictions))"
   ]
  },
  {
   "cell_type": "code",
   "execution_count": 68,
   "metadata": {},
   "outputs": [
    {
     "data": {
      "text/plain": [
       "0.7339621880853111"
      ]
     },
     "execution_count": 68,
     "metadata": {},
     "output_type": "execute_result"
    }
   ],
   "source": [
    "explained_variance_score(y_test,predictions)"
   ]
  },
  {
   "cell_type": "code",
   "execution_count": 69,
   "metadata": {},
   "outputs": [],
   "source": [
    "#from sklearn.ensemble import RandomForestClassifier, RandomForestRegressor, ExtraTreesRegressor, GradientBoostingRegressor"
   ]
  },
  {
   "cell_type": "code",
   "execution_count": 70,
   "metadata": {},
   "outputs": [],
   "source": [
    "#print(classification_report(y_test,predictions))\n",
    "\n",
    "#RandomForestRegressor(n_estimators=10).score(X_test, y_test)"
   ]
  },
  {
   "cell_type": "code",
   "execution_count": 71,
   "metadata": {},
   "outputs": [],
   "source": [
    "#confusion_matrix(y_test,predictions)"
   ]
  },
  {
   "cell_type": "code",
   "execution_count": 72,
   "metadata": {},
   "outputs": [
    {
     "name": "stdout",
     "output_type": "stream",
     "text": [
      "<class 'pandas.core.frame.DataFrame'>\n",
      "Int64Index: 76311 entries, 0 to 79389\n",
      "Columns: 348 entries, OIL to YP861\n",
      "dtypes: float64(1), int64(1), uint8(346)\n",
      "memory usage: 26.9 MB\n"
     ]
    }
   ],
   "source": [
    "df.info()"
   ]
  },
  {
   "cell_type": "code",
   "execution_count": 73,
   "metadata": {},
   "outputs": [
    {
     "data": {
      "text/plain": [
       "YEARS    1965\n",
       "AB141       0\n",
       "AB257       0\n",
       "AB295       0\n",
       "AB320       0\n",
       "         ... \n",
       "YP768       0\n",
       "YP785       0\n",
       "YP805       0\n",
       "YP821       0\n",
       "YP861       0\n",
       "Name: 0, Length: 347, dtype: int64"
      ]
     },
     "execution_count": 73,
     "metadata": {},
     "output_type": "execute_result"
    }
   ],
   "source": [
    "new_OilRate = df.drop('OIL',axis=1).iloc[0]\n",
    "new_OilRate"
   ]
  },
  {
   "cell_type": "code",
   "execution_count": 74,
   "metadata": {
    "scrolled": true
   },
   "outputs": [
    {
     "data": {
      "text/plain": [
       "array([0])"
      ]
     },
     "execution_count": 74,
     "metadata": {},
     "output_type": "execute_result"
    }
   ],
   "source": [
    "#model.predict_classes(new_OilRate.values.reshape(1,348))\n",
    "np.argmax(model.predict(new_OilRate.values.reshape(1,347)), axis=-1)"
   ]
  },
  {
   "cell_type": "code",
   "execution_count": 75,
   "metadata": {},
   "outputs": [
    {
     "data": {
      "text/plain": [
       "1785.0"
      ]
     },
     "execution_count": 75,
     "metadata": {},
     "output_type": "execute_result"
    }
   ],
   "source": [
    "df.iloc[0]['OIL']"
   ]
  },
  {
   "cell_type": "code",
   "execution_count": 76,
   "metadata": {},
   "outputs": [],
   "source": [
    "##############"
   ]
  },
  {
   "cell_type": "code",
   "execution_count": 77,
   "metadata": {},
   "outputs": [],
   "source": [
    "New_OilRate = df.drop('OIL',axis=1).iloc[0]"
   ]
  },
  {
   "cell_type": "code",
   "execution_count": 78,
   "metadata": {
    "scrolled": true
   },
   "outputs": [
    {
     "data": {
      "text/plain": [
       "array([[-0.17777778,  0.        ,  0.        ,  0.        ,  0.        ,\n",
       "         0.        ,  0.        ,  0.        ,  0.        ,  0.        ,\n",
       "         0.        ,  0.        ,  0.        ,  0.        ,  0.        ,\n",
       "         0.        ,  0.        ,  0.        ,  0.        ,  0.        ,\n",
       "         0.        ,  0.        ,  0.        ,  0.        ,  0.        ,\n",
       "         0.        ,  0.        ,  0.        ,  0.        ,  0.        ,\n",
       "         0.        ,  0.        ,  0.        ,  0.        ,  0.        ,\n",
       "         0.        ,  0.        ,  0.        ,  0.        ,  0.        ,\n",
       "         0.        ,  0.        ,  0.        ,  0.        ,  0.        ,\n",
       "         0.        ,  0.        ,  0.        ,  0.        ,  0.        ,\n",
       "         0.        ,  0.        ,  0.        ,  0.        ,  0.        ,\n",
       "         0.        ,  0.        ,  0.        ,  0.        ,  0.        ,\n",
       "         0.        ,  0.        ,  0.        ,  0.        ,  0.        ,\n",
       "         0.        ,  0.        ,  0.        ,  0.        ,  0.        ,\n",
       "         0.        ,  1.        ,  0.        ,  0.        ,  0.        ,\n",
       "         0.        ,  0.        ,  0.        ,  0.        ,  0.        ,\n",
       "         0.        ,  0.        ,  0.        ,  0.        ,  0.        ,\n",
       "         0.        ,  0.        ,  0.        ,  0.        ,  0.        ,\n",
       "         0.        ,  0.        ,  0.        ,  0.        ,  0.        ,\n",
       "         0.        ,  0.        ,  0.        ,  0.        ,  0.        ,\n",
       "         0.        ,  0.        ,  0.        ,  0.        ,  0.        ,\n",
       "         0.        ,  0.        ,  0.        ,  0.        ,  0.        ,\n",
       "         0.        ,  0.        ,  0.        ,  0.        ,  0.        ,\n",
       "         0.        ,  0.        ,  0.        ,  0.        ,  0.        ,\n",
       "         0.        ,  0.        ,  0.        ,  0.        ,  0.        ,\n",
       "         0.        ,  0.        ,  0.        ,  0.        ,  0.        ,\n",
       "         0.        ,  0.        ,  0.        ,  0.        ,  0.        ,\n",
       "         0.        ,  0.        ,  0.        ,  0.        ,  0.        ,\n",
       "         0.        ,  0.        ,  0.        ,  0.        ,  0.        ,\n",
       "         0.        ,  0.        ,  0.        ,  0.        ,  0.        ,\n",
       "         0.        ,  0.        ,  0.        ,  0.        ,  0.        ,\n",
       "         0.        ,  0.        ,  0.        ,  0.        ,  0.        ,\n",
       "         0.        ,  0.        ,  0.        ,  0.        ,  0.        ,\n",
       "         0.        ,  0.        ,  0.        ,  0.        ,  0.        ,\n",
       "         0.        ,  0.        ,  0.        ,  0.        ,  0.        ,\n",
       "         0.        ,  0.        ,  0.        ,  0.        ,  0.        ,\n",
       "         0.        ,  0.        ,  0.        ,  0.        ,  0.        ,\n",
       "         0.        ,  0.        ,  0.        ,  0.        ,  0.        ,\n",
       "         0.        ,  0.        ,  0.        ,  0.        ,  0.        ,\n",
       "         0.        ,  0.        ,  0.        ,  0.        ,  0.        ,\n",
       "         0.        ,  0.        ,  0.        ,  0.        ,  0.        ,\n",
       "         0.        ,  0.        ,  0.        ,  0.        ,  0.        ,\n",
       "         0.        ,  0.        ,  0.        ,  0.        ,  0.        ,\n",
       "         0.        ,  0.        ,  0.        ,  0.        ,  0.        ,\n",
       "         0.        ,  0.        ,  0.        ,  0.        ,  0.        ,\n",
       "         0.        ,  0.        ,  0.        ,  0.        ,  0.        ,\n",
       "         0.        ,  0.        ,  0.        ,  0.        ,  0.        ,\n",
       "         0.        ,  0.        ,  0.        ,  0.        ,  0.        ,\n",
       "         0.        ,  0.        ,  0.        ,  0.        ,  0.        ,\n",
       "         0.        ,  0.        ,  0.        ,  0.        ,  0.        ,\n",
       "         0.        ,  0.        ,  0.        ,  0.        ,  0.        ,\n",
       "         0.        ,  0.        ,  0.        ,  0.        ,  0.        ,\n",
       "         0.        ,  0.        ,  0.        ,  0.        ,  0.        ,\n",
       "         0.        ,  0.        ,  0.        ,  0.        ,  0.        ,\n",
       "         0.        ,  0.        ,  0.        ,  0.        ,  0.        ,\n",
       "         0.        ,  0.        ,  0.        ,  0.        ,  0.        ,\n",
       "         0.        ,  0.        ,  0.        ,  0.        ,  0.        ,\n",
       "         0.        ,  0.        ,  0.        ,  0.        ,  0.        ,\n",
       "         0.        ,  0.        ,  0.        ,  0.        ,  0.        ,\n",
       "         0.        ,  0.        ,  0.        ,  0.        ,  0.        ,\n",
       "         0.        ,  0.        ,  0.        ,  0.        ,  0.        ,\n",
       "         0.        ,  0.        ,  0.        ,  0.        ,  0.        ,\n",
       "         0.        ,  0.        ,  0.        ,  0.        ,  0.        ,\n",
       "         0.        ,  0.        ,  0.        ,  0.        ,  0.        ,\n",
       "         0.        ,  0.        ,  0.        ,  0.        ,  0.        ,\n",
       "         0.        ,  0.        ,  0.        ,  0.        ,  0.        ,\n",
       "         0.        ,  0.        ,  0.        ,  0.        ,  0.        ,\n",
       "         0.        ,  0.        ,  0.        ,  0.        ,  0.        ,\n",
       "         0.        ,  0.        ,  0.        ,  0.        ,  0.        ,\n",
       "         0.        ,  0.        ]])"
      ]
     },
     "execution_count": 78,
     "metadata": {},
     "output_type": "execute_result"
    }
   ],
   "source": [
    "New_OilRate = scaler.transform(New_OilRate.values.reshape(-1, 347))\n",
    "New_OilRate"
   ]
  },
  {
   "cell_type": "code",
   "execution_count": 79,
   "metadata": {},
   "outputs": [
    {
     "data": {
      "text/plain": [
       "array([[388707.88]], dtype=float32)"
      ]
     },
     "execution_count": 79,
     "metadata": {},
     "output_type": "execute_result"
    }
   ],
   "source": [
    "model.predict(New_OilRate)"
   ]
  },
  {
   "cell_type": "code",
   "execution_count": 80,
   "metadata": {},
   "outputs": [
    {
     "data": {
      "text/plain": [
       "OIL      1785.0\n",
       "YEARS    1965.0\n",
       "AB141       0.0\n",
       "AB257       0.0\n",
       "AB295       0.0\n",
       "          ...  \n",
       "YP768       0.0\n",
       "YP785       0.0\n",
       "YP805       0.0\n",
       "YP821       0.0\n",
       "YP861       0.0\n",
       "Name: 0, Length: 348, dtype: float64"
      ]
     },
     "execution_count": 80,
     "metadata": {},
     "output_type": "execute_result"
    }
   ],
   "source": [
    "df.iloc[0]"
   ]
  },
  {
   "cell_type": "code",
   "execution_count": 81,
   "metadata": {},
   "outputs": [],
   "source": [
    "#######"
   ]
  },
  {
   "cell_type": "code",
   "execution_count": 90,
   "metadata": {},
   "outputs": [
    {
     "ename": "ValueError",
     "evalue": "in user code:\n\n    /Users/tamerhousseinhag/opt/anaconda3/lib/python3.7/site-packages/tensorflow/python/keras/engine/training.py:1478 predict_function  *\n        return step_function(self, iterator)\n    /Users/tamerhousseinhag/opt/anaconda3/lib/python3.7/site-packages/tensorflow/python/keras/engine/training.py:1468 step_function  **\n        outputs = model.distribute_strategy.run(run_step, args=(data,))\n    /Users/tamerhousseinhag/opt/anaconda3/lib/python3.7/site-packages/tensorflow/python/distribute/distribute_lib.py:1259 run\n        return self._extended.call_for_each_replica(fn, args=args, kwargs=kwargs)\n    /Users/tamerhousseinhag/opt/anaconda3/lib/python3.7/site-packages/tensorflow/python/distribute/distribute_lib.py:2730 call_for_each_replica\n        return self._call_for_each_replica(fn, args, kwargs)\n    /Users/tamerhousseinhag/opt/anaconda3/lib/python3.7/site-packages/tensorflow/python/distribute/distribute_lib.py:3417 _call_for_each_replica\n        return fn(*args, **kwargs)\n    /Users/tamerhousseinhag/opt/anaconda3/lib/python3.7/site-packages/tensorflow/python/keras/engine/training.py:1461 run_step  **\n        outputs = model.predict_step(data)\n    /Users/tamerhousseinhag/opt/anaconda3/lib/python3.7/site-packages/tensorflow/python/keras/engine/training.py:1434 predict_step\n        return self(x, training=False)\n    /Users/tamerhousseinhag/opt/anaconda3/lib/python3.7/site-packages/tensorflow/python/keras/engine/base_layer.py:998 __call__\n        input_spec.assert_input_compatibility(self.input_spec, inputs, self.name)\n    /Users/tamerhousseinhag/opt/anaconda3/lib/python3.7/site-packages/tensorflow/python/keras/engine/input_spec.py:259 assert_input_compatibility\n        ' but received input with shape ' + display_shape(x.shape))\n\n    ValueError: Input 0 of layer sequential is incompatible with the layer: expected axis -1 of input shape to have value 347 but received input with shape (None, 1)\n",
     "output_type": "error",
     "traceback": [
      "\u001b[0;31m---------------------------------------------------------------------------\u001b[0m",
      "\u001b[0;31mValueError\u001b[0m                                Traceback (most recent call last)",
      "\u001b[0;32m<ipython-input-90-98d7b5180d99>\u001b[0m in \u001b[0;36m<module>\u001b[0;34m\u001b[0m\n\u001b[0;32m----> 1\u001b[0;31m \u001b[0mforecast\u001b[0m\u001b[0;34m=\u001b[0m\u001b[0mmodel\u001b[0m\u001b[0;34m.\u001b[0m\u001b[0mpredict\u001b[0m\u001b[0;34m(\u001b[0m\u001b[0mdf\u001b[0m\u001b[0;34m[\u001b[0m\u001b[0;34m'OIL'\u001b[0m\u001b[0;34m]\u001b[0m\u001b[0;34m)\u001b[0m\u001b[0;34m\u001b[0m\u001b[0;34m\u001b[0m\u001b[0m\n\u001b[0m\u001b[1;32m      2\u001b[0m \u001b[0mforecast\u001b[0m\u001b[0;34m=\u001b[0m\u001b[0mforecast\u001b[0m\u001b[0;34m[\u001b[0m\u001b[0;36m0\u001b[0m\u001b[0;34m,\u001b[0m \u001b[0mx_test\u001b[0m \u001b[0;34m-\u001b[0m \u001b[0;36m1\u001b[0m\u001b[0;34m:\u001b[0m\u001b[0;34m-\u001b[0m\u001b[0;36m1\u001b[0m\u001b[0;34m,\u001b[0m \u001b[0;36m0\u001b[0m\u001b[0;34m]\u001b[0m\u001b[0;34m\u001b[0m\u001b[0;34m\u001b[0m\u001b[0m\n",
      "\u001b[0;32m~/opt/anaconda3/lib/python3.7/site-packages/tensorflow/python/keras/engine/training.py\u001b[0m in \u001b[0;36mpredict\u001b[0;34m(self, x, batch_size, verbose, steps, callbacks, max_queue_size, workers, use_multiprocessing)\u001b[0m\n\u001b[1;32m   1627\u001b[0m           \u001b[0;32mfor\u001b[0m \u001b[0mstep\u001b[0m \u001b[0;32min\u001b[0m \u001b[0mdata_handler\u001b[0m\u001b[0;34m.\u001b[0m\u001b[0msteps\u001b[0m\u001b[0;34m(\u001b[0m\u001b[0;34m)\u001b[0m\u001b[0;34m:\u001b[0m\u001b[0;34m\u001b[0m\u001b[0;34m\u001b[0m\u001b[0m\n\u001b[1;32m   1628\u001b[0m             \u001b[0mcallbacks\u001b[0m\u001b[0;34m.\u001b[0m\u001b[0mon_predict_batch_begin\u001b[0m\u001b[0;34m(\u001b[0m\u001b[0mstep\u001b[0m\u001b[0;34m)\u001b[0m\u001b[0;34m\u001b[0m\u001b[0;34m\u001b[0m\u001b[0m\n\u001b[0;32m-> 1629\u001b[0;31m             \u001b[0mtmp_batch_outputs\u001b[0m \u001b[0;34m=\u001b[0m \u001b[0mself\u001b[0m\u001b[0;34m.\u001b[0m\u001b[0mpredict_function\u001b[0m\u001b[0;34m(\u001b[0m\u001b[0miterator\u001b[0m\u001b[0;34m)\u001b[0m\u001b[0;34m\u001b[0m\u001b[0;34m\u001b[0m\u001b[0m\n\u001b[0m\u001b[1;32m   1630\u001b[0m             \u001b[0;32mif\u001b[0m \u001b[0mdata_handler\u001b[0m\u001b[0;34m.\u001b[0m\u001b[0mshould_sync\u001b[0m\u001b[0;34m:\u001b[0m\u001b[0;34m\u001b[0m\u001b[0;34m\u001b[0m\u001b[0m\n\u001b[1;32m   1631\u001b[0m               \u001b[0mcontext\u001b[0m\u001b[0;34m.\u001b[0m\u001b[0masync_wait\u001b[0m\u001b[0;34m(\u001b[0m\u001b[0;34m)\u001b[0m\u001b[0;34m\u001b[0m\u001b[0;34m\u001b[0m\u001b[0m\n",
      "\u001b[0;32m~/opt/anaconda3/lib/python3.7/site-packages/tensorflow/python/eager/def_function.py\u001b[0m in \u001b[0;36m__call__\u001b[0;34m(self, *args, **kwds)\u001b[0m\n\u001b[1;32m    826\u001b[0m     \u001b[0mtracing_count\u001b[0m \u001b[0;34m=\u001b[0m \u001b[0mself\u001b[0m\u001b[0;34m.\u001b[0m\u001b[0mexperimental_get_tracing_count\u001b[0m\u001b[0;34m(\u001b[0m\u001b[0;34m)\u001b[0m\u001b[0;34m\u001b[0m\u001b[0;34m\u001b[0m\u001b[0m\n\u001b[1;32m    827\u001b[0m     \u001b[0;32mwith\u001b[0m \u001b[0mtrace\u001b[0m\u001b[0;34m.\u001b[0m\u001b[0mTrace\u001b[0m\u001b[0;34m(\u001b[0m\u001b[0mself\u001b[0m\u001b[0;34m.\u001b[0m\u001b[0m_name\u001b[0m\u001b[0;34m)\u001b[0m \u001b[0;32mas\u001b[0m \u001b[0mtm\u001b[0m\u001b[0;34m:\u001b[0m\u001b[0;34m\u001b[0m\u001b[0;34m\u001b[0m\u001b[0m\n\u001b[0;32m--> 828\u001b[0;31m       \u001b[0mresult\u001b[0m \u001b[0;34m=\u001b[0m \u001b[0mself\u001b[0m\u001b[0;34m.\u001b[0m\u001b[0m_call\u001b[0m\u001b[0;34m(\u001b[0m\u001b[0;34m*\u001b[0m\u001b[0margs\u001b[0m\u001b[0;34m,\u001b[0m \u001b[0;34m**\u001b[0m\u001b[0mkwds\u001b[0m\u001b[0;34m)\u001b[0m\u001b[0;34m\u001b[0m\u001b[0;34m\u001b[0m\u001b[0m\n\u001b[0m\u001b[1;32m    829\u001b[0m       \u001b[0mcompiler\u001b[0m \u001b[0;34m=\u001b[0m \u001b[0;34m\"xla\"\u001b[0m \u001b[0;32mif\u001b[0m \u001b[0mself\u001b[0m\u001b[0;34m.\u001b[0m\u001b[0m_experimental_compile\u001b[0m \u001b[0;32melse\u001b[0m \u001b[0;34m\"nonXla\"\u001b[0m\u001b[0;34m\u001b[0m\u001b[0;34m\u001b[0m\u001b[0m\n\u001b[1;32m    830\u001b[0m       \u001b[0mnew_tracing_count\u001b[0m \u001b[0;34m=\u001b[0m \u001b[0mself\u001b[0m\u001b[0;34m.\u001b[0m\u001b[0mexperimental_get_tracing_count\u001b[0m\u001b[0;34m(\u001b[0m\u001b[0;34m)\u001b[0m\u001b[0;34m\u001b[0m\u001b[0;34m\u001b[0m\u001b[0m\n",
      "\u001b[0;32m~/opt/anaconda3/lib/python3.7/site-packages/tensorflow/python/eager/def_function.py\u001b[0m in \u001b[0;36m_call\u001b[0;34m(self, *args, **kwds)\u001b[0m\n\u001b[1;32m    860\u001b[0m       \u001b[0;31m# In this case we have not created variables on the first call. So we can\u001b[0m\u001b[0;34m\u001b[0m\u001b[0;34m\u001b[0m\u001b[0;34m\u001b[0m\u001b[0m\n\u001b[1;32m    861\u001b[0m       \u001b[0;31m# run the first trace but we should fail if variables are created.\u001b[0m\u001b[0;34m\u001b[0m\u001b[0;34m\u001b[0m\u001b[0;34m\u001b[0m\u001b[0m\n\u001b[0;32m--> 862\u001b[0;31m       \u001b[0mresults\u001b[0m \u001b[0;34m=\u001b[0m \u001b[0mself\u001b[0m\u001b[0;34m.\u001b[0m\u001b[0m_stateful_fn\u001b[0m\u001b[0;34m(\u001b[0m\u001b[0;34m*\u001b[0m\u001b[0margs\u001b[0m\u001b[0;34m,\u001b[0m \u001b[0;34m**\u001b[0m\u001b[0mkwds\u001b[0m\u001b[0;34m)\u001b[0m\u001b[0;34m\u001b[0m\u001b[0;34m\u001b[0m\u001b[0m\n\u001b[0m\u001b[1;32m    863\u001b[0m       \u001b[0;32mif\u001b[0m \u001b[0mself\u001b[0m\u001b[0;34m.\u001b[0m\u001b[0m_created_variables\u001b[0m\u001b[0;34m:\u001b[0m\u001b[0;34m\u001b[0m\u001b[0;34m\u001b[0m\u001b[0m\n\u001b[1;32m    864\u001b[0m         raise ValueError(\"Creating variables on a non-first call to a function\"\n",
      "\u001b[0;32m~/opt/anaconda3/lib/python3.7/site-packages/tensorflow/python/eager/function.py\u001b[0m in \u001b[0;36m__call__\u001b[0;34m(self, *args, **kwargs)\u001b[0m\n\u001b[1;32m   2939\u001b[0m     \u001b[0;32mwith\u001b[0m \u001b[0mself\u001b[0m\u001b[0;34m.\u001b[0m\u001b[0m_lock\u001b[0m\u001b[0;34m:\u001b[0m\u001b[0;34m\u001b[0m\u001b[0;34m\u001b[0m\u001b[0m\n\u001b[1;32m   2940\u001b[0m       (graph_function,\n\u001b[0;32m-> 2941\u001b[0;31m        filtered_flat_args) = self._maybe_define_function(args, kwargs)\n\u001b[0m\u001b[1;32m   2942\u001b[0m     return graph_function._call_flat(\n\u001b[1;32m   2943\u001b[0m         filtered_flat_args, captured_inputs=graph_function.captured_inputs)  # pylint: disable=protected-access\n",
      "\u001b[0;32m~/opt/anaconda3/lib/python3.7/site-packages/tensorflow/python/eager/function.py\u001b[0m in \u001b[0;36m_maybe_define_function\u001b[0;34m(self, args, kwargs)\u001b[0m\n\u001b[1;32m   3356\u001b[0m               call_context_key in self._function_cache.missed):\n\u001b[1;32m   3357\u001b[0m             return self._define_function_with_shape_relaxation(\n\u001b[0;32m-> 3358\u001b[0;31m                 args, kwargs, flat_args, filtered_flat_args, cache_key_context)\n\u001b[0m\u001b[1;32m   3359\u001b[0m \u001b[0;34m\u001b[0m\u001b[0m\n\u001b[1;32m   3360\u001b[0m           \u001b[0mself\u001b[0m\u001b[0;34m.\u001b[0m\u001b[0m_function_cache\u001b[0m\u001b[0;34m.\u001b[0m\u001b[0mmissed\u001b[0m\u001b[0;34m.\u001b[0m\u001b[0madd\u001b[0m\u001b[0;34m(\u001b[0m\u001b[0mcall_context_key\u001b[0m\u001b[0;34m)\u001b[0m\u001b[0;34m\u001b[0m\u001b[0;34m\u001b[0m\u001b[0m\n",
      "\u001b[0;32m~/opt/anaconda3/lib/python3.7/site-packages/tensorflow/python/eager/function.py\u001b[0m in \u001b[0;36m_define_function_with_shape_relaxation\u001b[0;34m(self, args, kwargs, flat_args, filtered_flat_args, cache_key_context)\u001b[0m\n\u001b[1;32m   3278\u001b[0m \u001b[0;34m\u001b[0m\u001b[0m\n\u001b[1;32m   3279\u001b[0m     graph_function = self._create_graph_function(\n\u001b[0;32m-> 3280\u001b[0;31m         args, kwargs, override_flat_arg_shapes=relaxed_arg_shapes)\n\u001b[0m\u001b[1;32m   3281\u001b[0m     \u001b[0mself\u001b[0m\u001b[0;34m.\u001b[0m\u001b[0m_function_cache\u001b[0m\u001b[0;34m.\u001b[0m\u001b[0marg_relaxed\u001b[0m\u001b[0;34m[\u001b[0m\u001b[0mrank_only_cache_key\u001b[0m\u001b[0;34m]\u001b[0m \u001b[0;34m=\u001b[0m \u001b[0mgraph_function\u001b[0m\u001b[0;34m\u001b[0m\u001b[0;34m\u001b[0m\u001b[0m\n\u001b[1;32m   3282\u001b[0m \u001b[0;34m\u001b[0m\u001b[0m\n",
      "\u001b[0;32m~/opt/anaconda3/lib/python3.7/site-packages/tensorflow/python/eager/function.py\u001b[0m in \u001b[0;36m_create_graph_function\u001b[0;34m(self, args, kwargs, override_flat_arg_shapes)\u001b[0m\n\u001b[1;32m   3204\u001b[0m             \u001b[0marg_names\u001b[0m\u001b[0;34m=\u001b[0m\u001b[0marg_names\u001b[0m\u001b[0;34m,\u001b[0m\u001b[0;34m\u001b[0m\u001b[0;34m\u001b[0m\u001b[0m\n\u001b[1;32m   3205\u001b[0m             \u001b[0moverride_flat_arg_shapes\u001b[0m\u001b[0;34m=\u001b[0m\u001b[0moverride_flat_arg_shapes\u001b[0m\u001b[0;34m,\u001b[0m\u001b[0;34m\u001b[0m\u001b[0;34m\u001b[0m\u001b[0m\n\u001b[0;32m-> 3206\u001b[0;31m             capture_by_value=self._capture_by_value),\n\u001b[0m\u001b[1;32m   3207\u001b[0m         \u001b[0mself\u001b[0m\u001b[0;34m.\u001b[0m\u001b[0m_function_attributes\u001b[0m\u001b[0;34m,\u001b[0m\u001b[0;34m\u001b[0m\u001b[0;34m\u001b[0m\u001b[0m\n\u001b[1;32m   3208\u001b[0m         \u001b[0mfunction_spec\u001b[0m\u001b[0;34m=\u001b[0m\u001b[0mself\u001b[0m\u001b[0;34m.\u001b[0m\u001b[0mfunction_spec\u001b[0m\u001b[0;34m,\u001b[0m\u001b[0;34m\u001b[0m\u001b[0;34m\u001b[0m\u001b[0m\n",
      "\u001b[0;32m~/opt/anaconda3/lib/python3.7/site-packages/tensorflow/python/framework/func_graph.py\u001b[0m in \u001b[0;36mfunc_graph_from_py_func\u001b[0;34m(name, python_func, args, kwargs, signature, func_graph, autograph, autograph_options, add_control_dependencies, arg_names, op_return_value, collections, capture_by_value, override_flat_arg_shapes)\u001b[0m\n\u001b[1;32m    988\u001b[0m         \u001b[0m_\u001b[0m\u001b[0;34m,\u001b[0m \u001b[0moriginal_func\u001b[0m \u001b[0;34m=\u001b[0m \u001b[0mtf_decorator\u001b[0m\u001b[0;34m.\u001b[0m\u001b[0munwrap\u001b[0m\u001b[0;34m(\u001b[0m\u001b[0mpython_func\u001b[0m\u001b[0;34m)\u001b[0m\u001b[0;34m\u001b[0m\u001b[0;34m\u001b[0m\u001b[0m\n\u001b[1;32m    989\u001b[0m \u001b[0;34m\u001b[0m\u001b[0m\n\u001b[0;32m--> 990\u001b[0;31m       \u001b[0mfunc_outputs\u001b[0m \u001b[0;34m=\u001b[0m \u001b[0mpython_func\u001b[0m\u001b[0;34m(\u001b[0m\u001b[0;34m*\u001b[0m\u001b[0mfunc_args\u001b[0m\u001b[0;34m,\u001b[0m \u001b[0;34m**\u001b[0m\u001b[0mfunc_kwargs\u001b[0m\u001b[0;34m)\u001b[0m\u001b[0;34m\u001b[0m\u001b[0;34m\u001b[0m\u001b[0m\n\u001b[0m\u001b[1;32m    991\u001b[0m \u001b[0;34m\u001b[0m\u001b[0m\n\u001b[1;32m    992\u001b[0m       \u001b[0;31m# invariant: `func_outputs` contains only Tensors, CompositeTensors,\u001b[0m\u001b[0;34m\u001b[0m\u001b[0;34m\u001b[0m\u001b[0;34m\u001b[0m\u001b[0m\n",
      "\u001b[0;32m~/opt/anaconda3/lib/python3.7/site-packages/tensorflow/python/eager/def_function.py\u001b[0m in \u001b[0;36mwrapped_fn\u001b[0;34m(*args, **kwds)\u001b[0m\n\u001b[1;32m    632\u001b[0m             \u001b[0mxla_context\u001b[0m\u001b[0;34m.\u001b[0m\u001b[0mExit\u001b[0m\u001b[0;34m(\u001b[0m\u001b[0;34m)\u001b[0m\u001b[0;34m\u001b[0m\u001b[0;34m\u001b[0m\u001b[0m\n\u001b[1;32m    633\u001b[0m         \u001b[0;32melse\u001b[0m\u001b[0;34m:\u001b[0m\u001b[0;34m\u001b[0m\u001b[0;34m\u001b[0m\u001b[0m\n\u001b[0;32m--> 634\u001b[0;31m           \u001b[0mout\u001b[0m \u001b[0;34m=\u001b[0m \u001b[0mweak_wrapped_fn\u001b[0m\u001b[0;34m(\u001b[0m\u001b[0;34m)\u001b[0m\u001b[0;34m.\u001b[0m\u001b[0m__wrapped__\u001b[0m\u001b[0;34m(\u001b[0m\u001b[0;34m*\u001b[0m\u001b[0margs\u001b[0m\u001b[0;34m,\u001b[0m \u001b[0;34m**\u001b[0m\u001b[0mkwds\u001b[0m\u001b[0;34m)\u001b[0m\u001b[0;34m\u001b[0m\u001b[0;34m\u001b[0m\u001b[0m\n\u001b[0m\u001b[1;32m    635\u001b[0m         \u001b[0;32mreturn\u001b[0m \u001b[0mout\u001b[0m\u001b[0;34m\u001b[0m\u001b[0;34m\u001b[0m\u001b[0m\n\u001b[1;32m    636\u001b[0m \u001b[0;34m\u001b[0m\u001b[0m\n",
      "\u001b[0;32m~/opt/anaconda3/lib/python3.7/site-packages/tensorflow/python/framework/func_graph.py\u001b[0m in \u001b[0;36mwrapper\u001b[0;34m(*args, **kwargs)\u001b[0m\n\u001b[1;32m    975\u001b[0m           \u001b[0;32mexcept\u001b[0m \u001b[0mException\u001b[0m \u001b[0;32mas\u001b[0m \u001b[0me\u001b[0m\u001b[0;34m:\u001b[0m  \u001b[0;31m# pylint:disable=broad-except\u001b[0m\u001b[0;34m\u001b[0m\u001b[0;34m\u001b[0m\u001b[0m\n\u001b[1;32m    976\u001b[0m             \u001b[0;32mif\u001b[0m \u001b[0mhasattr\u001b[0m\u001b[0;34m(\u001b[0m\u001b[0me\u001b[0m\u001b[0;34m,\u001b[0m \u001b[0;34m\"ag_error_metadata\"\u001b[0m\u001b[0;34m)\u001b[0m\u001b[0;34m:\u001b[0m\u001b[0;34m\u001b[0m\u001b[0;34m\u001b[0m\u001b[0m\n\u001b[0;32m--> 977\u001b[0;31m               \u001b[0;32mraise\u001b[0m \u001b[0me\u001b[0m\u001b[0;34m.\u001b[0m\u001b[0mag_error_metadata\u001b[0m\u001b[0;34m.\u001b[0m\u001b[0mto_exception\u001b[0m\u001b[0;34m(\u001b[0m\u001b[0me\u001b[0m\u001b[0;34m)\u001b[0m\u001b[0;34m\u001b[0m\u001b[0;34m\u001b[0m\u001b[0m\n\u001b[0m\u001b[1;32m    978\u001b[0m             \u001b[0;32melse\u001b[0m\u001b[0;34m:\u001b[0m\u001b[0;34m\u001b[0m\u001b[0;34m\u001b[0m\u001b[0m\n\u001b[1;32m    979\u001b[0m               \u001b[0;32mraise\u001b[0m\u001b[0;34m\u001b[0m\u001b[0;34m\u001b[0m\u001b[0m\n",
      "\u001b[0;31mValueError\u001b[0m: in user code:\n\n    /Users/tamerhousseinhag/opt/anaconda3/lib/python3.7/site-packages/tensorflow/python/keras/engine/training.py:1478 predict_function  *\n        return step_function(self, iterator)\n    /Users/tamerhousseinhag/opt/anaconda3/lib/python3.7/site-packages/tensorflow/python/keras/engine/training.py:1468 step_function  **\n        outputs = model.distribute_strategy.run(run_step, args=(data,))\n    /Users/tamerhousseinhag/opt/anaconda3/lib/python3.7/site-packages/tensorflow/python/distribute/distribute_lib.py:1259 run\n        return self._extended.call_for_each_replica(fn, args=args, kwargs=kwargs)\n    /Users/tamerhousseinhag/opt/anaconda3/lib/python3.7/site-packages/tensorflow/python/distribute/distribute_lib.py:2730 call_for_each_replica\n        return self._call_for_each_replica(fn, args, kwargs)\n    /Users/tamerhousseinhag/opt/anaconda3/lib/python3.7/site-packages/tensorflow/python/distribute/distribute_lib.py:3417 _call_for_each_replica\n        return fn(*args, **kwargs)\n    /Users/tamerhousseinhag/opt/anaconda3/lib/python3.7/site-packages/tensorflow/python/keras/engine/training.py:1461 run_step  **\n        outputs = model.predict_step(data)\n    /Users/tamerhousseinhag/opt/anaconda3/lib/python3.7/site-packages/tensorflow/python/keras/engine/training.py:1434 predict_step\n        return self(x, training=False)\n    /Users/tamerhousseinhag/opt/anaconda3/lib/python3.7/site-packages/tensorflow/python/keras/engine/base_layer.py:998 __call__\n        input_spec.assert_input_compatibility(self.input_spec, inputs, self.name)\n    /Users/tamerhousseinhag/opt/anaconda3/lib/python3.7/site-packages/tensorflow/python/keras/engine/input_spec.py:259 assert_input_compatibility\n        ' but received input with shape ' + display_shape(x.shape))\n\n    ValueError: Input 0 of layer sequential is incompatible with the layer: expected axis -1 of input shape to have value 347 but received input with shape (None, 1)\n"
     ]
    }
   ],
   "source": [
    "forecast=model.predict(df['OIL'])\n",
    "forecast=forecast[0, x_test - 1:-1, 0]"
   ]
  },
  {
   "cell_type": "code",
   "execution_count": 86,
   "metadata": {},
   "outputs": [
    {
     "ename": "NameError",
     "evalue": "name 'forecast' is not defined",
     "output_type": "error",
     "traceback": [
      "\u001b[0;31m---------------------------------------------------------------------------\u001b[0m",
      "\u001b[0;31mNameError\u001b[0m                                 Traceback (most recent call last)",
      "\u001b[0;32m<ipython-input-86-895ded057247>\u001b[0m in \u001b[0;36m<module>\u001b[0;34m\u001b[0m\n\u001b[0;32m----> 1\u001b[0;31m \u001b[0mforecast\u001b[0m\u001b[0;34m.\u001b[0m\u001b[0mshape\u001b[0m\u001b[0;34m\u001b[0m\u001b[0;34m\u001b[0m\u001b[0m\n\u001b[0m",
      "\u001b[0;31mNameError\u001b[0m: name 'forecast' is not defined"
     ]
    }
   ],
   "source": [
    "forecast.shape"
   ]
  },
  {
   "cell_type": "code",
   "execution_count": 84,
   "metadata": {},
   "outputs": [
    {
     "ename": "TypeError",
     "evalue": "'DataFrame' object is not callable",
     "output_type": "error",
     "traceback": [
      "\u001b[0;31m---------------------------------------------------------------------------\u001b[0m",
      "\u001b[0;31mTypeError\u001b[0m                                 Traceback (most recent call last)",
      "\u001b[0;32m<ipython-input-84-55f4fa0bb031>\u001b[0m in \u001b[0;36m<module>\u001b[0;34m\u001b[0m\n\u001b[1;32m      1\u001b[0m \u001b[0mplt\u001b[0m\u001b[0;34m.\u001b[0m\u001b[0mfigure\u001b[0m\u001b[0;34m(\u001b[0m\u001b[0mfigsize\u001b[0m\u001b[0;34m=\u001b[0m\u001b[0;34m(\u001b[0m\u001b[0;36m10\u001b[0m\u001b[0;34m,\u001b[0m \u001b[0;36m6\u001b[0m\u001b[0;34m)\u001b[0m\u001b[0;34m)\u001b[0m\u001b[0;34m\u001b[0m\u001b[0;34m\u001b[0m\u001b[0m\n\u001b[0;32m----> 2\u001b[0;31m \u001b[0mdf\u001b[0m\u001b[0;34m(\u001b[0m\u001b[0mX_test\u001b[0m\u001b[0;34m,\u001b[0m \u001b[0my_test\u001b[0m\u001b[0;34m)\u001b[0m\u001b[0;34m;\u001b[0m\u001b[0;34m\u001b[0m\u001b[0;34m\u001b[0m\u001b[0m\n\u001b[0m\u001b[1;32m      3\u001b[0m \u001b[0mplot_series\u001b[0m\u001b[0;34m(\u001b[0m\u001b[0mx_test\u001b[0m\u001b[0;34m,\u001b[0m \u001b[0mpredictions\u001b[0m\u001b[0;34m)\u001b[0m\u001b[0;34m;\u001b[0m\u001b[0;34m\u001b[0m\u001b[0;34m\u001b[0m\u001b[0m\n",
      "\u001b[0;31mTypeError\u001b[0m: 'DataFrame' object is not callable"
     ]
    },
    {
     "data": {
      "text/plain": [
       "<Figure size 720x432 with 0 Axes>"
      ]
     },
     "metadata": {},
     "output_type": "display_data"
    }
   ],
   "source": [
    "plt.figure(figsize=(10, 6))\n",
    "plot_series(X_test, y_test);\n",
    "plot_series(X_test, predictions);"
   ]
  },
  {
   "cell_type": "code",
   "execution_count": null,
   "metadata": {},
   "outputs": [],
   "source": []
  }
 ],
 "metadata": {
  "kernelspec": {
   "display_name": "Python 3",
   "language": "python",
   "name": "python3"
  },
  "language_info": {
   "codemirror_mode": {
    "name": "ipython",
    "version": 3
   },
   "file_extension": ".py",
   "mimetype": "text/x-python",
   "name": "python",
   "nbconvert_exporter": "python",
   "pygments_lexer": "ipython3",
   "version": "3.7.6"
  }
 },
 "nbformat": 4,
 "nbformat_minor": 4
}

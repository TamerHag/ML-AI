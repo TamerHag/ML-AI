{
 "cells": [
  {
   "cell_type": "code",
   "execution_count": 87,
   "metadata": {},
   "outputs": [],
   "source": [
    "import pandas as pd\n",
    "import numpy as np"
   ]
  },
  {
   "cell_type": "code",
   "execution_count": 88,
   "metadata": {},
   "outputs": [],
   "source": [
    "import seaborn as sns  \n",
    "import matplotlib.pyplot as plt\n",
    "\n",
    "# might be needed depending on your version of Jupyter\n",
    "%matplotlib inline"
   ]
  },
  {
   "cell_type": "code",
   "execution_count": 89,
   "metadata": {},
   "outputs": [],
   "source": [
    "df = pd.read_csv('../MLOG/Pandey_Ch06_Reservoir_Engineering_Code/data/2015_05.csv')"
   ]
  },
  {
   "cell_type": "code",
   "execution_count": 90,
   "metadata": {},
   "outputs": [
    {
     "name": "stdout",
     "output_type": "stream",
     "text": [
      "<class 'pandas.core.frame.DataFrame'>\n",
      "RangeIndex: 14065 entries, 0 to 14064\n",
      "Data columns (total 21 columns):\n",
      " #   Column      Non-Null Count  Dtype  \n",
      "---  ------      --------------  -----  \n",
      " 0   ReportDate  14065 non-null  object \n",
      " 1   API_WELLNO  14065 non-null  float64\n",
      " 2   FileNo      14065 non-null  float64\n",
      " 3   Company     14065 non-null  object \n",
      " 4   WellName    14065 non-null  object \n",
      " 5   Quarter     14065 non-null  object \n",
      " 6   Section     14065 non-null  float64\n",
      " 7   Township    14065 non-null  float64\n",
      " 8   Range       14065 non-null  float64\n",
      " 9   County      14065 non-null  object \n",
      " 10  FieldName   14065 non-null  object \n",
      " 11  Pool        14065 non-null  object \n",
      " 12  Oil         13887 non-null  float64\n",
      " 13  Wtr         13887 non-null  float64\n",
      " 14  Days        13887 non-null  float64\n",
      " 15  Runs        14065 non-null  float64\n",
      " 16  Gas         13887 non-null  float64\n",
      " 17  GasSold     14065 non-null  float64\n",
      " 18  Flared      13887 non-null  float64\n",
      " 19  Lat         14065 non-null  float64\n",
      " 20  Long        14065 non-null  float64\n",
      "dtypes: float64(14), object(7)\n",
      "memory usage: 2.3+ MB\n"
     ]
    }
   ],
   "source": [
    "df.info()"
   ]
  },
  {
   "cell_type": "code",
   "execution_count": 91,
   "metadata": {},
   "outputs": [
    {
     "data": {
      "text/plain": [
       "ReportDate      0\n",
       "API_WELLNO      0\n",
       "FileNo          0\n",
       "Company         0\n",
       "WellName        0\n",
       "Quarter         0\n",
       "Section         0\n",
       "Township        0\n",
       "Range           0\n",
       "County          0\n",
       "FieldName       0\n",
       "Pool            0\n",
       "Oil           178\n",
       "Wtr           178\n",
       "Days          178\n",
       "Runs            0\n",
       "Gas           178\n",
       "GasSold         0\n",
       "Flared        178\n",
       "Lat             0\n",
       "Long            0\n",
       "dtype: int64"
      ]
     },
     "execution_count": 91,
     "metadata": {},
     "output_type": "execute_result"
    }
   ],
   "source": [
    "df.isnull().sum()"
   ]
  },
  {
   "cell_type": "code",
   "execution_count": 92,
   "metadata": {
    "scrolled": true
   },
   "outputs": [
    {
     "data": {
      "text/html": [
       "<div>\n",
       "<style scoped>\n",
       "    .dataframe tbody tr th:only-of-type {\n",
       "        vertical-align: middle;\n",
       "    }\n",
       "\n",
       "    .dataframe tbody tr th {\n",
       "        vertical-align: top;\n",
       "    }\n",
       "\n",
       "    .dataframe thead th {\n",
       "        text-align: right;\n",
       "    }\n",
       "</style>\n",
       "<table border=\"1\" class=\"dataframe\">\n",
       "  <thead>\n",
       "    <tr style=\"text-align: right;\">\n",
       "      <th></th>\n",
       "      <th>ReportDate</th>\n",
       "      <th>API_WELLNO</th>\n",
       "      <th>FileNo</th>\n",
       "      <th>Company</th>\n",
       "      <th>WellName</th>\n",
       "      <th>Quarter</th>\n",
       "      <th>Section</th>\n",
       "      <th>Township</th>\n",
       "      <th>Range</th>\n",
       "      <th>County</th>\n",
       "      <th>...</th>\n",
       "      <th>Pool</th>\n",
       "      <th>Oil</th>\n",
       "      <th>Wtr</th>\n",
       "      <th>Days</th>\n",
       "      <th>Runs</th>\n",
       "      <th>Gas</th>\n",
       "      <th>GasSold</th>\n",
       "      <th>Flared</th>\n",
       "      <th>Lat</th>\n",
       "      <th>Long</th>\n",
       "    </tr>\n",
       "  </thead>\n",
       "  <tbody>\n",
       "    <tr>\n",
       "      <th>0</th>\n",
       "      <td>05/2015</td>\n",
       "      <td>3.305304e+13</td>\n",
       "      <td>23615.0</td>\n",
       "      <td>MUREX PETROLEUM CORPORATION</td>\n",
       "      <td>AMBER ELIZABETH  36-25H</td>\n",
       "      <td>SESW</td>\n",
       "      <td>36.0</td>\n",
       "      <td>151.0</td>\n",
       "      <td>101.0</td>\n",
       "      <td>MCK</td>\n",
       "      <td>...</td>\n",
       "      <td>BAKKEN</td>\n",
       "      <td>1525.0</td>\n",
       "      <td>1335.0</td>\n",
       "      <td>29.0</td>\n",
       "      <td>1686.0</td>\n",
       "      <td>1739.0</td>\n",
       "      <td>1519.0</td>\n",
       "      <td>0.0</td>\n",
       "      <td>47.849140</td>\n",
       "      <td>-103.553342</td>\n",
       "    </tr>\n",
       "    <tr>\n",
       "      <th>1</th>\n",
       "      <td>05/2015</td>\n",
       "      <td>3.305304e+13</td>\n",
       "      <td>22021.0</td>\n",
       "      <td>STATOIL OIL &amp; GAS LP</td>\n",
       "      <td>BILL  14-23 2TFH</td>\n",
       "      <td>SWSW</td>\n",
       "      <td>11.0</td>\n",
       "      <td>151.0</td>\n",
       "      <td>101.0</td>\n",
       "      <td>MCK</td>\n",
       "      <td>...</td>\n",
       "      <td>BAKKEN</td>\n",
       "      <td>1410.0</td>\n",
       "      <td>5805.0</td>\n",
       "      <td>31.0</td>\n",
       "      <td>1370.0</td>\n",
       "      <td>1721.0</td>\n",
       "      <td>1720.0</td>\n",
       "      <td>1.0</td>\n",
       "      <td>47.907426</td>\n",
       "      <td>-103.579904</td>\n",
       "    </tr>\n",
       "    <tr>\n",
       "      <th>2</th>\n",
       "      <td>05/2015</td>\n",
       "      <td>3.305305e+13</td>\n",
       "      <td>25091.0</td>\n",
       "      <td>STATOIL OIL &amp; GAS LP</td>\n",
       "      <td>BILL  14-23 3H</td>\n",
       "      <td>NWNE</td>\n",
       "      <td>14.0</td>\n",
       "      <td>151.0</td>\n",
       "      <td>101.0</td>\n",
       "      <td>MCK</td>\n",
       "      <td>...</td>\n",
       "      <td>BAKKEN</td>\n",
       "      <td>5035.0</td>\n",
       "      <td>12773.0</td>\n",
       "      <td>28.0</td>\n",
       "      <td>5087.0</td>\n",
       "      <td>3754.0</td>\n",
       "      <td>3249.0</td>\n",
       "      <td>505.0</td>\n",
       "      <td>47.904553</td>\n",
       "      <td>-103.569154</td>\n",
       "    </tr>\n",
       "    <tr>\n",
       "      <th>3</th>\n",
       "      <td>05/2015</td>\n",
       "      <td>3.305305e+13</td>\n",
       "      <td>25645.0</td>\n",
       "      <td>STATOIL OIL &amp; GAS LP</td>\n",
       "      <td>BILL  14-23 4TFH</td>\n",
       "      <td>NWNE</td>\n",
       "      <td>14.0</td>\n",
       "      <td>151.0</td>\n",
       "      <td>101.0</td>\n",
       "      <td>MCK</td>\n",
       "      <td>...</td>\n",
       "      <td>BAKKEN</td>\n",
       "      <td>2419.0</td>\n",
       "      <td>17671.0</td>\n",
       "      <td>31.0</td>\n",
       "      <td>2287.0</td>\n",
       "      <td>232.0</td>\n",
       "      <td>201.0</td>\n",
       "      <td>31.0</td>\n",
       "      <td>47.904553</td>\n",
       "      <td>-103.569032</td>\n",
       "    </tr>\n",
       "    <tr>\n",
       "      <th>4</th>\n",
       "      <td>05/2015</td>\n",
       "      <td>3.305305e+13</td>\n",
       "      <td>25092.0</td>\n",
       "      <td>STATOIL OIL &amp; GAS LP</td>\n",
       "      <td>BILL  14-23 5TFH</td>\n",
       "      <td>NWNE</td>\n",
       "      <td>14.0</td>\n",
       "      <td>151.0</td>\n",
       "      <td>101.0</td>\n",
       "      <td>MCK</td>\n",
       "      <td>...</td>\n",
       "      <td>BAKKEN</td>\n",
       "      <td>771.0</td>\n",
       "      <td>17718.0</td>\n",
       "      <td>31.0</td>\n",
       "      <td>729.0</td>\n",
       "      <td>53.0</td>\n",
       "      <td>46.0</td>\n",
       "      <td>7.0</td>\n",
       "      <td>47.904553</td>\n",
       "      <td>-103.569276</td>\n",
       "    </tr>\n",
       "  </tbody>\n",
       "</table>\n",
       "<p>5 rows × 21 columns</p>\n",
       "</div>"
      ],
      "text/plain": [
       "  ReportDate    API_WELLNO   FileNo                      Company  \\\n",
       "0    05/2015  3.305304e+13  23615.0  MUREX PETROLEUM CORPORATION   \n",
       "1    05/2015  3.305304e+13  22021.0         STATOIL OIL & GAS LP   \n",
       "2    05/2015  3.305305e+13  25091.0         STATOIL OIL & GAS LP   \n",
       "3    05/2015  3.305305e+13  25645.0         STATOIL OIL & GAS LP   \n",
       "4    05/2015  3.305305e+13  25092.0         STATOIL OIL & GAS LP   \n",
       "\n",
       "                  WellName Quarter  Section  Township  Range County  ...  \\\n",
       "0  AMBER ELIZABETH  36-25H    SESW     36.0     151.0  101.0    MCK  ...   \n",
       "1         BILL  14-23 2TFH    SWSW     11.0     151.0  101.0    MCK  ...   \n",
       "2           BILL  14-23 3H    NWNE     14.0     151.0  101.0    MCK  ...   \n",
       "3         BILL  14-23 4TFH    NWNE     14.0     151.0  101.0    MCK  ...   \n",
       "4         BILL  14-23 5TFH    NWNE     14.0     151.0  101.0    MCK  ...   \n",
       "\n",
       "     Pool     Oil      Wtr  Days    Runs     Gas  GasSold  Flared        Lat  \\\n",
       "0  BAKKEN  1525.0   1335.0  29.0  1686.0  1739.0   1519.0     0.0  47.849140   \n",
       "1  BAKKEN  1410.0   5805.0  31.0  1370.0  1721.0   1720.0     1.0  47.907426   \n",
       "2  BAKKEN  5035.0  12773.0  28.0  5087.0  3754.0   3249.0   505.0  47.904553   \n",
       "3  BAKKEN  2419.0  17671.0  31.0  2287.0   232.0    201.0    31.0  47.904553   \n",
       "4  BAKKEN   771.0  17718.0  31.0   729.0    53.0     46.0     7.0  47.904553   \n",
       "\n",
       "         Long  \n",
       "0 -103.553342  \n",
       "1 -103.579904  \n",
       "2 -103.569154  \n",
       "3 -103.569032  \n",
       "4 -103.569276  \n",
       "\n",
       "[5 rows x 21 columns]"
      ]
     },
     "execution_count": 92,
     "metadata": {},
     "output_type": "execute_result"
    }
   ],
   "source": [
    "df.head()"
   ]
  },
  {
   "cell_type": "code",
   "execution_count": 93,
   "metadata": {},
   "outputs": [
    {
     "data": {
      "text/plain": [
       "ReportDate      0\n",
       "API_WELLNO      0\n",
       "FileNo          0\n",
       "Company         0\n",
       "WellName        0\n",
       "Quarter         0\n",
       "Section         0\n",
       "Township        0\n",
       "Range           0\n",
       "County          0\n",
       "FieldName       0\n",
       "Pool            0\n",
       "Oil           178\n",
       "Wtr           178\n",
       "Days          178\n",
       "Runs            0\n",
       "Gas           178\n",
       "GasSold         0\n",
       "Flared        178\n",
       "Lat             0\n",
       "Long            0\n",
       "dtype: int64"
      ]
     },
     "execution_count": 93,
     "metadata": {},
     "output_type": "execute_result"
    }
   ],
   "source": [
    "df.isnull().sum()"
   ]
  },
  {
   "cell_type": "code",
   "execution_count": 94,
   "metadata": {},
   "outputs": [],
   "source": [
    "df = df.drop('ReportDate',axis=1)"
   ]
  },
  {
   "cell_type": "code",
   "execution_count": 95,
   "metadata": {},
   "outputs": [],
   "source": [
    "df = df.drop('Company',axis=1)"
   ]
  },
  {
   "cell_type": "code",
   "execution_count": 96,
   "metadata": {},
   "outputs": [],
   "source": [
    "df = df.drop('WellName',axis=1)"
   ]
  },
  {
   "cell_type": "code",
   "execution_count": 97,
   "metadata": {},
   "outputs": [],
   "source": [
    "df = df.drop('Quarter',axis=1)"
   ]
  },
  {
   "cell_type": "code",
   "execution_count": 98,
   "metadata": {},
   "outputs": [],
   "source": [
    "df = df.drop('County',axis=1)"
   ]
  },
  {
   "cell_type": "code",
   "execution_count": 99,
   "metadata": {},
   "outputs": [],
   "source": [
    "df = df.drop('GasSold',axis=1)"
   ]
  },
  {
   "cell_type": "code",
   "execution_count": 100,
   "metadata": {},
   "outputs": [],
   "source": [
    "df = df.drop('Flared',axis=1)"
   ]
  },
  {
   "cell_type": "code",
   "execution_count": 101,
   "metadata": {},
   "outputs": [],
   "source": [
    "df = df.drop('FileNo',axis=1)"
   ]
  },
  {
   "cell_type": "code",
   "execution_count": 102,
   "metadata": {},
   "outputs": [],
   "source": [
    "df = df.drop('Township',axis=1)"
   ]
  },
  {
   "cell_type": "code",
   "execution_count": 103,
   "metadata": {},
   "outputs": [],
   "source": [
    "df = df.drop('Lat',axis=1)"
   ]
  },
  {
   "cell_type": "code",
   "execution_count": 104,
   "metadata": {},
   "outputs": [],
   "source": [
    "df = df.drop('Long',axis=1)"
   ]
  },
  {
   "cell_type": "code",
   "execution_count": 105,
   "metadata": {},
   "outputs": [
    {
     "data": {
      "text/plain": [
       "API_WELLNO      0\n",
       "Section         0\n",
       "Range           0\n",
       "FieldName       0\n",
       "Pool            0\n",
       "Oil           178\n",
       "Wtr           178\n",
       "Days          178\n",
       "Runs            0\n",
       "Gas           178\n",
       "dtype: int64"
      ]
     },
     "execution_count": 105,
     "metadata": {},
     "output_type": "execute_result"
    }
   ],
   "source": [
    "df.isnull().sum()"
   ]
  },
  {
   "cell_type": "code",
   "execution_count": 106,
   "metadata": {},
   "outputs": [
    {
     "name": "stdout",
     "output_type": "stream",
     "text": [
      "<class 'pandas.core.frame.DataFrame'>\n",
      "RangeIndex: 14065 entries, 0 to 14064\n",
      "Data columns (total 10 columns):\n",
      " #   Column      Non-Null Count  Dtype  \n",
      "---  ------      --------------  -----  \n",
      " 0   API_WELLNO  14065 non-null  float64\n",
      " 1   Section     14065 non-null  float64\n",
      " 2   Range       14065 non-null  float64\n",
      " 3   FieldName   14065 non-null  object \n",
      " 4   Pool        14065 non-null  object \n",
      " 5   Oil         13887 non-null  float64\n",
      " 6   Wtr         13887 non-null  float64\n",
      " 7   Days        13887 non-null  float64\n",
      " 8   Runs        14065 non-null  float64\n",
      " 9   Gas         13887 non-null  float64\n",
      "dtypes: float64(8), object(2)\n",
      "memory usage: 1.1+ MB\n"
     ]
    }
   ],
   "source": [
    "df.info()"
   ]
  },
  {
   "cell_type": "code",
   "execution_count": 107,
   "metadata": {},
   "outputs": [],
   "source": [
    "df=df.dropna()"
   ]
  },
  {
   "cell_type": "code",
   "execution_count": 108,
   "metadata": {},
   "outputs": [
    {
     "name": "stdout",
     "output_type": "stream",
     "text": [
      "<class 'pandas.core.frame.DataFrame'>\n",
      "Int64Index: 13887 entries, 0 to 14064\n",
      "Data columns (total 10 columns):\n",
      " #   Column      Non-Null Count  Dtype  \n",
      "---  ------      --------------  -----  \n",
      " 0   API_WELLNO  13887 non-null  float64\n",
      " 1   Section     13887 non-null  float64\n",
      " 2   Range       13887 non-null  float64\n",
      " 3   FieldName   13887 non-null  object \n",
      " 4   Pool        13887 non-null  object \n",
      " 5   Oil         13887 non-null  float64\n",
      " 6   Wtr         13887 non-null  float64\n",
      " 7   Days        13887 non-null  float64\n",
      " 8   Runs        13887 non-null  float64\n",
      " 9   Gas         13887 non-null  float64\n",
      "dtypes: float64(8), object(2)\n",
      "memory usage: 1.2+ MB\n"
     ]
    }
   ],
   "source": [
    "df.info()"
   ]
  },
  {
   "cell_type": "code",
   "execution_count": 109,
   "metadata": {},
   "outputs": [
    {
     "data": {
      "text/plain": [
       "API_WELLNO    0\n",
       "Section       0\n",
       "Range         0\n",
       "FieldName     0\n",
       "Pool          0\n",
       "Oil           0\n",
       "Wtr           0\n",
       "Days          0\n",
       "Runs          0\n",
       "Gas           0\n",
       "dtype: int64"
      ]
     },
     "execution_count": 109,
     "metadata": {},
     "output_type": "execute_result"
    }
   ],
   "source": [
    "df.isnull().sum()"
   ]
  },
  {
   "cell_type": "code",
   "execution_count": 110,
   "metadata": {},
   "outputs": [
    {
     "data": {
      "text/plain": [
       "0         52.586207\n",
       "1         45.483871\n",
       "2        179.821429\n",
       "3         78.032258\n",
       "4         24.870968\n",
       "            ...    \n",
       "14060           NaN\n",
       "14061           NaN\n",
       "14062      0.870968\n",
       "14063      0.741935\n",
       "14064           NaN\n",
       "Name: OilRate, Length: 13887, dtype: float64"
      ]
     },
     "execution_count": 110,
     "metadata": {},
     "output_type": "execute_result"
    }
   ],
   "source": [
    "df['OilRate'] = df['Oil'] / df['Days']\n",
    "df['OilRate']"
   ]
  },
  {
   "cell_type": "code",
   "execution_count": 111,
   "metadata": {},
   "outputs": [],
   "source": [
    "df=df.dropna()"
   ]
  },
  {
   "cell_type": "code",
   "execution_count": 112,
   "metadata": {},
   "outputs": [
    {
     "data": {
      "text/plain": [
       "0         52.586207\n",
       "1         45.483871\n",
       "2        179.821429\n",
       "3         78.032258\n",
       "4         24.870968\n",
       "            ...    \n",
       "14052    115.548387\n",
       "14053     10.677419\n",
       "14059     82.258065\n",
       "14062      0.870968\n",
       "14063      0.741935\n",
       "Name: OilRate, Length: 12349, dtype: float64"
      ]
     },
     "execution_count": 112,
     "metadata": {},
     "output_type": "execute_result"
    }
   ],
   "source": [
    "df['OilRate']"
   ]
  },
  {
   "cell_type": "code",
   "execution_count": 113,
   "metadata": {},
   "outputs": [],
   "source": [
    "dummies = pd.get_dummies(df[['FieldName', 'Pool']],drop_first=True)\n",
    "df = df.drop(['FieldName', 'Pool'],axis=1)\n",
    "df = pd.concat([df,dummies],axis=1)"
   ]
  },
  {
   "cell_type": "code",
   "execution_count": 114,
   "metadata": {},
   "outputs": [
    {
     "data": {
      "text/plain": [
       "API_WELLNO                0\n",
       "Section                   0\n",
       "Range                     0\n",
       "Oil                       0\n",
       "Wtr                       0\n",
       "                         ..\n",
       "Pool_TYLER A              0\n",
       "Pool_WEST RED RIVER       0\n",
       "Pool_WINNIPEG             0\n",
       "Pool_WINNIPEG/DEADWOOD    0\n",
       "Pool_WINNIPEGOSIS         0\n",
       "Length: 534, dtype: int64"
      ]
     },
     "execution_count": 114,
     "metadata": {},
     "output_type": "execute_result"
    }
   ],
   "source": [
    "df.isnull().sum()"
   ]
  },
  {
   "cell_type": "code",
   "execution_count": 115,
   "metadata": {},
   "outputs": [
    {
     "name": "stdout",
     "output_type": "stream",
     "text": [
      "<class 'pandas.core.frame.DataFrame'>\n",
      "Int64Index: 12349 entries, 0 to 14063\n",
      "Columns: 534 entries, API_WELLNO to Pool_WINNIPEGOSIS\n",
      "dtypes: float64(9), uint8(525)\n",
      "memory usage: 7.1 MB\n"
     ]
    }
   ],
   "source": [
    "df.info()"
   ]
  },
  {
   "cell_type": "code",
   "execution_count": 116,
   "metadata": {},
   "outputs": [
    {
     "data": {
      "text/html": [
       "<div>\n",
       "<style scoped>\n",
       "    .dataframe tbody tr th:only-of-type {\n",
       "        vertical-align: middle;\n",
       "    }\n",
       "\n",
       "    .dataframe tbody tr th {\n",
       "        vertical-align: top;\n",
       "    }\n",
       "\n",
       "    .dataframe thead th {\n",
       "        text-align: right;\n",
       "    }\n",
       "</style>\n",
       "<table border=\"1\" class=\"dataframe\">\n",
       "  <thead>\n",
       "    <tr style=\"text-align: right;\">\n",
       "      <th></th>\n",
       "      <th>API_WELLNO</th>\n",
       "      <th>Section</th>\n",
       "      <th>Range</th>\n",
       "      <th>Oil</th>\n",
       "      <th>Wtr</th>\n",
       "      <th>Days</th>\n",
       "      <th>Runs</th>\n",
       "      <th>Gas</th>\n",
       "      <th>OilRate</th>\n",
       "      <th>FieldName_ALEXANDRIA</th>\n",
       "      <th>...</th>\n",
       "      <th>Pool_SPEARFISH/CHARLES</th>\n",
       "      <th>Pool_SPEARFISH/MADISON</th>\n",
       "      <th>Pool_STONEWALL</th>\n",
       "      <th>Pool_THREE FORKS</th>\n",
       "      <th>Pool_TYLER</th>\n",
       "      <th>Pool_TYLER A</th>\n",
       "      <th>Pool_WEST RED RIVER</th>\n",
       "      <th>Pool_WINNIPEG</th>\n",
       "      <th>Pool_WINNIPEG/DEADWOOD</th>\n",
       "      <th>Pool_WINNIPEGOSIS</th>\n",
       "    </tr>\n",
       "  </thead>\n",
       "  <tbody>\n",
       "    <tr>\n",
       "      <th>0</th>\n",
       "      <td>3.305304e+13</td>\n",
       "      <td>36.0</td>\n",
       "      <td>101.0</td>\n",
       "      <td>1525.0</td>\n",
       "      <td>1335.0</td>\n",
       "      <td>29.0</td>\n",
       "      <td>1686.0</td>\n",
       "      <td>1739.0</td>\n",
       "      <td>52.586207</td>\n",
       "      <td>0</td>\n",
       "      <td>...</td>\n",
       "      <td>0</td>\n",
       "      <td>0</td>\n",
       "      <td>0</td>\n",
       "      <td>0</td>\n",
       "      <td>0</td>\n",
       "      <td>0</td>\n",
       "      <td>0</td>\n",
       "      <td>0</td>\n",
       "      <td>0</td>\n",
       "      <td>0</td>\n",
       "    </tr>\n",
       "    <tr>\n",
       "      <th>1</th>\n",
       "      <td>3.305304e+13</td>\n",
       "      <td>11.0</td>\n",
       "      <td>101.0</td>\n",
       "      <td>1410.0</td>\n",
       "      <td>5805.0</td>\n",
       "      <td>31.0</td>\n",
       "      <td>1370.0</td>\n",
       "      <td>1721.0</td>\n",
       "      <td>45.483871</td>\n",
       "      <td>0</td>\n",
       "      <td>...</td>\n",
       "      <td>0</td>\n",
       "      <td>0</td>\n",
       "      <td>0</td>\n",
       "      <td>0</td>\n",
       "      <td>0</td>\n",
       "      <td>0</td>\n",
       "      <td>0</td>\n",
       "      <td>0</td>\n",
       "      <td>0</td>\n",
       "      <td>0</td>\n",
       "    </tr>\n",
       "    <tr>\n",
       "      <th>2</th>\n",
       "      <td>3.305305e+13</td>\n",
       "      <td>14.0</td>\n",
       "      <td>101.0</td>\n",
       "      <td>5035.0</td>\n",
       "      <td>12773.0</td>\n",
       "      <td>28.0</td>\n",
       "      <td>5087.0</td>\n",
       "      <td>3754.0</td>\n",
       "      <td>179.821429</td>\n",
       "      <td>0</td>\n",
       "      <td>...</td>\n",
       "      <td>0</td>\n",
       "      <td>0</td>\n",
       "      <td>0</td>\n",
       "      <td>0</td>\n",
       "      <td>0</td>\n",
       "      <td>0</td>\n",
       "      <td>0</td>\n",
       "      <td>0</td>\n",
       "      <td>0</td>\n",
       "      <td>0</td>\n",
       "    </tr>\n",
       "    <tr>\n",
       "      <th>3</th>\n",
       "      <td>3.305305e+13</td>\n",
       "      <td>14.0</td>\n",
       "      <td>101.0</td>\n",
       "      <td>2419.0</td>\n",
       "      <td>17671.0</td>\n",
       "      <td>31.0</td>\n",
       "      <td>2287.0</td>\n",
       "      <td>232.0</td>\n",
       "      <td>78.032258</td>\n",
       "      <td>0</td>\n",
       "      <td>...</td>\n",
       "      <td>0</td>\n",
       "      <td>0</td>\n",
       "      <td>0</td>\n",
       "      <td>0</td>\n",
       "      <td>0</td>\n",
       "      <td>0</td>\n",
       "      <td>0</td>\n",
       "      <td>0</td>\n",
       "      <td>0</td>\n",
       "      <td>0</td>\n",
       "    </tr>\n",
       "    <tr>\n",
       "      <th>4</th>\n",
       "      <td>3.305305e+13</td>\n",
       "      <td>14.0</td>\n",
       "      <td>101.0</td>\n",
       "      <td>771.0</td>\n",
       "      <td>17718.0</td>\n",
       "      <td>31.0</td>\n",
       "      <td>729.0</td>\n",
       "      <td>53.0</td>\n",
       "      <td>24.870968</td>\n",
       "      <td>0</td>\n",
       "      <td>...</td>\n",
       "      <td>0</td>\n",
       "      <td>0</td>\n",
       "      <td>0</td>\n",
       "      <td>0</td>\n",
       "      <td>0</td>\n",
       "      <td>0</td>\n",
       "      <td>0</td>\n",
       "      <td>0</td>\n",
       "      <td>0</td>\n",
       "      <td>0</td>\n",
       "    </tr>\n",
       "    <tr>\n",
       "      <th>...</th>\n",
       "      <td>...</td>\n",
       "      <td>...</td>\n",
       "      <td>...</td>\n",
       "      <td>...</td>\n",
       "      <td>...</td>\n",
       "      <td>...</td>\n",
       "      <td>...</td>\n",
       "      <td>...</td>\n",
       "      <td>...</td>\n",
       "      <td>...</td>\n",
       "      <td>...</td>\n",
       "      <td>...</td>\n",
       "      <td>...</td>\n",
       "      <td>...</td>\n",
       "      <td>...</td>\n",
       "      <td>...</td>\n",
       "      <td>...</td>\n",
       "      <td>...</td>\n",
       "      <td>...</td>\n",
       "      <td>...</td>\n",
       "      <td>...</td>\n",
       "    </tr>\n",
       "    <tr>\n",
       "      <th>14052</th>\n",
       "      <td>3.308901e+13</td>\n",
       "      <td>12.0</td>\n",
       "      <td>99.0</td>\n",
       "      <td>3582.0</td>\n",
       "      <td>1495.0</td>\n",
       "      <td>31.0</td>\n",
       "      <td>3589.0</td>\n",
       "      <td>3840.0</td>\n",
       "      <td>115.548387</td>\n",
       "      <td>0</td>\n",
       "      <td>...</td>\n",
       "      <td>0</td>\n",
       "      <td>0</td>\n",
       "      <td>0</td>\n",
       "      <td>0</td>\n",
       "      <td>0</td>\n",
       "      <td>0</td>\n",
       "      <td>0</td>\n",
       "      <td>0</td>\n",
       "      <td>0</td>\n",
       "      <td>0</td>\n",
       "    </tr>\n",
       "    <tr>\n",
       "      <th>14053</th>\n",
       "      <td>3.308901e+13</td>\n",
       "      <td>26.0</td>\n",
       "      <td>99.0</td>\n",
       "      <td>331.0</td>\n",
       "      <td>603.0</td>\n",
       "      <td>31.0</td>\n",
       "      <td>271.0</td>\n",
       "      <td>390.0</td>\n",
       "      <td>10.677419</td>\n",
       "      <td>0</td>\n",
       "      <td>...</td>\n",
       "      <td>0</td>\n",
       "      <td>0</td>\n",
       "      <td>0</td>\n",
       "      <td>0</td>\n",
       "      <td>0</td>\n",
       "      <td>0</td>\n",
       "      <td>0</td>\n",
       "      <td>0</td>\n",
       "      <td>0</td>\n",
       "      <td>0</td>\n",
       "    </tr>\n",
       "    <tr>\n",
       "      <th>14059</th>\n",
       "      <td>3.308900e+13</td>\n",
       "      <td>34.0</td>\n",
       "      <td>99.0</td>\n",
       "      <td>2550.0</td>\n",
       "      <td>2244.0</td>\n",
       "      <td>31.0</td>\n",
       "      <td>2463.0</td>\n",
       "      <td>31.0</td>\n",
       "      <td>82.258065</td>\n",
       "      <td>0</td>\n",
       "      <td>...</td>\n",
       "      <td>0</td>\n",
       "      <td>0</td>\n",
       "      <td>0</td>\n",
       "      <td>0</td>\n",
       "      <td>0</td>\n",
       "      <td>1</td>\n",
       "      <td>0</td>\n",
       "      <td>0</td>\n",
       "      <td>0</td>\n",
       "      <td>0</td>\n",
       "    </tr>\n",
       "    <tr>\n",
       "      <th>14062</th>\n",
       "      <td>3.300901e+13</td>\n",
       "      <td>26.0</td>\n",
       "      <td>79.0</td>\n",
       "      <td>27.0</td>\n",
       "      <td>146.0</td>\n",
       "      <td>31.0</td>\n",
       "      <td>0.0</td>\n",
       "      <td>0.0</td>\n",
       "      <td>0.870968</td>\n",
       "      <td>0</td>\n",
       "      <td>...</td>\n",
       "      <td>0</td>\n",
       "      <td>1</td>\n",
       "      <td>0</td>\n",
       "      <td>0</td>\n",
       "      <td>0</td>\n",
       "      <td>0</td>\n",
       "      <td>0</td>\n",
       "      <td>0</td>\n",
       "      <td>0</td>\n",
       "      <td>0</td>\n",
       "    </tr>\n",
       "    <tr>\n",
       "      <th>14063</th>\n",
       "      <td>3.300901e+13</td>\n",
       "      <td>23.0</td>\n",
       "      <td>79.0</td>\n",
       "      <td>23.0</td>\n",
       "      <td>351.0</td>\n",
       "      <td>31.0</td>\n",
       "      <td>0.0</td>\n",
       "      <td>0.0</td>\n",
       "      <td>0.741935</td>\n",
       "      <td>0</td>\n",
       "      <td>...</td>\n",
       "      <td>0</td>\n",
       "      <td>1</td>\n",
       "      <td>0</td>\n",
       "      <td>0</td>\n",
       "      <td>0</td>\n",
       "      <td>0</td>\n",
       "      <td>0</td>\n",
       "      <td>0</td>\n",
       "      <td>0</td>\n",
       "      <td>0</td>\n",
       "    </tr>\n",
       "  </tbody>\n",
       "</table>\n",
       "<p>12349 rows × 534 columns</p>\n",
       "</div>"
      ],
      "text/plain": [
       "         API_WELLNO  Section  Range     Oil      Wtr  Days    Runs     Gas  \\\n",
       "0      3.305304e+13     36.0  101.0  1525.0   1335.0  29.0  1686.0  1739.0   \n",
       "1      3.305304e+13     11.0  101.0  1410.0   5805.0  31.0  1370.0  1721.0   \n",
       "2      3.305305e+13     14.0  101.0  5035.0  12773.0  28.0  5087.0  3754.0   \n",
       "3      3.305305e+13     14.0  101.0  2419.0  17671.0  31.0  2287.0   232.0   \n",
       "4      3.305305e+13     14.0  101.0   771.0  17718.0  31.0   729.0    53.0   \n",
       "...             ...      ...    ...     ...      ...   ...     ...     ...   \n",
       "14052  3.308901e+13     12.0   99.0  3582.0   1495.0  31.0  3589.0  3840.0   \n",
       "14053  3.308901e+13     26.0   99.0   331.0    603.0  31.0   271.0   390.0   \n",
       "14059  3.308900e+13     34.0   99.0  2550.0   2244.0  31.0  2463.0    31.0   \n",
       "14062  3.300901e+13     26.0   79.0    27.0    146.0  31.0     0.0     0.0   \n",
       "14063  3.300901e+13     23.0   79.0    23.0    351.0  31.0     0.0     0.0   \n",
       "\n",
       "          OilRate  FieldName_ALEXANDRIA  ...  Pool_SPEARFISH/CHARLES  \\\n",
       "0       52.586207                     0  ...                       0   \n",
       "1       45.483871                     0  ...                       0   \n",
       "2      179.821429                     0  ...                       0   \n",
       "3       78.032258                     0  ...                       0   \n",
       "4       24.870968                     0  ...                       0   \n",
       "...           ...                   ...  ...                     ...   \n",
       "14052  115.548387                     0  ...                       0   \n",
       "14053   10.677419                     0  ...                       0   \n",
       "14059   82.258065                     0  ...                       0   \n",
       "14062    0.870968                     0  ...                       0   \n",
       "14063    0.741935                     0  ...                       0   \n",
       "\n",
       "       Pool_SPEARFISH/MADISON  Pool_STONEWALL  Pool_THREE FORKS  Pool_TYLER  \\\n",
       "0                           0               0                 0           0   \n",
       "1                           0               0                 0           0   \n",
       "2                           0               0                 0           0   \n",
       "3                           0               0                 0           0   \n",
       "4                           0               0                 0           0   \n",
       "...                       ...             ...               ...         ...   \n",
       "14052                       0               0                 0           0   \n",
       "14053                       0               0                 0           0   \n",
       "14059                       0               0                 0           0   \n",
       "14062                       1               0                 0           0   \n",
       "14063                       1               0                 0           0   \n",
       "\n",
       "       Pool_TYLER A  Pool_WEST RED RIVER  Pool_WINNIPEG  \\\n",
       "0                 0                    0              0   \n",
       "1                 0                    0              0   \n",
       "2                 0                    0              0   \n",
       "3                 0                    0              0   \n",
       "4                 0                    0              0   \n",
       "...             ...                  ...            ...   \n",
       "14052             0                    0              0   \n",
       "14053             0                    0              0   \n",
       "14059             1                    0              0   \n",
       "14062             0                    0              0   \n",
       "14063             0                    0              0   \n",
       "\n",
       "       Pool_WINNIPEG/DEADWOOD  Pool_WINNIPEGOSIS  \n",
       "0                           0                  0  \n",
       "1                           0                  0  \n",
       "2                           0                  0  \n",
       "3                           0                  0  \n",
       "4                           0                  0  \n",
       "...                       ...                ...  \n",
       "14052                       0                  0  \n",
       "14053                       0                  0  \n",
       "14059                       0                  0  \n",
       "14062                       0                  0  \n",
       "14063                       0                  0  \n",
       "\n",
       "[12349 rows x 534 columns]"
      ]
     },
     "execution_count": 116,
     "metadata": {},
     "output_type": "execute_result"
    }
   ],
   "source": [
    "df"
   ]
  },
  {
   "cell_type": "code",
   "execution_count": 117,
   "metadata": {
    "scrolled": true
   },
   "outputs": [],
   "source": [
    "#pd.set_option('display.max_rows',None)"
   ]
  },
  {
   "cell_type": "code",
   "execution_count": 118,
   "metadata": {},
   "outputs": [
    {
     "data": {
      "text/plain": [
       "12349"
      ]
     },
     "execution_count": 118,
     "metadata": {},
     "output_type": "execute_result"
    }
   ],
   "source": [
    "len(df)"
   ]
  },
  {
   "cell_type": "code",
   "execution_count": 119,
   "metadata": {},
   "outputs": [],
   "source": [
    "#df.drop(df.index[6171],inplace=True)"
   ]
  },
  {
   "cell_type": "code",
   "execution_count": 120,
   "metadata": {},
   "outputs": [],
   "source": [
    "#df.drop(df.index[7405],inplace=True)"
   ]
  },
  {
   "cell_type": "code",
   "execution_count": 121,
   "metadata": {},
   "outputs": [],
   "source": [
    "dfy=df.drop([6171, 7405])"
   ]
  },
  {
   "cell_type": "code",
   "execution_count": 122,
   "metadata": {},
   "outputs": [
    {
     "name": "stdout",
     "output_type": "stream",
     "text": [
      "<class 'pandas.core.frame.DataFrame'>\n",
      "Int64Index: 12347 entries, 0 to 14063\n",
      "Columns: 534 entries, API_WELLNO to Pool_WINNIPEGOSIS\n",
      "dtypes: float64(9), uint8(525)\n",
      "memory usage: 7.1 MB\n"
     ]
    }
   ],
   "source": [
    "dfy.info()"
   ]
  },
  {
   "cell_type": "code",
   "execution_count": 123,
   "metadata": {},
   "outputs": [],
   "source": [
    "X = dfy.drop('OilRate',axis=1)\n",
    "y = dfy['OilRate']"
   ]
  },
  {
   "cell_type": "code",
   "execution_count": 124,
   "metadata": {},
   "outputs": [],
   "source": [
    "from sklearn.model_selection import train_test_split"
   ]
  },
  {
   "cell_type": "code",
   "execution_count": 125,
   "metadata": {
    "scrolled": true
   },
   "outputs": [],
   "source": [
    "X_train, X_test, y_train, y_test = train_test_split(X,y,test_size=0.3)"
   ]
  },
  {
   "cell_type": "code",
   "execution_count": 126,
   "metadata": {},
   "outputs": [],
   "source": [
    "from sklearn.preprocessing import MinMaxScaler"
   ]
  },
  {
   "cell_type": "code",
   "execution_count": 127,
   "metadata": {},
   "outputs": [],
   "source": [
    "#from sklearn.preprocessing import StandardScaler"
   ]
  },
  {
   "cell_type": "code",
   "execution_count": 128,
   "metadata": {},
   "outputs": [],
   "source": [
    "scaler = MinMaxScaler()"
   ]
  },
  {
   "cell_type": "code",
   "execution_count": 129,
   "metadata": {},
   "outputs": [
    {
     "data": {
      "text/plain": [
       "(8642, 533)"
      ]
     },
     "execution_count": 129,
     "metadata": {},
     "output_type": "execute_result"
    }
   ],
   "source": [
    "X_train.shape"
   ]
  },
  {
   "cell_type": "code",
   "execution_count": 130,
   "metadata": {},
   "outputs": [
    {
     "data": {
      "text/plain": [
       "(3705, 533)"
      ]
     },
     "execution_count": 130,
     "metadata": {},
     "output_type": "execute_result"
    }
   ],
   "source": [
    "X_test.shape"
   ]
  },
  {
   "cell_type": "code",
   "execution_count": 131,
   "metadata": {},
   "outputs": [
    {
     "data": {
      "text/plain": [
       "(8642,)"
      ]
     },
     "execution_count": 131,
     "metadata": {},
     "output_type": "execute_result"
    }
   ],
   "source": [
    "y_train.shape"
   ]
  },
  {
   "cell_type": "code",
   "execution_count": 132,
   "metadata": {},
   "outputs": [
    {
     "data": {
      "text/plain": [
       "(3705,)"
      ]
     },
     "execution_count": 132,
     "metadata": {},
     "output_type": "execute_result"
    }
   ],
   "source": [
    "y_test.shape"
   ]
  },
  {
   "cell_type": "code",
   "execution_count": 133,
   "metadata": {},
   "outputs": [],
   "source": [
    "X_train = scaler.fit_transform(X_train)"
   ]
  },
  {
   "cell_type": "code",
   "execution_count": 134,
   "metadata": {},
   "outputs": [],
   "source": [
    "X_test = scaler.transform(X_test)"
   ]
  },
  {
   "cell_type": "code",
   "execution_count": 135,
   "metadata": {},
   "outputs": [],
   "source": [
    "import tensorflow as tf\n",
    "from tensorflow.keras.models import Sequential\n",
    "from tensorflow.keras.layers import Dense, Activation, Dropout\n",
    "from tensorflow.keras.optimizers import Adam\n",
    "from tensorflow.keras.constraints import max_norm\n",
    "from tensorflow.keras.models import load_model\n",
    "from tensorflow.keras.layers import Dropout"
   ]
  },
  {
   "cell_type": "code",
   "execution_count": 136,
   "metadata": {},
   "outputs": [],
   "source": [
    "#model = Sequential()\n",
    "\n",
    "# https://stats.stackexchange.com/questions/181/how-to-choose-the-number-of-hidden-layers-and-nodes-in-a-feedforward-neural-netw\n",
    "\n",
    "# input layer\n",
    "#model.add(Dense(8,activation='relu'))\n",
    "#model.add(Dropout(0.2))\n",
    "\n",
    "# hidden layer\n",
    "#model.add(Dense(8,activation='relu'))\n",
    "#model.add(Dropout(0.2))\n",
    "\n",
    "# hidden layer\n",
    "#model.add(Dense(8,activation='relu'))\n",
    "#model.add(Dropout(0.2))\n",
    "\n",
    "# output layer\n",
    "#model.add(Dense(1)#,activation='sigmoid'))\n",
    "\n",
    "# Compile model\n",
    "#model.compile(optimizer='adam',loss='mse',metrics='accuracy')"
   ]
  },
  {
   "cell_type": "code",
   "execution_count": 137,
   "metadata": {},
   "outputs": [],
   "source": [
    "#from tensorflow.keras.layers import LSTM"
   ]
  },
  {
   "cell_type": "code",
   "execution_count": 164,
   "metadata": {},
   "outputs": [],
   "source": [
    "model = Sequential()\n",
    "\n",
    "model.add(Dense(533,activation='relu'))\n",
    "model.add(Dense(263,activation='relu'))\n",
    "model.add(Dense(133,activation='relu'))\n",
    "model.add(Dense(63,activation='relu'))\n",
    "model.add(Dense(33,activation='relu'))\n",
    "model.add(Dense(13,activation='relu'))\n",
    "model.add(Dense(7,activation='relu'))\n",
    "model.add(Dense(1))\n",
    "\n",
    "model.compile(optimizer='adam',loss='mse',metrics='accuracy')"
   ]
  },
  {
   "cell_type": "code",
   "execution_count": 165,
   "metadata": {},
   "outputs": [],
   "source": [
    "#model=tf.keras.models.Sequential([\n",
    "#    tf.keras.layers.LSTM(8,activation='relu'),\n",
    "#    tf.keras.layers.LSTM(8,activation='relu'),\n",
    "#    tf.keras.layers.LSTM(8,activation='relu'),\n",
    "#    tf.keras.layers.Dense(1)\n",
    "#])\n",
    "    \n",
    "#model.compile(optimizer='SGD',loss='huber',metrics='accuracy')    "
   ]
  },
  {
   "cell_type": "code",
   "execution_count": 166,
   "metadata": {
    "scrolled": true
   },
   "outputs": [],
   "source": [
    "#model.fit(x=X_train,y=y_train.values,\n",
    "#          validation_data=(X_test,y_test.values),epochs=100)"
   ]
  },
  {
   "cell_type": "code",
   "execution_count": 167,
   "metadata": {},
   "outputs": [
    {
     "name": "stdout",
     "output_type": "stream",
     "text": [
      "Epoch 1/75\n",
      "271/271 [==============================] - 3s 7ms/step - loss: 19055.7026 - accuracy: 0.0047 - val_loss: 2501.5474 - val_accuracy: 0.0016\n",
      "Epoch 2/75\n",
      "271/271 [==============================] - 2s 6ms/step - loss: 3379.3130 - accuracy: 0.0029 - val_loss: 2295.9580 - val_accuracy: 0.0116\n",
      "Epoch 3/75\n",
      "271/271 [==============================] - 2s 6ms/step - loss: 3225.4378 - accuracy: 0.0108 - val_loss: 1676.0583 - val_accuracy: 0.0016\n",
      "Epoch 4/75\n",
      "271/271 [==============================] - 2s 6ms/step - loss: 2845.5081 - accuracy: 0.0037 - val_loss: 1245.4695 - val_accuracy: 0.0108\n",
      "Epoch 5/75\n",
      "271/271 [==============================] - 2s 6ms/step - loss: 1927.7795 - accuracy: 0.0089 - val_loss: 965.2752 - val_accuracy: 0.0108\n",
      "Epoch 6/75\n",
      "271/271 [==============================] - 2s 6ms/step - loss: 1307.6899 - accuracy: 0.0096 - val_loss: 1019.2742 - val_accuracy: 0.0108\n",
      "Epoch 7/75\n",
      "271/271 [==============================] - 2s 6ms/step - loss: 1897.9164 - accuracy: 0.0093 - val_loss: 828.5526 - val_accuracy: 0.0124\n",
      "Epoch 8/75\n",
      "271/271 [==============================] - 2s 6ms/step - loss: 1122.1106 - accuracy: 0.0114 - val_loss: 796.7022 - val_accuracy: 0.0108\n",
      "Epoch 9/75\n",
      "271/271 [==============================] - 2s 7ms/step - loss: 892.2535 - accuracy: 0.0107 - val_loss: 628.0095 - val_accuracy: 0.0108\n",
      "Epoch 10/75\n",
      "271/271 [==============================] - 2s 6ms/step - loss: 1147.9919 - accuracy: 0.0086 - val_loss: 855.4406 - val_accuracy: 0.0108\n",
      "Epoch 11/75\n",
      "271/271 [==============================] - 2s 6ms/step - loss: 586.7809 - accuracy: 0.0103 - val_loss: 801.6937 - val_accuracy: 0.0108\n",
      "Epoch 12/75\n",
      "271/271 [==============================] - 2s 6ms/step - loss: 691.1647 - accuracy: 0.0106 - val_loss: 782.1486 - val_accuracy: 0.0116\n",
      "Epoch 13/75\n",
      "271/271 [==============================] - 2s 6ms/step - loss: 968.3382 - accuracy: 0.0092 - val_loss: 626.1011 - val_accuracy: 0.0116\n",
      "Epoch 14/75\n",
      "271/271 [==============================] - 2s 6ms/step - loss: 391.3144 - accuracy: 0.0096 - val_loss: 843.2697 - val_accuracy: 0.0108\n",
      "Epoch 15/75\n",
      "271/271 [==============================] - 2s 6ms/step - loss: 649.4949 - accuracy: 0.0089 - val_loss: 690.6446 - val_accuracy: 0.0016\n",
      "Epoch 16/75\n",
      "271/271 [==============================] - 2s 6ms/step - loss: 601.9771 - accuracy: 0.0026 - val_loss: 653.4584 - val_accuracy: 0.0108\n",
      "Epoch 17/75\n",
      "271/271 [==============================] - 2s 6ms/step - loss: 816.6365 - accuracy: 0.0073 - val_loss: 524.7451 - val_accuracy: 0.0108\n",
      "Epoch 18/75\n",
      "271/271 [==============================] - 2s 6ms/step - loss: 470.3205 - accuracy: 0.0061 - val_loss: 894.0172 - val_accuracy: 0.0016\n",
      "Epoch 19/75\n",
      "271/271 [==============================] - 2s 6ms/step - loss: 531.1561 - accuracy: 0.0055 - val_loss: 526.2641 - val_accuracy: 0.0016\n",
      "Epoch 20/75\n",
      "271/271 [==============================] - 2s 6ms/step - loss: 386.0013 - accuracy: 0.0049 - val_loss: 547.8840 - val_accuracy: 0.0016\n",
      "Epoch 21/75\n",
      "271/271 [==============================] - 2s 6ms/step - loss: 355.5966 - accuracy: 0.0069 - val_loss: 682.4070 - val_accuracy: 0.0016\n",
      "Epoch 22/75\n",
      "271/271 [==============================] - 2s 7ms/step - loss: 269.4685 - accuracy: 0.0082 - val_loss: 641.3346 - val_accuracy: 0.0016\n",
      "Epoch 23/75\n",
      "271/271 [==============================] - 2s 7ms/step - loss: 460.0382 - accuracy: 0.0059 - val_loss: 553.2712 - val_accuracy: 0.0016\n",
      "Epoch 24/75\n",
      "271/271 [==============================] - 2s 7ms/step - loss: 288.3930 - accuracy: 0.0070 - val_loss: 642.1091 - val_accuracy: 0.0121\n",
      "Epoch 25/75\n",
      "271/271 [==============================] - 2s 7ms/step - loss: 351.7366 - accuracy: 0.0101 - val_loss: 545.7695 - val_accuracy: 0.0108\n",
      "Epoch 26/75\n",
      "271/271 [==============================] - 2s 7ms/step - loss: 491.5173 - accuracy: 0.0098 - val_loss: 632.6076 - val_accuracy: 0.0108\n",
      "Epoch 27/75\n",
      "271/271 [==============================] - 2s 7ms/step - loss: 574.0963 - accuracy: 0.0099 - val_loss: 439.1647 - val_accuracy: 0.0108\n",
      "Epoch 28/75\n",
      "271/271 [==============================] - 2s 7ms/step - loss: 200.2904 - accuracy: 0.0087 - val_loss: 381.0035 - val_accuracy: 0.0108\n",
      "Epoch 29/75\n",
      "271/271 [==============================] - 2s 6ms/step - loss: 189.6173 - accuracy: 0.0096 - val_loss: 389.6292 - val_accuracy: 0.0108\n",
      "Epoch 30/75\n",
      "271/271 [==============================] - 2s 7ms/step - loss: 172.6132 - accuracy: 0.0087 - val_loss: 415.7797 - val_accuracy: 0.0108\n",
      "Epoch 31/75\n",
      "271/271 [==============================] - 2s 7ms/step - loss: 166.0783 - accuracy: 0.0101 - val_loss: 384.5030 - val_accuracy: 0.0108\n",
      "Epoch 32/75\n",
      "271/271 [==============================] - 2s 7ms/step - loss: 541.8363 - accuracy: 0.0098 - val_loss: 483.0719 - val_accuracy: 0.0108\n",
      "Epoch 33/75\n",
      "271/271 [==============================] - 2s 8ms/step - loss: 266.3773 - accuracy: 0.0104 - val_loss: 442.1830 - val_accuracy: 0.0124\n",
      "Epoch 34/75\n",
      "271/271 [==============================] - 2s 7ms/step - loss: 200.1229 - accuracy: 0.0106 - val_loss: 404.0533 - val_accuracy: 0.0116\n",
      "Epoch 35/75\n",
      "271/271 [==============================] - 2s 6ms/step - loss: 167.4753 - accuracy: 0.0089 - val_loss: 510.3087 - val_accuracy: 0.0116\n",
      "Epoch 36/75\n",
      "271/271 [==============================] - 2s 6ms/step - loss: 240.4781 - accuracy: 0.0101 - val_loss: 405.5930 - val_accuracy: 0.0119\n",
      "Epoch 37/75\n",
      "271/271 [==============================] - 2s 6ms/step - loss: 387.5849 - accuracy: 0.0127 - val_loss: 601.3990 - val_accuracy: 0.0116\n",
      "Epoch 38/75\n",
      "271/271 [==============================] - 2s 6ms/step - loss: 135.3005 - accuracy: 0.0112 - val_loss: 359.6950 - val_accuracy: 0.0121\n",
      "Epoch 39/75\n",
      "271/271 [==============================] - 2s 6ms/step - loss: 653.0950 - accuracy: 0.0095 - val_loss: 613.8195 - val_accuracy: 0.0124\n",
      "Epoch 40/75\n",
      "271/271 [==============================] - 2s 6ms/step - loss: 207.3030 - accuracy: 0.0122 - val_loss: 399.6781 - val_accuracy: 0.0113\n",
      "Epoch 41/75\n",
      "271/271 [==============================] - 2s 7ms/step - loss: 207.5993 - accuracy: 0.0125 - val_loss: 362.7275 - val_accuracy: 0.0124\n",
      "Epoch 42/75\n",
      "271/271 [==============================] - 2s 6ms/step - loss: 130.8176 - accuracy: 0.0130 - val_loss: 455.5821 - val_accuracy: 0.0124\n",
      "Epoch 43/75\n",
      "271/271 [==============================] - 2s 6ms/step - loss: 173.7679 - accuracy: 0.0113 - val_loss: 400.0820 - val_accuracy: 0.0121\n",
      "Epoch 44/75\n",
      "271/271 [==============================] - 2s 6ms/step - loss: 75.6216 - accuracy: 0.0114 - val_loss: 405.5682 - val_accuracy: 0.0130\n",
      "Epoch 45/75\n",
      "271/271 [==============================] - 2s 6ms/step - loss: 294.4442 - accuracy: 0.0134 - val_loss: 351.9624 - val_accuracy: 0.0127\n",
      "Epoch 46/75\n",
      "271/271 [==============================] - 2s 6ms/step - loss: 185.6336 - accuracy: 0.0130 - val_loss: 778.0809 - val_accuracy: 0.0121\n",
      "Epoch 47/75\n",
      "271/271 [==============================] - 2s 6ms/step - loss: 546.0034 - accuracy: 0.0130 - val_loss: 811.4663 - val_accuracy: 0.0119\n",
      "Epoch 48/75\n",
      "271/271 [==============================] - 2s 6ms/step - loss: 294.7593 - accuracy: 0.0115 - val_loss: 389.1432 - val_accuracy: 0.0121\n",
      "Epoch 49/75\n",
      "271/271 [==============================] - 2s 7ms/step - loss: 82.6699 - accuracy: 0.0131 - val_loss: 399.5532 - val_accuracy: 0.0116\n",
      "Epoch 50/75\n",
      "271/271 [==============================] - 2s 6ms/step - loss: 179.5331 - accuracy: 0.0114 - val_loss: 372.2512 - val_accuracy: 0.0127\n",
      "Epoch 51/75\n",
      "271/271 [==============================] - 2s 6ms/step - loss: 96.4173 - accuracy: 0.0152 - val_loss: 384.6812 - val_accuracy: 0.0119\n",
      "Epoch 52/75\n",
      "271/271 [==============================] - 2s 6ms/step - loss: 203.8325 - accuracy: 0.0094 - val_loss: 347.5422 - val_accuracy: 0.0127\n",
      "Epoch 53/75\n",
      "271/271 [==============================] - 2s 6ms/step - loss: 122.6949 - accuracy: 0.0143 - val_loss: 754.0653 - val_accuracy: 0.0124\n",
      "Epoch 54/75\n",
      "271/271 [==============================] - 2s 6ms/step - loss: 147.1418 - accuracy: 0.0169 - val_loss: 405.8075 - val_accuracy: 0.0116\n",
      "Epoch 55/75\n",
      "271/271 [==============================] - 2s 6ms/step - loss: 139.5068 - accuracy: 0.0149 - val_loss: 333.1850 - val_accuracy: 0.0124\n",
      "Epoch 56/75\n",
      "271/271 [==============================] - 2s 6ms/step - loss: 64.4716 - accuracy: 0.0127 - val_loss: 367.8439 - val_accuracy: 0.0130\n"
     ]
    },
    {
     "name": "stdout",
     "output_type": "stream",
     "text": [
      "Epoch 57/75\n",
      "271/271 [==============================] - 2s 6ms/step - loss: 140.8154 - accuracy: 0.0148 - val_loss: 402.3414 - val_accuracy: 0.0124\n",
      "Epoch 58/75\n",
      "271/271 [==============================] - 2s 6ms/step - loss: 96.2046 - accuracy: 0.0130 - val_loss: 586.7626 - val_accuracy: 0.0124\n",
      "Epoch 59/75\n",
      "271/271 [==============================] - 2s 6ms/step - loss: 143.7833 - accuracy: 0.0133 - val_loss: 407.5948 - val_accuracy: 0.0130\n",
      "Epoch 60/75\n",
      "271/271 [==============================] - 2s 6ms/step - loss: 216.2064 - accuracy: 0.0135 - val_loss: 426.9130 - val_accuracy: 0.0121\n",
      "Epoch 61/75\n",
      "271/271 [==============================] - 2s 6ms/step - loss: 111.8802 - accuracy: 0.0139 - val_loss: 518.7593 - val_accuracy: 0.0016\n",
      "Epoch 62/75\n",
      "271/271 [==============================] - 2s 6ms/step - loss: 398.9912 - accuracy: 0.0111 - val_loss: 510.3409 - val_accuracy: 0.0127\n",
      "Epoch 63/75\n",
      "271/271 [==============================] - 2s 6ms/step - loss: 226.8796 - accuracy: 0.0114 - val_loss: 349.5908 - val_accuracy: 0.0124\n",
      "Epoch 64/75\n",
      "271/271 [==============================] - 2s 6ms/step - loss: 78.8715 - accuracy: 0.0134 - val_loss: 358.9492 - val_accuracy: 0.0127\n",
      "Epoch 65/75\n",
      "271/271 [==============================] - 2s 6ms/step - loss: 63.4491 - accuracy: 0.0155 - val_loss: 348.0108 - val_accuracy: 0.0127\n",
      "Epoch 66/75\n",
      "271/271 [==============================] - 2s 6ms/step - loss: 44.6899 - accuracy: 0.0138 - val_loss: 361.7115 - val_accuracy: 0.0127\n",
      "Epoch 67/75\n",
      "271/271 [==============================] - 2s 6ms/step - loss: 72.6556 - accuracy: 0.0147 - val_loss: 369.4252 - val_accuracy: 0.0113\n",
      "Epoch 68/75\n",
      "271/271 [==============================] - 2s 7ms/step - loss: 86.8632 - accuracy: 0.0116 - val_loss: 417.9516 - val_accuracy: 0.0124\n",
      "Epoch 69/75\n",
      "271/271 [==============================] - 2s 6ms/step - loss: 156.5148 - accuracy: 0.0132 - val_loss: 362.4163 - val_accuracy: 0.0124\n",
      "Epoch 70/75\n",
      "271/271 [==============================] - 2s 6ms/step - loss: 144.6997 - accuracy: 0.0130 - val_loss: 593.0103 - val_accuracy: 0.0124\n",
      "Epoch 71/75\n",
      "271/271 [==============================] - 2s 7ms/step - loss: 230.1179 - accuracy: 0.0156 - val_loss: 434.0524 - val_accuracy: 0.0124\n",
      "Epoch 72/75\n",
      "271/271 [==============================] - 2s 6ms/step - loss: 68.4676 - accuracy: 0.0131 - val_loss: 460.7139 - val_accuracy: 0.0124\n",
      "Epoch 73/75\n",
      "271/271 [==============================] - 2s 7ms/step - loss: 124.9471 - accuracy: 0.0135 - val_loss: 392.1538 - val_accuracy: 0.0127\n",
      "Epoch 74/75\n",
      "271/271 [==============================] - 2s 6ms/step - loss: 98.5729 - accuracy: 0.0131 - val_loss: 569.0619 - val_accuracy: 0.0127\n",
      "Epoch 75/75\n",
      "271/271 [==============================] - 2s 7ms/step - loss: 63.9755 - accuracy: 0.0132 - val_loss: 384.6562 - val_accuracy: 0.0127\n"
     ]
    },
    {
     "data": {
      "text/plain": [
       "<tensorflow.python.keras.callbacks.History at 0x1a58b218d0>"
      ]
     },
     "execution_count": 167,
     "metadata": {},
     "output_type": "execute_result"
    }
   ],
   "source": [
    "model.fit(x=X_train, \n",
    "          y=y_train.values, \n",
    "          epochs=75,\n",
    "          #batch_size=128,\n",
    "          validation_data=(X_test, y_test.values), \n",
    "          )"
   ]
  },
  {
   "cell_type": "code",
   "execution_count": 168,
   "metadata": {},
   "outputs": [],
   "source": [
    "#df.drop([6171,7405],inplace=None)"
   ]
  },
  {
   "cell_type": "code",
   "execution_count": 169,
   "metadata": {},
   "outputs": [
    {
     "data": {
      "text/html": [
       "<div>\n",
       "<style scoped>\n",
       "    .dataframe tbody tr th:only-of-type {\n",
       "        vertical-align: middle;\n",
       "    }\n",
       "\n",
       "    .dataframe tbody tr th {\n",
       "        vertical-align: top;\n",
       "    }\n",
       "\n",
       "    .dataframe thead th {\n",
       "        text-align: right;\n",
       "    }\n",
       "</style>\n",
       "<table border=\"1\" class=\"dataframe\">\n",
       "  <thead>\n",
       "    <tr style=\"text-align: right;\">\n",
       "      <th></th>\n",
       "      <th>loss</th>\n",
       "      <th>accuracy</th>\n",
       "      <th>val_loss</th>\n",
       "      <th>val_accuracy</th>\n",
       "    </tr>\n",
       "  </thead>\n",
       "  <tbody>\n",
       "    <tr>\n",
       "      <th>0</th>\n",
       "      <td>10954.092773</td>\n",
       "      <td>0.003124</td>\n",
       "      <td>2501.547363</td>\n",
       "      <td>0.001619</td>\n",
       "    </tr>\n",
       "    <tr>\n",
       "      <th>1</th>\n",
       "      <td>3290.286621</td>\n",
       "      <td>0.005091</td>\n",
       "      <td>2295.958008</td>\n",
       "      <td>0.011606</td>\n",
       "    </tr>\n",
       "    <tr>\n",
       "      <th>2</th>\n",
       "      <td>2812.200684</td>\n",
       "      <td>0.007753</td>\n",
       "      <td>1676.058350</td>\n",
       "      <td>0.001619</td>\n",
       "    </tr>\n",
       "    <tr>\n",
       "      <th>3</th>\n",
       "      <td>2188.644043</td>\n",
       "      <td>0.006596</td>\n",
       "      <td>1245.469482</td>\n",
       "      <td>0.010796</td>\n",
       "    </tr>\n",
       "    <tr>\n",
       "      <th>4</th>\n",
       "      <td>1696.562012</td>\n",
       "      <td>0.008679</td>\n",
       "      <td>965.275208</td>\n",
       "      <td>0.010796</td>\n",
       "    </tr>\n",
       "    <tr>\n",
       "      <th>...</th>\n",
       "      <td>...</td>\n",
       "      <td>...</td>\n",
       "      <td>...</td>\n",
       "      <td>...</td>\n",
       "    </tr>\n",
       "    <tr>\n",
       "      <th>70</th>\n",
       "      <td>147.368744</td>\n",
       "      <td>0.014580</td>\n",
       "      <td>434.052429</td>\n",
       "      <td>0.012416</td>\n",
       "    </tr>\n",
       "    <tr>\n",
       "      <th>71</th>\n",
       "      <td>133.578400</td>\n",
       "      <td>0.013654</td>\n",
       "      <td>460.713867</td>\n",
       "      <td>0.012416</td>\n",
       "    </tr>\n",
       "    <tr>\n",
       "      <th>72</th>\n",
       "      <td>164.595184</td>\n",
       "      <td>0.014233</td>\n",
       "      <td>392.153778</td>\n",
       "      <td>0.012686</td>\n",
       "    </tr>\n",
       "    <tr>\n",
       "      <th>73</th>\n",
       "      <td>87.005989</td>\n",
       "      <td>0.014811</td>\n",
       "      <td>569.061890</td>\n",
       "      <td>0.012686</td>\n",
       "    </tr>\n",
       "    <tr>\n",
       "      <th>74</th>\n",
       "      <td>63.780056</td>\n",
       "      <td>0.014696</td>\n",
       "      <td>384.656189</td>\n",
       "      <td>0.012686</td>\n",
       "    </tr>\n",
       "  </tbody>\n",
       "</table>\n",
       "<p>75 rows × 4 columns</p>\n",
       "</div>"
      ],
      "text/plain": [
       "            loss  accuracy     val_loss  val_accuracy\n",
       "0   10954.092773  0.003124  2501.547363      0.001619\n",
       "1    3290.286621  0.005091  2295.958008      0.011606\n",
       "2    2812.200684  0.007753  1676.058350      0.001619\n",
       "3    2188.644043  0.006596  1245.469482      0.010796\n",
       "4    1696.562012  0.008679   965.275208      0.010796\n",
       "..           ...       ...          ...           ...\n",
       "70    147.368744  0.014580   434.052429      0.012416\n",
       "71    133.578400  0.013654   460.713867      0.012416\n",
       "72    164.595184  0.014233   392.153778      0.012686\n",
       "73     87.005989  0.014811   569.061890      0.012686\n",
       "74     63.780056  0.014696   384.656189      0.012686\n",
       "\n",
       "[75 rows x 4 columns]"
      ]
     },
     "execution_count": 169,
     "metadata": {},
     "output_type": "execute_result"
    }
   ],
   "source": [
    "losses = pd.DataFrame(model.history.history)\n",
    "losses"
   ]
  },
  {
   "cell_type": "code",
   "execution_count": 170,
   "metadata": {
    "scrolled": false
   },
   "outputs": [
    {
     "data": {
      "text/plain": [
       "Text(0.5, 0, 'epoch')"
      ]
     },
     "execution_count": 170,
     "metadata": {},
     "output_type": "execute_result"
    },
    {
     "data": {
      "image/png": "[encoded data removed]",
      "text/plain": [
       "<Figure size 864x576 with 1 Axes>"
      ]
     },
     "metadata": {
      "needs_background": "light"
     },
     "output_type": "display_data"
    }
   ],
   "source": [
    "losses.plot(figsize=(12,8))\n",
    "plt.title('model accuracy')\n",
    "plt.ylabel('accuracy')\n",
    "plt.xlabel('epoch')"
   ]
  },
  {
   "cell_type": "code",
   "execution_count": 171,
   "metadata": {},
   "outputs": [
    {
     "name": "stdout",
     "output_type": "stream",
     "text": [
      "Model: \"sequential_2\"\n",
      "_________________________________________________________________\n",
      "Layer (type)                 Output Shape              Param #   \n",
      "=================================================================\n",
      "dense_12 (Dense)             (None, 533)               284622    \n",
      "_________________________________________________________________\n",
      "dense_13 (Dense)             (None, 263)               140442    \n",
      "_________________________________________________________________\n",
      "dense_14 (Dense)             (None, 133)               35112     \n",
      "_________________________________________________________________\n",
      "dense_15 (Dense)             (None, 63)                8442      \n",
      "_________________________________________________________________\n",
      "dense_16 (Dense)             (None, 33)                2112      \n",
      "_________________________________________________________________\n",
      "dense_17 (Dense)             (None, 13)                442       \n",
      "_________________________________________________________________\n",
      "dense_18 (Dense)             (None, 7)                 98        \n",
      "_________________________________________________________________\n",
      "dense_19 (Dense)             (None, 1)                 8         \n",
      "=================================================================\n",
      "Total params: 471,278\n",
      "Trainable params: 471,278\n",
      "Non-trainable params: 0\n",
      "_________________________________________________________________\n"
     ]
    }
   ],
   "source": [
    "#tf.keras.metrics.mean_absolute_error(model.history.history)\n",
    "\n",
    "model.summary()"
   ]
  },
  {
   "cell_type": "code",
   "execution_count": 172,
   "metadata": {},
   "outputs": [
    {
     "data": {
      "text/plain": [
       "[92.78269958496094, 0.0143485302105546]"
      ]
     },
     "execution_count": 172,
     "metadata": {},
     "output_type": "execute_result"
    }
   ],
   "source": [
    "model.evaluate(X_train,y_train,verbose=0)"
   ]
  },
  {
   "cell_type": "code",
   "execution_count": 173,
   "metadata": {},
   "outputs": [
    {
     "data": {
      "text/plain": [
       "array([[464.20923 ],\n",
       "       [ 87.38925 ],\n",
       "       [482.6779  ],\n",
       "       ...,\n",
       "       [ 74.66811 ],\n",
       "       [ 58.702564],\n",
       "       [230.89624 ]], dtype=float32)"
      ]
     },
     "execution_count": 173,
     "metadata": {},
     "output_type": "execute_result"
    }
   ],
   "source": [
    "predictions = model.predict(X_test)\n",
    "predictions"
   ]
  },
  {
   "cell_type": "code",
   "execution_count": 174,
   "metadata": {},
   "outputs": [
    {
     "data": {
      "text/plain": [
       "array([149562.81 ,  20565.533, 163185.64 , ...,  21166.096,  22377.824,\n",
       "        36210.42 ], dtype=float32)"
      ]
     },
     "execution_count": 174,
     "metadata": {},
     "output_type": "execute_result"
    }
   ],
   "source": [
    "tf.keras.metrics.mean_squared_error(y_test,predictions).numpy()"
   ]
  },
  {
   "cell_type": "code",
   "execution_count": 175,
   "metadata": {},
   "outputs": [],
   "source": [
    "from sklearn.metrics import mean_squared_error,mean_absolute_error,explained_variance_score\n",
    "from sklearn.metrics import classification_report,confusion_matrix"
   ]
  },
  {
   "cell_type": "code",
   "execution_count": 176,
   "metadata": {},
   "outputs": [
    {
     "data": {
      "text/plain": [
       "19.612652583364646"
      ]
     },
     "execution_count": 176,
     "metadata": {},
     "output_type": "execute_result"
    }
   ],
   "source": [
    "mean_absolute_error(y_test,predictions)\n",
    "np.sqrt(mean_squared_error(y_test,predictions))"
   ]
  },
  {
   "cell_type": "code",
   "execution_count": 177,
   "metadata": {},
   "outputs": [
    {
     "data": {
      "text/plain": [
       "0.9814680487397648"
      ]
     },
     "execution_count": 177,
     "metadata": {},
     "output_type": "execute_result"
    }
   ],
   "source": [
    "explained_variance_score(y_test,predictions)"
   ]
  },
  {
   "cell_type": "code",
   "execution_count": 178,
   "metadata": {},
   "outputs": [],
   "source": [
    "#print(classification_report(y_test,predictions))"
   ]
  },
  {
   "cell_type": "code",
   "execution_count": 179,
   "metadata": {},
   "outputs": [],
   "source": [
    "#confusion_matrix(y_test,predictions)"
   ]
  },
  {
   "cell_type": "code",
   "execution_count": 180,
   "metadata": {},
   "outputs": [
    {
     "name": "stdout",
     "output_type": "stream",
     "text": [
      "<class 'pandas.core.frame.DataFrame'>\n",
      "Int64Index: 12349 entries, 0 to 14063\n",
      "Columns: 534 entries, API_WELLNO to Pool_WINNIPEGOSIS\n",
      "dtypes: float64(9), uint8(525)\n",
      "memory usage: 7.4 MB\n"
     ]
    }
   ],
   "source": [
    "df.info()"
   ]
  },
  {
   "cell_type": "code",
   "execution_count": 181,
   "metadata": {},
   "outputs": [
    {
     "data": {
      "text/plain": [
       "API_WELLNO                3.305304e+13\n",
       "Section                   3.600000e+01\n",
       "Range                     1.010000e+02\n",
       "Oil                       1.525000e+03\n",
       "Wtr                       1.335000e+03\n",
       "                              ...     \n",
       "Pool_TYLER A              0.000000e+00\n",
       "Pool_WEST RED RIVER       0.000000e+00\n",
       "Pool_WINNIPEG             0.000000e+00\n",
       "Pool_WINNIPEG/DEADWOOD    0.000000e+00\n",
       "Pool_WINNIPEGOSIS         0.000000e+00\n",
       "Name: 0, Length: 533, dtype: float64"
      ]
     },
     "execution_count": 181,
     "metadata": {},
     "output_type": "execute_result"
    }
   ],
   "source": [
    "new_OilRate = df.drop('OilRate',axis=1).iloc[0]\n",
    "new_OilRate"
   ]
  },
  {
   "cell_type": "code",
   "execution_count": 182,
   "metadata": {
    "scrolled": true
   },
   "outputs": [
    {
     "name": "stderr",
     "output_type": "stream",
     "text": [
      "/Users/tamerhousseinhag/opt/anaconda3/lib/python3.7/site-packages/tensorflow/python/keras/engine/sequential.py:450: UserWarning: `model.predict_classes()` is deprecated and will be removed after 2021-01-01. Please use instead:* `np.argmax(model.predict(x), axis=-1)`,   if your model does multi-class classification   (e.g. if it uses a `softmax` last-layer activation).* `(model.predict(x) > 0.5).astype(\"int32\")`,   if your model does binary classification   (e.g. if it uses a `sigmoid` last-layer activation).\n",
      "  warnings.warn('`model.predict_classes()` is deprecated and '\n"
     ]
    },
    {
     "data": {
      "text/plain": [
       "array([[1]], dtype=int32)"
      ]
     },
     "execution_count": 182,
     "metadata": {},
     "output_type": "execute_result"
    }
   ],
   "source": [
    "model.predict_classes(new_OilRate.values.reshape(1,533))"
   ]
  },
  {
   "cell_type": "code",
   "execution_count": 185,
   "metadata": {},
   "outputs": [
    {
     "data": {
      "text/plain": [
       "52.58620689655172"
      ]
     },
     "execution_count": 185,
     "metadata": {},
     "output_type": "execute_result"
    }
   ],
   "source": [
    "df.iloc[0]['OilRate']"
   ]
  },
  {
   "cell_type": "code",
   "execution_count": 186,
   "metadata": {},
   "outputs": [],
   "source": [
    "##############"
   ]
  },
  {
   "cell_type": "code",
   "execution_count": 187,
   "metadata": {},
   "outputs": [],
   "source": [
    "New_OilRate = df.drop('OilRate',axis=1).iloc[0]"
   ]
  },
  {
   "cell_type": "code",
   "execution_count": 188,
   "metadata": {},
   "outputs": [
    {
     "data": {
      "text/plain": [
       "array([[0.46964261, 1.        , 0.80645161, 0.04104427, 0.00659031,\n",
       "        0.93333333, 0.04565147, 0.00799934, 0.        , 0.        ,\n",
       "        0.        , 0.        , 0.        , 0.        , 0.        ,\n",
       "        0.        , 0.        , 0.        , 0.        , 0.        ,\n",
       "        0.        , 0.        , 0.        , 0.        , 0.        ,\n",
       "        0.        , 0.        , 0.        , 0.        , 0.        ,\n",
       "        0.        , 0.        , 0.        , 0.        , 0.        ,\n",
       "        0.        , 0.        , 0.        , 0.        , 0.        ,\n",
       "        0.        , 0.        , 0.        , 0.        , 0.        ,\n",
       "        0.        , 0.        , 0.        , 0.        , 0.        ,\n",
       "        0.        , 0.        , 0.        , 0.        , 0.        ,\n",
       "        0.        , 0.        , 0.        , 0.        , 0.        ,\n",
       "        0.        , 0.        , 0.        , 0.        , 0.        ,\n",
       "        0.        , 0.        , 0.        , 0.        , 0.        ,\n",
       "        0.        , 0.        , 0.        , 0.        , 0.        ,\n",
       "        0.        , 0.        , 0.        , 0.        , 0.        ,\n",
       "        0.        , 0.        , 0.        , 0.        , 0.        ,\n",
       "        0.        , 0.        , 0.        , 0.        , 0.        ,\n",
       "        0.        , 0.        , 0.        , 0.        , 0.        ,\n",
       "        0.        , 0.        , 0.        , 0.        , 0.        ,\n",
       "        0.        , 0.        , 0.        , 0.        , 0.        ,\n",
       "        0.        , 0.        , 0.        , 0.        , 0.        ,\n",
       "        0.        , 0.        , 0.        , 0.        , 0.        ,\n",
       "        0.        , 0.        , 0.        , 0.        , 0.        ,\n",
       "        0.        , 0.        , 0.        , 0.        , 0.        ,\n",
       "        0.        , 0.        , 0.        , 0.        , 0.        ,\n",
       "        0.        , 0.        , 0.        , 0.        , 0.        ,\n",
       "        0.        , 0.        , 0.        , 0.        , 0.        ,\n",
       "        0.        , 0.        , 0.        , 0.        , 0.        ,\n",
       "        0.        , 0.        , 0.        , 0.        , 0.        ,\n",
       "        0.        , 0.        , 0.        , 0.        , 0.        ,\n",
       "        0.        , 0.        , 0.        , 0.        , 0.        ,\n",
       "        0.        , 0.        , 0.        , 0.        , 0.        ,\n",
       "        0.        , 0.        , 0.        , 0.        , 0.        ,\n",
       "        0.        , 0.        , 0.        , 0.        , 0.        ,\n",
       "        0.        , 0.        , 0.        , 0.        , 0.        ,\n",
       "        0.        , 0.        , 0.        , 0.        , 0.        ,\n",
       "        0.        , 0.        , 0.        , 0.        , 0.        ,\n",
       "        0.        , 0.        , 0.        , 0.        , 0.        ,\n",
       "        0.        , 0.        , 0.        , 0.        , 0.        ,\n",
       "        0.        , 0.        , 0.        , 0.        , 0.        ,\n",
       "        0.        , 0.        , 0.        , 0.        , 0.        ,\n",
       "        0.        , 0.        , 0.        , 0.        , 0.        ,\n",
       "        0.        , 0.        , 0.        , 0.        , 0.        ,\n",
       "        0.        , 0.        , 0.        , 0.        , 0.        ,\n",
       "        0.        , 0.        , 0.        , 0.        , 0.        ,\n",
       "        0.        , 0.        , 0.        , 0.        , 0.        ,\n",
       "        0.        , 0.        , 0.        , 0.        , 0.        ,\n",
       "        0.        , 0.        , 0.        , 0.        , 0.        ,\n",
       "        0.        , 0.        , 0.        , 0.        , 0.        ,\n",
       "        0.        , 0.        , 0.        , 0.        , 0.        ,\n",
       "        0.        , 0.        , 0.        , 0.        , 0.        ,\n",
       "        0.        , 0.        , 0.        , 0.        , 0.        ,\n",
       "        0.        , 0.        , 0.        , 0.        , 0.        ,\n",
       "        0.        , 0.        , 0.        , 0.        , 0.        ,\n",
       "        0.        , 0.        , 0.        , 0.        , 0.        ,\n",
       "        0.        , 0.        , 0.        , 0.        , 0.        ,\n",
       "        0.        , 0.        , 0.        , 0.        , 0.        ,\n",
       "        0.        , 0.        , 0.        , 0.        , 0.        ,\n",
       "        0.        , 0.        , 0.        , 0.        , 0.        ,\n",
       "        0.        , 0.        , 0.        , 0.        , 0.        ,\n",
       "        0.        , 0.        , 0.        , 0.        , 0.        ,\n",
       "        0.        , 0.        , 0.        , 0.        , 0.        ,\n",
       "        0.        , 0.        , 0.        , 0.        , 0.        ,\n",
       "        0.        , 0.        , 0.        , 0.        , 0.        ,\n",
       "        0.        , 0.        , 0.        , 0.        , 0.        ,\n",
       "        0.        , 0.        , 0.        , 0.        , 0.        ,\n",
       "        0.        , 0.        , 0.        , 0.        , 0.        ,\n",
       "        0.        , 0.        , 0.        , 0.        , 0.        ,\n",
       "        0.        , 0.        , 0.        , 0.        , 0.        ,\n",
       "        0.        , 0.        , 0.        , 0.        , 0.        ,\n",
       "        0.        , 0.        , 0.        , 0.        , 0.        ,\n",
       "        0.        , 0.        , 0.        , 0.        , 0.        ,\n",
       "        0.        , 0.        , 0.        , 0.        , 0.        ,\n",
       "        0.        , 0.        , 0.        , 0.        , 0.        ,\n",
       "        0.        , 0.        , 0.        , 0.        , 0.        ,\n",
       "        0.        , 0.        , 0.        , 0.        , 0.        ,\n",
       "        0.        , 0.        , 0.        , 0.        , 0.        ,\n",
       "        0.        , 0.        , 0.        , 0.        , 0.        ,\n",
       "        0.        , 0.        , 0.        , 0.        , 0.        ,\n",
       "        0.        , 0.        , 0.        , 0.        , 0.        ,\n",
       "        0.        , 0.        , 0.        , 0.        , 0.        ,\n",
       "        0.        , 0.        , 0.        , 0.        , 0.        ,\n",
       "        0.        , 0.        , 0.        , 0.        , 0.        ,\n",
       "        0.        , 0.        , 0.        , 0.        , 0.        ,\n",
       "        0.        , 0.        , 0.        , 0.        , 0.        ,\n",
       "        0.        , 0.        , 0.        , 0.        , 0.        ,\n",
       "        0.        , 0.        , 0.        , 0.        , 0.        ,\n",
       "        0.        , 0.        , 0.        , 0.        , 0.        ,\n",
       "        0.        , 0.        , 0.        , 0.        , 0.        ,\n",
       "        0.        , 0.        , 0.        , 0.        , 0.        ,\n",
       "        0.        , 0.        , 0.        , 0.        , 0.        ,\n",
       "        0.        , 0.        , 0.        , 0.        , 0.        ,\n",
       "        0.        , 0.        , 0.        , 0.        , 0.        ,\n",
       "        0.        , 0.        , 0.        , 0.        , 0.        ,\n",
       "        0.        , 0.        , 0.        , 0.        , 0.        ,\n",
       "        0.        , 0.        , 0.        , 0.        , 0.        ,\n",
       "        0.        , 0.        , 0.        , 0.        , 0.        ,\n",
       "        0.        , 0.        , 0.        , 0.        , 0.        ,\n",
       "        0.        , 0.        , 0.        , 0.        , 0.        ,\n",
       "        0.        , 0.        , 0.        , 0.        , 0.        ,\n",
       "        0.        , 0.        , 0.        , 0.        , 0.        ,\n",
       "        0.        , 0.        , 0.        , 0.        , 0.        ,\n",
       "        0.        , 0.        , 0.        , 0.        , 0.        ,\n",
       "        0.        , 0.        , 0.        , 0.        , 0.        ,\n",
       "        0.        , 0.        , 0.        , 0.        , 0.        ,\n",
       "        0.        , 0.        , 0.        ]])"
      ]
     },
     "execution_count": 188,
     "metadata": {},
     "output_type": "execute_result"
    }
   ],
   "source": [
    "New_OilRate = scaler.transform(New_OilRate.values.reshape(-1, 533))\n",
    "New_OilRate"
   ]
  },
  {
   "cell_type": "code",
   "execution_count": 189,
   "metadata": {},
   "outputs": [
    {
     "data": {
      "text/plain": [
       "array([[59.052845]], dtype=float32)"
      ]
     },
     "execution_count": 189,
     "metadata": {},
     "output_type": "execute_result"
    }
   ],
   "source": [
    "model.predict(New_OilRate)"
   ]
  },
  {
   "cell_type": "code",
   "execution_count": 190,
   "metadata": {},
   "outputs": [
    {
     "data": {
      "text/plain": [
       "API_WELLNO                3.305304e+13\n",
       "Section                   3.600000e+01\n",
       "Range                     1.010000e+02\n",
       "Oil                       1.525000e+03\n",
       "Wtr                       1.335000e+03\n",
       "                              ...     \n",
       "Pool_TYLER A              0.000000e+00\n",
       "Pool_WEST RED RIVER       0.000000e+00\n",
       "Pool_WINNIPEG             0.000000e+00\n",
       "Pool_WINNIPEG/DEADWOOD    0.000000e+00\n",
       "Pool_WINNIPEGOSIS         0.000000e+00\n",
       "Name: 0, Length: 534, dtype: float64"
      ]
     },
     "execution_count": 190,
     "metadata": {},
     "output_type": "execute_result"
    }
   ],
   "source": [
    "df.iloc[0]"
   ]
  },
  {
   "cell_type": "code",
   "execution_count": null,
   "metadata": {},
   "outputs": [],
   "source": []
  }
 ],
 "metadata": {
  "kernelspec": {
   "display_name": "Python 3",
   "language": "python",
   "name": "python3"
  },
  "language_info": {
   "codemirror_mode": {
    "name": "ipython",
    "version": 3
   },
   "file_extension": ".py",
   "mimetype": "text/x-python",
   "name": "python",
   "nbconvert_exporter": "python",
   "pygments_lexer": "ipython3",
   "version": "3.8.5"
  }
 },
 "nbformat": 4,
 "nbformat_minor": 4
}

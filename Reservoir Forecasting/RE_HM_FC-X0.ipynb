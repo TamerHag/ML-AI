{
 "cells": [
  {
   "cell_type": "code",
   "execution_count": 13,
   "metadata": {},
   "outputs": [],
   "source": [
    "import pandas as pd\n",
    "import numpy as np"
   ]
  },
  {
   "cell_type": "code",
   "execution_count": 14,
   "metadata": {},
   "outputs": [],
   "source": [
    "import seaborn as sns  \n",
    "import matplotlib.pyplot as plt\n",
    "\n",
    "# might be needed depending on your version of Jupyter\n",
    "%matplotlib inline"
   ]
  },
  {
   "cell_type": "code",
   "execution_count": 15,
   "metadata": {},
   "outputs": [],
   "source": [
    "df = pd.read_csv('../MLOG/Pandey_Ch06_Reservoir_Engineering_Code/data/2015_05.csv')"
   ]
  },
  {
   "cell_type": "code",
   "execution_count": 16,
   "metadata": {},
   "outputs": [
    {
     "name": "stdout",
     "output_type": "stream",
     "text": [
      "<class 'pandas.core.frame.DataFrame'>\n",
      "RangeIndex: 14065 entries, 0 to 14064\n",
      "Data columns (total 21 columns):\n",
      " #   Column      Non-Null Count  Dtype  \n",
      "---  ------      --------------  -----  \n",
      " 0   ReportDate  14065 non-null  object \n",
      " 1   API_WELLNO  14065 non-null  float64\n",
      " 2   FileNo      14065 non-null  float64\n",
      " 3   Company     14065 non-null  object \n",
      " 4   WellName    14065 non-null  object \n",
      " 5   Quarter     14065 non-null  object \n",
      " 6   Section     14065 non-null  float64\n",
      " 7   Township    14065 non-null  float64\n",
      " 8   Range       14065 non-null  float64\n",
      " 9   County      14065 non-null  object \n",
      " 10  FieldName   14065 non-null  object \n",
      " 11  Pool        14065 non-null  object \n",
      " 12  Oil         13887 non-null  float64\n",
      " 13  Wtr         13887 non-null  float64\n",
      " 14  Days        13887 non-null  float64\n",
      " 15  Runs        14065 non-null  float64\n",
      " 16  Gas         13887 non-null  float64\n",
      " 17  GasSold     14065 non-null  float64\n",
      " 18  Flared      13887 non-null  float64\n",
      " 19  Lat         14065 non-null  float64\n",
      " 20  Long        14065 non-null  float64\n",
      "dtypes: float64(14), object(7)\n",
      "memory usage: 2.3+ MB\n"
     ]
    }
   ],
   "source": [
    "df.info()"
   ]
  },
  {
   "cell_type": "code",
   "execution_count": 17,
   "metadata": {},
   "outputs": [
    {
     "data": {
      "text/plain": [
       "ReportDate      0\n",
       "API_WELLNO      0\n",
       "FileNo          0\n",
       "Company         0\n",
       "WellName        0\n",
       "Quarter         0\n",
       "Section         0\n",
       "Township        0\n",
       "Range           0\n",
       "County          0\n",
       "FieldName       0\n",
       "Pool            0\n",
       "Oil           178\n",
       "Wtr           178\n",
       "Days          178\n",
       "Runs            0\n",
       "Gas           178\n",
       "GasSold         0\n",
       "Flared        178\n",
       "Lat             0\n",
       "Long            0\n",
       "dtype: int64"
      ]
     },
     "execution_count": 17,
     "metadata": {},
     "output_type": "execute_result"
    }
   ],
   "source": [
    "df.isnull().sum()"
   ]
  },
  {
   "cell_type": "code",
   "execution_count": 18,
   "metadata": {
    "scrolled": true
   },
   "outputs": [
    {
     "data": {
      "text/html": [
       "<div>\n",
       "<style scoped>\n",
       "    .dataframe tbody tr th:only-of-type {\n",
       "        vertical-align: middle;\n",
       "    }\n",
       "\n",
       "    .dataframe tbody tr th {\n",
       "        vertical-align: top;\n",
       "    }\n",
       "\n",
       "    .dataframe thead th {\n",
       "        text-align: right;\n",
       "    }\n",
       "</style>\n",
       "<table border=\"1\" class=\"dataframe\">\n",
       "  <thead>\n",
       "    <tr style=\"text-align: right;\">\n",
       "      <th></th>\n",
       "      <th>ReportDate</th>\n",
       "      <th>API_WELLNO</th>\n",
       "      <th>FileNo</th>\n",
       "      <th>Company</th>\n",
       "      <th>WellName</th>\n",
       "      <th>Quarter</th>\n",
       "      <th>Section</th>\n",
       "      <th>Township</th>\n",
       "      <th>Range</th>\n",
       "      <th>County</th>\n",
       "      <th>...</th>\n",
       "      <th>Pool</th>\n",
       "      <th>Oil</th>\n",
       "      <th>Wtr</th>\n",
       "      <th>Days</th>\n",
       "      <th>Runs</th>\n",
       "      <th>Gas</th>\n",
       "      <th>GasSold</th>\n",
       "      <th>Flared</th>\n",
       "      <th>Lat</th>\n",
       "      <th>Long</th>\n",
       "    </tr>\n",
       "  </thead>\n",
       "  <tbody>\n",
       "    <tr>\n",
       "      <th>0</th>\n",
       "      <td>05/2015</td>\n",
       "      <td>3.305304e+13</td>\n",
       "      <td>23615.0</td>\n",
       "      <td>MUREX PETROLEUM CORPORATION</td>\n",
       "      <td>AMBER ELIZABETH  36-25H</td>\n",
       "      <td>SESW</td>\n",
       "      <td>36.0</td>\n",
       "      <td>151.0</td>\n",
       "      <td>101.0</td>\n",
       "      <td>MCK</td>\n",
       "      <td>...</td>\n",
       "      <td>BAKKEN</td>\n",
       "      <td>1525.0</td>\n",
       "      <td>1335.0</td>\n",
       "      <td>29.0</td>\n",
       "      <td>1686.0</td>\n",
       "      <td>1739.0</td>\n",
       "      <td>1519.0</td>\n",
       "      <td>0.0</td>\n",
       "      <td>47.849140</td>\n",
       "      <td>-103.553342</td>\n",
       "    </tr>\n",
       "    <tr>\n",
       "      <th>1</th>\n",
       "      <td>05/2015</td>\n",
       "      <td>3.305304e+13</td>\n",
       "      <td>22021.0</td>\n",
       "      <td>STATOIL OIL &amp; GAS LP</td>\n",
       "      <td>BILL  14-23 2TFH</td>\n",
       "      <td>SWSW</td>\n",
       "      <td>11.0</td>\n",
       "      <td>151.0</td>\n",
       "      <td>101.0</td>\n",
       "      <td>MCK</td>\n",
       "      <td>...</td>\n",
       "      <td>BAKKEN</td>\n",
       "      <td>1410.0</td>\n",
       "      <td>5805.0</td>\n",
       "      <td>31.0</td>\n",
       "      <td>1370.0</td>\n",
       "      <td>1721.0</td>\n",
       "      <td>1720.0</td>\n",
       "      <td>1.0</td>\n",
       "      <td>47.907426</td>\n",
       "      <td>-103.579904</td>\n",
       "    </tr>\n",
       "    <tr>\n",
       "      <th>2</th>\n",
       "      <td>05/2015</td>\n",
       "      <td>3.305305e+13</td>\n",
       "      <td>25091.0</td>\n",
       "      <td>STATOIL OIL &amp; GAS LP</td>\n",
       "      <td>BILL  14-23 3H</td>\n",
       "      <td>NWNE</td>\n",
       "      <td>14.0</td>\n",
       "      <td>151.0</td>\n",
       "      <td>101.0</td>\n",
       "      <td>MCK</td>\n",
       "      <td>...</td>\n",
       "      <td>BAKKEN</td>\n",
       "      <td>5035.0</td>\n",
       "      <td>12773.0</td>\n",
       "      <td>28.0</td>\n",
       "      <td>5087.0</td>\n",
       "      <td>3754.0</td>\n",
       "      <td>3249.0</td>\n",
       "      <td>505.0</td>\n",
       "      <td>47.904553</td>\n",
       "      <td>-103.569154</td>\n",
       "    </tr>\n",
       "    <tr>\n",
       "      <th>3</th>\n",
       "      <td>05/2015</td>\n",
       "      <td>3.305305e+13</td>\n",
       "      <td>25645.0</td>\n",
       "      <td>STATOIL OIL &amp; GAS LP</td>\n",
       "      <td>BILL  14-23 4TFH</td>\n",
       "      <td>NWNE</td>\n",
       "      <td>14.0</td>\n",
       "      <td>151.0</td>\n",
       "      <td>101.0</td>\n",
       "      <td>MCK</td>\n",
       "      <td>...</td>\n",
       "      <td>BAKKEN</td>\n",
       "      <td>2419.0</td>\n",
       "      <td>17671.0</td>\n",
       "      <td>31.0</td>\n",
       "      <td>2287.0</td>\n",
       "      <td>232.0</td>\n",
       "      <td>201.0</td>\n",
       "      <td>31.0</td>\n",
       "      <td>47.904553</td>\n",
       "      <td>-103.569032</td>\n",
       "    </tr>\n",
       "    <tr>\n",
       "      <th>4</th>\n",
       "      <td>05/2015</td>\n",
       "      <td>3.305305e+13</td>\n",
       "      <td>25092.0</td>\n",
       "      <td>STATOIL OIL &amp; GAS LP</td>\n",
       "      <td>BILL  14-23 5TFH</td>\n",
       "      <td>NWNE</td>\n",
       "      <td>14.0</td>\n",
       "      <td>151.0</td>\n",
       "      <td>101.0</td>\n",
       "      <td>MCK</td>\n",
       "      <td>...</td>\n",
       "      <td>BAKKEN</td>\n",
       "      <td>771.0</td>\n",
       "      <td>17718.0</td>\n",
       "      <td>31.0</td>\n",
       "      <td>729.0</td>\n",
       "      <td>53.0</td>\n",
       "      <td>46.0</td>\n",
       "      <td>7.0</td>\n",
       "      <td>47.904553</td>\n",
       "      <td>-103.569276</td>\n",
       "    </tr>\n",
       "  </tbody>\n",
       "</table>\n",
       "<p>5 rows × 21 columns</p>\n",
       "</div>"
      ],
      "text/plain": [
       "  ReportDate    API_WELLNO   FileNo                      Company  \\\n",
       "0    05/2015  3.305304e+13  23615.0  MUREX PETROLEUM CORPORATION   \n",
       "1    05/2015  3.305304e+13  22021.0         STATOIL OIL & GAS LP   \n",
       "2    05/2015  3.305305e+13  25091.0         STATOIL OIL & GAS LP   \n",
       "3    05/2015  3.305305e+13  25645.0         STATOIL OIL & GAS LP   \n",
       "4    05/2015  3.305305e+13  25092.0         STATOIL OIL & GAS LP   \n",
       "\n",
       "                  WellName Quarter  Section  Township  Range County  ...  \\\n",
       "0  AMBER ELIZABETH  36-25H    SESW     36.0     151.0  101.0    MCK  ...   \n",
       "1         BILL  14-23 2TFH    SWSW     11.0     151.0  101.0    MCK  ...   \n",
       "2           BILL  14-23 3H    NWNE     14.0     151.0  101.0    MCK  ...   \n",
       "3         BILL  14-23 4TFH    NWNE     14.0     151.0  101.0    MCK  ...   \n",
       "4         BILL  14-23 5TFH    NWNE     14.0     151.0  101.0    MCK  ...   \n",
       "\n",
       "     Pool     Oil      Wtr  Days    Runs     Gas  GasSold  Flared        Lat  \\\n",
       "0  BAKKEN  1525.0   1335.0  29.0  1686.0  1739.0   1519.0     0.0  47.849140   \n",
       "1  BAKKEN  1410.0   5805.0  31.0  1370.0  1721.0   1720.0     1.0  47.907426   \n",
       "2  BAKKEN  5035.0  12773.0  28.0  5087.0  3754.0   3249.0   505.0  47.904553   \n",
       "3  BAKKEN  2419.0  17671.0  31.0  2287.0   232.0    201.0    31.0  47.904553   \n",
       "4  BAKKEN   771.0  17718.0  31.0   729.0    53.0     46.0     7.0  47.904553   \n",
       "\n",
       "         Long  \n",
       "0 -103.553342  \n",
       "1 -103.579904  \n",
       "2 -103.569154  \n",
       "3 -103.569032  \n",
       "4 -103.569276  \n",
       "\n",
       "[5 rows x 21 columns]"
      ]
     },
     "execution_count": 18,
     "metadata": {},
     "output_type": "execute_result"
    }
   ],
   "source": [
    "df.head()"
   ]
  },
  {
   "cell_type": "code",
   "execution_count": 19,
   "metadata": {
    "scrolled": true
   },
   "outputs": [
    {
     "data": {
      "text/plain": [
       "0         52.586207\n",
       "1         45.483871\n",
       "2        179.821429\n",
       "3         78.032258\n",
       "4         24.870968\n",
       "            ...    \n",
       "14060           NaN\n",
       "14061           NaN\n",
       "14062      0.870968\n",
       "14063      0.741935\n",
       "14064           NaN\n",
       "Name: OilRate, Length: 14065, dtype: float64"
      ]
     },
     "execution_count": 19,
     "metadata": {},
     "output_type": "execute_result"
    }
   ],
   "source": [
    "df['OilRate'] = df['Oil'] / df['Days']\n",
    "df['OilRate']"
   ]
  },
  {
   "cell_type": "code",
   "execution_count": 20,
   "metadata": {},
   "outputs": [
    {
     "data": {
      "text/plain": [
       "ReportDate       0\n",
       "API_WELLNO       0\n",
       "FileNo           0\n",
       "Company          0\n",
       "WellName         0\n",
       "Quarter          0\n",
       "Section          0\n",
       "Township         0\n",
       "Range            0\n",
       "County           0\n",
       "FieldName        0\n",
       "Pool             0\n",
       "Oil            178\n",
       "Wtr            178\n",
       "Days           178\n",
       "Runs             0\n",
       "Gas            178\n",
       "GasSold          0\n",
       "Flared         178\n",
       "Lat              0\n",
       "Long             0\n",
       "OilRate       1716\n",
       "dtype: int64"
      ]
     },
     "execution_count": 20,
     "metadata": {},
     "output_type": "execute_result"
    }
   ],
   "source": [
    "df.isnull().sum()"
   ]
  },
  {
   "cell_type": "code",
   "execution_count": 21,
   "metadata": {},
   "outputs": [],
   "source": [
    "df = df.drop('Long',axis=1)"
   ]
  },
  {
   "cell_type": "code",
   "execution_count": 22,
   "metadata": {},
   "outputs": [],
   "source": [
    "df = df.drop('Lat',axis=1)"
   ]
  },
  {
   "cell_type": "code",
   "execution_count": 23,
   "metadata": {},
   "outputs": [],
   "source": [
    "df = df.drop('Township',axis=1)"
   ]
  },
  {
   "cell_type": "code",
   "execution_count": 24,
   "metadata": {},
   "outputs": [],
   "source": [
    "df = df.drop('Quarter',axis=1)"
   ]
  },
  {
   "cell_type": "code",
   "execution_count": 25,
   "metadata": {},
   "outputs": [],
   "source": [
    "df = df.drop('County',axis=1)"
   ]
  },
  {
   "cell_type": "code",
   "execution_count": 26,
   "metadata": {},
   "outputs": [],
   "source": [
    "df = df.drop('GasSold',axis=1)"
   ]
  },
  {
   "cell_type": "code",
   "execution_count": 27,
   "metadata": {},
   "outputs": [],
   "source": [
    "df = df.drop('Flared',axis=1)"
   ]
  },
  {
   "cell_type": "code",
   "execution_count": 28,
   "metadata": {},
   "outputs": [],
   "source": [
    "df = df.drop('FileNo',axis=1)"
   ]
  },
  {
   "cell_type": "code",
   "execution_count": 29,
   "metadata": {},
   "outputs": [],
   "source": [
    "df = df.dropna()"
   ]
  },
  {
   "cell_type": "code",
   "execution_count": 30,
   "metadata": {},
   "outputs": [],
   "source": [
    "df = df.drop('ReportDate',axis=1)"
   ]
  },
  {
   "cell_type": "code",
   "execution_count": 31,
   "metadata": {},
   "outputs": [],
   "source": [
    "df = df.drop('Company',axis=1)"
   ]
  },
  {
   "cell_type": "code",
   "execution_count": 32,
   "metadata": {},
   "outputs": [],
   "source": [
    "df = df.drop('FieldName',axis=1)"
   ]
  },
  {
   "cell_type": "code",
   "execution_count": 33,
   "metadata": {},
   "outputs": [],
   "source": [
    "df = df.drop('WellName',axis=1)"
   ]
  },
  {
   "cell_type": "code",
   "execution_count": 34,
   "metadata": {},
   "outputs": [],
   "source": [
    "df = df.drop('Pool',axis=1)"
   ]
  },
  {
   "cell_type": "code",
   "execution_count": 35,
   "metadata": {},
   "outputs": [
    {
     "data": {
      "text/plain": [
       "API_WELLNO    0\n",
       "Section       0\n",
       "Range         0\n",
       "Oil           0\n",
       "Wtr           0\n",
       "Days          0\n",
       "Runs          0\n",
       "Gas           0\n",
       "OilRate       0\n",
       "dtype: int64"
      ]
     },
     "execution_count": 35,
     "metadata": {},
     "output_type": "execute_result"
    }
   ],
   "source": [
    "df.isnull().sum()"
   ]
  },
  {
   "cell_type": "code",
   "execution_count": 36,
   "metadata": {},
   "outputs": [
    {
     "name": "stdout",
     "output_type": "stream",
     "text": [
      "<class 'pandas.core.frame.DataFrame'>\n",
      "Int64Index: 12349 entries, 0 to 14063\n",
      "Data columns (total 9 columns):\n",
      " #   Column      Non-Null Count  Dtype  \n",
      "---  ------      --------------  -----  \n",
      " 0   API_WELLNO  12349 non-null  float64\n",
      " 1   Section     12349 non-null  float64\n",
      " 2   Range       12349 non-null  float64\n",
      " 3   Oil         12349 non-null  float64\n",
      " 4   Wtr         12349 non-null  float64\n",
      " 5   Days        12349 non-null  float64\n",
      " 6   Runs        12349 non-null  float64\n",
      " 7   Gas         12349 non-null  float64\n",
      " 8   OilRate     12349 non-null  float64\n",
      "dtypes: float64(9)\n",
      "memory usage: 964.8 KB\n"
     ]
    }
   ],
   "source": [
    "df.info()"
   ]
  },
  {
   "cell_type": "code",
   "execution_count": 37,
   "metadata": {
    "scrolled": true
   },
   "outputs": [],
   "source": [
    "#pd.set_option('display.max_rows',None)"
   ]
  },
  {
   "cell_type": "code",
   "execution_count": 38,
   "metadata": {},
   "outputs": [
    {
     "data": {
      "text/html": [
       "<div>\n",
       "<style scoped>\n",
       "    .dataframe tbody tr th:only-of-type {\n",
       "        vertical-align: middle;\n",
       "    }\n",
       "\n",
       "    .dataframe tbody tr th {\n",
       "        vertical-align: top;\n",
       "    }\n",
       "\n",
       "    .dataframe thead th {\n",
       "        text-align: right;\n",
       "    }\n",
       "</style>\n",
       "<table border=\"1\" class=\"dataframe\">\n",
       "  <thead>\n",
       "    <tr style=\"text-align: right;\">\n",
       "      <th></th>\n",
       "      <th>API_WELLNO</th>\n",
       "      <th>Section</th>\n",
       "      <th>Range</th>\n",
       "      <th>Oil</th>\n",
       "      <th>Wtr</th>\n",
       "      <th>Days</th>\n",
       "      <th>Runs</th>\n",
       "      <th>Gas</th>\n",
       "      <th>OilRate</th>\n",
       "    </tr>\n",
       "  </thead>\n",
       "  <tbody>\n",
       "    <tr>\n",
       "      <th>0</th>\n",
       "      <td>3.305304e+13</td>\n",
       "      <td>36.0</td>\n",
       "      <td>101.0</td>\n",
       "      <td>1525.0</td>\n",
       "      <td>1335.0</td>\n",
       "      <td>29.0</td>\n",
       "      <td>1686.0</td>\n",
       "      <td>1739.0</td>\n",
       "      <td>52.586207</td>\n",
       "    </tr>\n",
       "    <tr>\n",
       "      <th>1</th>\n",
       "      <td>3.305304e+13</td>\n",
       "      <td>11.0</td>\n",
       "      <td>101.0</td>\n",
       "      <td>1410.0</td>\n",
       "      <td>5805.0</td>\n",
       "      <td>31.0</td>\n",
       "      <td>1370.0</td>\n",
       "      <td>1721.0</td>\n",
       "      <td>45.483871</td>\n",
       "    </tr>\n",
       "    <tr>\n",
       "      <th>2</th>\n",
       "      <td>3.305305e+13</td>\n",
       "      <td>14.0</td>\n",
       "      <td>101.0</td>\n",
       "      <td>5035.0</td>\n",
       "      <td>12773.0</td>\n",
       "      <td>28.0</td>\n",
       "      <td>5087.0</td>\n",
       "      <td>3754.0</td>\n",
       "      <td>179.821429</td>\n",
       "    </tr>\n",
       "    <tr>\n",
       "      <th>3</th>\n",
       "      <td>3.305305e+13</td>\n",
       "      <td>14.0</td>\n",
       "      <td>101.0</td>\n",
       "      <td>2419.0</td>\n",
       "      <td>17671.0</td>\n",
       "      <td>31.0</td>\n",
       "      <td>2287.0</td>\n",
       "      <td>232.0</td>\n",
       "      <td>78.032258</td>\n",
       "    </tr>\n",
       "    <tr>\n",
       "      <th>4</th>\n",
       "      <td>3.305305e+13</td>\n",
       "      <td>14.0</td>\n",
       "      <td>101.0</td>\n",
       "      <td>771.0</td>\n",
       "      <td>17718.0</td>\n",
       "      <td>31.0</td>\n",
       "      <td>729.0</td>\n",
       "      <td>53.0</td>\n",
       "      <td>24.870968</td>\n",
       "    </tr>\n",
       "    <tr>\n",
       "      <th>...</th>\n",
       "      <td>...</td>\n",
       "      <td>...</td>\n",
       "      <td>...</td>\n",
       "      <td>...</td>\n",
       "      <td>...</td>\n",
       "      <td>...</td>\n",
       "      <td>...</td>\n",
       "      <td>...</td>\n",
       "      <td>...</td>\n",
       "    </tr>\n",
       "    <tr>\n",
       "      <th>14052</th>\n",
       "      <td>3.308901e+13</td>\n",
       "      <td>12.0</td>\n",
       "      <td>99.0</td>\n",
       "      <td>3582.0</td>\n",
       "      <td>1495.0</td>\n",
       "      <td>31.0</td>\n",
       "      <td>3589.0</td>\n",
       "      <td>3840.0</td>\n",
       "      <td>115.548387</td>\n",
       "    </tr>\n",
       "    <tr>\n",
       "      <th>14053</th>\n",
       "      <td>3.308901e+13</td>\n",
       "      <td>26.0</td>\n",
       "      <td>99.0</td>\n",
       "      <td>331.0</td>\n",
       "      <td>603.0</td>\n",
       "      <td>31.0</td>\n",
       "      <td>271.0</td>\n",
       "      <td>390.0</td>\n",
       "      <td>10.677419</td>\n",
       "    </tr>\n",
       "    <tr>\n",
       "      <th>14059</th>\n",
       "      <td>3.308900e+13</td>\n",
       "      <td>34.0</td>\n",
       "      <td>99.0</td>\n",
       "      <td>2550.0</td>\n",
       "      <td>2244.0</td>\n",
       "      <td>31.0</td>\n",
       "      <td>2463.0</td>\n",
       "      <td>31.0</td>\n",
       "      <td>82.258065</td>\n",
       "    </tr>\n",
       "    <tr>\n",
       "      <th>14062</th>\n",
       "      <td>3.300901e+13</td>\n",
       "      <td>26.0</td>\n",
       "      <td>79.0</td>\n",
       "      <td>27.0</td>\n",
       "      <td>146.0</td>\n",
       "      <td>31.0</td>\n",
       "      <td>0.0</td>\n",
       "      <td>0.0</td>\n",
       "      <td>0.870968</td>\n",
       "    </tr>\n",
       "    <tr>\n",
       "      <th>14063</th>\n",
       "      <td>3.300901e+13</td>\n",
       "      <td>23.0</td>\n",
       "      <td>79.0</td>\n",
       "      <td>23.0</td>\n",
       "      <td>351.0</td>\n",
       "      <td>31.0</td>\n",
       "      <td>0.0</td>\n",
       "      <td>0.0</td>\n",
       "      <td>0.741935</td>\n",
       "    </tr>\n",
       "  </tbody>\n",
       "</table>\n",
       "<p>12349 rows × 9 columns</p>\n",
       "</div>"
      ],
      "text/plain": [
       "         API_WELLNO  Section  Range     Oil      Wtr  Days    Runs     Gas  \\\n",
       "0      3.305304e+13     36.0  101.0  1525.0   1335.0  29.0  1686.0  1739.0   \n",
       "1      3.305304e+13     11.0  101.0  1410.0   5805.0  31.0  1370.0  1721.0   \n",
       "2      3.305305e+13     14.0  101.0  5035.0  12773.0  28.0  5087.0  3754.0   \n",
       "3      3.305305e+13     14.0  101.0  2419.0  17671.0  31.0  2287.0   232.0   \n",
       "4      3.305305e+13     14.0  101.0   771.0  17718.0  31.0   729.0    53.0   \n",
       "...             ...      ...    ...     ...      ...   ...     ...     ...   \n",
       "14052  3.308901e+13     12.0   99.0  3582.0   1495.0  31.0  3589.0  3840.0   \n",
       "14053  3.308901e+13     26.0   99.0   331.0    603.0  31.0   271.0   390.0   \n",
       "14059  3.308900e+13     34.0   99.0  2550.0   2244.0  31.0  2463.0    31.0   \n",
       "14062  3.300901e+13     26.0   79.0    27.0    146.0  31.0     0.0     0.0   \n",
       "14063  3.300901e+13     23.0   79.0    23.0    351.0  31.0     0.0     0.0   \n",
       "\n",
       "          OilRate  \n",
       "0       52.586207  \n",
       "1       45.483871  \n",
       "2      179.821429  \n",
       "3       78.032258  \n",
       "4       24.870968  \n",
       "...           ...  \n",
       "14052  115.548387  \n",
       "14053   10.677419  \n",
       "14059   82.258065  \n",
       "14062    0.870968  \n",
       "14063    0.741935  \n",
       "\n",
       "[12349 rows x 9 columns]"
      ]
     },
     "execution_count": 38,
     "metadata": {},
     "output_type": "execute_result"
    }
   ],
   "source": [
    "df"
   ]
  },
  {
   "cell_type": "code",
   "execution_count": 39,
   "metadata": {},
   "outputs": [],
   "source": [
    "#df.drop(df.index[6171],inplace=True)"
   ]
  },
  {
   "cell_type": "code",
   "execution_count": 40,
   "metadata": {},
   "outputs": [],
   "source": [
    "#df.drop(df.index[7405],inplace=True)"
   ]
  },
  {
   "cell_type": "code",
   "execution_count": 41,
   "metadata": {},
   "outputs": [],
   "source": [
    "dfx=df.drop([6171, 7405])"
   ]
  },
  {
   "cell_type": "code",
   "execution_count": 42,
   "metadata": {},
   "outputs": [],
   "source": [
    "X = dfx.drop('OilRate',axis=1)\n",
    "y = dfx['OilRate']"
   ]
  },
  {
   "cell_type": "code",
   "execution_count": 43,
   "metadata": {},
   "outputs": [],
   "source": [
    "from sklearn.model_selection import train_test_split"
   ]
  },
  {
   "cell_type": "code",
   "execution_count": 44,
   "metadata": {
    "scrolled": true
   },
   "outputs": [],
   "source": [
    "X_train, X_test, y_train, y_test = train_test_split(X,y,test_size=0.4)"
   ]
  },
  {
   "cell_type": "code",
   "execution_count": 45,
   "metadata": {},
   "outputs": [],
   "source": [
    "from sklearn.preprocessing import MinMaxScaler"
   ]
  },
  {
   "cell_type": "code",
   "execution_count": 46,
   "metadata": {},
   "outputs": [],
   "source": [
    "#from sklearn.preprocessing import StandardScaler"
   ]
  },
  {
   "cell_type": "code",
   "execution_count": 47,
   "metadata": {},
   "outputs": [],
   "source": [
    "scaler = MinMaxScaler()"
   ]
  },
  {
   "cell_type": "code",
   "execution_count": 48,
   "metadata": {},
   "outputs": [
    {
     "data": {
      "text/plain": [
       "(7408, 8)"
      ]
     },
     "execution_count": 48,
     "metadata": {},
     "output_type": "execute_result"
    }
   ],
   "source": [
    "X_train.shape"
   ]
  },
  {
   "cell_type": "code",
   "execution_count": 49,
   "metadata": {},
   "outputs": [
    {
     "data": {
      "text/plain": [
       "(4939, 8)"
      ]
     },
     "execution_count": 49,
     "metadata": {},
     "output_type": "execute_result"
    }
   ],
   "source": [
    "X_test.shape"
   ]
  },
  {
   "cell_type": "code",
   "execution_count": 50,
   "metadata": {},
   "outputs": [
    {
     "data": {
      "text/plain": [
       "(7408,)"
      ]
     },
     "execution_count": 50,
     "metadata": {},
     "output_type": "execute_result"
    }
   ],
   "source": [
    "y_train.shape"
   ]
  },
  {
   "cell_type": "code",
   "execution_count": 51,
   "metadata": {},
   "outputs": [
    {
     "data": {
      "text/plain": [
       "(4939,)"
      ]
     },
     "execution_count": 51,
     "metadata": {},
     "output_type": "execute_result"
    }
   ],
   "source": [
    "y_test.shape"
   ]
  },
  {
   "cell_type": "code",
   "execution_count": 52,
   "metadata": {},
   "outputs": [],
   "source": [
    "X_train = scaler.fit_transform(X_train)"
   ]
  },
  {
   "cell_type": "code",
   "execution_count": 53,
   "metadata": {},
   "outputs": [],
   "source": [
    "X_test = scaler.transform(X_test)"
   ]
  },
  {
   "cell_type": "code",
   "execution_count": 54,
   "metadata": {},
   "outputs": [],
   "source": [
    "import tensorflow as tf\n",
    "from tensorflow.keras.models import Sequential\n",
    "from tensorflow.keras.layers import Dense, Activation, Dropout\n",
    "from tensorflow.keras.optimizers import Adam\n",
    "from tensorflow.keras.constraints import max_norm\n",
    "from tensorflow.keras.models import load_model\n",
    "from tensorflow.keras.layers import Dropout"
   ]
  },
  {
   "cell_type": "code",
   "execution_count": 55,
   "metadata": {},
   "outputs": [],
   "source": [
    "#model = Sequential()\n",
    "\n",
    "# https://stats.stackexchange.com/questions/181/how-to-choose-the-number-of-hidden-layers-and-nodes-in-a-feedforward-neural-netw\n",
    "\n",
    "# input layer\n",
    "#model.add(Dense(3,  activation='relu'))\n",
    "#model.add(Dropout(0.2))\n",
    "\n",
    "# hidden layer\n",
    "#model.add(Dense(3, activation='relu'))\n",
    "#model.add(Dropout(0.2))\n",
    "\n",
    "# hidden layer\n",
    "#model.add(Dense(3, activation='relu'))\n",
    "#model.add(Dropout(0.2))\n",
    "\n",
    "# output layer\n",
    "#model.add(Dense(units=1,activation='sigmoid'))\n",
    "\n",
    "# Compile model\n",
    "#model.compile(loss='binary_crossentropy', optimizer='adam')"
   ]
  },
  {
   "cell_type": "code",
   "execution_count": 113,
   "metadata": {},
   "outputs": [],
   "source": [
    "model = Sequential()\n",
    "\n",
    "model.add(Dense(8,activation='relu'))\n",
    "model.add(Dense(8,activation='relu'))\n",
    "model.add(Dense(8,activation='relu'))\n",
    "model.add(Dense(1))\n",
    "\n",
    "model.compile(optimizer='adam',loss='mse',metrics='accuracy')"
   ]
  },
  {
   "cell_type": "code",
   "execution_count": 114,
   "metadata": {
    "scrolled": true
   },
   "outputs": [
    {
     "name": "stdout",
     "output_type": "stream",
     "text": [
      "Epoch 1/130\n",
      "232/232 [==============================] - 1s 2ms/step - loss: 28979.3793 - accuracy: 0.0107 - val_loss: 22738.5703 - val_accuracy: 0.0022\n",
      "Epoch 2/130\n",
      "232/232 [==============================] - 0s 2ms/step - loss: 23232.9144 - accuracy: 0.0020 - val_loss: 16909.8984 - val_accuracy: 0.0022\n",
      "Epoch 3/130\n",
      "232/232 [==============================] - 0s 2ms/step - loss: 17794.7655 - accuracy: 0.0027 - val_loss: 15741.9248 - val_accuracy: 0.0022\n",
      "Epoch 4/130\n",
      "232/232 [==============================] - 0s 2ms/step - loss: 15634.1040 - accuracy: 0.0020 - val_loss: 14098.3359 - val_accuracy: 0.0022\n",
      "Epoch 5/130\n",
      "232/232 [==============================] - 1s 2ms/step - loss: 14497.1947 - accuracy: 0.0021 - val_loss: 11306.3789 - val_accuracy: 0.0022\n",
      "Epoch 6/130\n",
      "232/232 [==============================] - 0s 2ms/step - loss: 13682.3112 - accuracy: 0.0021 - val_loss: 7151.1758 - val_accuracy: 0.0022\n",
      "Epoch 7/130\n",
      "232/232 [==============================] - 0s 2ms/step - loss: 7655.8214 - accuracy: 0.0027 - val_loss: 3821.2295 - val_accuracy: 0.0022\n",
      "Epoch 8/130\n",
      "232/232 [==============================] - 0s 2ms/step - loss: 4490.1006 - accuracy: 0.0023 - val_loss: 2869.7798 - val_accuracy: 0.0022\n",
      "Epoch 9/130\n",
      "232/232 [==============================] - 0s 2ms/step - loss: 4012.4167 - accuracy: 0.0016 - val_loss: 2721.0586 - val_accuracy: 0.0022\n",
      "Epoch 10/130\n",
      "232/232 [==============================] - 0s 2ms/step - loss: 4298.4237 - accuracy: 0.0025 - val_loss: 2657.3896 - val_accuracy: 0.0022\n",
      "Epoch 11/130\n",
      "232/232 [==============================] - 0s 2ms/step - loss: 3110.8368 - accuracy: 0.0023 - val_loss: 2589.0620 - val_accuracy: 0.0022\n",
      "Epoch 12/130\n",
      "232/232 [==============================] - 0s 2ms/step - loss: 3049.1202 - accuracy: 0.0025 - val_loss: 2533.1345 - val_accuracy: 0.0022\n",
      "Epoch 13/130\n",
      "232/232 [==============================] - 0s 2ms/step - loss: 3438.3413 - accuracy: 0.0031 - val_loss: 2492.7527 - val_accuracy: 0.0022\n",
      "Epoch 14/130\n",
      "232/232 [==============================] - 0s 2ms/step - loss: 2762.4743 - accuracy: 0.0015 - val_loss: 2411.1411 - val_accuracy: 0.0022\n",
      "Epoch 15/130\n",
      "232/232 [==============================] - 0s 2ms/step - loss: 3219.2209 - accuracy: 0.0015 - val_loss: 2345.9980 - val_accuracy: 0.0028\n",
      "Epoch 16/130\n",
      "232/232 [==============================] - 0s 2ms/step - loss: 3705.5889 - accuracy: 0.0037 - val_loss: 2278.7302 - val_accuracy: 0.0055\n",
      "Epoch 17/130\n",
      "232/232 [==============================] - 0s 2ms/step - loss: 3674.4216 - accuracy: 0.0049 - val_loss: 2228.5498 - val_accuracy: 0.0083\n",
      "Epoch 18/130\n",
      "232/232 [==============================] - 0s 2ms/step - loss: 2641.6668 - accuracy: 0.0082 - val_loss: 2162.2600 - val_accuracy: 0.0138\n",
      "Epoch 19/130\n",
      "232/232 [==============================] - 0s 2ms/step - loss: 2691.4966 - accuracy: 0.0087 - val_loss: 2114.2402 - val_accuracy: 0.0136\n",
      "Epoch 20/130\n",
      "232/232 [==============================] - 0s 2ms/step - loss: 4373.1353 - accuracy: 0.0124 - val_loss: 2061.5076 - val_accuracy: 0.0138\n",
      "Epoch 21/130\n",
      "232/232 [==============================] - 0s 2ms/step - loss: 2871.8206 - accuracy: 0.0099 - val_loss: 2015.7574 - val_accuracy: 0.0138\n",
      "Epoch 22/130\n",
      "232/232 [==============================] - 0s 2ms/step - loss: 2538.8298 - accuracy: 0.0141 - val_loss: 1983.0620 - val_accuracy: 0.0140\n",
      "Epoch 23/130\n",
      "232/232 [==============================] - 0s 2ms/step - loss: 3881.3685 - accuracy: 0.0099 - val_loss: 1940.1116 - val_accuracy: 0.0132\n",
      "Epoch 24/130\n",
      "232/232 [==============================] - 0s 2ms/step - loss: 3725.6805 - accuracy: 0.0091 - val_loss: 1884.9136 - val_accuracy: 0.0132\n",
      "Epoch 25/130\n",
      "232/232 [==============================] - 0s 2ms/step - loss: 2191.6542 - accuracy: 0.0122 - val_loss: 1854.2275 - val_accuracy: 0.0132\n",
      "Epoch 26/130\n",
      "232/232 [==============================] - 0s 2ms/step - loss: 1760.8166 - accuracy: 0.0132 - val_loss: 1811.8564 - val_accuracy: 0.0132\n",
      "Epoch 27/130\n",
      "232/232 [==============================] - 0s 2ms/step - loss: 2549.9548 - accuracy: 0.0117 - val_loss: 1762.3787 - val_accuracy: 0.0132\n",
      "Epoch 28/130\n",
      "232/232 [==============================] - 0s 2ms/step - loss: 3455.8611 - accuracy: 0.0102 - val_loss: 1702.7378 - val_accuracy: 0.0132\n",
      "Epoch 29/130\n",
      "232/232 [==============================] - 0s 2ms/step - loss: 2780.4860 - accuracy: 0.0107 - val_loss: 1671.3390 - val_accuracy: 0.0128\n",
      "Epoch 30/130\n",
      "232/232 [==============================] - 0s 2ms/step - loss: 1633.6688 - accuracy: 0.0113 - val_loss: 1626.6450 - val_accuracy: 0.0124\n",
      "Epoch 31/130\n",
      "232/232 [==============================] - 0s 2ms/step - loss: 2999.4095 - accuracy: 0.0096 - val_loss: 1559.4919 - val_accuracy: 0.0124\n",
      "Epoch 32/130\n",
      "232/232 [==============================] - 0s 2ms/step - loss: 2555.5578 - accuracy: 0.0095 - val_loss: 1516.1382 - val_accuracy: 0.0126\n",
      "Epoch 33/130\n",
      "232/232 [==============================] - 0s 2ms/step - loss: 2417.2063 - accuracy: 0.0099 - val_loss: 1463.6954 - val_accuracy: 0.0124\n",
      "Epoch 34/130\n",
      "232/232 [==============================] - 0s 2ms/step - loss: 2288.1372 - accuracy: 0.0110 - val_loss: 1425.6705 - val_accuracy: 0.0095\n",
      "Epoch 35/130\n",
      "232/232 [==============================] - 0s 2ms/step - loss: 3645.7760 - accuracy: 0.0063 - val_loss: 1374.0210 - val_accuracy: 0.0091\n",
      "Epoch 36/130\n",
      "232/232 [==============================] - 0s 2ms/step - loss: 1366.2570 - accuracy: 0.0080 - val_loss: 1387.6941 - val_accuracy: 0.0026\n",
      "Epoch 37/130\n",
      "232/232 [==============================] - 0s 2ms/step - loss: 2076.8553 - accuracy: 0.0046 - val_loss: 1302.1367 - val_accuracy: 0.0038\n",
      "Epoch 38/130\n",
      "232/232 [==============================] - 0s 2ms/step - loss: 3624.7597 - accuracy: 0.0048 - val_loss: 1280.1824 - val_accuracy: 0.0028\n",
      "Epoch 39/130\n",
      "232/232 [==============================] - 0s 2ms/step - loss: 3100.5789 - accuracy: 0.0031 - val_loss: 1214.7983 - val_accuracy: 0.0032\n",
      "Epoch 40/130\n",
      "232/232 [==============================] - 0s 2ms/step - loss: 1251.4779 - accuracy: 0.0036 - val_loss: 1208.8618 - val_accuracy: 0.0030\n",
      "Epoch 41/130\n",
      "232/232 [==============================] - 0s 2ms/step - loss: 2644.1087 - accuracy: 0.0031 - val_loss: 1151.0126 - val_accuracy: 0.0034\n",
      "Epoch 42/130\n",
      "232/232 [==============================] - 0s 2ms/step - loss: 1775.6112 - accuracy: 0.0033 - val_loss: 1124.6515 - val_accuracy: 0.0032\n",
      "Epoch 43/130\n",
      "232/232 [==============================] - 0s 2ms/step - loss: 2091.9254 - accuracy: 0.0030 - val_loss: 1110.5981 - val_accuracy: 0.0030\n",
      "Epoch 44/130\n",
      "232/232 [==============================] - 0s 2ms/step - loss: 3090.2273 - accuracy: 0.0037 - val_loss: 1042.2488 - val_accuracy: 0.0032\n",
      "Epoch 45/130\n",
      "232/232 [==============================] - 0s 2ms/step - loss: 2581.6099 - accuracy: 0.0054 - val_loss: 1023.0078 - val_accuracy: 0.0032\n",
      "Epoch 46/130\n",
      "232/232 [==============================] - 0s 2ms/step - loss: 1965.9946 - accuracy: 0.0035 - val_loss: 983.8751 - val_accuracy: 0.0036\n",
      "Epoch 47/130\n",
      "232/232 [==============================] - 0s 2ms/step - loss: 2088.9964 - accuracy: 0.0024 - val_loss: 960.1961 - val_accuracy: 0.0036\n",
      "Epoch 48/130\n",
      "232/232 [==============================] - 0s 2ms/step - loss: 1561.8743 - accuracy: 0.0044 - val_loss: 928.7003 - val_accuracy: 0.0038\n",
      "Epoch 49/130\n",
      "232/232 [==============================] - 0s 2ms/step - loss: 2092.3925 - accuracy: 0.0040 - val_loss: 900.4424 - val_accuracy: 0.0038\n",
      "Epoch 50/130\n",
      "232/232 [==============================] - 0s 2ms/step - loss: 1885.9196 - accuracy: 0.0043 - val_loss: 887.3463 - val_accuracy: 0.0036\n",
      "Epoch 51/130\n",
      "232/232 [==============================] - 0s 2ms/step - loss: 1459.9195 - accuracy: 0.0031 - val_loss: 912.5077 - val_accuracy: 0.0032\n",
      "Epoch 52/130\n",
      "232/232 [==============================] - 0s 2ms/step - loss: 1094.5178 - accuracy: 0.0027 - val_loss: 914.0466 - val_accuracy: 0.0030\n",
      "Epoch 53/130\n",
      "232/232 [==============================] - 0s 2ms/step - loss: 1512.5672 - accuracy: 0.0031 - val_loss: 820.0123 - val_accuracy: 0.0034\n",
      "Epoch 54/130\n",
      "232/232 [==============================] - 0s 2ms/step - loss: 1497.4368 - accuracy: 0.0031 - val_loss: 799.9084 - val_accuracy: 0.0036\n",
      "Epoch 55/130\n",
      "232/232 [==============================] - 0s 2ms/step - loss: 1428.8341 - accuracy: 0.0040 - val_loss: 780.2418 - val_accuracy: 0.0032\n",
      "Epoch 56/130\n",
      "232/232 [==============================] - 0s 2ms/step - loss: 2088.3236 - accuracy: 0.0041 - val_loss: 774.4410 - val_accuracy: 0.0036\n",
      "Epoch 57/130\n",
      "232/232 [==============================] - 0s 2ms/step - loss: 1227.0685 - accuracy: 0.0039 - val_loss: 753.2300 - val_accuracy: 0.0034\n",
      "Epoch 58/130\n",
      "232/232 [==============================] - 0s 2ms/step - loss: 1832.5721 - accuracy: 0.0033 - val_loss: 731.9646 - val_accuracy: 0.0040\n",
      "Epoch 59/130\n",
      "232/232 [==============================] - 0s 2ms/step - loss: 1388.2347 - accuracy: 0.0029 - val_loss: 713.8311 - val_accuracy: 0.0038\n",
      "Epoch 60/130\n",
      "232/232 [==============================] - 0s 2ms/step - loss: 727.9200 - accuracy: 0.0032 - val_loss: 772.6335 - val_accuracy: 0.0043\n",
      "Epoch 61/130\n",
      "232/232 [==============================] - 0s 2ms/step - loss: 969.2793 - accuracy: 0.0035 - val_loss: 712.6453 - val_accuracy: 0.0028\n",
      "Epoch 62/130\n",
      "232/232 [==============================] - 0s 2ms/step - loss: 1005.8446 - accuracy: 0.0032 - val_loss: 739.5259 - val_accuracy: 0.0032\n",
      "Epoch 63/130\n",
      "232/232 [==============================] - 0s 2ms/step - loss: 1203.7910 - accuracy: 0.0055 - val_loss: 694.8462 - val_accuracy: 0.0034\n",
      "Epoch 64/130\n",
      "232/232 [==============================] - 0s 2ms/step - loss: 1421.4086 - accuracy: 0.0037 - val_loss: 712.1578 - val_accuracy: 0.0026\n",
      "Epoch 65/130\n",
      "232/232 [==============================] - 0s 2ms/step - loss: 1145.0433 - accuracy: 0.0038 - val_loss: 649.3486 - val_accuracy: 0.0038\n",
      "Epoch 66/130\n",
      "232/232 [==============================] - 0s 2ms/step - loss: 1258.2926 - accuracy: 0.0028 - val_loss: 635.5369 - val_accuracy: 0.0034\n",
      "Epoch 67/130\n",
      "232/232 [==============================] - 0s 2ms/step - loss: 1067.0779 - accuracy: 0.0035 - val_loss: 668.3860 - val_accuracy: 0.0026\n",
      "Epoch 68/130\n",
      "232/232 [==============================] - 0s 2ms/step - loss: 1531.9572 - accuracy: 0.0029 - val_loss: 619.7471 - val_accuracy: 0.0036\n",
      "Epoch 69/130\n",
      "232/232 [==============================] - 0s 2ms/step - loss: 1781.7195 - accuracy: 0.0033 - val_loss: 604.4922 - val_accuracy: 0.0036\n",
      "Epoch 70/130\n",
      "232/232 [==============================] - 0s 2ms/step - loss: 1980.3435 - accuracy: 0.0044 - val_loss: 584.5880 - val_accuracy: 0.0036\n",
      "Epoch 71/130\n",
      "232/232 [==============================] - 0s 2ms/step - loss: 972.1623 - accuracy: 0.0042 - val_loss: 605.6677 - val_accuracy: 0.0032\n",
      "Epoch 72/130\n",
      "232/232 [==============================] - 0s 2ms/step - loss: 1336.2012 - accuracy: 0.0111 - val_loss: 563.4064 - val_accuracy: 0.0144\n",
      "Epoch 73/130\n",
      "232/232 [==============================] - 0s 2ms/step - loss: 478.3191 - accuracy: 0.0077 - val_loss: 802.5054 - val_accuracy: 0.0138\n",
      "Epoch 74/130\n",
      "232/232 [==============================] - 0s 2ms/step - loss: 1081.3459 - accuracy: 0.0121 - val_loss: 589.1060 - val_accuracy: 0.0144\n",
      "Epoch 75/130\n",
      "232/232 [==============================] - 0s 2ms/step - loss: 1251.6057 - accuracy: 0.0131 - val_loss: 550.5243 - val_accuracy: 0.0150\n",
      "Epoch 76/130\n",
      "232/232 [==============================] - 0s 2ms/step - loss: 1345.4422 - accuracy: 0.0092 - val_loss: 531.7111 - val_accuracy: 0.0156\n",
      "Epoch 77/130\n",
      "232/232 [==============================] - 0s 2ms/step - loss: 641.5627 - accuracy: 0.0153 - val_loss: 584.5495 - val_accuracy: 0.0146\n",
      "Epoch 78/130\n",
      "232/232 [==============================] - 0s 2ms/step - loss: 613.4646 - accuracy: 0.0145 - val_loss: 653.6680 - val_accuracy: 0.0028\n",
      "Epoch 79/130\n",
      "232/232 [==============================] - 0s 2ms/step - loss: 1460.4087 - accuracy: 0.0102 - val_loss: 514.4036 - val_accuracy: 0.0156\n",
      "Epoch 80/130\n",
      "232/232 [==============================] - 0s 2ms/step - loss: 839.6068 - accuracy: 0.0127 - val_loss: 518.1407 - val_accuracy: 0.0152\n",
      "Epoch 81/130\n",
      "232/232 [==============================] - 0s 2ms/step - loss: 958.5100 - accuracy: 0.0126 - val_loss: 504.6906 - val_accuracy: 0.0158\n",
      "Epoch 82/130\n",
      "232/232 [==============================] - 0s 2ms/step - loss: 1303.7631 - accuracy: 0.0129 - val_loss: 496.5019 - val_accuracy: 0.0154\n",
      "Epoch 83/130\n",
      "232/232 [==============================] - 0s 2ms/step - loss: 760.8421 - accuracy: 0.0140 - val_loss: 504.5946 - val_accuracy: 0.0158\n",
      "Epoch 84/130\n",
      "232/232 [==============================] - 0s 2ms/step - loss: 1096.8718 - accuracy: 0.0138 - val_loss: 486.9993 - val_accuracy: 0.0154\n",
      "Epoch 85/130\n",
      "232/232 [==============================] - 0s 2ms/step - loss: 1483.0306 - accuracy: 0.0128 - val_loss: 477.1101 - val_accuracy: 0.0156\n",
      "Epoch 86/130\n",
      "232/232 [==============================] - 0s 2ms/step - loss: 741.1039 - accuracy: 0.0134 - val_loss: 470.1864 - val_accuracy: 0.0156\n",
      "Epoch 87/130\n",
      "232/232 [==============================] - 0s 2ms/step - loss: 495.9885 - accuracy: 0.0129 - val_loss: 479.1982 - val_accuracy: 0.0156\n",
      "Epoch 88/130\n",
      "232/232 [==============================] - 0s 2ms/step - loss: 557.0914 - accuracy: 0.0157 - val_loss: 483.0204 - val_accuracy: 0.0158\n",
      "Epoch 89/130\n",
      "232/232 [==============================] - 0s 2ms/step - loss: 1003.3280 - accuracy: 0.0144 - val_loss: 515.9155 - val_accuracy: 0.0152\n",
      "Epoch 90/130\n",
      "232/232 [==============================] - 0s 2ms/step - loss: 517.4053 - accuracy: 0.0131 - val_loss: 476.1269 - val_accuracy: 0.0158\n",
      "Epoch 91/130\n",
      "232/232 [==============================] - 0s 2ms/step - loss: 655.7663 - accuracy: 0.0141 - val_loss: 512.0538 - val_accuracy: 0.0154\n",
      "Epoch 92/130\n",
      "232/232 [==============================] - 0s 2ms/step - loss: 835.0313 - accuracy: 0.0127 - val_loss: 446.4706 - val_accuracy: 0.0156\n",
      "Epoch 93/130\n",
      "232/232 [==============================] - 0s 2ms/step - loss: 1223.2760 - accuracy: 0.0109 - val_loss: 463.8022 - val_accuracy: 0.0047\n",
      "Epoch 94/130\n",
      "232/232 [==============================] - 0s 2ms/step - loss: 830.2428 - accuracy: 0.0135 - val_loss: 439.6865 - val_accuracy: 0.0158\n",
      "Epoch 95/130\n",
      "232/232 [==============================] - 0s 2ms/step - loss: 688.8405 - accuracy: 0.0130 - val_loss: 430.3297 - val_accuracy: 0.0156\n",
      "Epoch 96/130\n",
      "232/232 [==============================] - 0s 2ms/step - loss: 756.5716 - accuracy: 0.0157 - val_loss: 436.5367 - val_accuracy: 0.0156\n",
      "Epoch 97/130\n",
      "232/232 [==============================] - 0s 2ms/step - loss: 635.1439 - accuracy: 0.0133 - val_loss: 426.8379 - val_accuracy: 0.0158\n",
      "Epoch 98/130\n",
      "232/232 [==============================] - 0s 2ms/step - loss: 884.1345 - accuracy: 0.0146 - val_loss: 421.5763 - val_accuracy: 0.0160\n",
      "Epoch 99/130\n",
      "232/232 [==============================] - 0s 2ms/step - loss: 500.6599 - accuracy: 0.0157 - val_loss: 508.8744 - val_accuracy: 0.0093\n",
      "Epoch 100/130\n",
      "232/232 [==============================] - 0s 2ms/step - loss: 509.0802 - accuracy: 0.0134 - val_loss: 448.2922 - val_accuracy: 0.0156\n",
      "Epoch 101/130\n",
      "232/232 [==============================] - 0s 2ms/step - loss: 671.6415 - accuracy: 0.0139 - val_loss: 416.2437 - val_accuracy: 0.0154\n",
      "Epoch 102/130\n",
      "232/232 [==============================] - 0s 2ms/step - loss: 590.0148 - accuracy: 0.0154 - val_loss: 491.9250 - val_accuracy: 0.0040\n",
      "Epoch 103/130\n",
      "232/232 [==============================] - 0s 2ms/step - loss: 743.9852 - accuracy: 0.0116 - val_loss: 444.5496 - val_accuracy: 0.0083\n",
      "Epoch 104/130\n",
      "232/232 [==============================] - 0s 2ms/step - loss: 981.4939 - accuracy: 0.0160 - val_loss: 412.0982 - val_accuracy: 0.0158\n",
      "Epoch 105/130\n",
      "232/232 [==============================] - 0s 2ms/step - loss: 1146.2367 - accuracy: 0.0128 - val_loss: 399.6902 - val_accuracy: 0.0156\n",
      "Epoch 106/130\n",
      "232/232 [==============================] - 0s 2ms/step - loss: 698.2825 - accuracy: 0.0142 - val_loss: 429.8932 - val_accuracy: 0.0156\n",
      "Epoch 107/130\n",
      "232/232 [==============================] - 0s 2ms/step - loss: 799.2483 - accuracy: 0.0126 - val_loss: 420.3525 - val_accuracy: 0.0160\n",
      "Epoch 108/130\n",
      "232/232 [==============================] - 0s 2ms/step - loss: 796.8093 - accuracy: 0.0133 - val_loss: 558.3181 - val_accuracy: 0.0040\n",
      "Epoch 109/130\n",
      "232/232 [==============================] - 0s 2ms/step - loss: 717.6861 - accuracy: 0.0125 - val_loss: 397.6508 - val_accuracy: 0.0065\n",
      "Epoch 110/130\n"
     ]
    },
    {
     "name": "stdout",
     "output_type": "stream",
     "text": [
      "232/232 [==============================] - 0s 2ms/step - loss: 670.9521 - accuracy: 0.0125 - val_loss: 396.1912 - val_accuracy: 0.0156\n",
      "Epoch 111/130\n",
      "232/232 [==============================] - 0s 2ms/step - loss: 1484.7717 - accuracy: 0.0123 - val_loss: 389.7529 - val_accuracy: 0.0158\n",
      "Epoch 112/130\n",
      "232/232 [==============================] - 0s 2ms/step - loss: 746.7334 - accuracy: 0.0147 - val_loss: 381.9096 - val_accuracy: 0.0158\n",
      "Epoch 113/130\n",
      "232/232 [==============================] - 0s 2ms/step - loss: 1116.2809 - accuracy: 0.0125 - val_loss: 385.9371 - val_accuracy: 0.0160\n",
      "Epoch 114/130\n",
      "232/232 [==============================] - 0s 2ms/step - loss: 475.7289 - accuracy: 0.0164 - val_loss: 386.5150 - val_accuracy: 0.0156\n",
      "Epoch 115/130\n",
      "232/232 [==============================] - 0s 2ms/step - loss: 582.7880 - accuracy: 0.0162 - val_loss: 405.6115 - val_accuracy: 0.0156\n",
      "Epoch 116/130\n",
      "232/232 [==============================] - 0s 2ms/step - loss: 774.7665 - accuracy: 0.0084 - val_loss: 395.7859 - val_accuracy: 0.0154\n",
      "Epoch 117/130\n",
      "232/232 [==============================] - 0s 2ms/step - loss: 805.9909 - accuracy: 0.0144 - val_loss: 386.8646 - val_accuracy: 0.0158\n",
      "Epoch 118/130\n",
      "232/232 [==============================] - 0s 2ms/step - loss: 1119.1337 - accuracy: 0.0139 - val_loss: 379.2637 - val_accuracy: 0.0154\n",
      "Epoch 119/130\n",
      "232/232 [==============================] - 0s 2ms/step - loss: 652.7982 - accuracy: 0.0112 - val_loss: 388.8703 - val_accuracy: 0.0045\n",
      "Epoch 120/130\n",
      "232/232 [==============================] - 0s 2ms/step - loss: 764.5698 - accuracy: 0.0135 - val_loss: 357.2988 - val_accuracy: 0.0156\n",
      "Epoch 121/130\n",
      "232/232 [==============================] - 0s 2ms/step - loss: 1244.3260 - accuracy: 0.0124 - val_loss: 379.9610 - val_accuracy: 0.0099\n",
      "Epoch 122/130\n",
      "232/232 [==============================] - 0s 2ms/step - loss: 1193.1115 - accuracy: 0.0136 - val_loss: 355.9918 - val_accuracy: 0.0156\n",
      "Epoch 123/130\n",
      "232/232 [==============================] - 0s 2ms/step - loss: 617.4690 - accuracy: 0.0129 - val_loss: 402.9204 - val_accuracy: 0.0045\n",
      "Epoch 124/130\n",
      "232/232 [==============================] - 0s 2ms/step - loss: 969.0531 - accuracy: 0.0120 - val_loss: 415.3000 - val_accuracy: 0.0156\n",
      "Epoch 125/130\n",
      "232/232 [==============================] - 0s 2ms/step - loss: 668.2159 - accuracy: 0.0110 - val_loss: 395.2671 - val_accuracy: 0.0164\n",
      "Epoch 126/130\n",
      "232/232 [==============================] - 0s 2ms/step - loss: 722.6234 - accuracy: 0.0121 - val_loss: 335.8603 - val_accuracy: 0.0121\n",
      "Epoch 127/130\n",
      "232/232 [==============================] - 0s 2ms/step - loss: 434.8879 - accuracy: 0.0153 - val_loss: 379.3977 - val_accuracy: 0.0154\n",
      "Epoch 128/130\n",
      "232/232 [==============================] - 0s 2ms/step - loss: 572.6588 - accuracy: 0.0138 - val_loss: 333.2108 - val_accuracy: 0.0158\n",
      "Epoch 129/130\n",
      "232/232 [==============================] - 0s 2ms/step - loss: 726.2214 - accuracy: 0.0150 - val_loss: 324.5262 - val_accuracy: 0.0150\n",
      "Epoch 130/130\n",
      "232/232 [==============================] - 0s 2ms/step - loss: 604.9360 - accuracy: 0.0137 - val_loss: 315.8292 - val_accuracy: 0.0160\n"
     ]
    },
    {
     "data": {
      "text/plain": [
       "<tensorflow.python.keras.callbacks.History at 0x1a529cead0>"
      ]
     },
     "execution_count": 114,
     "metadata": {},
     "output_type": "execute_result"
    }
   ],
   "source": [
    "model.fit(x=X_train,y=y_train.values,\n",
    "          validation_data=(X_test,y_test.values),\n",
    "          epochs=130)"
   ]
  },
  {
   "cell_type": "code",
   "execution_count": 105,
   "metadata": {},
   "outputs": [],
   "source": [
    "#model.fit(x=X_train, \n",
    "#          y=y_train.values, \n",
    "#          epochs=75,\n",
    "#          batch_size=256,\n",
    "#          validation_data=(X_test, y_test.values), \n",
    "#          )"
   ]
  },
  {
   "cell_type": "code",
   "execution_count": 106,
   "metadata": {},
   "outputs": [],
   "source": [
    "#df.drop([6171,7405],inplace=None)"
   ]
  },
  {
   "cell_type": "code",
   "execution_count": 115,
   "metadata": {},
   "outputs": [
    {
     "data": {
      "text/html": [
       "<div>\n",
       "<style scoped>\n",
       "    .dataframe tbody tr th:only-of-type {\n",
       "        vertical-align: middle;\n",
       "    }\n",
       "\n",
       "    .dataframe tbody tr th {\n",
       "        vertical-align: top;\n",
       "    }\n",
       "\n",
       "    .dataframe thead th {\n",
       "        text-align: right;\n",
       "    }\n",
       "</style>\n",
       "<table border=\"1\" class=\"dataframe\">\n",
       "  <thead>\n",
       "    <tr style=\"text-align: right;\">\n",
       "      <th></th>\n",
       "      <th>loss</th>\n",
       "      <th>accuracy</th>\n",
       "      <th>val_loss</th>\n",
       "      <th>val_accuracy</th>\n",
       "    </tr>\n",
       "  </thead>\n",
       "  <tbody>\n",
       "    <tr>\n",
       "      <th>0</th>\n",
       "      <td>29207.914062</td>\n",
       "      <td>0.005400</td>\n",
       "      <td>22738.570312</td>\n",
       "      <td>0.002227</td>\n",
       "    </tr>\n",
       "    <tr>\n",
       "      <th>1</th>\n",
       "      <td>19755.474609</td>\n",
       "      <td>0.002160</td>\n",
       "      <td>16909.898438</td>\n",
       "      <td>0.002227</td>\n",
       "    </tr>\n",
       "    <tr>\n",
       "      <th>2</th>\n",
       "      <td>17661.507812</td>\n",
       "      <td>0.002160</td>\n",
       "      <td>15741.924805</td>\n",
       "      <td>0.002227</td>\n",
       "    </tr>\n",
       "    <tr>\n",
       "      <th>3</th>\n",
       "      <td>16208.202148</td>\n",
       "      <td>0.002160</td>\n",
       "      <td>14098.335938</td>\n",
       "      <td>0.002227</td>\n",
       "    </tr>\n",
       "    <tr>\n",
       "      <th>4</th>\n",
       "      <td>13929.256836</td>\n",
       "      <td>0.002160</td>\n",
       "      <td>11306.378906</td>\n",
       "      <td>0.002227</td>\n",
       "    </tr>\n",
       "    <tr>\n",
       "      <th>...</th>\n",
       "      <td>...</td>\n",
       "      <td>...</td>\n",
       "      <td>...</td>\n",
       "      <td>...</td>\n",
       "    </tr>\n",
       "    <tr>\n",
       "      <th>125</th>\n",
       "      <td>667.383484</td>\n",
       "      <td>0.013229</td>\n",
       "      <td>335.860321</td>\n",
       "      <td>0.012148</td>\n",
       "    </tr>\n",
       "    <tr>\n",
       "      <th>126</th>\n",
       "      <td>658.804199</td>\n",
       "      <td>0.013094</td>\n",
       "      <td>379.397736</td>\n",
       "      <td>0.015388</td>\n",
       "    </tr>\n",
       "    <tr>\n",
       "      <th>127</th>\n",
       "      <td>655.751038</td>\n",
       "      <td>0.013634</td>\n",
       "      <td>333.210785</td>\n",
       "      <td>0.015793</td>\n",
       "    </tr>\n",
       "    <tr>\n",
       "      <th>128</th>\n",
       "      <td>648.722107</td>\n",
       "      <td>0.013769</td>\n",
       "      <td>324.526184</td>\n",
       "      <td>0.014983</td>\n",
       "    </tr>\n",
       "    <tr>\n",
       "      <th>129</th>\n",
       "      <td>640.843140</td>\n",
       "      <td>0.013229</td>\n",
       "      <td>315.829193</td>\n",
       "      <td>0.015995</td>\n",
       "    </tr>\n",
       "  </tbody>\n",
       "</table>\n",
       "<p>130 rows × 4 columns</p>\n",
       "</div>"
      ],
      "text/plain": [
       "             loss  accuracy      val_loss  val_accuracy\n",
       "0    29207.914062  0.005400  22738.570312      0.002227\n",
       "1    19755.474609  0.002160  16909.898438      0.002227\n",
       "2    17661.507812  0.002160  15741.924805      0.002227\n",
       "3    16208.202148  0.002160  14098.335938      0.002227\n",
       "4    13929.256836  0.002160  11306.378906      0.002227\n",
       "..            ...       ...           ...           ...\n",
       "125    667.383484  0.013229    335.860321      0.012148\n",
       "126    658.804199  0.013094    379.397736      0.015388\n",
       "127    655.751038  0.013634    333.210785      0.015793\n",
       "128    648.722107  0.013769    324.526184      0.014983\n",
       "129    640.843140  0.013229    315.829193      0.015995\n",
       "\n",
       "[130 rows x 4 columns]"
      ]
     },
     "execution_count": 115,
     "metadata": {},
     "output_type": "execute_result"
    }
   ],
   "source": [
    "losses = pd.DataFrame(model.history.history)\n",
    "losses"
   ]
  },
  {
   "cell_type": "code",
   "execution_count": 116,
   "metadata": {
    "scrolled": false
   },
   "outputs": [
    {
     "data": {
      "text/plain": [
       "Text(0.5, 0, 'epoch')"
      ]
     },
     "execution_count": 116,
     "metadata": {},
     "output_type": "execute_result"
    },
    {
     "data": {
      "image/png": "[encoded data removed]",
      "text/plain": [
       "<Figure size 864x576 with 1 Axes>"
      ]
     },
     "metadata": {
      "needs_background": "light"
     },
     "output_type": "display_data"
    }
   ],
   "source": [
    "losses.plot(figsize=(12,8))\n",
    "plt.title('model accuracy')\n",
    "plt.ylabel('accuracy')\n",
    "plt.xlabel('epoch')"
   ]
  },
  {
   "cell_type": "code",
   "execution_count": 117,
   "metadata": {},
   "outputs": [
    {
     "name": "stdout",
     "output_type": "stream",
     "text": [
      "Model: \"sequential_4\"\n",
      "_________________________________________________________________\n",
      "Layer (type)                 Output Shape              Param #   \n",
      "=================================================================\n",
      "dense_16 (Dense)             (None, 8)                 72        \n",
      "_________________________________________________________________\n",
      "dense_17 (Dense)             (None, 8)                 72        \n",
      "_________________________________________________________________\n",
      "dense_18 (Dense)             (None, 8)                 72        \n",
      "_________________________________________________________________\n",
      "dense_19 (Dense)             (None, 1)                 9         \n",
      "=================================================================\n",
      "Total params: 225\n",
      "Trainable params: 225\n",
      "Non-trainable params: 0\n",
      "_________________________________________________________________\n"
     ]
    }
   ],
   "source": [
    "#tf.keras.metrics.mean_absolute_error(model.history.history)\n",
    "\n",
    "model.summary()"
   ]
  },
  {
   "cell_type": "code",
   "execution_count": 118,
   "metadata": {},
   "outputs": [
    {
     "data": {
      "text/plain": [
       "[620.5623168945312, 0.016063714399933815]"
      ]
     },
     "execution_count": 118,
     "metadata": {},
     "output_type": "execute_result"
    }
   ],
   "source": [
    "model.evaluate(X_train,y_train,verbose=0)"
   ]
  },
  {
   "cell_type": "code",
   "execution_count": 119,
   "metadata": {},
   "outputs": [
    {
     "data": {
      "text/plain": [
       "array([[ -0.52240145],\n",
       "       [ 81.71054   ],\n",
       "       [162.67973   ],\n",
       "       ...,\n",
       "       [206.18562   ],\n",
       "       [ 81.46465   ],\n",
       "       [ 12.93375   ]], dtype=float32)"
      ]
     },
     "execution_count": 119,
     "metadata": {},
     "output_type": "execute_result"
    }
   ],
   "source": [
    "predictions = model.predict(X_test)\n",
    "predictions"
   ]
  },
  {
   "cell_type": "code",
   "execution_count": 120,
   "metadata": {},
   "outputs": [
    {
     "data": {
      "text/plain": [
       "array([29222.016, 18999.217, 22147.871, ..., 29255.084, 19009.627,\n",
       "       26623.738], dtype=float32)"
      ]
     },
     "execution_count": 120,
     "metadata": {},
     "output_type": "execute_result"
    }
   ],
   "source": [
    "tf.keras.metrics.mean_squared_error(y_test,predictions).numpy()"
   ]
  },
  {
   "cell_type": "code",
   "execution_count": 121,
   "metadata": {
    "scrolled": true
   },
   "outputs": [
    {
     "data": {
      "text/plain": [
       "array([29222.016, 18999.217, 22147.871, ..., 29255.084, 19009.627,\n",
       "       26623.738], dtype=float32)"
      ]
     },
     "execution_count": 121,
     "metadata": {},
     "output_type": "execute_result"
    }
   ],
   "source": [
    "tf.keras.metrics.mean_squared_error(y_test,predictions).numpy()"
   ]
  },
  {
   "cell_type": "code",
   "execution_count": 122,
   "metadata": {},
   "outputs": [],
   "source": [
    "# Predicting on new OilRate Data"
   ]
  },
  {
   "cell_type": "code",
   "execution_count": 123,
   "metadata": {
    "scrolled": true
   },
   "outputs": [],
   "source": [
    "from sklearn.metrics import mean_squared_error,mean_absolute_error,explained_variance_score\n",
    "from sklearn.metrics import classification_report,confusion_matrix"
   ]
  },
  {
   "cell_type": "code",
   "execution_count": 124,
   "metadata": {},
   "outputs": [
    {
     "data": {
      "text/plain": [
       "17.77158298200904"
      ]
     },
     "execution_count": 124,
     "metadata": {},
     "output_type": "execute_result"
    }
   ],
   "source": [
    "mean_absolute_error(y_test,predictions)\n",
    "np.sqrt(mean_squared_error(y_test,predictions))"
   ]
  },
  {
   "cell_type": "code",
   "execution_count": 125,
   "metadata": {},
   "outputs": [
    {
     "data": {
      "text/plain": [
       "0.9830382758671637"
      ]
     },
     "execution_count": 125,
     "metadata": {},
     "output_type": "execute_result"
    }
   ],
   "source": [
    "explained_variance_score(y_test,predictions)"
   ]
  },
  {
   "cell_type": "code",
   "execution_count": 126,
   "metadata": {},
   "outputs": [
    {
     "data": {
      "text/plain": [
       "-inf"
      ]
     },
     "execution_count": 126,
     "metadata": {},
     "output_type": "execute_result"
    }
   ],
   "source": [
    "df['OilRate'].mean()"
   ]
  },
  {
   "cell_type": "code",
   "execution_count": 127,
   "metadata": {},
   "outputs": [
    {
     "data": {
      "text/plain": [
       "63.74193548387097"
      ]
     },
     "execution_count": 127,
     "metadata": {},
     "output_type": "execute_result"
    }
   ],
   "source": [
    "df['OilRate'].median()"
   ]
  },
  {
   "cell_type": "code",
   "execution_count": 131,
   "metadata": {},
   "outputs": [
    {
     "data": {
      "text/plain": [
       "[<matplotlib.lines.Line2D at 0x1a52f6aa10>]"
      ]
     },
     "execution_count": 131,
     "metadata": {},
     "output_type": "execute_result"
    },
    {
     "data": {
      "image/png": "[encoded data removed]",
      "text/plain": [
       "<Figure size 864x576 with 1 Axes>"
      ]
     },
     "metadata": {
      "needs_background": "light"
     },
     "output_type": "display_data"
    }
   ],
   "source": [
    "plt.figure(figsize=(12,8))\n",
    "\n",
    "# Our predictions\n",
    "plt.scatter(y_test,predictions)\n",
    "\n",
    "# Perfect predictions\n",
    "plt.plot(y_test,y_test,'r')"
   ]
  },
  {
   "cell_type": "code",
   "execution_count": 129,
   "metadata": {},
   "outputs": [
    {
     "data": {
      "text/plain": [
       "array([[ 3.19982081],\n",
       "       [ 1.22279256],\n",
       "       [ 2.48155705],\n",
       "       ...,\n",
       "       [53.4810435 ],\n",
       "       [ 0.82566957],\n",
       "       [ 1.35657243]])"
      ]
     },
     "execution_count": 129,
     "metadata": {},
     "output_type": "execute_result"
    }
   ],
   "source": [
    "errors = y_test.values.reshape(4939, 1) - predictions\n",
    "errors"
   ]
  },
  {
   "cell_type": "code",
   "execution_count": 132,
   "metadata": {},
   "outputs": [
    {
     "data": {
      "text/plain": [
       "<matplotlib.axes._subplots.AxesSubplot at 0x1a531dc610>"
      ]
     },
     "execution_count": 132,
     "metadata": {},
     "output_type": "execute_result"
    },
    {
     "data": {
      "image/png": "[encoded data removed]",
      "text/plain": [
       "<Figure size 864x576 with 1 Axes>"
      ]
     },
     "metadata": {
      "needs_background": "light"
     },
     "output_type": "display_data"
    }
   ],
   "source": [
    "plt.figure(figsize=(12,8))\n",
    "\n",
    "sns.distplot(errors)"
   ]
  },
  {
   "cell_type": "code",
   "execution_count": 84,
   "metadata": {},
   "outputs": [],
   "source": [
    "#print(classification_report(y_test,predictions))"
   ]
  },
  {
   "cell_type": "code",
   "execution_count": 80,
   "metadata": {},
   "outputs": [],
   "source": [
    "#confusion_matrix(y_test,predictions)"
   ]
  },
  {
   "cell_type": "code",
   "execution_count": 133,
   "metadata": {},
   "outputs": [
    {
     "name": "stdout",
     "output_type": "stream",
     "text": [
      "<class 'pandas.core.frame.DataFrame'>\n",
      "Int64Index: 12349 entries, 0 to 14063\n",
      "Data columns (total 9 columns):\n",
      " #   Column      Non-Null Count  Dtype  \n",
      "---  ------      --------------  -----  \n",
      " 0   API_WELLNO  12349 non-null  float64\n",
      " 1   Section     12349 non-null  float64\n",
      " 2   Range       12349 non-null  float64\n",
      " 3   Oil         12349 non-null  float64\n",
      " 4   Wtr         12349 non-null  float64\n",
      " 5   Days        12349 non-null  float64\n",
      " 6   Runs        12349 non-null  float64\n",
      " 7   Gas         12349 non-null  float64\n",
      " 8   OilRate     12349 non-null  float64\n",
      "dtypes: float64(9)\n",
      "memory usage: 1.3 MB\n"
     ]
    }
   ],
   "source": [
    "df.info()"
   ]
  },
  {
   "cell_type": "code",
   "execution_count": 134,
   "metadata": {},
   "outputs": [
    {
     "data": {
      "text/plain": [
       "API_WELLNO    3.305304e+13\n",
       "Section       3.600000e+01\n",
       "Range         1.010000e+02\n",
       "Oil           1.525000e+03\n",
       "Wtr           1.335000e+03\n",
       "Days          2.900000e+01\n",
       "Runs          1.686000e+03\n",
       "Gas           1.739000e+03\n",
       "Name: 0, dtype: float64"
      ]
     },
     "execution_count": 134,
     "metadata": {},
     "output_type": "execute_result"
    }
   ],
   "source": [
    "new_OilRate = df.drop('OilRate',axis=1).iloc[0]\n",
    "new_OilRate"
   ]
  },
  {
   "cell_type": "code",
   "execution_count": 135,
   "metadata": {
    "scrolled": true
   },
   "outputs": [
    {
     "name": "stderr",
     "output_type": "stream",
     "text": [
      "/Users/tamerhousseinhag/opt/anaconda3/lib/python3.7/site-packages/tensorflow/python/keras/engine/sequential.py:450: UserWarning: `model.predict_classes()` is deprecated and will be removed after 2021-01-01. Please use instead:* `np.argmax(model.predict(x), axis=-1)`,   if your model does multi-class classification   (e.g. if it uses a `softmax` last-layer activation).* `(model.predict(x) > 0.5).astype(\"int32\")`,   if your model does binary classification   (e.g. if it uses a `sigmoid` last-layer activation).\n",
      "  warnings.warn('`model.predict_classes()` is deprecated and '\n"
     ]
    },
    {
     "data": {
      "text/plain": [
       "array([[1]], dtype=int32)"
      ]
     },
     "execution_count": 135,
     "metadata": {},
     "output_type": "execute_result"
    }
   ],
   "source": [
    "model.predict_classes(new_OilRate.values.reshape(1,8))"
   ]
  },
  {
   "cell_type": "code",
   "execution_count": 136,
   "metadata": {},
   "outputs": [
    {
     "data": {
      "text/plain": [
       "52.58620689655172"
      ]
     },
     "execution_count": 136,
     "metadata": {},
     "output_type": "execute_result"
    }
   ],
   "source": [
    "df.iloc[0]['OilRate']"
   ]
  },
  {
   "cell_type": "code",
   "execution_count": 137,
   "metadata": {},
   "outputs": [],
   "source": [
    "# Predicting on a brand new Oil Rate"
   ]
  },
  {
   "cell_type": "code",
   "execution_count": 138,
   "metadata": {},
   "outputs": [],
   "source": [
    "New_OilRate = df.drop('OilRate',axis=1).iloc[0]"
   ]
  },
  {
   "cell_type": "code",
   "execution_count": 142,
   "metadata": {},
   "outputs": [
    {
     "ename": "AttributeError",
     "evalue": "'numpy.ndarray' object has no attribute 'values'",
     "output_type": "error",
     "traceback": [
      "\u001b[0;31m---------------------------------------------------------------------------\u001b[0m",
      "\u001b[0;31mAttributeError\u001b[0m                            Traceback (most recent call last)",
      "\u001b[0;32m<ipython-input-142-9eafeea74ebd>\u001b[0m in \u001b[0;36m<module>\u001b[0;34m\u001b[0m\n\u001b[0;32m----> 1\u001b[0;31m \u001b[0mNew_OilRate\u001b[0m \u001b[0;34m=\u001b[0m \u001b[0mscaler\u001b[0m\u001b[0;34m.\u001b[0m\u001b[0mtransform\u001b[0m\u001b[0;34m(\u001b[0m\u001b[0mNew_OilRate\u001b[0m\u001b[0;34m.\u001b[0m\u001b[0mvalues\u001b[0m\u001b[0;34m.\u001b[0m\u001b[0mreshape\u001b[0m\u001b[0;34m(\u001b[0m\u001b[0;34m-\u001b[0m\u001b[0;36m1\u001b[0m\u001b[0;34m,\u001b[0m \u001b[0;36m8\u001b[0m\u001b[0;34m)\u001b[0m\u001b[0;34m)\u001b[0m\u001b[0;34m\u001b[0m\u001b[0;34m\u001b[0m\u001b[0m\n\u001b[0m\u001b[1;32m      2\u001b[0m \u001b[0mNew_OilRate\u001b[0m\u001b[0;34m\u001b[0m\u001b[0;34m\u001b[0m\u001b[0m\n",
      "\u001b[0;31mAttributeError\u001b[0m: 'numpy.ndarray' object has no attribute 'values'"
     ]
    }
   ],
   "source": [
    "New_OilRate = scaler.transform(New_OilRate.values.reshape(-1, 8))\n",
    "New_OilRate"
   ]
  },
  {
   "cell_type": "code",
   "execution_count": 143,
   "metadata": {},
   "outputs": [
    {
     "data": {
      "text/plain": [
       "array([[52.262833]], dtype=float32)"
      ]
     },
     "execution_count": 143,
     "metadata": {},
     "output_type": "execute_result"
    }
   ],
   "source": [
    "model.predict(New_OilRate)"
   ]
  },
  {
   "cell_type": "code",
   "execution_count": 144,
   "metadata": {},
   "outputs": [
    {
     "data": {
      "text/plain": [
       "API_WELLNO    3.305304e+13\n",
       "Section       3.600000e+01\n",
       "Range         1.010000e+02\n",
       "Oil           1.525000e+03\n",
       "Wtr           1.335000e+03\n",
       "Days          2.900000e+01\n",
       "Runs          1.686000e+03\n",
       "Gas           1.739000e+03\n",
       "OilRate       5.258621e+01\n",
       "Name: 0, dtype: float64"
      ]
     },
     "execution_count": 144,
     "metadata": {},
     "output_type": "execute_result"
    }
   ],
   "source": [
    "df.iloc[0]"
   ]
  },
  {
   "cell_type": "code",
   "execution_count": 94,
   "metadata": {},
   "outputs": [],
   "source": [
    "## Old Version Result"
   ]
  },
  {
   "cell_type": "code",
   "execution_count": 444,
   "metadata": {},
   "outputs": [
    {
     "data": {
      "text/plain": [
       "Text(0.5, 0, 'epoch')"
      ]
     },
     "execution_count": 444,
     "metadata": {},
     "output_type": "execute_result"
    },
    {
     "data": {
      "image/png": "[encoded data removed]",
      "text/plain": [
       "<Figure size 432x288 with 1 Axes>"
      ]
     },
     "metadata": {
      "needs_background": "light"
     },
     "output_type": "display_data"
    }
   ],
   "source": [
    "losses.plot()\n",
    "plt.title('model accuracy')\n",
    "plt.ylabel('accuracy')\n",
    "plt.xlabel('epoch')"
   ]
  }
 ],
 "metadata": {
  "kernelspec": {
   "display_name": "Python 3",
   "language": "python",
   "name": "python3"
  },
  "language_info": {
   "codemirror_mode": {
    "name": "ipython",
    "version": 3
   },
   "file_extension": ".py",
   "mimetype": "text/x-python",
   "name": "python",
   "nbconvert_exporter": "python",
   "pygments_lexer": "ipython3",
   "version": "3.8.5"
  }
 },
 "nbformat": 4,
 "nbformat_minor": 4
}

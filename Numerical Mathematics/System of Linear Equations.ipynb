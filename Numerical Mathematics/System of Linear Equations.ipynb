{
 "cells": [
  {
   "cell_type": "code",
   "execution_count": 1,
   "metadata": {},
   "outputs": [],
   "source": [
    "# Part I\n",
    "\n",
    "# Gauss Elemination Method"
   ]
  },
  {
   "cell_type": "code",
   "execution_count": 134,
   "metadata": {},
   "outputs": [],
   "source": [
    "import numpy as np"
   ]
  },
  {
   "cell_type": "code",
   "execution_count": 69,
   "metadata": {},
   "outputs": [
    {
     "name": "stdout",
     "output_type": "stream",
     "text": [
      "The solution of the system: \n",
      "[0.44444444 0.55555556 0.66666667 0.22222222 0.22222222]\n"
     ]
    }
   ],
   "source": [
    "a=np.array([[2,7,-1,3,1],\n",
    "            [2,3,4,1,7],\n",
    "            [6,2,-3,2,-1],\n",
    "            [2,1,2,-1,2],\n",
    "            [3,4,1,-2,1]],float)\n",
    "\n",
    "b=np.array([[5,7,2,3,4]],float).reshape(5,1)\n",
    "\n",
    "n=len(b)\n",
    "x=np.zeros(n,float)\n",
    "\n",
    "#Elemination\n",
    "for k in range (n-1): # row before the last\n",
    "    for i in range(k+1,n): # until last row\n",
    "        factor=a[k,k]/a[i,k]\n",
    "        b[i]=b[k]-factor*b[i]\n",
    "        for j in range (k,n):\n",
    "            a[i,j]=a[k,j]-factor*a[i,j]\n",
    "#Back-Substitution\n",
    "x[n-1]=b[n-1]/a[n-1,n-1]\n",
    "for i in range(n-2,-1,-1):\n",
    "    terms=0\n",
    "    for j in range(i+1,n):\n",
    "        terms+=a[i,j]*x[j]\n",
    "    x[i]=(b[i]-terms)/a[i,i]\n",
    "\n",
    "print('The solution of the system: ')\n",
    "print(x)"
   ]
  },
  {
   "cell_type": "code",
   "execution_count": 73,
   "metadata": {},
   "outputs": [
    {
     "name": "stdout",
     "output_type": "stream",
     "text": [
      "The solution of the system: \n",
      "[-0.21705426  1.07751938  1.48837209  0.41860465 -0.31007752]\n"
     ]
    }
   ],
   "source": [
    "a=np.array([[0,7,-1,3,1],\n",
    "            [2,3,4,1,7],\n",
    "            [6,2,0,2,-1],\n",
    "            [2,1,2,0,2],\n",
    "            [3,4,1,-2,1]],float)\n",
    "\n",
    "b=np.array([[5,7,2,3,4]],float).reshape(5,1)\n",
    "\n",
    "n=len(b)\n",
    "x=np.zeros(n,float)\n",
    "\n",
    "#Elemination\n",
    "for k in range (n-1): # row before the last\n",
    "    if a[k,k]==0:\n",
    "        for j in range(n):\n",
    "            a[k,j],a[k+1,j]=a[k+1,j],a[k,j]\n",
    "        b[k],b[k+1]=b[k+1],b[k]\n",
    "    for i in range(k+1,n): # until last row\n",
    "        if a[i,k]==0:\n",
    "            continue\n",
    "        factor=a[k,k]/a[i,k]\n",
    "        b[i]=b[k]-factor*b[i]\n",
    "        for j in range (k,n):\n",
    "            a[i,j]=a[k,j]-factor*a[i,j]\n",
    "#Back-Substitution\n",
    "x[n-1]=b[n-1]/a[n-1,n-1]\n",
    "for i in range(n-2,-1,-1):\n",
    "    terms=0\n",
    "    for j in range(i+1,n):\n",
    "        terms+=a[i,j]*x[j]\n",
    "    x[i]=(b[i]-terms)/a[i,i]\n",
    "\n",
    "print('The solution of the system: ')\n",
    "print(x)"
   ]
  },
  {
   "cell_type": "code",
   "execution_count": 59,
   "metadata": {},
   "outputs": [
    {
     "name": "stdout",
     "output_type": "stream",
     "text": [
      "The solution of the system: \n",
      "[ 1. -3.  7.]\n"
     ]
    }
   ],
   "source": [
    "a=np.array([[1,-2,1],\n",
    "            [-1,4,2],\n",
    "            [3,1,-1]],float)\n",
    "\n",
    "b=np.array([[14,1,-7]],float).reshape(3,1)\n",
    "\n",
    "n=len(b)\n",
    "x=np.zeros(n,float)\n",
    "\n",
    "#Elemination\n",
    "for k in range (n-1): # row before the last\n",
    "    for i in range(k+1,n): # until last row\n",
    "        factor=a[k,k]/a[i,k]\n",
    "        b[i]=b[k]-factor*b[i]\n",
    "        for j in range (k,n):\n",
    "            a[i,j]=a[k,j]-factor*a[i,j]\n",
    "#Back-Substitution\n",
    "x[n-1]=b[n-1]/a[n-1,n-1]\n",
    "for i in range(n-2,-1,-1):\n",
    "    terms=0\n",
    "    for j in range(i+1,n):\n",
    "        terms+=a[i,j]*x[j]\n",
    "    x[i]=(b[i]-terms)/a[i,i]\n",
    "\n",
    "print('The solution of the system: ')\n",
    "print(x)"
   ]
  },
  {
   "cell_type": "code",
   "execution_count": 62,
   "metadata": {},
   "outputs": [
    {
     "name": "stdout",
     "output_type": "stream",
     "text": [
      "The solution of the system: \n",
      "[ 0.  0. -0.]\n"
     ]
    }
   ],
   "source": [
    "a=np.array([[1,1,-2],\n",
    "            [3,-2,1],\n",
    "            [2,-3,3]],float)\n",
    "\n",
    "b=np.array([[0,0,0]],float).reshape(3,1)\n",
    "\n",
    "n=len(b)\n",
    "x=np.zeros(n,float)\n",
    "\n",
    "#Elemination\n",
    "for k in range (n-1): # row before the last\n",
    "    for i in range(k+1,n): # until last row\n",
    "        factor=a[k,k]/a[i,k]\n",
    "        b[i]=b[k]-factor*b[i]\n",
    "        for j in range (k,n):\n",
    "            a[i,j]=a[k,j]-factor*a[i,j]\n",
    "#Back-Substitution\n",
    "x[n-1]=b[n-1]/a[n-1,n-1]\n",
    "for i in range(n-2,-1,-1):\n",
    "    terms=0\n",
    "    for j in range(i+1,n):\n",
    "        terms+=a[i,j]*x[j]\n",
    "    x[i]=(b[i]-terms)/a[i,i]\n",
    "\n",
    "print('The solution of the system: ')\n",
    "print(x)"
   ]
  },
  {
   "cell_type": "code",
   "execution_count": 63,
   "metadata": {},
   "outputs": [
    {
     "name": "stdout",
     "output_type": "stream",
     "text": [
      "The solution of the system: \n",
      "[-2.6  3.6 -0. ]\n"
     ]
    }
   ],
   "source": [
    "a=np.array([[1,1,-2],\n",
    "            [3,-2,1],\n",
    "            [2,-3,3]],float)\n",
    "\n",
    "b=np.array([[1,-15,-16]],float).reshape(3,1)\n",
    "\n",
    "n=len(b)\n",
    "x=np.zeros(n,float)\n",
    "\n",
    "#Elemination\n",
    "for k in range (n-1): # row before the last\n",
    "    for i in range(k+1,n): # until last row\n",
    "        factor=a[k,k]/a[i,k]\n",
    "        b[i]=b[k]-factor*b[i]\n",
    "        for j in range (k,n):\n",
    "            a[i,j]=a[k,j]-factor*a[i,j]\n",
    "#Back-Substitution\n",
    "x[n-1]=b[n-1]/a[n-1,n-1]\n",
    "for i in range(n-2,-1,-1):\n",
    "    terms=0\n",
    "    for j in range(i+1,n):\n",
    "        terms+=a[i,j]*x[j]\n",
    "    x[i]=(b[i]-terms)/a[i,i]\n",
    "\n",
    "print('The solution of the system: ')\n",
    "print(x)"
   ]
  },
  {
   "cell_type": "code",
   "execution_count": 64,
   "metadata": {},
   "outputs": [
    {
     "name": "stdout",
     "output_type": "stream",
     "text": [
      "The solution of the system: \n",
      "[-8.10647933e+15 -1.89151184e+16 -1.35107989e+16]\n"
     ]
    }
   ],
   "source": [
    "a=np.array([[1,1,-2],\n",
    "            [3,-2,1],\n",
    "            [2,-3,3]],float)\n",
    "\n",
    "b=np.array([[1,-15,2]],float).reshape(3,1)\n",
    "\n",
    "n=len(b)\n",
    "x=np.zeros(n,float)\n",
    "\n",
    "#Elemination\n",
    "for k in range (n-1): # row before the last\n",
    "    for i in range(k+1,n): # until last row\n",
    "        factor=a[k,k]/a[i,k]\n",
    "        b[i]=b[k]-factor*b[i]\n",
    "        for j in range (k,n):\n",
    "            a[i,j]=a[k,j]-factor*a[i,j]\n",
    "#Back-Substitution\n",
    "x[n-1]=b[n-1]/a[n-1,n-1]\n",
    "for i in range(n-2,-1,-1):\n",
    "    terms=0\n",
    "    for j in range(i+1,n):\n",
    "        terms+=a[i,j]*x[j]\n",
    "    x[i]=(b[i]-terms)/a[i,i]\n",
    "\n",
    "print('The solution of the system: ')\n",
    "print(x)"
   ]
  },
  {
   "cell_type": "code",
   "execution_count": 74,
   "metadata": {},
   "outputs": [],
   "source": [
    "# Part II\n",
    "\n",
    "# Jacobi's Method"
   ]
  },
  {
   "cell_type": "code",
   "execution_count": 115,
   "metadata": {},
   "outputs": [
    {
     "name": "stdout",
     "output_type": "stream",
     "text": [
      "The solution: \n",
      "[ 0.3650067  -0.23378439  0.28506845 -0.20362079]\n",
      "Number of iterations 30 \n"
     ]
    }
   ],
   "source": [
    "a=np.array([[4,1,2,-1],\n",
    "            [3,6,-1,2],\n",
    "            [2,-1,5,-3],\n",
    "            [4,1,-3,-8]],float)\n",
    "\n",
    "b=np.array([[2,-1,3,2]],float).reshape(4,1)\n",
    "\n",
    "n=len(b)\n",
    "\n",
    "#n=np.shape(b)\n",
    "x=np.full(n,1.0,float) # initial value of x 1.0\n",
    "xnew=np.empty(n,float)\n",
    "\n",
    "iterlimit=101\n",
    "tolerance=1.0e-6\n",
    "\n",
    "#Iterations\n",
    "for iteration in range(iterlimit):\n",
    "    for i in range ((n)):\n",
    "        s=0\n",
    "        for j in range((n)):\n",
    "            if j!=i:\n",
    "                s+=a[i,j]*x[j]\n",
    "        xnew[i]=-1/a[i,i]*(s-b[i])\n",
    "    if(abs(xnew-x)<tolerance).all():\n",
    "        break\n",
    "    else:\n",
    "        x=np.copy(xnew)\n",
    "        \n",
    "print('The solution: ')\n",
    "print(x)\n",
    "print('Number of iterations %d '%(iteration))"
   ]
  },
  {
   "cell_type": "code",
   "execution_count": 104,
   "metadata": {},
   "outputs": [],
   "source": [
    "# Part III\n",
    "\n",
    "# Gauss-Seidel Method"
   ]
  },
  {
   "cell_type": "code",
   "execution_count": 120,
   "metadata": {},
   "outputs": [
    {
     "name": "stdout",
     "output_type": "stream",
     "text": [
      "The solution: \n",
      "[ 1.08639576e+111 -3.49452443e+111 -1.40426166e+111  8.15184880e+111]\n",
      "Number of iteration 100 \n"
     ]
    }
   ],
   "source": [
    "a=np.array([[2,-1,5,-3],\n",
    "            [4,1,2,-1],\n",
    "            [4,1,-3,-8],\n",
    "            [3,6,-1,2]],float)\n",
    "\n",
    "b=np.array([[3,2,2,-1]],float).reshape(4,1)\n",
    "\n",
    "n=len(b)\n",
    "\n",
    "x=np.full(n,1.0,float) # initial value of x 1.0\n",
    "xdiff=np.empty(n,float)\n",
    "\n",
    "iterlimit=101\n",
    "tolerance=1e-6\n",
    "\n",
    "#Iterations\n",
    "for iteration in range(iterlimit):\n",
    "    for i in range (n):\n",
    "        s=0\n",
    "        for j in range(n):\n",
    "            if j!=i:\n",
    "                s+=a[i,j]*x[j]\n",
    "        xnew=-1/a[i,i]*(s-b[i])\n",
    "        xdiff=abs(xnew-x[i])\n",
    "        x[i]=xnew\n",
    "    if(xdiff<tolerance).all():\n",
    "        break\n",
    "        \n",
    "print('The solution: ')\n",
    "print(x)\n",
    "print('Number of iteration %d '%(iteration))"
   ]
  },
  {
   "cell_type": "code",
   "execution_count": 119,
   "metadata": {},
   "outputs": [],
   "source": [
    "# Part IV\n",
    "\n",
    "# Diagonal dominance"
   ]
  },
  {
   "cell_type": "code",
   "execution_count": 89,
   "metadata": {},
   "outputs": [
    {
     "data": {
      "text/plain": [
       "array([3, 4, 5, 6, 7, 8, 9])"
      ]
     },
     "execution_count": 89,
     "metadata": {},
     "output_type": "execute_result"
    }
   ],
   "source": [
    "a=np.array([[4,1,2,-1],\n",
    "            [3,6,-1,2],\n",
    "            [2,-1,5,-3],\n",
    "            [4,1,-3,-8]],float)\n",
    "\n",
    "b=np.array([[2,-1,3,2]],float).reshape(4,1)\n",
    "\n",
    "n=len(b)\n",
    "\n",
    "x=np.full(n,1.0,float) # initial value of x 1.0\n",
    "xdiff=np.empty(n,float)\n",
    "\n",
    "iterlimit=101\n",
    "tolerance=1e-6\n",
    "\n",
    "#Iterations\n",
    "for iteration in range(iterlimit):\n",
    "    for i in range (n):\n",
    "        s=0\n",
    "        for j in range(n):\n",
    "            if j!=i:\n",
    "                s+=a[i,j]*x[j]\n",
    "        xnew=-1/a[i,i]*(s-b[i])\n",
    "        xdiff=abs(xnew-x[i])\n",
    "        x[i]=xnew\n",
    "    if(xdiff<tolerance).all():\n",
    "        break\n",
    "        \n",
    "print('The solution: ')\n",
    "print(x)\n",
    "print('Number of iteration %d '%(iteration))"
   ]
  },
  {
   "cell_type": "code",
   "execution_count": 121,
   "metadata": {},
   "outputs": [],
   "source": [
    "# Part V\n",
    "\n",
    "# Gauss-Jordan Method"
   ]
  },
  {
   "cell_type": "code",
   "execution_count": 125,
   "metadata": {},
   "outputs": [
    {
     "name": "stdout",
     "output_type": "stream",
     "text": [
      "The solution: \n",
      "[-0.5         1.          0.33333333 -2.        ]\n",
      "The transformed [a]: \n",
      "[[ 1.  0.  0.  0.]\n",
      " [ 0.  1.  0.  0.]\n",
      " [-0. -0.  1.  0.]\n",
      " [-0. -0. -0.  1.]]\n"
     ]
    }
   ],
   "source": [
    "def gaussjordan(a,b):\n",
    "    a=np.array(a,float)\n",
    "    b=np.array(b,float)\n",
    "    n=len(b)\n",
    "    \n",
    "    #Main loop \n",
    "    for k in range (n):\n",
    "        #Partial Pivoting\n",
    "        if np.fabs(a[k,k])<1.0e-12:\n",
    "            for i in range(k+1,n):\n",
    "                if np.fabs(a[i,k])>np.fabs(a[k,k]):\n",
    "                    a[[k,i]]=a[[i,k]]\n",
    "                    b[[k,i]]=b[[i,k]]\n",
    "                    break\n",
    "        #Division of pivot row\n",
    "        pivot=a[k,k]\n",
    "        a[k]/=pivot\n",
    "        b[k]/=pivot\n",
    "        #Elemination loop\n",
    "        for i in range(n):\n",
    "            if i==k or a[i,k]==0:\n",
    "                continue\n",
    "            factor=a[i,k]            \n",
    "            a[i]-=factor*a[k]\n",
    "            b[i]-=factor*b[k]\n",
    "    return b,a\n",
    "\n",
    "a=[[0,2,0,1],[2,2,3,2],[4,-3,0,1],[6,1,-6,-5]]\n",
    "b=[0,-2,-7,6]\n",
    "\n",
    "X,A=gaussjordan(a,b)\n",
    "\n",
    "print('The solution: ')\n",
    "print(X)\n",
    "print('The transformed [a]: ')\n",
    "print(A)"
   ]
  },
  {
   "cell_type": "code",
   "execution_count": 126,
   "metadata": {},
   "outputs": [],
   "source": [
    "# Part VI\n",
    "\n",
    "# Solutions in NumPy & SciPy"
   ]
  },
  {
   "cell_type": "code",
   "execution_count": 140,
   "metadata": {},
   "outputs": [],
   "source": [
    "from scipy.linalg import solve, inv"
   ]
  },
  {
   "cell_type": "code",
   "execution_count": 141,
   "metadata": {},
   "outputs": [
    {
     "data": {
      "text/plain": [
       "array([[ 0.36500754],\n",
       "       [-0.23378582],\n",
       "       [ 0.28506787],\n",
       "       [-0.20361991]])"
      ]
     },
     "execution_count": 141,
     "metadata": {},
     "output_type": "execute_result"
    }
   ],
   "source": [
    "a=np.array([[2,-1,5,-3],\n",
    "            [4,1,2,-1],\n",
    "            [4,1,-3,-8],\n",
    "            [3,6,-1,2]],float)\n",
    "\n",
    "b=np.array([[3,2,2,-1]],float).reshape(4,1)\n",
    "\n",
    "x=solve(a,b)\n",
    "x"
   ]
  },
  {
   "cell_type": "code",
   "execution_count": 144,
   "metadata": {},
   "outputs": [
    {
     "data": {
      "text/plain": [
       "array([[ 0.36500754],\n",
       "       [-0.23378582],\n",
       "       [ 0.28506787],\n",
       "       [-0.20361991]])"
      ]
     },
     "execution_count": 144,
     "metadata": {},
     "output_type": "execute_result"
    }
   ],
   "source": [
    "a=np.array([[2,-1,5,-3],\n",
    "            [4,1,2,-1],\n",
    "            [4,1,-3,-8],\n",
    "            [3,6,-1,2]],float)\n",
    "\n",
    "b=np.array([[3,2,2,-1]],float).reshape(4,1)\n",
    "\n",
    "x=np.dot(inv(a),b)\n",
    "x"
   ]
  },
  {
   "cell_type": "code",
   "execution_count": 156,
   "metadata": {},
   "outputs": [
    {
     "data": {
      "text/plain": [
       "array([[ 0.36500754],\n",
       "       [-0.23378582],\n",
       "       [ 0.28506787],\n",
       "       [-0.20361991]])"
      ]
     },
     "execution_count": 156,
     "metadata": {},
     "output_type": "execute_result"
    }
   ],
   "source": [
    "a=np.array([[2,-1,5,-3],\n",
    "            [4,1,2,-1],\n",
    "            [4,1,-3,-8],\n",
    "            [3,6,-1,2]],float)\n",
    "\n",
    "b=np.array([[3,2,2,-1]],float).reshape(4,1)\n",
    "\n",
    "x=np.linalg.solve(a,b)\n",
    "x"
   ]
  },
  {
   "cell_type": "code",
   "execution_count": null,
   "metadata": {},
   "outputs": [],
   "source": []
  }
 ],
 "metadata": {
  "kernelspec": {
   "display_name": "Python 3",
   "language": "python",
   "name": "python3"
  },
  "language_info": {
   "codemirror_mode": {
    "name": "ipython",
    "version": 3
   },
   "file_extension": ".py",
   "mimetype": "text/x-python",
   "name": "python",
   "nbconvert_exporter": "python",
   "pygments_lexer": "ipython3",
   "version": "3.6.10"
  }
 },
 "nbformat": 4,
 "nbformat_minor": 4
}

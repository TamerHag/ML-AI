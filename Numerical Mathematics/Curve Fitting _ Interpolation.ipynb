{
 "cells": [
  {
   "cell_type": "code",
   "execution_count": 1,
   "metadata": {},
   "outputs": [],
   "source": [
    "# Part I"
   ]
  },
  {
   "cell_type": "code",
   "execution_count": 2,
   "metadata": {},
   "outputs": [],
   "source": [
    "# Linear interpolation"
   ]
  },
  {
   "cell_type": "code",
   "execution_count": 100,
   "metadata": {},
   "outputs": [],
   "source": [
    "import numpy as np"
   ]
  },
  {
   "cell_type": "code",
   "execution_count": 4,
   "metadata": {},
   "outputs": [],
   "source": [
    "#time=np.arange(0,101,20)\n",
    "#time\n",
    "\n",
    "#tim=np.linspace(0,100,6)\n",
    "#tim"
   ]
  },
  {
   "cell_type": "code",
   "execution_count": 5,
   "metadata": {},
   "outputs": [
    {
     "data": {
      "text/plain": [
       "[26, 48.6, 61.6, 71.2, 74.8, 75.2]"
      ]
     },
     "execution_count": 5,
     "metadata": {},
     "output_type": "execute_result"
    }
   ],
   "source": [
    "temp=[26,48.6,61.6,71.2,74.8,75.2]\n",
    "temp"
   ]
  },
  {
   "cell_type": "code",
   "execution_count": 16,
   "metadata": {},
   "outputs": [
    {
     "data": {
      "text/plain": [
       "66.4"
      ]
     },
     "execution_count": 16,
     "metadata": {},
     "output_type": "execute_result"
    }
   ],
   "source": [
    "y=lambda xp,x1,x2,y1,y2: y1+(((y2-y1)/(x2-x1))*(xp-x1))\n",
    "y(50,40,60,61.6,71.2)"
   ]
  },
  {
   "cell_type": "code",
   "execution_count": 20,
   "metadata": {},
   "outputs": [
    {
     "name": "stdout",
     "output_type": "stream",
     "text": [
      "the temperature = 66.400000\n"
     ]
    }
   ],
   "source": [
    "time=np.arange(0,101,20)\n",
    "temp=[26,48.6,61.6,71.2,74.8,75.2]\n",
    "\n",
    "def y(xp, x, y):\n",
    "    for i,xi in enumerate(x):\n",
    "        if xp<xi: \n",
    "            return y[i-1]+(((y[i]-y[i-1])/(x[i]-x[i-1]))*(xp-x[i-1]))\n",
    "    else:\n",
    "        print('Given x-value is out of range')\n",
    "        \n",
    "temp50=y(50,time,temp)\n",
    "print('the temperature = %f' %temp50)"
   ]
  },
  {
   "cell_type": "code",
   "execution_count": 17,
   "metadata": {},
   "outputs": [],
   "source": [
    "# Part II\n",
    "\n",
    "# Lagrange's Method"
   ]
  },
  {
   "cell_type": "code",
   "execution_count": 23,
   "metadata": {},
   "outputs": [
    {
     "name": "stdout",
     "output_type": "stream",
     "text": [
      "Enter x: 50\n",
      "For x=50.0, y=66.9\n"
     ]
    }
   ],
   "source": [
    "x=np.linspace(0,100,6)\n",
    "y=[26,48.6,61.6,71.2,74.8,75.2]\n",
    "\n",
    "m=len(x) # length of the x list\n",
    "n=m-1\n",
    "xp=float(input('Enter x: '))\n",
    "yp=0\n",
    "\n",
    "for i in range(n+1):\n",
    "    L=1\n",
    "    for j in range(n+1):\n",
    "        if j!=i:\n",
    "            L*=(xp-x[j])/(x[i]-x[j])\n",
    "    yp+=y[i]*L\n",
    "print ('For x=%.1f, y=%.1f' %(xp,yp))"
   ]
  },
  {
   "cell_type": "code",
   "execution_count": 61,
   "metadata": {},
   "outputs": [],
   "source": [
    "# Part II\n",
    "\n",
    "# Newton's intepolation Method"
   ]
  },
  {
   "cell_type": "code",
   "execution_count": 56,
   "metadata": {},
   "outputs": [
    {
     "data": {
      "text/plain": [
       "array([[ 0.        ,  0.        ,  0.        ,  0.        ,  0.        ,\n",
       "         0.        ],\n",
       "       [ 0.9       ,  0.6       ,  0.        ,  0.        ,  0.        ,\n",
       "         0.        ],\n",
       "       [ 2.5       ,  0.89285714,  0.22527473,  0.        ,  0.        ,\n",
       "         0.        ],\n",
       "       [ 6.6       ,  1.5       ,  0.31034483,  0.05316881,  0.        ,\n",
       "         0.        ],\n",
       "       [ 7.7       ,  1.26229508,  0.14397719, -0.02463562, -0.04576731,\n",
       "         0.        ],\n",
       "       [ 8.        ,  1.        ,  0.06153846, -0.03148774, -0.02351571,\n",
       "         0.01171137]])"
      ]
     },
     "execution_count": 56,
     "metadata": {},
     "output_type": "execute_result"
    }
   ],
   "source": [
    "x=[0,1.5,2.8,4.4,6.1,8]\n",
    "y=[0,0.9,2.5,6.6,7.7,8]\n",
    "\n",
    "n=len(x)-1\n",
    "Dy=np.zeros((n+1,n+1))\n",
    "Dy[:,0]=y\n",
    "\n",
    "for j in range(n):\n",
    "    for i in range(j+1,n+1):\n",
    "        Dy[i,j+1]=((Dy[i,j]-Dy[j,j])/(x[i]-x[j]))\n",
    "Dy"
   ]
  },
  {
   "cell_type": "code",
   "execution_count": 60,
   "metadata": {},
   "outputs": [
    {
     "name": "stdout",
     "output_type": "stream",
     "text": [
      "Enter x: 6.1\n",
      "For x=6.1, y=7.7\n"
     ]
    }
   ],
   "source": [
    "xp=float(input('Enter x: ')) \n",
    "yp=Dy[0,0]\n",
    "for i in range(n):\n",
    "    xprod=1\n",
    "    for j in range(i+1):\n",
    "        xprod*=(xp-x[j])\n",
    "    yp+=xprod*Dy[i+1,i+1]\n",
    "print('For x=%.1f, y=%.1f' %(xp,yp))"
   ]
  },
  {
   "cell_type": "code",
   "execution_count": 63,
   "metadata": {},
   "outputs": [],
   "source": [
    "# Part IV\n",
    "\n",
    "# Linear Regression (for loop)"
   ]
  },
  {
   "cell_type": "code",
   "execution_count": 98,
   "metadata": {},
   "outputs": [
    {
     "name": "stdout",
     "output_type": "stream",
     "text": [
      "The straight line equation y=(-2.98)+(0.96)*x\n"
     ]
    }
   ],
   "source": [
    "x=np.linspace(3,8,6)\n",
    "y=[0,7,17,26,35,45]\n",
    "\n",
    "n=len(x)\n",
    "sum_x=sum_y=sum_x2=sum_xy=0\n",
    "\n",
    "for i in range(n):\n",
    "    sum_x+=x[i]\n",
    "    sum_y+=y[i]\n",
    "    sum_x2+=x[i]**2\n",
    "    sum_xy+=x[i]*y[i]\n",
    "\n",
    "x_mean=sum_x/n\n",
    "y_mean=sum_y/n\n",
    "\n",
    "a=(((y_mean*sum_x2)-(x_mean*sum_xy))/(sum_x2-(n*x_mean)))\n",
    "b=((sum_xy-(x_mean*sum_y))/(sum_x2-(n*x_mean)))\n",
    "\n",
    "print('The straight line equation', 'y=(%.2f)+(%.2f)*x' %(a,b))"
   ]
  },
  {
   "cell_type": "code",
   "execution_count": 95,
   "metadata": {},
   "outputs": [],
   "source": [
    "# Part V\n",
    "\n",
    "# Linear Regression (Numpy arrays)"
   ]
  },
  {
   "cell_type": "code",
   "execution_count": 102,
   "metadata": {},
   "outputs": [
    {
     "name": "stdout",
     "output_type": "stream",
     "text": [
      "The straight line equation y=(-2.98)+(0.96)*x\n"
     ]
    }
   ],
   "source": [
    "x=np.linspace(3,8,6)\n",
    "y=[0,7,17,26,35,45]\n",
    "\n",
    "n=len(x)\n",
    "\n",
    "a=(((np.mean(y)*sum(pow(x,2)))-(np.mean(x)*sum(x*y)))/(sum(pow(x,2))-(n*np.mean(x))))\n",
    "b=((sum(x*y)-(np.mean(x)*sum(y)))/(sum(pow(x,2))-(n*np.mean(x))))\n",
    "\n",
    "print('The straight line equation', 'y=(%.2f)+(%.2f)*x' %(a,b))"
   ]
  },
  {
   "cell_type": "code",
   "execution_count": 107,
   "metadata": {},
   "outputs": [],
   "source": [
    "# Part VI\n",
    "\n",
    "# Polynomial fit (Curve Fitting)"
   ]
  },
  {
   "cell_type": "code",
   "execution_count": 115,
   "metadata": {},
   "outputs": [
    {
     "name": "stdout",
     "output_type": "stream",
     "text": [
      "The polynomial is : f(x)= \t 2.678571\n",
      "\t +2.253571 x^1\n",
      "\t +1.875000 x^2\n"
     ]
    }
   ],
   "source": [
    "x=np.linspace(0,5,6)\n",
    "y=[2,8,14,28,39,62]\n",
    "\n",
    "m=len(x)\n",
    "n=2\n",
    "A=np.zeros((n+1,n+1))\n",
    "B=np.zeros(n+1)\n",
    "a=np.zeros(n+1)\n",
    "\n",
    "for row in range(n+1):\n",
    "    for col in range(n+1):\n",
    "        if row==0 and col==0:\n",
    "            A[row,col]=m\n",
    "            continue\n",
    "        A[row,col]=np.sum(pow(x,(row+col)))\n",
    "    B[row]=np.sum(y*pow(x,row))\n",
    "\n",
    "a=np.linalg.solve(A,B)\n",
    "print('The polynomial is :','f(x)= \\t %f' %a[0])\n",
    "for i in range(1,n+1):\n",
    "    print('\\t %+f x^%d' %(a[i],i))"
   ]
  },
  {
   "cell_type": "code",
   "execution_count": 116,
   "metadata": {},
   "outputs": [
    {
     "name": "stdout",
     "output_type": "stream",
     "text": [
      "The polynomial is : f(x)= \t 1.928571\n",
      "\t +5.678571 x^1\n",
      "\t -0.000000 x^2\n",
      "\t +0.250000 x^3\n"
     ]
    }
   ],
   "source": [
    "x=np.linspace(0,5,6)\n",
    "y=[2,8,14,28,39,62]\n",
    "\n",
    "m=len(x)\n",
    "n=3\n",
    "A=np.zeros((n+1,n+1))\n",
    "B=np.zeros(n+1)\n",
    "a=np.zeros(n+1)\n",
    "\n",
    "for row in range(n+1):\n",
    "    for col in range(n+1):\n",
    "        if row==0 and col==0:\n",
    "            A[row,col]=m\n",
    "            continue\n",
    "        A[row,col]=np.sum(pow(x,(row+col)))\n",
    "    B[row]=np.sum(y*pow(x,row))\n",
    "\n",
    "a=np.linalg.solve(A,B)\n",
    "print('The polynomial is :','f(x)= \\t %f' %a[0])\n",
    "for i in range(1,n+1):\n",
    "    print('\\t %+f x^%d' %(a[i],i))"
   ]
  },
  {
   "cell_type": "code",
   "execution_count": 117,
   "metadata": {},
   "outputs": [],
   "source": [
    "# Part VII\n",
    "\n",
    "# Revisiting all parts with scipy"
   ]
  },
  {
   "cell_type": "code",
   "execution_count": 118,
   "metadata": {},
   "outputs": [],
   "source": [
    "from scipy.interpolate import interp1d, lagrange"
   ]
  },
  {
   "cell_type": "code",
   "execution_count": 122,
   "metadata": {},
   "outputs": [
    {
     "name": "stdout",
     "output_type": "stream",
     "text": [
      "66.4\n"
     ]
    }
   ],
   "source": [
    "time=np.arange(0,101,20)\n",
    "temp=[26,48.6,61.6,71.2,74.8,75.2]\n",
    "\n",
    "f=interp1d(time,temp)\n",
    "print(f(50))"
   ]
  },
  {
   "cell_type": "code",
   "execution_count": 123,
   "metadata": {},
   "outputs": [
    {
     "name": "stdout",
     "output_type": "stream",
     "text": [
      "66.95208333333332\n"
     ]
    }
   ],
   "source": [
    "f=interp1d(time,temp,'quadratic')\n",
    "print(f(50))"
   ]
  },
  {
   "cell_type": "code",
   "execution_count": 125,
   "metadata": {},
   "outputs": [
    {
     "name": "stdout",
     "output_type": "stream",
     "text": [
      "66.945\n"
     ]
    }
   ],
   "source": [
    "f=interp1d(time,temp,'cubic')\n",
    "print(f(50))"
   ]
  },
  {
   "cell_type": "code",
   "execution_count": 124,
   "metadata": {},
   "outputs": [
    {
     "name": "stdout",
     "output_type": "stream",
     "text": [
      "66.94765624999957\n"
     ]
    }
   ],
   "source": [
    "L=lagrange(time,temp)\n",
    "print(L(50))"
   ]
  },
  {
   "cell_type": "code",
   "execution_count": 129,
   "metadata": {},
   "outputs": [
    {
     "name": "stdout",
     "output_type": "stream",
     "text": [
      "           5             4             3           2\n",
      "3.698e-08 x - 9.688e-06 x + 0.0009219 x - 0.04463 x + 1.725 x + 26\n"
     ]
    }
   ],
   "source": [
    "L=lagrange(time,temp)\n",
    "print(L)"
   ]
  },
  {
   "cell_type": "code",
   "execution_count": 130,
   "metadata": {},
   "outputs": [],
   "source": [
    "from scipy.misc import derivative"
   ]
  },
  {
   "cell_type": "code",
   "execution_count": 135,
   "metadata": {},
   "outputs": [],
   "source": [
    "from scipy.stats import linregress"
   ]
  },
  {
   "cell_type": "code",
   "execution_count": 136,
   "metadata": {},
   "outputs": [],
   "source": [
    "from scipy.optimize import curve_fit"
   ]
  },
  {
   "cell_type": "code",
   "execution_count": 137,
   "metadata": {},
   "outputs": [
    {
     "data": {
      "text/plain": [
       "LinregressResult(slope=9.085714285714285, intercept=-28.3047619047619, rvalue=0.9990651680982869, pvalue=1.3104575468971522e-06, stderr=0.19656921371950828)"
      ]
     },
     "execution_count": 137,
     "metadata": {},
     "output_type": "execute_result"
    }
   ],
   "source": [
    "x=np.linspace(3,8,6)\n",
    "y=[0,7,17,26,35,45]\n",
    "\n",
    "linregress(x,y)"
   ]
  },
  {
   "cell_type": "code",
   "execution_count": 138,
   "metadata": {},
   "outputs": [
    {
     "data": {
      "text/plain": [
       "9.085714285714285"
      ]
     },
     "execution_count": 138,
     "metadata": {},
     "output_type": "execute_result"
    }
   ],
   "source": [
    "linregress(x,y).slope"
   ]
  },
  {
   "cell_type": "code",
   "execution_count": 139,
   "metadata": {},
   "outputs": [
    {
     "data": {
      "text/plain": [
       "-28.3047619047619"
      ]
     },
     "execution_count": 139,
     "metadata": {},
     "output_type": "execute_result"
    }
   ],
   "source": [
    "linregress(x,y).intercept"
   ]
  },
  {
   "cell_type": "code",
   "execution_count": 140,
   "metadata": {},
   "outputs": [
    {
     "name": "stdout",
     "output_type": "stream",
     "text": [
      "The straight line equation y=(9.09)+(-28.30)*x\n"
     ]
    }
   ],
   "source": [
    "print('The straight line equation', 'y=(%.2f)+(%.2f)*x' %(linregress(x,y).slope,linregress(x,y).intercept))"
   ]
  },
  {
   "cell_type": "code",
   "execution_count": 151,
   "metadata": {},
   "outputs": [
    {
     "data": {
      "text/plain": [
       "(array([2.67857143, 2.25357143, 1.875     ]),\n",
       " array([[ 3.78835029, -2.71772967,  0.41177724],\n",
       "        [-2.71772967,  3.35186676, -0.61766587],\n",
       "        [ 0.41177724, -0.61766587,  0.12353317]]))"
      ]
     },
     "execution_count": 151,
     "metadata": {},
     "output_type": "execute_result"
    }
   ],
   "source": [
    "x=np.linspace(0,5,6)\n",
    "y=[2,8,14,28,39,62]\n",
    "\n",
    "f=lambda x,a0,a1,a2: a0+a1*x+a2*pow(x,2)\n",
    "\n",
    "curve_fit(f,x,y)\n",
    "(a,b)=curve_fit(f,x,y)\n",
    "(a,b)"
   ]
  },
  {
   "cell_type": "code",
   "execution_count": 150,
   "metadata": {},
   "outputs": [
    {
     "name": "stdout",
     "output_type": "stream",
     "text": [
      "[2.67857143 2.25357143 1.875     ]\n"
     ]
    }
   ],
   "source": [
    "print(a)"
   ]
  },
  {
   "cell_type": "code",
   "execution_count": 152,
   "metadata": {},
   "outputs": [
    {
     "name": "stdout",
     "output_type": "stream",
     "text": [
      "[[ 3.78835029 -2.71772967  0.41177724]\n",
      " [-2.71772967  3.35186676 -0.61766587]\n",
      " [ 0.41177724 -0.61766587  0.12353317]]\n"
     ]
    }
   ],
   "source": [
    "print(b)"
   ]
  },
  {
   "cell_type": "code",
   "execution_count": 155,
   "metadata": {},
   "outputs": [
    {
     "data": {
      "text/plain": [
       "(array([ 1.92857143e+00,  5.67857143e+00, -2.17847962e-12,  2.50000000e-01]),\n",
       " array([[ 3.68225352e+00, -1.81170252e+00, -7.83525133e-06,\n",
       "          4.62383516e-02],\n",
       "        [-1.81170252e+00,  1.75673872e+00, -2.18158095e-05,\n",
       "         -6.34981147e-02],\n",
       "        [-7.83525133e-06, -2.18158095e-05,  2.41729418e-09,\n",
       "          1.07542719e-06],\n",
       "        [ 4.62383516e-02, -6.34981147e-02,  1.07542719e-06,\n",
       "          2.73863476e-03]]))"
      ]
     },
     "execution_count": 155,
     "metadata": {},
     "output_type": "execute_result"
    }
   ],
   "source": [
    "f=lambda x,a0,a1,a2,a3: a0+a1*x+a2*pow(x,2)+a3*pow(x,3)\n",
    "\n",
    "curve_fit(f,x,y)\n",
    "\n",
    "(a,b)=curve_fit(f,x,y)\n",
    "(a,b)"
   ]
  },
  {
   "cell_type": "code",
   "execution_count": 156,
   "metadata": {},
   "outputs": [
    {
     "name": "stdout",
     "output_type": "stream",
     "text": [
      "[ 1.92857143e+00  5.67857143e+00 -2.17847962e-12  2.50000000e-01]\n"
     ]
    }
   ],
   "source": [
    "print(a)"
   ]
  },
  {
   "cell_type": "code",
   "execution_count": 157,
   "metadata": {},
   "outputs": [
    {
     "name": "stdout",
     "output_type": "stream",
     "text": [
      "[[ 3.68225352e+00 -1.81170252e+00 -7.83525133e-06  4.62383516e-02]\n",
      " [-1.81170252e+00  1.75673872e+00 -2.18158095e-05 -6.34981147e-02]\n",
      " [-7.83525133e-06 -2.18158095e-05  2.41729418e-09  1.07542719e-06]\n",
      " [ 4.62383516e-02 -6.34981147e-02  1.07542719e-06  2.73863476e-03]]\n"
     ]
    }
   ],
   "source": [
    "print(b)"
   ]
  },
  {
   "cell_type": "code",
   "execution_count": null,
   "metadata": {},
   "outputs": [],
   "source": []
  }
 ],
 "metadata": {
  "kernelspec": {
   "display_name": "Python 3",
   "language": "python",
   "name": "python3"
  },
  "language_info": {
   "codemirror_mode": {
    "name": "ipython",
    "version": 3
   },
   "file_extension": ".py",
   "mimetype": "text/x-python",
   "name": "python",
   "nbconvert_exporter": "python",
   "pygments_lexer": "ipython3",
   "version": "3.6.10"
  }
 },
 "nbformat": 4,
 "nbformat_minor": 4
}

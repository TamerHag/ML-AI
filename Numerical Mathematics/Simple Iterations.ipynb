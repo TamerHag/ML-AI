{
 "cells": [
  {
   "cell_type": "code",
   "execution_count": 13,
   "metadata": {},
   "outputs": [],
   "source": [
    "import numpy as np"
   ]
  },
  {
   "cell_type": "code",
   "execution_count": 49,
   "metadata": {},
   "outputs": [],
   "source": [
    "# Part I (for loop)"
   ]
  },
  {
   "cell_type": "code",
   "execution_count": 22,
   "metadata": {
    "scrolled": true
   },
   "outputs": [
    {
     "name": "stdout",
     "output_type": "stream",
     "text": [
      "1 0.6\n",
      "2 0.6\n",
      "3 0.6\n",
      "4 0.6\n",
      "5 0.6\n",
      "6 0.6\n",
      "7 0.6\n",
      "8 0.6\n",
      "9 0.6\n",
      "10 0.6\n",
      "11 0.6\n",
      "12 0.6\n",
      "13 0.6\n",
      "14 0.6\n",
      "15 0.6\n",
      "16 0.6\n",
      "17 0.6\n",
      "18 0.6\n",
      "19 0.6\n",
      "20 0.6\n",
      "21 0.6\n",
      "22 0.6\n",
      "23 0.6\n",
      "24 0.6\n",
      "25 0.6\n",
      "26 0.6\n",
      "27 0.6\n",
      "28 0.6\n",
      "29 0.6\n",
      "30 0.6\n",
      "31 0.6\n",
      "32 0.6\n",
      "33 0.6\n",
      "34 0.6\n",
      "35 0.6\n",
      "36 0.6\n",
      "37 0.6\n",
      "38 0.6\n",
      "39 0.6\n",
      "40 0.6\n",
      "41 0.6\n",
      "42 0.6\n",
      "43 0.6\n",
      "44 0.6\n",
      "45 0.6\n",
      "46 0.6\n",
      "47 0.6\n",
      "48 0.6\n",
      "49 0.6\n",
      "50 0.6\n",
      "51 0.6\n",
      "52 0.6\n",
      "53 0.6\n",
      "54 0.6\n",
      "55 0.6\n",
      "56 0.6\n",
      "57 0.6\n",
      "58 0.6\n",
      "59 0.6\n",
      "60 0.6\n",
      "61 0.6\n",
      "62 0.6\n",
      "63 0.6\n",
      "64 0.6\n",
      "65 0.6\n",
      "66 0.6\n",
      "67 0.6\n",
      "68 0.6\n",
      "69 0.6\n",
      "70 0.6\n",
      "71 0.6\n",
      "72 0.6\n",
      "73 0.6\n",
      "74 0.6\n",
      "75 0.6\n",
      "76 0.6\n",
      "77 0.6\n",
      "78 0.6\n",
      "79 0.6\n",
      "80 0.6\n",
      "81 0.6\n",
      "82 0.6\n",
      "83 0.6\n",
      "84 0.6\n",
      "85 0.6\n",
      "86 0.6\n",
      "87 0.6\n",
      "88 0.6\n",
      "89 0.6\n",
      "90 0.6\n",
      "91 0.6\n",
      "92 0.6\n",
      "93 0.6\n",
      "94 0.6\n",
      "95 0.6\n",
      "96 0.6\n",
      "97 0.6\n",
      "98 0.6\n",
      "99 0.6\n",
      "100 0.6\n",
      "100 0\n"
     ]
    }
   ],
   "source": [
    "x=0 # The initial guess\n",
    "\n",
    "for iteration in range(1,101): #100 iterations\n",
    "    x_new= ((2*pow(x,2))+3)/5\n",
    "    print(iteration,x_new)\n",
    "    if x_new==x:\n",
    "        break\n",
    "    x_new=x\n",
    "\n",
    "print(iteration,x_new)"
   ]
  },
  {
   "cell_type": "code",
   "execution_count": 62,
   "metadata": {
    "scrolled": true
   },
   "outputs": [
    {
     "name": "stdout",
     "output_type": "stream",
     "text": [
      "the root: 1.600000\n"
     ]
    }
   ],
   "source": [
    "x=1.6 # The initial guess\n",
    "\n",
    "for iteration in range(1,101): #100 iterations\n",
    "    x_new= ((2*pow(x,2))+3)/5\n",
    "    #print(x)\n",
    "    if x_new==x:\n",
    "        break\n",
    "    x_new=x\n",
    "\n",
    "print('the root: %f' %x_new)"
   ]
  },
  {
   "cell_type": "code",
   "execution_count": 50,
   "metadata": {},
   "outputs": [],
   "source": [
    "# Part II (while loop)"
   ]
  },
  {
   "cell_type": "code",
   "execution_count": 101,
   "metadata": {},
   "outputs": [
    {
     "name": "stdout",
     "output_type": "stream",
     "text": [
      "the root: 0.965311\n",
      "the nbr of iterations: 9\n"
     ]
    }
   ],
   "source": [
    "x=5 # The initial guess\n",
    "x_new=0\n",
    "iteration=0\n",
    "while abs(x_new-x)>0.01:\n",
    "    iteration+=1\n",
    "    x=x_new\n",
    "    x_new = ((2*pow(x,2))+3)/5\n",
    "    \n",
    "print('the root: %f' %x_new)\n",
    "print('the nbr of iterations: %d' %iteration)\n",
    "#print(iteration,x_new)"
   ]
  },
  {
   "cell_type": "code",
   "execution_count": 97,
   "metadata": {},
   "outputs": [],
   "source": [
    "# Newton-Raphson Method"
   ]
  },
  {
   "cell_type": "code",
   "execution_count": 99,
   "metadata": {},
   "outputs": [
    {
     "name": "stdout",
     "output_type": "stream",
     "text": [
      "the root: 1.00000\n",
      "the nbr of iterations: 7\n"
     ]
    }
   ],
   "source": [
    "x=0 # The initial guess\n",
    "\n",
    "for iteration in range(1,101): #100 iterations\n",
    "    x_new= x-(((2*pow(x,2))-5*x+3)/(4*x-5))\n",
    "    if abs(x_new-x)<0.000001:\n",
    "        break\n",
    "    x=x_new\n",
    "\n",
    "print('the root: %0.5f' %x_new)\n",
    "print('the nbr of iterations: %d' %iteration)"
   ]
  },
  {
   "cell_type": "code",
   "execution_count": 105,
   "metadata": {},
   "outputs": [
    {
     "name": "stdout",
     "output_type": "stream",
     "text": [
      "the root: 1.50000\n",
      "the nbr of iterations: 6\n"
     ]
    }
   ],
   "source": [
    "x=2 # The initial guess\n",
    "\n",
    "for iteration in range(1,101): #100 iterations\n",
    "    x_new= x-(((2*pow(x,2))-5*x+3)/(4*x-5))\n",
    "    if abs(x_new-x)<0.000001:\n",
    "        break\n",
    "    x=x_new\n",
    "\n",
    "print('the root: %0.5f' %x_new)\n",
    "print('the nbr of iterations: %d' %iteration)"
   ]
  },
  {
   "cell_type": "code",
   "execution_count": 120,
   "metadata": {},
   "outputs": [],
   "source": [
    "from math import *"
   ]
  },
  {
   "cell_type": "code",
   "execution_count": 136,
   "metadata": {},
   "outputs": [
    {
     "name": "stdout",
     "output_type": "stream",
     "text": [
      "the root: 3.85030\n",
      "the nbr of iterations: 5\n"
     ]
    }
   ],
   "source": [
    "x=2.5 # The initial guess\n",
    "\n",
    "for iteration in range(1,101): #100 iterations\n",
    "    x_new= x-(((pow(x,2))+pow(cos(x),2)-4*x)/(2*x-2*sin(x)*cos(x)-4))\n",
    "    if abs(x_new-x)<0.000001:\n",
    "        break\n",
    "    x=x_new\n",
    "\n",
    "print('the root: %0.5f' %x_new)\n",
    "print('the nbr of iterations: %d' %iteration)"
   ]
  },
  {
   "cell_type": "code",
   "execution_count": 127,
   "metadata": {},
   "outputs": [
    {
     "data": {
      "text/plain": [
       "5.893078572476416"
      ]
     },
     "execution_count": 127,
     "metadata": {},
     "output_type": "execute_result"
    }
   ],
   "source": [
    "x=9\n",
    "\n",
    "f3=x-(((pow(x,2))+pow(cos(x),2)-4*x)/(2*x-2*sin(x)*cos(x)-4))\n",
    "\n",
    "f3"
   ]
  },
  {
   "cell_type": "code",
   "execution_count": 137,
   "metadata": {},
   "outputs": [],
   "source": [
    "# Bisection Method"
   ]
  },
  {
   "cell_type": "code",
   "execution_count": 16,
   "metadata": {},
   "outputs": [],
   "source": [
    "import matplotlib.pyplot as plt"
   ]
  },
  {
   "cell_type": "code",
   "execution_count": 19,
   "metadata": {},
   "outputs": [
    {
     "name": "stdout",
     "output_type": "stream",
     "text": [
      "The root: 1.677650690\n",
      "the nbr of bisections: 23\n"
     ]
    }
   ],
   "source": [
    "x1=1\n",
    "x2=2\n",
    "y1=(2*(x1**3))-3*(x1**2)-1\n",
    "y2=(2*(x2**3))-3*(x2**2)-1\n",
    "\n",
    "if y1*y2 > 0:\n",
    "    print('The equation has no unique solution in this interval')\n",
    "    exit\n",
    "for bisection in range(1,101):\n",
    "    xh=(x1+x2)/2\n",
    "    yh=(2*(xh**3))-3*(xh**2)-1\n",
    "    y1=(2*(x1**3))-3*(x1**2)-1\n",
    "    if abs(y1)<1.0E-6:\n",
    "        break\n",
    "    elif y1*yh<0: #if the root is in the 1st interval half\n",
    "        x2=xh\n",
    "    else:\n",
    "        x1=xh\n",
    "print('The root: %0.9f' %x1)\n",
    "print('the nbr of bisections: %d' %bisection)"
   ]
  },
  {
   "cell_type": "code",
   "execution_count": 286,
   "metadata": {},
   "outputs": [
    {
     "name": "stdout",
     "output_type": "stream",
     "text": [
      "The equation has no unique solution in this interval\n",
      "The root: 2.000000000\n",
      "the nbr of bisections: 100\n"
     ]
    }
   ],
   "source": [
    "t1=1\n",
    "t2=2\n",
    "g1=-3-(np.log(t1))+(1/t1)\n",
    "g2=-3-(np.log(t2))+(1/t2)\n",
    "\n",
    "if g1*g2 > 0:\n",
    "    print('The equation has no unique solution in this interval')\n",
    "    exit\n",
    "for bisection in range(1,101):\n",
    "    th=(t1+t2)/2\n",
    "    gh=-3-(np.log(th))+(1/th)\n",
    "    g1=-3-(np.log(t1))+(1/t1)\n",
    "    if abs(t1)<1.0E-6:\n",
    "        break\n",
    "    elif g1*gh<0: #if the root is in the 1st interval half\n",
    "        t2=th\n",
    "    else:\n",
    "        t1=th\n",
    "print('The root: %0.9f' %t1)\n",
    "print('the nbr of bisections: %d' %bisection)"
   ]
  },
  {
   "cell_type": "code",
   "execution_count": 278,
   "metadata": {},
   "outputs": [
    {
     "name": "stdout",
     "output_type": "stream",
     "text": [
      "Enter the value of x1: 1\n",
      "Enter the value of x2: 2\n",
      "The root: 1.677558074\n",
      "the nbr of computed false positions: 12\n"
     ]
    }
   ],
   "source": [
    "def rfalsi(fn,x1,x2,tol=0.001,ilimit=101):\n",
    "    y1=fn(x1)\n",
    "    y2=fn(x2)\n",
    "    xh=0\n",
    "    ipos=0\n",
    "    if y1==0:\n",
    "        xh=x1\n",
    "    elif y2==0:\n",
    "        xh=x2\n",
    "    elif y1*y2>0:\n",
    "        print('The equation has no unique solution in this interval')\n",
    "    else:\n",
    "        for ipos in range (1,ilimit):\n",
    "            xh=x2-(((x2-x1)/(y2-y1))*y2)\n",
    "            yh=fn(xh)\n",
    "            if abs(yh)<tol:\n",
    "                break\n",
    "            elif y1*y2<0:\n",
    "                x2=xh\n",
    "                y2=yh\n",
    "            else:\n",
    "                x1=xh\n",
    "                y1=yh\n",
    "    return xh,ipos\n",
    "\n",
    "def y(x):\n",
    "    return (2*(x**3))-3*(x**2)-1\n",
    "\n",
    "x1=float(input('Enter the value of x1: '))\n",
    "x2=float(input('Enter the value of x2: '))\n",
    "\n",
    "x,n=rfalsi(y,x1,x2)\n",
    "\n",
    "print('The root: %0.9f' %x)\n",
    "print('the nbr of computed false positions: %d' %n)"
   ]
  },
  {
   "cell_type": "code",
   "execution_count": 285,
   "metadata": {},
   "outputs": [
    {
     "name": "stdout",
     "output_type": "stream",
     "text": [
      "Enter the value of t1: 0.1\n",
      "Enter the value of t2: 0.9\n",
      "The root: 0.453028671\n",
      "the nbr of computed false positions: 26\n"
     ]
    }
   ],
   "source": [
    "def rfalsi(fn,t1,t2,tol=0.001,ilimit=101):\n",
    "    g1=fn(t1)\n",
    "    g2=fn(t2)\n",
    "    th=0\n",
    "    ipos=0\n",
    "    if g1==0:\n",
    "        th=t1\n",
    "    elif g2==0:\n",
    "        th=t2\n",
    "    elif g1*g2>0:\n",
    "        print('The equation has no unique solution in this interval')\n",
    "    else:\n",
    "        for ipos in range (1,ilimit):\n",
    "            th=t2-(((t2-t1)/(g2-g1))*g2)\n",
    "            gh=fn(th)\n",
    "            if abs(gh)<tol:\n",
    "                break\n",
    "            elif g1*g2<0:\n",
    "                t2=th\n",
    "                g2=gh\n",
    "            else:\n",
    "                t1=th\n",
    "                g1=gh\n",
    "    return th,ipos\n",
    "\n",
    "g = lambda t: -3-(np.log(t))+(1/t)\n",
    "\n",
    "t1=float(input('Enter the value of t1: '))\n",
    "t2=float(input('Enter the value of t2: '))\n",
    "\n",
    "t,n=rfalsi(g,t1,t2)\n",
    "\n",
    "print('The root: %0.9f' %t)\n",
    "print('the nbr of computed false positions: %d' %n)"
   ]
  },
  {
   "cell_type": "code",
   "execution_count": 288,
   "metadata": {},
   "outputs": [
    {
     "data": {
      "text/plain": [
       "(-5.0, 10.0)"
      ]
     },
     "execution_count": 288,
     "metadata": {},
     "output_type": "execute_result"
    },
    {
     "data": {
      "image/png": "[encoded data removed]",
      "text/plain": [
       "<Figure size 432x288 with 1 Axes>"
      ]
     },
     "metadata": {
      "needs_background": "light"
     },
     "output_type": "display_data"
    }
   ],
   "source": [
    "t=np.linspace(0.1,5,100)\n",
    "g=-3-(np.log(t))+(1/t)\n",
    "\n",
    "plt.plot(t,g);\n",
    "\n",
    "plt.xlim(0,3)\n",
    "plt.ylim(-5,10)"
   ]
  },
  {
   "cell_type": "code",
   "execution_count": 289,
   "metadata": {},
   "outputs": [],
   "source": [
    "# Secant Method"
   ]
  },
  {
   "cell_type": "code",
   "execution_count": 10,
   "metadata": {},
   "outputs": [
    {
     "name": "stdout",
     "output_type": "stream",
     "text": [
      "Enter x1: 1\n",
      "Enter x2: 2\n",
      "Root= 1.677650699 at 6 iterations\n"
     ]
    }
   ],
   "source": [
    "def secant (fn,x1,x2,tol,maxiter):\n",
    "    for iteration in range(maxiter):\n",
    "        x_new=x2-(((x2-x1)/(fn(x2)-fn(x1)))*fn(x2))\n",
    "        if abs(x_new-x2)<tol:\n",
    "            break\n",
    "        else:\n",
    "            x1=x2\n",
    "            x2=x_new\n",
    "    else:\n",
    "        print(\"Waring: Max iterations is reached!\")\n",
    "    return x_new, iteration\n",
    "\n",
    "f= lambda x: 2*(x**3)-3*(x**2)-1\n",
    "x1= float(input(\"Enter x1: \"))\n",
    "x2= float(input(\"Enter x2: \"))\n",
    "\n",
    "r,n=secant(f,x1,x2,0.000001,100)\n",
    "print(\"Root= %0.9f at %d iterations\" %(r,n))"
   ]
  },
  {
   "cell_type": "code",
   "execution_count": 14,
   "metadata": {},
   "outputs": [
    {
     "name": "stdout",
     "output_type": "stream",
     "text": [
      "Enter t1: 0.45\n",
      "Enter t2: 0.46\n",
      "Root= 0.452910852 at 2 iterations\n"
     ]
    }
   ],
   "source": [
    "def secant (fn,t1,t2,tol,maxiter):\n",
    "    for iteration in range(maxiter):\n",
    "        t_new=t2-(((t2-t1)/(fn(t2)-fn(t1)))*fn(t2))\n",
    "        if abs(t_new-t2)<tol:\n",
    "            break\n",
    "        else:\n",
    "            t1=t2\n",
    "            t2=t_new\n",
    "    else:\n",
    "        print(\"Waring: Max iterations is reached!\")\n",
    "    return t_new, iteration\n",
    "\n",
    "f= lambda t: -3-(np.log(t))+(1/t)\n",
    "t1= float(input(\"Enter t1: \"))\n",
    "t2= float(input(\"Enter t2: \"))\n",
    "\n",
    "r,n=secant(f,t1,t2,0.000001,100)\n",
    "print(\"Root= %0.9f at %d iterations\" %(r,n))"
   ]
  },
  {
   "cell_type": "code",
   "execution_count": 15,
   "metadata": {},
   "outputs": [],
   "source": [
    "# Bisection Method Revisited"
   ]
  },
  {
   "cell_type": "code",
   "execution_count": 23,
   "metadata": {},
   "outputs": [
    {
     "name": "stdout",
     "output_type": "stream",
     "text": [
      "Enter x1: 1\n",
      "Enter x1: 2\n",
      "The root: 1.677650690\n",
      "the nbr of bisections: 23\n"
     ]
    }
   ],
   "source": [
    "y= lambda x: 2*(x**3)-3*(x**2)-1\n",
    "\n",
    "x1=float(input(\"Enter x1: \"))\n",
    "x2=float(input(\"Enter x1: \"))\n",
    "y1=y(x1)\n",
    "y2=y(x2)\n",
    "\n",
    "if y1*y2 > 0:\n",
    "    print('The equation has no unique solution in this interval')\n",
    "    exit\n",
    "for bisection in range(1,101):\n",
    "    xh=(x1+x2)/2\n",
    "    yh=y(xh)\n",
    "    y1=y(x1)\n",
    "    if abs(y1)<1.0E-6:\n",
    "        break\n",
    "    elif y1*yh<0: #if the root is in the 1st interval half\n",
    "        x2=xh\n",
    "    else:\n",
    "        x1=xh\n",
    "print('The root: %0.9f' %x1)\n",
    "print('the nbr of bisections: %d' %bisection)"
   ]
  },
  {
   "cell_type": "code",
   "execution_count": 26,
   "metadata": {},
   "outputs": [],
   "source": [
    "from scipy.optimize import newton\n",
    "from scipy.optimize import bisect\n",
    "from scipy.optimize import fsolve\n",
    "from scipy.optimize import root"
   ]
  },
  {
   "cell_type": "code",
   "execution_count": 34,
   "metadata": {},
   "outputs": [
    {
     "data": {
      "text/plain": [
       "1.67765069880406"
      ]
     },
     "execution_count": 34,
     "metadata": {},
     "output_type": "execute_result"
    }
   ],
   "source": [
    "# Newton-Raphson Revisited\n",
    "\n",
    "f1= lambda x: 2*(x**3)-3*(x**2)-1\n",
    "\n",
    "newton(f1, 2)"
   ]
  },
  {
   "cell_type": "code",
   "execution_count": 41,
   "metadata": {},
   "outputs": [
    {
     "data": {
      "text/plain": [
       "0.45291085160919464"
      ]
     },
     "execution_count": 41,
     "metadata": {},
     "output_type": "execute_result"
    }
   ],
   "source": [
    "f2= lambda t: -3-(np.log(t))+(1/t)\n",
    "\n",
    "bisect(f2, 0.45, 0.46)"
   ]
  },
  {
   "cell_type": "code",
   "execution_count": 44,
   "metadata": {},
   "outputs": [
    {
     "data": {
      "text/plain": [
       "array([1.6776507])"
      ]
     },
     "execution_count": 44,
     "metadata": {},
     "output_type": "execute_result"
    }
   ],
   "source": [
    "f1= lambda x: 2*(x**3)-3*(x**2)-1\n",
    "\n",
    "fsolve(f1,2)"
   ]
  },
  {
   "cell_type": "code",
   "execution_count": 47,
   "metadata": {},
   "outputs": [
    {
     "data": {
      "text/plain": [
       "array([-1. ,  0. ,  1.5,  1.7,  3. ])"
      ]
     },
     "execution_count": 47,
     "metadata": {},
     "output_type": "execute_result"
    }
   ],
   "source": [
    "f1= lambda x: 2*(x**3)-3*(x**2)-1\n",
    "\n",
    "fsolve(f1, [-1,0,1.5,1.7,3])"
   ]
  },
  {
   "cell_type": "code",
   "execution_count": 50,
   "metadata": {},
   "outputs": [
    {
     "data": {
      "text/plain": [
       "    fjac: array([[-1.]])\n",
       "     fun: array([1.77635684e-15])\n",
       " message: 'The solution converged.'\n",
       "    nfev: 9\n",
       "     qtf: array([-5.77315973e-12])\n",
       "       r: array([-6.82116722])\n",
       "  status: 1\n",
       " success: True\n",
       "       x: array([1.6776507])"
      ]
     },
     "execution_count": 50,
     "metadata": {},
     "output_type": "execute_result"
    }
   ],
   "source": [
    "f1= lambda x: 2*(x**3)-3*(x**2)-1\n",
    "\n",
    "root(f1,2)"
   ]
  },
  {
   "cell_type": "code",
   "execution_count": 61,
   "metadata": {},
   "outputs": [
    {
     "data": {
      "text/plain": [
       "    fjac: array([[-1.]])\n",
       "     fun: array([0.])\n",
       " message: 'The solution converged.'\n",
       "    nfev: 12\n",
       "     qtf: array([5.68567415e-12])\n",
       "       r: array([7.08293886])\n",
       "  status: 1\n",
       " success: True\n",
       "       x: array([0.45291085])"
      ]
     },
     "execution_count": 61,
     "metadata": {},
     "output_type": "execute_result"
    }
   ],
   "source": [
    "f2= lambda t: -3-(np.log(t))+(1/t)\n",
    "\n",
    "root(f2, 0.9)"
   ]
  },
  {
   "cell_type": "code",
   "execution_count": 59,
   "metadata": {},
   "outputs": [
    {
     "data": {
      "text/plain": [
       "array([0.45291085])"
      ]
     },
     "execution_count": 59,
     "metadata": {},
     "output_type": "execute_result"
    }
   ],
   "source": [
    "f2= lambda t: -3-(np.log(t))+(1/t)\n",
    "\n",
    "root(f2, 0.1).x"
   ]
  },
  {
   "cell_type": "code",
   "execution_count": null,
   "metadata": {},
   "outputs": [],
   "source": []
  }
 ],
 "metadata": {
  "kernelspec": {
   "display_name": "Python 3",
   "language": "python",
   "name": "python3"
  },
  "language_info": {
   "codemirror_mode": {
    "name": "ipython",
    "version": 3
   },
   "file_extension": ".py",
   "mimetype": "text/x-python",
   "name": "python",
   "nbconvert_exporter": "python",
   "pygments_lexer": "ipython3",
   "version": "3.6.10"
  }
 },
 "nbformat": 4,
 "nbformat_minor": 4
}

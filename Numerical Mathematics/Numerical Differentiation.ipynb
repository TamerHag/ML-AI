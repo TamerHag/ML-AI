{
 "cells": [
  {
   "cell_type": "code",
   "execution_count": 1,
   "metadata": {},
   "outputs": [],
   "source": [
    "# Part I\n",
    "\n",
    "# Forward Differentiation"
   ]
  },
  {
   "cell_type": "code",
   "execution_count": 2,
   "metadata": {},
   "outputs": [],
   "source": [
    "import numpy as np"
   ]
  },
  {
   "cell_type": "code",
   "execution_count": 3,
   "metadata": {},
   "outputs": [
    {
     "name": "stdout",
     "output_type": "stream",
     "text": [
      "f'(0.100000)=0.093441\n",
      "f''(0.100000)=-0.129327\n"
     ]
    }
   ],
   "source": [
    "f=lambda x: 0.1*pow(x,5)-0.2*pow(x,3)+0.1*x-0.2\n",
    "\n",
    "h=0.01\n",
    "x=0.1\n",
    "\n",
    "derivf1=(f(x+h)-f(x))/h\n",
    "derivf2=(f(x+2*h)-(2*f(x+h))+f(x))/(pow(h,2))\n",
    "\n",
    "print('f\\'(%f)=%f' %(x,derivf1))\n",
    "print('f\\'\\'(%f)=%f' %(x,derivf2))"
   ]
  },
  {
   "cell_type": "code",
   "execution_count": 4,
   "metadata": {},
   "outputs": [
    {
     "name": "stdout",
     "output_type": "stream",
     "text": [
      "g'(-1)=316.228\n"
     ]
    }
   ],
   "source": [
    "g=lambda t: np.sqrt(t+1)    # (np.sqrt(t))*(np.log(1+t))\n",
    "\n",
    "h=0.00001\n",
    "t=-1\n",
    "\n",
    "derv1=(g(t+h)-g(t))/h\n",
    "#derv2=(g(t+2*h)-(2*g(t+h))+g(t))/(pow(h,2))\n",
    "\n",
    "print('g\\'(%g)=%g' %(t,derv1))\n",
    "#print('g\\'\\'(%f)=%f' %(t,derv2))"
   ]
  },
  {
   "cell_type": "code",
   "execution_count": 5,
   "metadata": {},
   "outputs": [],
   "source": [
    "# Part II\n",
    "\n",
    "# Central Differentiation"
   ]
  },
  {
   "cell_type": "code",
   "execution_count": 6,
   "metadata": {},
   "outputs": [
    {
     "name": "stdout",
     "output_type": "stream",
     "text": [
      "f'(0.100000)=0.094031\n",
      "f''(0.100000)=-0.117990\n"
     ]
    }
   ],
   "source": [
    "f=lambda x: 0.1*pow(x,5)-0.2*pow(x,3)+0.1*x-0.2\n",
    "\n",
    "h=0.01\n",
    "x=0.1\n",
    "\n",
    "derivc1=(f(x+h)-f(x-h))/(2*h)\n",
    "derivc2=(f(x+h)-(2*f(x))+f(x-h))/(pow(h,2))\n",
    "\n",
    "print('f\\'(%f)=%f' %(x,derivc1))\n",
    "print('f\\'\\'(%f)=%f' %(x,derivc2))"
   ]
  },
  {
   "cell_type": "code",
   "execution_count": 7,
   "metadata": {},
   "outputs": [],
   "source": [
    "# Backward Differentiation"
   ]
  },
  {
   "cell_type": "code",
   "execution_count": 8,
   "metadata": {},
   "outputs": [
    {
     "name": "stdout",
     "output_type": "stream",
     "text": [
      "f'(0.100000)=0.094621\n",
      "f''(0.100000)=-0.106533\n"
     ]
    }
   ],
   "source": [
    "f=lambda x: 0.1*pow(x,5)-0.2*pow(x,3)+0.1*x-0.2\n",
    "\n",
    "h=0.01\n",
    "x=0.1\n",
    "\n",
    "derivb1=(f(x)-f(x-h))/h\n",
    "derivb2=(f(x)-(2*f(x-h))+f(x-2*h))/(pow(h,2))\n",
    "\n",
    "print('f\\'(%f)=%f' %(x,derivb1))\n",
    "print('f\\'\\'(%f)=%f' %(x,derivb2))"
   ]
  },
  {
   "cell_type": "code",
   "execution_count": 9,
   "metadata": {},
   "outputs": [],
   "source": [
    "# Part III\n",
    "\n",
    "# Plotting Derivative Curves"
   ]
  },
  {
   "cell_type": "code",
   "execution_count": 10,
   "metadata": {},
   "outputs": [],
   "source": [
    "import matplotlib.pyplot as plt"
   ]
  },
  {
   "cell_type": "code",
   "execution_count": 11,
   "metadata": {},
   "outputs": [
    {
     "name": "stdout",
     "output_type": "stream",
     "text": [
      "[0.  0.1 0.2 0.3 0.4 0.5 0.6 0.7 0.8 0.9 1. ]\n",
      "[ 9.9980001e-02  9.4031001e-02  7.6784001e-02  5.0039001e-02\n",
      "  1.6796001e-02 -1.8744999e-02 -5.1183999e-02 -7.3920999e-02\n",
      " -7.9155999e-02 -5.7888999e-02  8.0001000e-05]\n",
      "[ 0.      -0.11799 -0.22398 -0.30597 -0.35196 -0.34995 -0.28794 -0.15393\n",
      "  0.06408  0.37809  0.8001 ]\n"
     ]
    }
   ],
   "source": [
    "f=lambda x: 0.1*pow(x,5)-0.2*pow(x,3)+0.1*x-0.2\n",
    "\n",
    "h=0.01\n",
    "xgr=np.linspace(0,1,11)\n",
    "print(xgr)\n",
    "\n",
    "derivc1=(f(xgr+h)-f(xgr-h))/(2*h)\n",
    "derivc2=(f(xgr+h)-(2*f(xgr))+f(xgr-h))/(pow(h,2))\n",
    "\n",
    "print(derivc1)\n",
    "print(derivc2)"
   ]
  },
  {
   "cell_type": "code",
   "execution_count": 12,
   "metadata": {},
   "outputs": [
    {
     "data": {
      "image/png": "[encoded data removed]",
      "text/plain": [
       "<Figure size 864x576 with 1 Axes>"
      ]
     },
     "metadata": {
      "needs_background": "light"
     },
     "output_type": "display_data"
    }
   ],
   "source": [
    "plt.figure(figsize=(12,8))\n",
    "plt.plot(xgr,f(xgr),'-k',xgr,derivc1,'--b',xgr,derivc2,'-.r')\n",
    "plt.xlabel('x')\n",
    "plt.ylabel('y,y\\',y\\'\\'')\n",
    "plt.legend(['y','y\\'','y\\'\\''])\n",
    "plt.grid()"
   ]
  },
  {
   "cell_type": "code",
   "execution_count": 13,
   "metadata": {},
   "outputs": [],
   "source": [
    "# Part IV\n",
    "\n",
    "# Numerical Differentiation with SciPy"
   ]
  },
  {
   "cell_type": "code",
   "execution_count": 14,
   "metadata": {},
   "outputs": [],
   "source": [
    "from scipy.misc import derivative"
   ]
  },
  {
   "cell_type": "code",
   "execution_count": 15,
   "metadata": {},
   "outputs": [
    {
     "name": "stdout",
     "output_type": "stream",
     "text": [
      "f'(0.100000)=0.094031\n",
      "f''(0.100000)=-0.117990\n"
     ]
    }
   ],
   "source": [
    "f=lambda x: 0.1*pow(x,5)-0.2*pow(x,3)+0.1*x-0.2\n",
    "\n",
    "derivcpy1=derivative(f,0.1,0.01,1)\n",
    "derivcpy2=derivative(f,0.1,0.01,2)\n",
    "\n",
    "print('f\\'(%f)=%f' %(x,derivcpy1))\n",
    "print('f\\'\\'(%f)=%f' %(x,derivcpy2))"
   ]
  },
  {
   "cell_type": "code",
   "execution_count": 16,
   "metadata": {},
   "outputs": [
    {
     "name": "stdout",
     "output_type": "stream",
     "text": [
      "[0.  0.1 0.2 0.3 0.4 0.5 0.6 0.7 0.8 0.9 1. ]\n",
      "[ 9.9980001e-02  9.4031001e-02  7.6784001e-02  5.0039001e-02\n",
      "  1.6796001e-02 -1.8744999e-02 -5.1183999e-02 -7.3920999e-02\n",
      " -7.9155999e-02 -5.7888999e-02  8.0001000e-05]\n",
      "[ 0.      -0.11799 -0.22398 -0.30597 -0.35196 -0.34995 -0.28794 -0.15393\n",
      "  0.06408  0.37809  0.8001 ]\n"
     ]
    },
    {
     "data": {
      "image/png": "[encoded data removed]",
      "text/plain": [
       "<Figure size 864x576 with 1 Axes>"
      ]
     },
     "metadata": {
      "needs_background": "light"
     },
     "output_type": "display_data"
    }
   ],
   "source": [
    "f=lambda x: 0.1*pow(x,5)-0.2*pow(x,3)+0.1*x-0.2\n",
    "\n",
    "h=0.01\n",
    "xpy=np.linspace(0,1,11)\n",
    "print(xpy)\n",
    "\n",
    "derivcpy1=derivative(f,xpy,h,1)\n",
    "derivcpy2=derivative(f,xpy,h,2)\n",
    "\n",
    "print(derivcpy1)\n",
    "print(derivcpy2)\n",
    "\n",
    "plt.figure(figsize=(12,8))\n",
    "plt.plot(xpy,f(xpy),'-k',xpy,derivcpy1,'--b',xpy,derivcpy2,'-.r')\n",
    "plt.xlabel('x')\n",
    "plt.ylabel('y,y\\',y\\'\\'')\n",
    "plt.legend(['y','y\\'','y\\'\\''])\n",
    "plt.grid()"
   ]
  },
  {
   "cell_type": "code",
   "execution_count": null,
   "metadata": {},
   "outputs": [],
   "source": []
  }
 ],
 "metadata": {
  "kernelspec": {
   "display_name": "Python 3",
   "language": "python",
   "name": "python3"
  },
  "language_info": {
   "codemirror_mode": {
    "name": "ipython",
    "version": 3
   },
   "file_extension": ".py",
   "mimetype": "text/x-python",
   "name": "python",
   "nbconvert_exporter": "python",
   "pygments_lexer": "ipython3",
   "version": "3.6.10"
  }
 },
 "nbformat": 4,
 "nbformat_minor": 4
}

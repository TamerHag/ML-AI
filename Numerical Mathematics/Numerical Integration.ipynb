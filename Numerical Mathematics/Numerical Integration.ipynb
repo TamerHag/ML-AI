{
 "cells": [
  {
   "cell_type": "code",
   "execution_count": 1,
   "metadata": {},
   "outputs": [],
   "source": [
    "# Part I\n",
    "\n",
    "# Trapezoidal Rule"
   ]
  },
  {
   "cell_type": "code",
   "execution_count": 8,
   "metadata": {},
   "outputs": [],
   "source": [
    "import numpy as np\n",
    "from numpy import *"
   ]
  },
  {
   "cell_type": "code",
   "execution_count": 33,
   "metadata": {},
   "outputs": [
    {
     "name": "stdout",
     "output_type": "stream",
     "text": [
      "Integral = 0.987668\n"
     ]
    }
   ],
   "source": [
    "f= lambda x: x*(sin(x))\n",
    "\n",
    "a= 0\n",
    "b= pi/2\n",
    "n=200\n",
    "h=(b-a)/n\n",
    "\n",
    "S=0.5*(f(a)-f(b))\n",
    "\n",
    "for i in range (1,n):\n",
    "    S+=f(a+i*h)\n",
    "Integral = h*S\n",
    "\n",
    "print ('Integral = %f' %Integral)"
   ]
  },
  {
   "cell_type": "code",
   "execution_count": 21,
   "metadata": {},
   "outputs": [],
   "source": [
    "# Part II\n",
    "\n",
    "# Simpson's 1/3 Rule"
   ]
  },
  {
   "cell_type": "code",
   "execution_count": 50,
   "metadata": {},
   "outputs": [
    {
     "name": "stdout",
     "output_type": "stream",
     "text": [
      "Integral = 1.031684\n"
     ]
    }
   ],
   "source": [
    "f= lambda x: x*(sin(x))\n",
    "\n",
    "a= 0\n",
    "b= pi/2\n",
    "n=6\n",
    "h=(b-a)/n\n",
    "\n",
    "S=0.5*(f(a)-f(b))\n",
    "\n",
    "for i in range (1,n,2):\n",
    "    S+=4*f(a+i*h)\n",
    "for j in range (2,n,2):\n",
    "    S+=2*f(a+i*h)\n",
    "    \n",
    "Integral = (1/3)*(h*S)\n",
    "\n",
    "print ('Integral = %f' %Integral)"
   ]
  },
  {
   "cell_type": "code",
   "execution_count": 32,
   "metadata": {},
   "outputs": [],
   "source": [
    "# Part III\n",
    "\n",
    "# Simpson's 3/8 Rule"
   ]
  },
  {
   "cell_type": "code",
   "execution_count": 51,
   "metadata": {},
   "outputs": [
    {
     "name": "stdout",
     "output_type": "stream",
     "text": [
      "Integral = 1.080593\n"
     ]
    }
   ],
   "source": [
    "f= lambda x: x*(sin(x))\n",
    "\n",
    "a= 0\n",
    "b= pi/2\n",
    "n=12\n",
    "h=(b-a)/n\n",
    "\n",
    "S=0.5*(f(a)-f(b))\n",
    "\n",
    "for i in range (1,n,3):\n",
    "    S+=3*(f(a+i*h)+f(a+(i+1)*h))\n",
    "for j in range (3,n,3):\n",
    "    S+=2*f(a+i*h)\n",
    "    \n",
    "Integral = (3/8)*(h*S)\n",
    "\n",
    "print ('Integral = %f' %Integral)"
   ]
  },
  {
   "cell_type": "code",
   "execution_count": 52,
   "metadata": {},
   "outputs": [],
   "source": [
    "# Part IV\n",
    "\n",
    "# Double Integral"
   ]
  },
  {
   "cell_type": "code",
   "execution_count": 70,
   "metadata": {},
   "outputs": [
    {
     "name": "stdout",
     "output_type": "stream",
     "text": [
      "Integral = 0.044444\n"
     ]
    }
   ],
   "source": [
    "f= lambda x,y: (y)*(pow(x,2))+(x)*(pow(y,2))\n",
    "\n",
    "ax= 1\n",
    "bx= 2\n",
    "ay= -1\n",
    "by= 1\n",
    "nx=10\n",
    "ny=10\n",
    "\n",
    "hx=(bx-ax)/nx\n",
    "hy=(by-ay)/ny\n",
    "\n",
    "S=0\n",
    "\n",
    "for i in range (0,ny+1):\n",
    "    if i==0 or i==ny:\n",
    "        P=1 \n",
    "    elif i%2==1:\n",
    "        P=4\n",
    "    else:\n",
    "        P=2\n",
    "    for j in range (0,nx+1):\n",
    "        if j==0 or j==nx:\n",
    "            Q=1 \n",
    "        elif j%2==1:\n",
    "            Q=4\n",
    "        else:\n",
    "            Q=2\n",
    "    S+=(P*Q)*(f(ax+j*hx, ay+i*hy))\n",
    "\n",
    "Integral = ((hx*hy)/9)*(S)\n",
    "\n",
    "print ('Integral = %f' %Integral)"
   ]
  },
  {
   "cell_type": "code",
   "execution_count": 72,
   "metadata": {},
   "outputs": [],
   "source": [
    "# Part V\n",
    "\n",
    "# Quadrature in SciPy"
   ]
  },
  {
   "cell_type": "code",
   "execution_count": 74,
   "metadata": {},
   "outputs": [],
   "source": [
    "from scipy.integrate import quad, dblquad, nquad"
   ]
  },
  {
   "cell_type": "code",
   "execution_count": 76,
   "metadata": {},
   "outputs": [
    {
     "data": {
      "text/plain": [
       "(0.9999999999999999, 4.414734146837848e-14)"
      ]
     },
     "execution_count": 76,
     "metadata": {},
     "output_type": "execute_result"
    }
   ],
   "source": [
    "f= lambda x,y: (y)*(pow(x,2))+(x)*(pow(y,2))\n",
    "\n",
    "ax= 1\n",
    "bx= 2\n",
    "ay= -1\n",
    "by= 1\n",
    "\n",
    "dblquad(f,ax,bx,lambda y: ay, lambda y:by)"
   ]
  },
  {
   "cell_type": "code",
   "execution_count": 78,
   "metadata": {},
   "outputs": [
    {
     "data": {
      "text/plain": [
       "(1.0, 1.1102230246251565e-14)"
      ]
     },
     "execution_count": 78,
     "metadata": {},
     "output_type": "execute_result"
    }
   ],
   "source": [
    "f= lambda x: x*(sin(x))\n",
    "\n",
    "a= 0\n",
    "b= pi/2\n",
    "\n",
    "quad(f,a,b)"
   ]
  },
  {
   "cell_type": "code",
   "execution_count": null,
   "metadata": {},
   "outputs": [],
   "source": []
  }
 ],
 "metadata": {
  "kernelspec": {
   "display_name": "Python 3",
   "language": "python",
   "name": "python3"
  },
  "language_info": {
   "codemirror_mode": {
    "name": "ipython",
    "version": 3
   },
   "file_extension": ".py",
   "mimetype": "text/x-python",
   "name": "python",
   "nbconvert_exporter": "python",
   "pygments_lexer": "ipython3",
   "version": "3.6.10"
  }
 },
 "nbformat": 4,
 "nbformat_minor": 4
}
